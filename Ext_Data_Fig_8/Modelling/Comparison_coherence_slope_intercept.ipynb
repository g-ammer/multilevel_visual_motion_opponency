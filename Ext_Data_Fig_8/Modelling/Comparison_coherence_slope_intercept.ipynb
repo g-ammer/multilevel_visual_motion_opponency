{
 "cells": [
  {
   "cell_type": "code",
   "execution_count": 1,
   "metadata": {},
   "outputs": [],
   "source": [
    "#!/usr/bin/env python3\n",
    "# -*- coding: utf-8 -*-\n",
    "\n",
    "import numpy as np\n",
    "import matplotlib.pyplot as plt\n",
    "#import blindschleiche_py3 as bs\n",
    "from scipy import ndimage\n",
    "\n",
    "from scipy import stats\n",
    "from scipy.signal import savgol_filter\n",
    "import octopus as oct"
   ]
  },
  {
   "cell_type": "code",
   "execution_count": 2,
   "metadata": {},
   "outputs": [],
   "source": [
    "# Import slope for all coherences\n",
    "coh = np.array([-0.5, -0.375, -0.25, -0.125, 0, 0.125, 0.25, 0.375, 0.5])*2\n",
    "\n",
    "slope_coh_ctrl = np.load('slope_coh_ctrl_300rep.npy')\n",
    "slope_coh_feedback_block = np.load('slope_coh_feedback_block_300rep.npy')\n",
    "slope_coh_LT_ctrl = np.load('slope_coh_LT_ctrl_300rep.npy')\n",
    "slope_coh_LL_ctrl = np.load('slope_coh_LL_ctrl_300rep.npy')\n",
    "slope_coh_LV_ctrl = np.load('slope_coh_LV_ctrl_300rep.npy')\n",
    "slope_coh_LT_block = np.load('slope_coh_LT_block_300rep.npy')\n",
    "slope_coh_LL_block = np.load('slope_coh_LL_block_300rep.npy')\n",
    "slope_coh_LV_block = np.load('slope_coh_LV_block_300rep.npy')"
   ]
  },
  {
   "cell_type": "code",
   "execution_count": 3,
   "metadata": {},
   "outputs": [],
   "source": [
    "# Import VS mV responses for all coherences\n",
    "VS_mV_ctrl = np.load('VS_mV_ctrl_300rep.npy')\n",
    "VS_mV_feedback_block = np.load('VS_mV_feedback_block_300rep.npy')\n",
    "VS_mV_LT_ctrl = np.load('VS_mV_LT_ctrl_300rep.npy')\n",
    "VS_mV_LL_ctrl = np.load('VS_mV_LL_ctrl_300rep.npy')\n",
    "VS_mV_LV_ctrl = np.load('VS_mV_LV_ctrl_300rep.npy')\n",
    "VS_mV_LT_block = np.load('VS_mV_LT_block_300rep.npy')\n",
    "VS_mV_LL_block = np.load('VS_mV_LL_block_300rep.npy')\n",
    "VS_mV_LV_block = np.load('VS_mV_LV_block_300rep.npy')"
   ]
  },
  {
   "cell_type": "code",
   "execution_count": 4,
   "metadata": {},
   "outputs": [],
   "source": [
    "# Import VS conductance changes for all coherences\n",
    "\n",
    "delta_g_ctrl = np.load('delta_g_ctrl_300rep.npy')\n",
    "delta_g_feedback_block = np.load('delta_g_feedback_block_300rep.npy')\n",
    "delta_g_LT_ctrl = np.load('delta_g_LT_ctrl_300rep.npy')\n",
    "delta_g_LL_ctrl = np.load('delta_g_LL_ctrl_300rep.npy')\n",
    "delta_g_LV_ctrl = np.load('delta_g_LV_ctrl_300rep.npy')\n",
    "delta_g_LT_block = np.load('delta_g_LT_block_300rep.npy')\n",
    "delta_g_LL_block = np.load('delta_g_LL_block_300rep.npy')\n",
    "delta_g_LV_block = np.load('delta_g_LV_block_300rep.npy')\n",
    "\n",
    "delta_ge_ctrl = np.load('delta_ge_ctrl_300rep.npy')\n",
    "delta_ge_feedback_block = np.load('delta_ge_feedback_block_300rep.npy')\n",
    "delta_ge_LT_ctrl = np.load('delta_ge_LT_ctrl_300rep.npy')\n",
    "delta_ge_LL_ctrl = np.load('delta_ge_LL_ctrl_300rep.npy')\n",
    "delta_ge_LV_ctrl = np.load('delta_ge_LV_ctrl_300rep.npy')\n",
    "delta_ge_LT_block = np.load('delta_ge_LT_block_300rep.npy')\n",
    "delta_ge_LL_block = np.load('delta_ge_LL_block_300rep.npy')\n",
    "delta_ge_LV_block = np.load('delta_ge_LV_block_300rep.npy')\n",
    "\n",
    "delta_gi_ctrl = np.load('delta_gi_ctrl_300rep.npy')\n",
    "delta_gi_feedback_block = np.load('delta_gi_feedback_block_300rep.npy')\n",
    "delta_gi_LT_ctrl = np.load('delta_gi_LT_ctrl_300rep.npy')\n",
    "delta_gi_LL_ctrl = np.load('delta_gi_LL_ctrl_300rep.npy')\n",
    "delta_gi_LV_ctrl = np.load('delta_gi_LV_ctrl_300rep.npy')\n",
    "delta_gi_LT_block = np.load('delta_gi_LT_block_300rep.npy')\n",
    "delta_gi_LL_block = np.load('delta_gi_LL_block_300rep.npy')\n",
    "delta_gi_LV_block = np.load('delta_gi_LV_block_300rep.npy')"
   ]
  },
  {
   "cell_type": "code",
   "execution_count": 5,
   "metadata": {},
   "outputs": [],
   "source": [
    "slope_int_ctrl = np.load('slope_int_ctrl.npy')\n",
    "slope_int_feedback_block = np.load('slope_int_feedback_block.npy')\n",
    "slope_int_LT_block = np.load('slope_int_LT_block.npy')\n",
    "slope_int_LL_block = np.load('slope_int_LL_block.npy')\n",
    "slope_int_LV_block = np.load('slope_int_LV_block.npy')\n",
    "\n",
    "slope_int_ctrl_PD = np.load('slope_int_ctrl_PD.npy')\n",
    "slope_int_feedback_block_PD = np.load('slope_int_feedback_block_PD.npy')\n",
    "slope_int_LT_block_PD = np.load('slope_int_LT_block_PD.npy')\n",
    "slope_int_LL_block_PD = np.load('slope_int_LL_block_PD.npy')\n",
    "slope_int_LV_block_PD = np.load('slope_int_LV_block_PD.npy')\n",
    "\n",
    "slope_int_ctrl_ND = np.load('slope_int_ctrl_ND.npy')\n",
    "slope_int_feedback_block_ND = np.load('slope_int_feedback_block_ND.npy')\n",
    "slope_int_LT_block_ND = np.load('slope_int_LT_block_ND.npy')\n",
    "slope_int_LL_block_ND = np.load('slope_int_LL_block_ND.npy')\n",
    "slope_int_LV_block_ND = np.load('slope_int_LV_block_ND.npy')"
   ]
  },
  {
   "cell_type": "code",
   "execution_count": 6,
   "metadata": {},
   "outputs": [],
   "source": [
    "# Calculate motion opponent suppression indices\n",
    "MOSI_ctrl = (VS_mV_ctrl[8,:] - VS_mV_ctrl[4,:]) / VS_mV_ctrl[8,:]\n",
    "MOSI_feedback_block = (VS_mV_feedback_block[8,:] - VS_mV_feedback_block[4,:]) / VS_mV_feedback_block[8,:]\n",
    "MOSI_LT_block = (VS_mV_LT_block[8,:] - VS_mV_LT_block[4,:]) / VS_mV_LT_block[8,:]\n",
    "MOSI_LL_block = (VS_mV_LL_block[8,:] - VS_mV_LL_block[4,:]) / VS_mV_LL_block[8,:]\n",
    "MOSI_LV_block = (VS_mV_LV_block[8,:] - VS_mV_LV_block[4,:]) / VS_mV_LV_block[8,:]"
   ]
  },
  {
   "cell_type": "code",
   "execution_count": 7,
   "metadata": {},
   "outputs": [],
   "source": [
    "# Calculate motion opponent suppression indices for global TM\n",
    "MOSI_glob_ctrl = (VS_mV_ctrl[8,:] - VS_mV_ctrl[9,:]) / VS_mV_ctrl[8,:]\n",
    "MOSI_glob_feedback_block = (VS_mV_feedback_block[8,:] - VS_mV_feedback_block[9,:]) / VS_mV_feedback_block[8,:]\n",
    "MOSI_glob_LT_block = (VS_mV_LT_block[8,:] - VS_mV_LT_block[9,:]) / VS_mV_LT_block[8,:]\n",
    "MOSI_glob_LL_block = (VS_mV_LL_block[8,:] - VS_mV_LL_block[9,:]) / VS_mV_LL_block[8,:]\n",
    "MOSI_glob_LV_block = (VS_mV_LV_block[8,:] - VS_mV_LV_block[9,:]) / VS_mV_LV_block[8,:]"
   ]
  },
  {
   "cell_type": "code",
   "execution_count": 8,
   "metadata": {},
   "outputs": [],
   "source": [
    "slope_LTsumLLblock = slope_int_LT_block + slope_int_LL_block - slope_int_ctrl"
   ]
  },
  {
   "cell_type": "code",
   "execution_count": 9,
   "metadata": {},
   "outputs": [],
   "source": [
    "slope_coh_ctrl = np.zeros([9,300])\n",
    "for i in range(len(VS_mV_ctrl[0,:])):\n",
    "    slope, intercept, r_value, p_value, std_err = stats.linregress(coh[0:2], VS_mV_ctrl[0:2,i])\n",
    "    slope_coh_ctrl[0,i] = slope\n",
    "    slope, intercept, r_value, p_value, std_err = stats.linregress(coh[7:9], VS_mV_ctrl[7:9,i])\n",
    "    slope_coh_ctrl[8,i] = slope   \n",
    "    for j in [1,2,3,4,5,6,7]:   \n",
    "        slope, intercept, r_value, p_value, std_err = stats.linregress(coh[j-1:j+2], VS_mV_ctrl[j-1:j+2,i])\n",
    "        slope_coh_ctrl[j,i] = slope       "
   ]
  },
  {
   "cell_type": "code",
   "execution_count": 10,
   "metadata": {},
   "outputs": [
    {
     "data": {
      "text/plain": [
       "array([12.07854737, 12.08397343, 11.67246063, 10.61328156,  9.6578325 ,\n",
       "        9.35114149,  9.49109926,  9.3436325 ,  9.06272582])"
      ]
     },
     "execution_count": 10,
     "metadata": {},
     "output_type": "execute_result"
    }
   ],
   "source": [
    "np.mean(slope_coh_ctrl,1)"
   ]
  },
  {
   "cell_type": "code",
   "execution_count": 11,
   "metadata": {},
   "outputs": [],
   "source": [
    "slope_coh_feedback_block = np.zeros([9,300])\n",
    "for i in range(len(VS_mV_feedback_block[0,:])):\n",
    "    slope, intercept, r_value, p_value, std_err = stats.linregress(coh[0:2], VS_mV_feedback_block[0:2,i])\n",
    "    slope_coh_feedback_block[0,i] = slope\n",
    "    slope, intercept, r_value, p_value, std_err = stats.linregress(coh[7:9], VS_mV_feedback_block[7:9,i])\n",
    "    slope_coh_feedback_block[8,i] = slope   \n",
    "    for j in [1,2,3,4,5,6,7]:   \n",
    "        slope, intercept, r_value, p_value, std_err = stats.linregress(coh[j-1:j+2], VS_mV_feedback_block[j-1:j+2,i])\n",
    "        slope_coh_feedback_block[j,i] = slope   "
   ]
  },
  {
   "cell_type": "code",
   "execution_count": 12,
   "metadata": {},
   "outputs": [
    {
     "data": {
      "text/plain": [
       "array([ 9.85579056,  8.83555531,  9.30029234,  6.2070023 ,  4.06816263,\n",
       "        5.94143182,  5.21381888,  7.86416476, 10.67597012])"
      ]
     },
     "execution_count": 12,
     "metadata": {},
     "output_type": "execute_result"
    }
   ],
   "source": [
    "slope_coh_feedback_block[:,0]"
   ]
  },
  {
   "cell_type": "code",
   "execution_count": 19,
   "metadata": {},
   "outputs": [],
   "source": [
    "fw = 0.4"
   ]
  },
  {
   "cell_type": "code",
   "execution_count": 13,
   "metadata": {},
   "outputs": [
    {
     "data": {
      "image/png": "[encoded data removed]",
      "text/plain": [
       "<Figure size 151.2x165.6 with 1 Axes>"
      ]
     },
     "metadata": {},
     "output_type": "display_data"
    }
   ],
   "source": [
    "fig = plt.figure(figsize = (2.1, 2.3))\n",
    "\n",
    "ax = fig.add_subplot(111) #PLOT coherence tuning\n",
    "\n",
    "ax.axhline(y=0,xmin=0.0001,xmax=0.9999, color='0.05', linestyle=':', linewidth = 1)\n",
    "plt.plot(coh, np.mean(VS_mV_ctrl,1)[0:9], linewidth = 2.5, color = '0.35')\n",
    "plt.errorbar(coh, np.mean(VS_mV_ctrl,1)[0:9], yerr = stats.sem(VS_mV_ctrl,1)[0:9],\n",
    "             linewidth = 2.5, color = '0.35')\n",
    "\n",
    "plt.plot(coh, np.mean(VS_mV_feedback_block,1)[0:9], linewidth = 2.5, color = 'C6')\n",
    "plt.errorbar(coh, np.mean(VS_mV_feedback_block,1)[0:9], yerr = stats.sem(VS_mV_feedback_block,1)[0:9],\n",
    "             linewidth = 2.5, color = 'C6')\n",
    "\n",
    "ax.spines[\"top\"].set_visible(False)\n",
    "ax.spines[\"right\"].set_visible(False)\n",
    "ax.spines['left'].set_position(('outward', 7))\n",
    "ax.spines['bottom'].set_position(('outward', 7))\n",
    "ax.set_xlabel('Coherence', fontsize = 10)\n",
    "ax.set_ylabel('Response [mV]', fontsize = 10)\n",
    "plt.ylim([-10,12.5])\n",
    "\n",
    "\n",
    "#plt.savefig('C:\\\\Users\\\\gammer\\\\Desktop\\\\DATA Surface\\\\LPi Opponency\\\\plots_LPi_ms\\\\Modelling\\\\\\\n",
    "#FigS7_Coherence_tuning_VS_feedback_block_mV_300rep.pdf',bbox_inches='tight', dpi=600, transparent=True)\n",
    "\n",
    "bbox_inches = 'tight'\n",
    "plt.show()"
   ]
  },
  {
   "cell_type": "code",
   "execution_count": 141,
   "metadata": {},
   "outputs": [
    {
     "data": {
      "image/png": "[encoded data removed]",
      "text/plain": [
       "<Figure size 151.2x165.6 with 1 Axes>"
      ]
     },
     "metadata": {},
     "output_type": "display_data"
    }
   ],
   "source": [
    "fig = plt.figure(figsize = (2.1, 2.3))\n",
    "\n",
    "ax = fig.add_subplot(111) #PLOT coherence tuning\n",
    "\n",
    "ax.axhline(y=0,xmin=0.0001,xmax=0.9999, color='0.05', linestyle=':', linewidth = 1)\n",
    "plt.plot(coh, np.mean(delta_g_ctrl,1)[0:9], linewidth = 2.5, color = '0.35')\n",
    "plt.errorbar(coh, np.mean(delta_g_ctrl,1)[0:9], yerr = stats.sem(delta_g_ctrl,1)[0:9],\n",
    "            linewidth = 2.5, color = '0.35')\n",
    "\n",
    "ax.axhline(y=0,xmin=0.0001,xmax=0.9999, color='0.05', linestyle=':', linewidth = 1)\n",
    "plt.plot(coh, np.mean(delta_g_feedback_block,1)[0:9], linewidth = 2.5, color = 'C6')\n",
    "plt.errorbar(coh, np.mean(delta_g_feedback_block,1)[0:9], yerr = stats.sem(delta_g_feedback_block,1)[0:9],\n",
    "            linewidth = 2.5, color = 'C6')\n",
    "\n",
    "ax.spines[\"top\"].set_visible(False)\n",
    "ax.spines[\"right\"].set_visible(False)\n",
    "ax.spines['left'].set_position(('outward', 7))\n",
    "ax.spines['bottom'].set_position(('outward', 7))\n",
    "ax.set_xlabel('Coherence', fontsize = 10)\n",
    "ax.set_ylabel(r'$\\Delta$' + ' conductance [a.u.]', fontsize = 10)\n",
    "plt.ylim([0,0.8])\n",
    "\n",
    "#plt.savefig('C:\\\\Users\\\\gammer\\\\Desktop\\\\DATA Surface\\\\LPi Opponency\\\\plots_LPi_ms\\\\Modelling\\\\\\\n",
    "#FigS7_Coherence_tuning_VS_feedback_block_only_total_300rep.pdf',bbox_inches='tight', dpi=600, transparent=True)\n",
    "\n",
    "bbox_inches = 'tight'\n",
    "plt.show()"
   ]
  },
  {
   "cell_type": "code",
   "execution_count": 133,
   "metadata": {},
   "outputs": [
    {
     "data": {
      "image/png": "[encoded data removed]",
      "text/plain": [
       "<Figure size 151.2x165.6 with 1 Axes>"
      ]
     },
     "metadata": {},
     "output_type": "display_data"
    }
   ],
   "source": [
    "fig = plt.figure(figsize = (2.1, 2.3))\n",
    "\n",
    "ax = fig.add_subplot(111) #PLOT slopes of coherence tuning\n",
    "\n",
    "ax.axhline(y=0,xmin=0.0001,xmax=0.9999, color='0.05', linestyle=':', linewidth = 1)\n",
    "plt.plot(coh, np.mean(slope_coh_ctrl,1), linewidth = 2.5, color = '0.35')\n",
    "plt.errorbar(coh, np.mean(slope_coh_ctrl,1), yerr = stats.sem(slope_coh_ctrl,1),\n",
    "             linewidth = 2.5, color = '0.35')\n",
    "\n",
    "plt.plot(coh, np.mean(slope_coh_feedback_block,1), linewidth = 2.5, color = 'C6')\n",
    "plt.errorbar(coh, np.mean(slope_coh_feedback_block,1), yerr = stats.sem(slope_coh_feedback_block,1),\n",
    "             linewidth = 2.5, color = 'C6')\n",
    "\n",
    "ax.spines[\"top\"].set_visible(False)\n",
    "ax.spines[\"right\"].set_visible(False)\n",
    "ax.spines['left'].set_position(('outward', 7))\n",
    "ax.spines['bottom'].set_position(('outward', 7))\n",
    "ax.set_xlabel('Coherence', fontsize = 10)\n",
    "ax.set_ylabel('Response gain [mV]', fontsize = 10)\n",
    "#xticks = np.array([-0.5, -0.25, 0, 0.25, 0.5])\n",
    "#ax.set_xticklabels([-0.5, -0.25, 0, 0.25, 0.5], size=10)\n",
    "plt.ylim([0,13.5])\n",
    "#ax.set_xticks(xticks)\n",
    "#ax.set_yticks([-5, 0, 5])\n",
    "#ax.set_yticklabels([-5, 0, 5], size=10)\n",
    "\n",
    "plt.savefig('C:\\\\Users\\\\gammer\\\\Desktop\\\\DATA Surface\\\\LPi Opponency\\\\plots_LPi_ms\\\\Modelling\\\\\\\n",
    "FigS8_Coherence_tuning_VS_ctrl_block_gain.pdf',bbox_inches='tight', dpi=600, transparent=True)\n",
    "\n",
    "bbox_inches = 'tight'\n",
    "plt.show()"
   ]
  },
  {
   "cell_type": "code",
   "execution_count": 14,
   "metadata": {},
   "outputs": [],
   "source": [
    "slope_coh_ctrl_min_block = slope_coh_ctrl - slope_coh_feedback_block"
   ]
  },
  {
   "cell_type": "code",
   "execution_count": 16,
   "metadata": {},
   "outputs": [
    {
     "data": {
      "image/png": "[encoded data removed]",
      "text/plain": [
       "<Figure size 165.6x165.6 with 1 Axes>"
      ]
     },
     "metadata": {},
     "output_type": "display_data"
    }
   ],
   "source": [
    "fig = plt.figure(figsize = (2.3, 2.3))\n",
    "\n",
    "ax = fig.add_subplot(111) #PLOT slopes of coherence tuning\n",
    "\n",
    "ax.axhline(y=0,xmin=0.0001,xmax=0.9999, color='0.05', linestyle=':', linewidth = 1)\n",
    "plt.plot(coh, np.mean(slope_coh_ctrl_min_block,1), linewidth = 2.5, color = '0.35')\n",
    "plt.errorbar(coh, np.mean(slope_coh_ctrl_min_block,1), yerr = stats.sem(slope_coh_ctrl_min_block,1),\n",
    "             linewidth = 2.5, color = '0.35')\n",
    "\n",
    "ax.spines[\"top\"].set_visible(False)\n",
    "ax.spines[\"right\"].set_visible(False)\n",
    "ax.spines['left'].set_position(('outward', 7))\n",
    "ax.spines['bottom'].set_position(('outward', 7))\n",
    "ax.set_xlabel('Coherence', fontsize = 10)\n",
    "ax.set_ylabel('Diff. gain [mV/coh]', fontsize = 10)\n",
    "plt.ylim([0,5])\n",
    "\n",
    "#ax.set_xticks(xticks)\n",
    "#ax.set_yticks([-5, 0, 5])\n",
    "#ax.set_yticklabels([-5, 0, 5], size=10)\n",
    "\n",
    "#plt.savefig('C:\\\\Users\\\\gammer\\\\Desktop\\\\DATA Surface\\\\LPi Opponency\\\\plots_LPi_ms\\\\\\\n",
    "#FigS7_Coherence_tuning_VS_LL_block_mV.pdf',bbox_inches='tight', dpi=600, transparent=True)\n",
    "\n",
    "bbox_inches = 'tight'\n",
    "plt.show()"
   ]
  },
  {
   "cell_type": "code",
   "execution_count": 15,
   "metadata": {},
   "outputs": [],
   "source": [
    "delta_ge_ctrl_min_block = delta_ge_ctrl - delta_ge_feedback_block\n",
    "delta_gi_ctrl_min_block = delta_gi_ctrl - delta_gi_feedback_block\n",
    "delta_g_ctrl_min_block = delta_g_ctrl - delta_g_feedback_block"
   ]
  },
  {
   "cell_type": "code",
   "execution_count": 18,
   "metadata": {},
   "outputs": [
    {
     "data": {
      "image/png": "[encoded data removed]",
      "text/plain": [
       "<Figure size 165.6x165.6 with 1 Axes>"
      ]
     },
     "metadata": {},
     "output_type": "display_data"
    }
   ],
   "source": [
    "fig = plt.figure(figsize = (2.3, 2.3))\n",
    "\n",
    "ax = fig.add_subplot(111) #PLOT coherence tuning\n",
    "\n",
    "ax.axhline(y=0,xmin=0.0001,xmax=0.9999, color='0.05', linestyle=':', linewidth = 1)\n",
    "plt.plot(coh, np.mean(delta_g_ctrl_min_block,1)[0:9], linewidth = 2.5, color = 'C2')\n",
    "plt.errorbar(coh, np.mean(delta_g_ctrl_min_block,1)[0:9], yerr = stats.sem(delta_g_ctrl_min_block,1)[0:9],\n",
    "        linewidth = 2.5, color = 'C2')\n",
    "\n",
    "ax.spines[\"top\"].set_visible(False)\n",
    "ax.spines[\"right\"].set_visible(False)\n",
    "ax.spines['left'].set_position(('outward', 7))\n",
    "ax.spines['bottom'].set_position(('outward', 7))\n",
    "ax.set_xlabel('Coherence', fontsize = 10)\n",
    "ax.set_ylabel(r'$\\Delta$' + ' conductance [a.u.]', fontsize = 10)\n",
    "plt.ylim([-0.25,0])\n",
    "\n",
    "#plt.savefig('C:\\\\Users\\\\gammer\\\\Desktop\\\\DATA Surface\\\\LPi Opponency\\\\plots_LPi_ms\\\\Modelling\\\\\\\n",
    "#FigS7_Coherence_tuning_VS_LV_block_minus_ctrl_only_total_300rep.pdf',bbox_inches='tight', dpi=600, transparent=True)\n",
    "\n",
    "bbox_inches = 'tight'\n",
    "plt.show()"
   ]
  },
  {
   "cell_type": "code",
   "execution_count": 19,
   "metadata": {},
   "outputs": [
    {
     "data": {
      "image/png": "[encoded data removed]",
      "text/plain": [
       "<Figure size 151.2x165.6 with 2 Axes>"
      ]
     },
     "metadata": {},
     "output_type": "display_data"
    }
   ],
   "source": [
    "fig = plt.figure(figsize = (2.1, 2.3))\n",
    "\n",
    "ax = fig.add_subplot(111) #PLOT slopes of coherence tuning\n",
    "\n",
    "#ax.axhline(y=0,xmin=0.0001,xmax=0.9999, color='0.05', linestyle=':', linewidth = 1)\n",
    "plt.plot(coh, np.mean(slope_coh_ctrl_min_block,1), linewidth = 2.5, color = '0.35')\n",
    "plt.errorbar(coh, np.mean(slope_coh_ctrl_min_block,1), yerr = stats.sem(slope_coh_ctrl_min_block,1),\n",
    "             linewidth = 2.5, color = '0.35')\n",
    "\n",
    "ax.spines[\"top\"].set_visible(False)\n",
    "ax.spines[\"right\"].set_visible(False)\n",
    "ax.spines['left'].set_position(('outward', 7))\n",
    "ax.spines['bottom'].set_position(('outward', 7))\n",
    "ax.set_xlabel('Coherence', fontsize = 10)\n",
    "ax.set_ylabel('Diff. gain [mV/coh]', fontsize = 10)\n",
    "plt.ylim([0,5])\n",
    "#ax.set_xticks([-1, -0.5, 0, 0.5, 1])\n",
    "#ax.set_xticklabels([-1, -0.5, 0, 0.5, 1], size=10)\n",
    "\n",
    "ax2 = ax.twinx()\n",
    "ax2.plot(coh, np.mean(delta_g_ctrl_min_block,1)[0:9], linewidth = 2.5, linestyle='--', color = 'C2')\n",
    "#ax2.errorbar(coh, np.mean(delta_g_ctrl_min_block,1)[0:9], yerr = stats.sem(delta_g_ctrl_min_block,1)[0:9],\n",
    "#        linewidth = 2.5, color = 'C2')\n",
    "\n",
    "ax2.tick_params(axis='y', colors='C2')\n",
    "ax2.spines['right'].set_color('C2')\n",
    "ax2.spines[\"top\"].set_visible(False)\n",
    "ax2.spines['left'].set_position(('outward', 7))\n",
    "ax2.spines['bottom'].set_position(('outward', 7))\n",
    "ax2.spines['right'].set_position(('outward', 7))\n",
    "ax2.set_ylim([-0.21, 0])\n",
    "ax2.set_yticks([-0.2, -0.1, 0.0])\n",
    "ax2.set_yticklabels([-0.2, -0.1, 0.0], size=10)\n",
    "ax2.set_ylabel('Diff. conductance [a.u.]', fontsize = 10, color = 'C2')\n",
    "\n",
    "#plt.savefig('C:\\\\Users\\\\gammer\\\\Desktop\\\\DATA Surface\\\\LPi Opponency\\\\plots_LPi_ms\\\\Modelling\\\\\\\n",
    "#FigS7_Diff_Gain_tuning_VS_feedback_block_300rep.pdf',bbox_inches='tight', dpi=600, transparent=True)\n",
    "\n",
    "bbox_inches = 'tight'\n",
    "plt.show()"
   ]
  },
  {
   "cell_type": "code",
   "execution_count": 20,
   "metadata": {},
   "outputs": [
    {
     "data": {
      "image/png": "[encoded data removed]",
      "text/plain": [
       "<Figure size 151.2x165.6 with 1 Axes>"
      ]
     },
     "metadata": {},
     "output_type": "display_data"
    }
   ],
   "source": [
    "fig = plt.figure(figsize = (2.1, 2.3))\n",
    "\n",
    "ax = fig.add_subplot(111) #PLOT slopes of coherence tuning\n",
    "\n",
    "ax.axhline(y=0,xmin=0.0001,xmax=0.9999, color='0.05', linestyle=':', linewidth = 1)\n",
    "\n",
    "plt.plot(np.mean(delta_g_ctrl_min_block,1)[0:5], np.mean(slope_coh_ctrl_min_block[0:5],1), linewidth=2.5, color='C0', alpha=0.7)\n",
    "plt.errorbar(np.mean(delta_g_ctrl_min_block,1)[0:5], np.mean(slope_coh_ctrl_min_block[0:5],1), \n",
    "             xerr = stats.sem(delta_g_ctrl_min_block,1)[0:5],\n",
    "             yerr = stats.sem(slope_coh_ctrl_min_block,1)[0:5], fmt='none', color = 'C0', alpha=0.7)\n",
    "\n",
    "plt.plot(np.mean(delta_g_ctrl_min_block,1)[4:9], np.mean(slope_coh_ctrl_min_block[4:9],1), linewidth=2.5, color='C3', alpha=0.7)\n",
    "plt.errorbar(np.mean(delta_g_ctrl_min_block,1)[4:9], np.mean(slope_coh_ctrl_min_block[4:9],1), \n",
    "             xerr = stats.sem(delta_g_ctrl_min_block,1)[4:9],\n",
    "             yerr = stats.sem(slope_coh_ctrl_min_block,1)[4:9], fmt='none', color = 'C3', alpha=0.7)\n",
    "\n",
    "ax.spines[\"top\"].set_visible(False)\n",
    "ax.spines[\"right\"].set_visible(False)\n",
    "ax.spines['left'].set_position(('outward', 7))\n",
    "ax.spines['bottom'].set_position(('outward', 7))\n",
    "\n",
    "ax.set_xlabel('Diff. conductance [a.u.]', fontsize = 10)\n",
    "ax.set_ylabel('Diff. gain [mV/coh]', fontsize = 10)\n",
    "plt.ylim([0,5])\n",
    "plt.xlim([-0.21,-0.04])\n",
    "ax.set_xticks([-0.2, -0.15, -0.1, -0.05])\n",
    "#ax.set_yticklabels([-5, 0, 5], size=10)\n",
    "\n",
    "#plt.savefig('C:\\\\Users\\\\gammer\\\\Desktop\\\\DATA Surface\\\\LPi Opponency\\\\plots_LPi_ms\\\\Modelling\\\\\\\n",
    "#FigS7_Gain_vs_conductance_tuning_VS_feedback_block_300rep.pdf',bbox_inches='tight', dpi=600, transparent=True)\n",
    "\n",
    "bbox_inches = 'tight'\n",
    "plt.show()"
   ]
  },
  {
   "cell_type": "code",
   "execution_count": 25,
   "metadata": {},
   "outputs": [
    {
     "data": {
      "text/plain": [
       "(-0.9787791435219251, 0.003699056467477023)"
      ]
     },
     "execution_count": 25,
     "metadata": {},
     "output_type": "execute_result"
    }
   ],
   "source": [
    "stats.pearsonr(np.mean(delta_g_ctrl_min_block,1)[0:5], np.mean(slope_coh_ctrl_min_block[0:5],1))"
   ]
  },
  {
   "cell_type": "code",
   "execution_count": 27,
   "metadata": {},
   "outputs": [
    {
     "data": {
      "text/plain": [
       "LinregressResult(slope=-15.565925804820125, intercept=1.3637289070446577, rvalue=-0.9787791435219253, pvalue=0.003699056467476963, stderr=1.8815238957486269)"
      ]
     },
     "execution_count": 27,
     "metadata": {},
     "output_type": "execute_result"
    }
   ],
   "source": [
    "stats.linregress(np.mean(delta_g_ctrl_min_block,1)[0:5], np.mean(slope_coh_ctrl_min_block[0:5],1))"
   ]
  },
  {
   "cell_type": "code",
   "execution_count": 26,
   "metadata": {},
   "outputs": [
    {
     "data": {
      "text/plain": [
       "(-0.9889516610453779, 0.001391740601458019)"
      ]
     },
     "execution_count": 26,
     "metadata": {},
     "output_type": "execute_result"
    }
   ],
   "source": [
    "stats.pearsonr(np.mean(delta_g_ctrl_min_block,1)[4:9], np.mean(slope_coh_ctrl_min_block[4:9],1))"
   ]
  },
  {
   "cell_type": "code",
   "execution_count": 29,
   "metadata": {},
   "outputs": [
    {
     "data": {
      "text/plain": [
       "LinregressResult(slope=-26.01448414745178, intercept=-0.9963915810861312, rvalue=-0.9889516610453781, pvalue=0.0013917406014579768, stderr=2.251335066089426)"
      ]
     },
     "execution_count": 29,
     "metadata": {},
     "output_type": "execute_result"
    }
   ],
   "source": [
    "stats.linregress(np.mean(delta_g_ctrl_min_block,1)[4:9], np.mean(slope_coh_ctrl_min_block[4:9],1))"
   ]
  },
  {
   "cell_type": "code",
   "execution_count": 21,
   "metadata": {},
   "outputs": [
    {
     "data": {
      "image/png": "[encoded data removed]",
      "text/plain": [
       "<Figure size 144x162 with 1 Axes>"
      ]
     },
     "metadata": {},
     "output_type": "display_data"
    }
   ],
   "source": [
    "# Make Scatter Plot Gain (slope)\n",
    "\n",
    "pos = [0, 1, 2, 3, 4]\n",
    "fw = 0.4\n",
    "fig = plt.figure(figsize = (fw*len(pos), 2.25))\n",
    "ax = fig.add_subplot(111)\n",
    "w = 0.6\n",
    "wb = 0.6\n",
    "\n",
    "data = [slope_int_ctrl[0,:], slope_int_LT_block[0,:], slope_int_LL_block [0,:],\n",
    "        slope_int_feedback_block[0,:], slope_int_LV_block[0,:]]\n",
    "colors = ['0.4', 'C3', 'C1', 'C4', 'C2']\n",
    "\n",
    "ax.axhline(y=0,xmin=0.0001,xmax=0.9999, color='0.05', linestyle=':', linewidth = 1)\n",
    "\n",
    "for j in range (len(data)):\n",
    "    ax.plot([pos[j]-w/2, pos[j]+w/2],[np.mean(data[j]),np.mean(data[j])],\n",
    "            color=colors[j], linestyle='-', linewidth = 4)\n",
    "    ax.errorbar(pos[j],np.mean(data[j]),yerr=[stats.sem(data[j])], color='k',zorder = 0)    \n",
    "    for i in range(len(data[j])):\n",
    "        ax.scatter(pos[j] + np.random.random(1) * w/2 - w/4, data[j][i], s=25, color=colors[j], alpha=0.3, zorder = 2) \n",
    "   \n",
    "ax.spines[\"top\"].set_visible(False)\n",
    "ax.spines[\"right\"].set_visible(False)\n",
    "ax.spines['left'].set_position(('outward', 7))\n",
    "ax.spines['bottom'].set_position(('outward', 7))\n",
    "ax.set_xticks(pos)\n",
    "ax.set_xticklabels(('Ctrl','LT block', 'LL block', 'FB block', 'LV block'), rotation=45, size=10)\n",
    "ax.set_ylabel('Response gain [mV]', size=10)\n",
    "yticks = np.array([0, 5, 10])\n",
    "ax.set_yticklabels([0, 5, 10], size=10)\n",
    "ax.set_yticks(yticks)\n",
    "plt.ylim([0, 12])\n",
    "#plt.title('Gain', size=10)\n",
    "    \n",
    "bbox_inches = 'tight'\n",
    "#plt.savefig('C:\\\\Users\\\\gammer\\\\Desktop\\\\DATA Surface\\\\LPi Opponency\\\\plots_LPi_ms\\\\\\\n",
    "#Fig7_Conductance_global_model_ctrl_block_barplot.pdf',bbox_inches='tight', dpi=600, transparent=True)\n",
    "plt.show()"
   ]
  },
  {
   "cell_type": "code",
   "execution_count": 22,
   "metadata": {},
   "outputs": [
    {
     "data": {
      "image/png": "[encoded data removed]",
      "text/plain": [
       "<Figure size 57.6x162 with 1 Axes>"
      ]
     },
     "metadata": {},
     "output_type": "display_data"
    }
   ],
   "source": [
    "# Make Scatter Plot Gain (slope)\n",
    "\n",
    "pos = [0, 1]\n",
    "fw = 0.4\n",
    "fig = plt.figure(figsize = (fw*len(pos), 2.25))\n",
    "ax = fig.add_subplot(111)\n",
    "w = 0.6\n",
    "wb = 0.6\n",
    "\n",
    "data = [slope_int_ctrl[0,:], slope_int_feedback_block[0,:]]\n",
    "colors = ['0.4', 'C3']\n",
    "\n",
    "ax.axhline(y=0,xmin=0.0001,xmax=0.9999, color='0.05', linestyle=':', linewidth = 1)\n",
    "\n",
    "for j in range (len(data)):\n",
    "    ax.plot([pos[j]-w/2, pos[j]+w/2],[np.mean(data[j]),np.mean(data[j])],\n",
    "            color=colors[j], linestyle='-', linewidth = 4)\n",
    "    ax.errorbar(pos[j],np.mean(data[j]),yerr=[stats.sem(data[j])], color='k',zorder = 0)    \n",
    "    for i in range(len(data[j])):\n",
    "        ax.scatter(pos[j] + np.random.random(1) * w/2 - w/4, data[j][i], s=25, color=colors[j], alpha=0.3, zorder = 2) \n",
    "   \n",
    "ax.spines[\"top\"].set_visible(False)\n",
    "ax.spines[\"right\"].set_visible(False)\n",
    "ax.spines['left'].set_position(('outward', 7))\n",
    "ax.spines['bottom'].set_position(('outward', 7))\n",
    "ax.set_xticks(pos)\n",
    "ax.set_xticklabels(('Ctrl','FB block', 'LL block', 'FB block', 'LV block'), rotation=45, size=10)\n",
    "ax.set_ylabel('Response gain [mV]', size=10)\n",
    "yticks = np.array([0, 5, 10])\n",
    "ax.set_yticklabels([0, 5, 10], size=10)\n",
    "ax.set_yticks(yticks)\n",
    "plt.ylim([0, 12.5])\n",
    "#plt.title('Gain', size=10)\n",
    "    \n",
    "bbox_inches = 'tight'\n",
    "#plt.savefig('C:\\\\Users\\\\gammer\\\\Desktop\\\\DATA Surface\\\\LPi Opponency\\\\plots_LPi_ms\\\\\\\n",
    "#FigRX_Response_gain_model_fb_block.pdf',bbox_inches='tight', dpi=600, transparent=True)\n",
    "plt.show()"
   ]
  },
  {
   "cell_type": "code",
   "execution_count": 23,
   "metadata": {
    "scrolled": true
   },
   "outputs": [
    {
     "data": {
      "text/plain": [
       "Ttest_relResult(statistic=6.087118395660161, pvalue=1.2545169391346318e-06)"
      ]
     },
     "execution_count": 23,
     "metadata": {},
     "output_type": "execute_result"
    }
   ],
   "source": [
    "stats.ttest_rel(slope_int_ctrl[0,:], slope_int_LL_block[0,:])"
   ]
  },
  {
   "cell_type": "code",
   "execution_count": 121,
   "metadata": {
    "scrolled": true
   },
   "outputs": [
    {
     "data": {
      "image/png": "[encoded data removed]",
      "text/plain": [
       "<Figure size 144x162 with 1 Axes>"
      ]
     },
     "metadata": {},
     "output_type": "display_data"
    }
   ],
   "source": [
    "# Make Scatter MOSI (Motion Opponent Suppression)\n",
    "\n",
    "pos = [0, 1, 2, 3, 4]\n",
    "fw = 0.4\n",
    "fig = plt.figure(figsize = (fw*len(pos), 2.25))\n",
    "ax = fig.add_subplot(111)\n",
    "w = 0.6\n",
    "wb = 0.6\n",
    "\n",
    "data = [MOSI_ctrl, MOSI_LT_block, MOSI_LL_block, MOSI_feedback_block, MOSI_LV_block]\n",
    "colors = ['0.4', 'C3', 'C1', 'C6', 'C2']\n",
    "\n",
    "ax.axhline(y=0,xmin=0.0001,xmax=0.9999, color='0.05', linestyle=':', linewidth = 1)\n",
    "\n",
    "for j in range (len(data)):\n",
    "    ax.plot([pos[j]-w/2, pos[j]+w/2],[np.mean(data[j]),np.mean(data[j])],\n",
    "            color=colors[j], linestyle='-', linewidth = 4)\n",
    "    ax.errorbar(pos[j],np.mean(data[j]),yerr=[stats.sem(data[j])], color='k',zorder = 0)    \n",
    "    for i in range(len(data[j])):\n",
    "        ax.scatter(pos[j] + np.random.random(1) * w/2 - w/4, data[j][i], s=25, color=colors[j], alpha=0.03, zorder = 2) \n",
    "   \n",
    "ax.spines[\"top\"].set_visible(False)\n",
    "ax.spines[\"right\"].set_visible(False)\n",
    "ax.spines['left'].set_position(('outward', 7))\n",
    "ax.spines['bottom'].set_position(('outward', 7))\n",
    "ax.set_xticks(pos)\n",
    "ax.set_xticklabels(('Ctrl','LT block', 'LL block', 'FB block', 'LV block'), rotation=45, size=10)\n",
    "ax.set_ylabel('Suppression', size=10)\n",
    "#yticks = np.array([0, 5, 10, 15])\n",
    "#ax.set_yticklabels([0, 5, 10, 15], size=10)\n",
    "#ax.set_yticks(yticks)\n",
    "plt.ylim([0, 1.05])\n",
    "#plt.title('Gain', size=10)\n",
    "    \n",
    "bbox_inches = 'tight'\n",
    "plt.savefig('C:\\\\Users\\\\gammer\\\\Desktop\\\\DATA Surface\\\\LPi Opponency\\\\plots_LPi_ms\\\\Modelling\\\\\\\n",
    "FigS7_MOSI_local_ctrl_block_scatter.pdf',bbox_inches='tight', dpi=600, transparent=True)\n",
    "plt.show()"
   ]
  },
  {
   "cell_type": "code",
   "execution_count": 25,
   "metadata": {},
   "outputs": [
    {
     "data": {
      "text/plain": [
       "Ttest_relResult(statistic=26.854249532878274, pvalue=1.1375963595758143e-81)"
      ]
     },
     "execution_count": 25,
     "metadata": {},
     "output_type": "execute_result"
    }
   ],
   "source": [
    "stats.ttest_rel(MOSI_ctrl, MOSI_feedback_block)"
   ]
  },
  {
   "cell_type": "code",
   "execution_count": 122,
   "metadata": {},
   "outputs": [
    {
     "data": {
      "image/png": "[encoded data removed]",
      "text/plain": [
       "<Figure size 144x162 with 1 Axes>"
      ]
     },
     "metadata": {},
     "output_type": "display_data"
    }
   ],
   "source": [
    "# Make Scatter MOSI_glob (Motion Opponent Suppression)\n",
    "\n",
    "pos = [0, 1, 2, 3, 4]\n",
    "fw = 0.4\n",
    "fig = plt.figure(figsize = (fw*len(pos), 2.25))\n",
    "ax = fig.add_subplot(111)\n",
    "w = 0.6\n",
    "wb = 0.6\n",
    "\n",
    "data = [MOSI_glob_ctrl, MOSI_glob_LT_block, MOSI_glob_LL_block, MOSI_glob_feedback_block, MOSI_glob_LV_block]\n",
    "colors = ['0.4', 'C3', 'C1', 'C6', 'C2']\n",
    "\n",
    "ax.axhline(y=0,xmin=0.0001,xmax=0.9999, color='0.05', linestyle=':', linewidth = 1)\n",
    "\n",
    "for j in range (len(data)):\n",
    "    ax.plot([pos[j]-w/2, pos[j]+w/2],[np.mean(data[j]),np.mean(data[j])],\n",
    "            color=colors[j], linestyle='-', linewidth = 4)\n",
    "    ax.errorbar(pos[j],np.mean(data[j]),yerr=[stats.sem(data[j])], color='k',zorder = 0)    \n",
    "    for i in range(len(data[j])):\n",
    "        ax.scatter(pos[j] + np.random.random(1) * w/2 - w/4, data[j][i], s=25, color=colors[j], alpha=0.03, zorder = 2) \n",
    "   \n",
    "ax.spines[\"top\"].set_visible(False)\n",
    "ax.spines[\"right\"].set_visible(False)\n",
    "ax.spines['left'].set_position(('outward', 7))\n",
    "ax.spines['bottom'].set_position(('outward', 7))\n",
    "ax.set_xticks(pos)\n",
    "ax.set_xticklabels(('Ctrl','LT block', 'LL block', 'FB block', 'LV block'), rotation=45, size=10)\n",
    "ax.set_ylabel('Suppression', size=10)\n",
    "#yticks = np.array([0, 5, 10, 15])\n",
    "#ax.set_yticklabels([0, 5, 10, 15], size=10)\n",
    "#ax.set_yticks(yticks)\n",
    "plt.ylim([0, 1.05])\n",
    "#plt.title('Gain', size=10)\n",
    "    \n",
    "bbox_inches = 'tight'\n",
    "plt.savefig('C:\\\\Users\\\\gammer\\\\Desktop\\\\DATA Surface\\\\LPi Opponency\\\\plots_LPi_ms\\\\Modelling\\\\\\\n",
    "FigS7_MOSI_global_ctrl_block_scatter.pdf',bbox_inches='tight', dpi=600, transparent=True)\n",
    "plt.show()"
   ]
  },
  {
   "cell_type": "code",
   "execution_count": 34,
   "metadata": {},
   "outputs": [
    {
     "data": {
      "text/plain": [
       "Ttest_relResult(statistic=116.67321744030016, pvalue=2.219276526721781e-251)"
      ]
     },
     "execution_count": 34,
     "metadata": {},
     "output_type": "execute_result"
    }
   ],
   "source": [
    "stats.ttest_rel(MOSI_glob_ctrl, MOSI_glob_LV_block)"
   ]
  },
  {
   "cell_type": "code",
   "execution_count": 27,
   "metadata": {},
   "outputs": [
    {
     "data": {
      "image/png": "[encoded data removed]",
      "text/plain": [
       "<Figure size 144x162 with 1 Axes>"
      ]
     },
     "metadata": {},
     "output_type": "display_data"
    }
   ],
   "source": [
    "# Make Scatter Plot zero-crossing (x-intercept)\n",
    "\n",
    "pos = [0, 1, 2, 3, 4]\n",
    "fw = 0.4\n",
    "fig = plt.figure(figsize = (fw*len(pos), 2.25))\n",
    "ax = fig.add_subplot(111)\n",
    "w = 0.6\n",
    "wb = 0.6\n",
    "\n",
    "data = [slope_int_ctrl[1,:], slope_int_LT_block[1,:], slope_int_LL_block [1,:],\n",
    "        slope_int_feedback_block[1,:], slope_int_LV_block[1,:]]\n",
    "colors = ['0.4', 'C3', 'C1', 'C4', 'C2']\n",
    "\n",
    "ax.axhline(y=0,xmin=0.0001,xmax=0.9999, color='0.05', linestyle=':', linewidth = 1)\n",
    "\n",
    "for j in range (len(data)):\n",
    "    ax.plot([pos[j]-w/2, pos[j]+w/2],[np.mean(data[j]),np.mean(data[j])],\n",
    "            color=colors[j], linestyle='-', linewidth = 4)\n",
    "    ax.errorbar(pos[j],np.mean(data[j]),yerr=[stats.sem(data[j])], color='k',zorder = 0)    \n",
    "    for i in range(len(data[j])):\n",
    "        ax.scatter(pos[j] + np.random.random(1) * w/2 - w/4, data[j][i], s=25, color=colors[j], alpha=0.3, zorder = 2) \n",
    "   \n",
    "ax.spines[\"top\"].set_visible(False)\n",
    "ax.spines[\"right\"].set_visible(False)\n",
    "ax.spines['left'].set_position(('outward', 7))\n",
    "ax.spines['bottom'].set_position(('outward', 7))\n",
    "ax.set_xticks(pos)\n",
    "ax.set_xticklabels(('Ctrl','LT block', 'LL block', 'FB block', 'LV block'), rotation=45, size=10)\n",
    "ax.set_ylabel('Intercept [coh]', size=10)\n",
    "yticks = np.array([-1, 0, 1])\n",
    "ax.set_yticklabels([-1, 0, 1], size=10)\n",
    "ax.set_yticks(yticks)\n",
    "plt.ylim([-1, 0])\n",
    "#plt.title('Gain', size=10)\n",
    "    \n",
    "bbox_inches = 'tight'\n",
    "#plt.savefig('C:\\\\Users\\\\gammer\\\\Desktop\\\\DATA Surface\\\\LPi Opponency\\\\plots_LPi_ms\\\\\\\n",
    "#Fig7_Conductance_global_model_ctrl_block_barplot.pdf',bbox_inches='tight', dpi=600, transparent=True)\n",
    "plt.show()"
   ]
  },
  {
   "cell_type": "code",
   "execution_count": 28,
   "metadata": {},
   "outputs": [
    {
     "data": {
      "image/png": "[encoded data removed]",
      "text/plain": [
       "<Figure size 144x162 with 1 Axes>"
      ]
     },
     "metadata": {},
     "output_type": "display_data"
    }
   ],
   "source": [
    "# Make Scatter Plot Gain (slope)\n",
    "\n",
    "pos = [0, 1, 2, 3, 4]\n",
    "fw = 0.4\n",
    "fig = plt.figure(figsize = (fw*len(pos), 2.25))\n",
    "ax = fig.add_subplot(111)\n",
    "w = 0.6\n",
    "wb = 0.6\n",
    "\n",
    "data = [slope_int_ctrl_PD[0,:], slope_int_LT_block_PD[0,:], slope_int_LL_block_PD[0,:],\n",
    "        slope_int_feedback_block_PD[0,:], slope_int_LV_block_PD[0,:]]\n",
    "colors = ['0.4', 'C3', 'C1', 'C4', 'C2']\n",
    "\n",
    "ax.axhline(y=0,xmin=0.0001,xmax=0.9999, color='0.05', linestyle=':', linewidth = 1)\n",
    "\n",
    "for j in range (len(data)):\n",
    "    ax.plot([pos[j]-w/2, pos[j]+w/2],[np.mean(data[j]),np.mean(data[j])],\n",
    "            color=colors[j], linestyle='-', linewidth = 4)\n",
    "    ax.errorbar(pos[j],np.mean(data[j]),yerr=[stats.sem(data[j])], color='k',zorder = 0)    \n",
    "    for i in range(len(data[j])):\n",
    "        ax.scatter(pos[j] + np.random.random(1) * w/2 - w/4, data[j][i], s=25, color=colors[j], alpha=0.3, zorder = 2) \n",
    "   \n",
    "ax.spines[\"top\"].set_visible(False)\n",
    "ax.spines[\"right\"].set_visible(False)\n",
    "ax.spines['left'].set_position(('outward', 7))\n",
    "ax.spines['bottom'].set_position(('outward', 7))\n",
    "ax.set_xticks(pos)\n",
    "ax.set_xticklabels(('Ctrl','LT block', 'LL block', 'FB block', 'LV block'), rotation=45, size=10)\n",
    "ax.set_ylabel('Gain PD [mV]', size=10)\n",
    "yticks = np.array([0, 5, 10, 15])\n",
    "ax.set_yticklabels([0, 5, 10, 15], size=10)\n",
    "ax.set_yticks(yticks)\n",
    "plt.ylim([0, 15])\n",
    "#plt.title('Gain', size=10)\n",
    "    \n",
    "bbox_inches = 'tight'\n",
    "#plt.savefig('C:\\\\Users\\\\gammer\\\\Desktop\\\\DATA Surface\\\\LPi Opponency\\\\plots_LPi_ms\\\\\\\n",
    "#Fig7_Conductance_global_model_ctrl_block_barplot.pdf',bbox_inches='tight', dpi=600, transparent=True)\n",
    "plt.show()"
   ]
  },
  {
   "cell_type": "code",
   "execution_count": 29,
   "metadata": {},
   "outputs": [
    {
     "data": {
      "image/png": "[encoded data removed]",
      "text/plain": [
       "<Figure size 144x162 with 1 Axes>"
      ]
     },
     "metadata": {},
     "output_type": "display_data"
    }
   ],
   "source": [
    "# Make Scatter Plot Gain (slope)\n",
    "\n",
    "pos = [0, 1, 2, 3, 4]\n",
    "fw = 0.4\n",
    "fig = plt.figure(figsize = (fw*len(pos), 2.25))\n",
    "ax = fig.add_subplot(111)\n",
    "w = 0.6\n",
    "wb = 0.6\n",
    "\n",
    "data = [slope_int_ctrl_ND[0,:], slope_int_LT_block_ND[0,:], slope_int_LL_block_ND[0,:],\n",
    "        slope_int_feedback_block_ND[0,:], slope_int_LV_block_ND[0,:]]\n",
    "colors = ['0.4', 'C3', 'C1', 'C4', 'C2']\n",
    "\n",
    "ax.axhline(y=0,xmin=0.0001,xmax=0.9999, color='0.05', linestyle=':', linewidth = 1)\n",
    "\n",
    "for j in range (len(data)):\n",
    "    ax.plot([pos[j]-w/2, pos[j]+w/2],[np.mean(data[j]),np.mean(data[j])],\n",
    "            color=colors[j], linestyle='-', linewidth = 4)\n",
    "    ax.errorbar(pos[j],np.mean(data[j]),yerr=[stats.sem(data[j])], color='k',zorder = 0)    \n",
    "    for i in range(len(data[j])):\n",
    "        ax.scatter(pos[j] + np.random.random(1) * w/2 - w/4, data[j][i], s=25, color=colors[j], alpha=0.3, zorder = 2) \n",
    "   \n",
    "ax.spines[\"top\"].set_visible(False)\n",
    "ax.spines[\"right\"].set_visible(False)\n",
    "ax.spines['left'].set_position(('outward', 7))\n",
    "ax.spines['bottom'].set_position(('outward', 7))\n",
    "ax.set_xticks(pos)\n",
    "ax.set_xticklabels(('Ctrl','LT block', 'LL block', 'FB block', 'LV block'), rotation=45, size=10)\n",
    "ax.set_ylabel('Gain ND [mV]', size=10)\n",
    "yticks = np.array([0, 5, 10, 15])\n",
    "ax.set_yticklabels([0, 5, 10, 15], size=10)\n",
    "ax.set_yticks(yticks)\n",
    "plt.ylim([0, 15])\n",
    "#plt.title('Gain', size=10)\n",
    "    \n",
    "bbox_inches = 'tight'\n",
    "#plt.savefig('C:\\\\Users\\\\gammer\\\\Desktop\\\\DATA Surface\\\\LPi Opponency\\\\plots_LPi_ms\\\\\\\n",
    "#Fig7_Conductance_global_model_ctrl_block_barplot.pdf',bbox_inches='tight', dpi=600, transparent=True)\n",
    "plt.show()"
   ]
  },
  {
   "cell_type": "code",
   "execution_count": 135,
   "metadata": {},
   "outputs": [
    {
     "data": {
      "image/png": "[encoded data removed]",
      "text/plain": [
       "<Figure size 151.2x165.6 with 1 Axes>"
      ]
     },
     "metadata": {},
     "output_type": "display_data"
    }
   ],
   "source": [
    "coh = np.array([-0.5, -0.375, -0.25, -0.125, 0, 0.125, 0.25, 0.375, 0.5])*2\n",
    "\n",
    "fig = plt.figure(figsize = (2.1, 2.3))\n",
    "\n",
    "ax = fig.add_subplot(111) #PLOT coherence tuning\n",
    "\n",
    "ax.axhline(y=0,xmin=0.0001,xmax=0.9999, color='0.05', linestyle=':', linewidth = 1)\n",
    "plt.plot(coh, np.mean(VS_mV_ctrl,1)[0:9] - np.mean(VS_mV_feedback_block,1)[0:9], linewidth = 2.5, color = '0.35')\n",
    "#plt.plot(coh, 2*np.mean(VS_mV_ctrl,1)[0:9] - np.mean(VS_mV_LT_block,1)[0:9] - np.mean(VS_mV_LL_block,1)[0:9],\n",
    "#         linewidth = 2.5, color = 'C8')\n",
    "\n",
    "ax.spines[\"top\"].set_visible(False)\n",
    "ax.spines[\"right\"].set_visible(False)\n",
    "ax.spines['left'].set_position(('outward', 7))\n",
    "ax.spines['bottom'].set_position(('outward', 7))\n",
    "ax.set_xlabel('Coherence', fontsize = 10)\n",
    "ax.set_ylabel('Diff. response [mV]', fontsize = 10)\n",
    "#xticks = np.array([-0.5, -0.25, 0, 0.25, 0.5])\n",
    "#ax.set_xticklabels([-0.5, -0.25, 0, 0.25, 0.5], size=10)\n",
    "plt.ylim([-4,4])\n",
    "#ax.set_xticks(xticks)\n",
    "#ax.set_yticks([-5, 0, 5])\n",
    "#ax.set_yticklabels([-5, 0, 5], size=10)\n",
    "\n",
    "#plt.savefig('C:\\\\Users\\\\gammer\\\\Desktop\\\\DATA Surface\\\\LPi Opponency\\\\plots_LPi_ms\\\\Modelling\\\\\\\n",
    "#FigS8_Coherence_tuning_VS_ctrl_min_block_mV.pdf',bbox_inches='tight', dpi=600, transparent=True)\n",
    "\n",
    "bbox_inches = 'tight'\n",
    "plt.show()"
   ]
  },
  {
   "cell_type": "code",
   "execution_count": 97,
   "metadata": {},
   "outputs": [
    {
     "data": {
      "image/png": "[encoded data removed]",
      "text/plain": [
       "<Figure size 57.6x162 with 1 Axes>"
      ]
     },
     "metadata": {},
     "output_type": "display_data"
    }
   ],
   "source": [
    "# Make Scatter Plot of Ephys conductance (TM vs. Split)\n",
    "\n",
    "pos = [0,1]\n",
    "\n",
    "fig = plt.figure(figsize = (fw*len(pos), 2.25))\n",
    "\n",
    "ax = fig.add_subplot(111)\n",
    "w = 0.6\n",
    "wb = 0.6\n",
    "\n",
    "data = [delta_g_ctrl[4], delta_g_ctrl[9]]\n",
    "colors = ['0.4', 'C4']\n",
    "\n",
    "ax.axhline(y=0,xmin=0.0001,xmax=0.9999, color='0.05', linestyle=':', linewidth = 1)\n",
    "\n",
    "for j in range (len(data)):\n",
    "    ax.bar(pos[j], height = np.mean(data[j]), color=colors[j])\n",
    "    ax.errorbar(pos[j],np.mean(data[j]),yerr=[stats.sem(data[j])], color='k',zorder = 0)    \n",
    "    for i in range(len(data[j])):\n",
    "        ax.scatter(pos[j] + np.random.random(1) * w/2 - w/4, data[j][i], s=25, color='0.3', alpha=0.05, zorder = 2)\n",
    "   \n",
    "ax.spines[\"top\"].set_visible(False)\n",
    "ax.spines[\"right\"].set_visible(False)\n",
    "ax.spines['left'].set_position(('outward', 7))\n",
    "ax.spines['bottom'].set_position(('outward', 7))\n",
    "ax.set_xticks(pos)\n",
    "ax.set_xticklabels(('local TM','global TM'), rotation=45, size=10)\n",
    "ax.set_ylabel(r'$\\Delta$'+ ' conductance [a.u.]', size=10)\n",
    "yticks = np.array([0, 0.5, 1, 1.5, 2])\n",
    "ax.set_yticklabels([0.0, 0.5, 1.0, 1.5, 2], size=10)\n",
    "ax.set_yticks(yticks)\n",
    "plt.ylim([-0.1, 1.2])\n",
    "\n",
    "bbox_inches = 'tight'\n",
    "plt.savefig('C:\\\\Users\\\\gammer\\\\Desktop\\\\DATA Surface\\\\LPi Opponency\\\\plots_LPi_ms\\\\\\\n",
    "Fig7_Conductance_local_global_model_barplot.pdf',bbox_inches='tight', dpi=600, transparent=True)\n",
    "plt.show()"
   ]
  },
  {
   "cell_type": "code",
   "execution_count": 16,
   "metadata": {},
   "outputs": [
    {
     "data": {
      "text/plain": [
       "Ttest_relResult(statistic=-60.415835843653966, pvalue=1.310787710150531e-169)"
      ]
     },
     "execution_count": 16,
     "metadata": {},
     "output_type": "execute_result"
    }
   ],
   "source": [
    "stats.ttest_rel(delta_g_ctrl[4], delta_g_ctrl[9])"
   ]
  },
  {
   "cell_type": "code",
   "execution_count": 98,
   "metadata": {},
   "outputs": [
    {
     "data": {
      "image/png": "[encoded data removed]",
      "text/plain": [
       "<Figure size 57.6x162 with 1 Axes>"
      ]
     },
     "metadata": {},
     "output_type": "display_data"
    }
   ],
   "source": [
    "# Make Scatter Plot of modelling conductance (Split global: PD+ND vs. Split)\n",
    "\n",
    "pos = [0,1]\n",
    "\n",
    "fig = plt.figure(figsize = (fw*len(pos), 2.25))\n",
    "\n",
    "ax = fig.add_subplot(111)\n",
    "w = 0.6\n",
    "wb = 0.6\n",
    "data = [delta_g_ctrl[9], delta_g_ctrl[9]]\n",
    "colors = ['C4', 'C4']\n",
    "alphas = ([0.5, 1])\n",
    "\n",
    "ax.axhline(y=0,xmin=0.0001,xmax=0.9999, color='0.05', linestyle=':', linewidth = 1)\n",
    "\n",
    "for j in range (len(data)):\n",
    "    ax.bar(pos[j], height = np.mean(data[j]), color=colors[j], alpha=alphas[j])\n",
    "    ax.errorbar(pos[j],np.mean(data[j]),yerr=[stats.sem(data[j])], color='k',zorder = 0)    \n",
    "    for i in range(len(data[j])):\n",
    "        ax.scatter(pos[j] + np.random.random(1) * w/2 - w/4, data[j][i], s=25, color='0.3', alpha=0.05, zorder = 2)\n",
    "   \n",
    "ax.spines[\"top\"].set_visible(False)\n",
    "ax.spines[\"right\"].set_visible(False)\n",
    "ax.spines['left'].set_position(('outward', 7))\n",
    "ax.spines['bottom'].set_position(('outward', 7))\n",
    "ax.set_xticks(pos)\n",
    "ax.set_xticklabels(('PD+ND','global TM'), rotation=45, size=10)\n",
    "ax.set_ylabel(r'$\\Delta$'+ ' conductance [a.u.]', size=10)\n",
    "yticks = np.array([0, 0.5, 1, 1.5, 2])\n",
    "ax.set_yticklabels([0.0, 0.5, 1.0, 1.5, 2.0], size=10)\n",
    "ax.set_yticks(yticks)\n",
    "plt.ylim([-0.1,1.2])\n",
    "\n",
    "bbox_inches = 'tight'\n",
    "plt.savefig('C:\\\\Users\\\\gammer\\\\Desktop\\\\DATA Surface\\\\LPi Opponency\\\\plots_LPi_ms\\\\\\\n",
    "Fig7_Conductance_Split_PDND_model_barplot.pdf',bbox_inches='tight', dpi=600, transparent=True)\n",
    "plt.show()"
   ]
  },
  {
   "cell_type": "code",
   "execution_count": 99,
   "metadata": {
    "scrolled": true
   },
   "outputs": [
    {
     "data": {
      "image/png": "[encoded data removed]",
      "text/plain": [
       "<Figure size 57.6x162 with 1 Axes>"
      ]
     },
     "metadata": {},
     "output_type": "display_data"
    }
   ],
   "source": [
    "# Make Scatter Plot of modelling conductance (Split global: PD+ND vs. Split)\n",
    "\n",
    "pos = [0,1]\n",
    "\n",
    "fig = plt.figure(figsize = (fw*len(pos), 2.25))\n",
    "\n",
    "ax = fig.add_subplot(111)\n",
    "w = 0.6\n",
    "wb = 0.6\n",
    "\n",
    "data = [delta_g_feedback_block[4], delta_g_feedback_block[9]]\n",
    "\n",
    "colors = ['0.4', 'C4']\n",
    "\n",
    "ax.axhline(y=0,xmin=0.0001,xmax=0.9999, color='0.05', linestyle=':', linewidth = 1)\n",
    "\n",
    "for j in range (len(data)):\n",
    "    ax.bar(pos[j], height = np.mean(data[j]), color=colors[j])\n",
    "    ax.errorbar(pos[j],np.mean(data[j]),yerr=[stats.sem(data[j])], color='k',zorder = 0)    \n",
    "    for i in range(len(data[j])):\n",
    "        ax.scatter(pos[j] + np.random.random(1) * w/2 - w/4, data[j][i], s=25, color='0.3', alpha=0.05, zorder = 2)\n",
    "   \n",
    "ax.spines[\"top\"].set_visible(False)\n",
    "ax.spines[\"right\"].set_visible(False)\n",
    "ax.spines['left'].set_position(('outward', 7))\n",
    "ax.spines['bottom'].set_position(('outward', 7))\n",
    "ax.set_xticks(pos)\n",
    "ax.set_xticklabels(('local TM','global TM'), rotation=45, size=10)\n",
    "ax.set_ylabel(r'$\\Delta$'+ ' conductance [a.u.]', size=10)\n",
    "yticks = np.array([0, 0.5, 1, 1.5, 2])\n",
    "ax.set_yticklabels([0.0, 0.5, 1.0, 1.5, 2.0], size=10)\n",
    "ax.set_yticks(yticks)\n",
    "plt.ylim([-0.1, 1.2])\n",
    "#plt.title('Feedback block')\n",
    "\n",
    "bbox_inches = 'tight'\n",
    "plt.savefig('C:\\\\Users\\\\gammer\\\\Desktop\\\\DATA Surface\\\\LPi Opponency\\\\plots_LPi_ms\\\\\\\n",
    "Fig7_Conductance_model_barplot_comp_ctrl_block.pdf',bbox_inches='tight', dpi=600, transparent=True)\n",
    "plt.show()"
   ]
  },
  {
   "cell_type": "code",
   "execution_count": 17,
   "metadata": {},
   "outputs": [
    {
     "data": {
      "text/plain": [
       "Ttest_relResult(statistic=0.617147352187203, pvalue=0.5376072081657177)"
      ]
     },
     "execution_count": 17,
     "metadata": {},
     "output_type": "execute_result"
    }
   ],
   "source": [
    "stats.ttest_rel(delta_g_feedback_block[4], delta_g_feedback_block[9])"
   ]
  },
  {
   "cell_type": "code",
   "execution_count": 100,
   "metadata": {},
   "outputs": [
    {
     "data": {
      "image/png": "[encoded data removed]",
      "text/plain": [
       "<Figure size 57.6x162 with 1 Axes>"
      ]
     },
     "metadata": {},
     "output_type": "display_data"
    }
   ],
   "source": [
    "# Make Scatter Plot of modelling conductance (Split global: PD+ND vs. Split)\n",
    "\n",
    "pos = [0,1]\n",
    "\n",
    "fig = plt.figure(figsize = (fw*len(pos), 2.25))\n",
    "\n",
    "ax = fig.add_subplot(111)\n",
    "w = 0.6\n",
    "wb = 0.6\n",
    "\n",
    "data = [delta_g_feedback_block[9], delta_g_feedback_block[9]]\n",
    "\n",
    "colors = ['C4', 'C4']\n",
    "alphas = ([0.5, 1])\n",
    "\n",
    "ax.axhline(y=0,xmin=0.0001,xmax=0.9999, color='0.05', linestyle=':', linewidth = 1)\n",
    "\n",
    "for j in range (len(data)):\n",
    "    ax.bar(pos[j], height = np.mean(data[j]), color=colors[j], alpha=alphas[j])\n",
    "    ax.errorbar(pos[j],np.mean(data[j]),yerr=[stats.sem(data[j])], color='k',zorder = 0)    \n",
    "    for i in range(len(data[j])):\n",
    "        ax.scatter(pos[j] + np.random.random(1) * w/2 - w/4, data[j][i], s=25, color='0.3', alpha=0.05, zorder = 2)\n",
    "   \n",
    "ax.spines[\"top\"].set_visible(False)\n",
    "ax.spines[\"right\"].set_visible(False)\n",
    "ax.spines['left'].set_position(('outward', 7))\n",
    "ax.spines['bottom'].set_position(('outward', 7))\n",
    "ax.set_xticks(pos)\n",
    "ax.set_xticklabels(('PD+ND','global TM'), rotation=45, size=10)\n",
    "ax.set_ylabel(r'$\\Delta$'+ ' conductance [a.u.]', size=10)\n",
    "yticks = np.array([0, 0.5, 1, 1.5, 2])\n",
    "ax.set_yticklabels([0.0, 0.5, 1.0, 1.5, 2.0], size=10)\n",
    "ax.set_yticks(yticks)\n",
    "plt.ylim([-0.1,1.2])\n",
    "#plt.title('Feedback block')\n",
    "\n",
    "bbox_inches = 'tight'\n",
    "plt.savefig('C:\\\\Users\\\\gammer\\\\Desktop\\\\DATA Surface\\\\LPi Opponency\\\\plots_LPi_ms\\\\\\\n",
    "Fig7_Conductance_model_Split_PDND_model_block_barplot.pdf',bbox_inches='tight', dpi=600, transparent=True)\n",
    "plt.show()"
   ]
  },
  {
   "cell_type": "code",
   "execution_count": 22,
   "metadata": {},
   "outputs": [
    {
     "data": {
      "image/png": "[encoded data removed]",
      "text/plain": [
       "<Figure size 57.6x162 with 1 Axes>"
      ]
     },
     "metadata": {},
     "output_type": "display_data"
    }
   ],
   "source": [
    "# Make Scatter Plot of modelling conductance (TM local: PD+ND vs. TM)\n",
    "\n",
    "pos = [0,1]\n",
    "\n",
    "fig = plt.figure(figsize = (fw*len(pos), 2.25))\n",
    "\n",
    "ax = fig.add_subplot(111)\n",
    "w = 0.6\n",
    "wb = 0.6\n",
    "data = [delta_g_ctrl[0] + delta_g_ctrl[8], delta_g_ctrl[4]]\n",
    "colors = ['0.7', '0.4']\n",
    "\n",
    "ax.axhline(y=0,xmin=0.0001,xmax=0.9999, color='0.05', linestyle=':', linewidth = 1)\n",
    "\n",
    "for j in range (len(data)):\n",
    "    ax.bar(pos[j], height = np.mean(data[j]), color=colors[j])\n",
    "    ax.errorbar(pos[j],np.mean(data[j]),yerr=[stats.sem(data[j])], color='k',zorder = 0)    \n",
    "    for i in range(len(data[j])):\n",
    "        ax.scatter(pos[j] + np.random.random(1) * w/2 - w/4, data[j][i], s=25, color='0.3', alpha=0.05, zorder = 2)\n",
    "   \n",
    "ax.spines[\"top\"].set_visible(False)\n",
    "ax.spines[\"right\"].set_visible(False)\n",
    "ax.spines['left'].set_position(('outward', 7))\n",
    "ax.spines['bottom'].set_position(('outward', 7))\n",
    "ax.set_xticks(pos)\n",
    "ax.set_xticklabels(('PD+ND','local TM'), rotation=45, size=10)\n",
    "ax.set_ylabel(r'$\\Delta$'+ ' conductance [a.u.]', size=10)\n",
    "yticks = np.array([0, 0.5, 1, 1.5, 2])\n",
    "ax.set_yticklabels([0.0, 0.5, 1.0, 1.5, 2.0], size=10)\n",
    "ax.set_yticks(yticks)\n",
    "plt.ylim([-0.1, 1.2])\n",
    "\n",
    "bbox_inches = 'tight'\n",
    "plt.savefig('C:\\\\Users\\\\gammer\\\\Desktop\\\\DATA Surface\\\\LPi Opponency\\\\plots_LPi_ms\\\\\\\n",
    "Fig7_Conductance_TM_PDND_model_barplot.pdf',bbox_inches='tight', dpi=600, transparent=True)\n",
    "plt.show()"
   ]
  },
  {
   "cell_type": "code",
   "execution_count": 21,
   "metadata": {},
   "outputs": [
    {
     "data": {
      "text/plain": [
       "Ttest_relResult(statistic=117.00934359047282, pvalue=9.563787391582376e-252)"
      ]
     },
     "execution_count": 21,
     "metadata": {},
     "output_type": "execute_result"
    }
   ],
   "source": [
    "stats.ttest_rel(delta_g_ctrl[0] + delta_g_ctrl[8], delta_g_ctrl[4])"
   ]
  },
  {
   "cell_type": "code",
   "execution_count": 23,
   "metadata": {},
   "outputs": [
    {
     "data": {
      "image/png": "[encoded data removed]",
      "text/plain": [
       "<Figure size 57.6x162 with 1 Axes>"
      ]
     },
     "metadata": {},
     "output_type": "display_data"
    }
   ],
   "source": [
    "# Make Scatter Plot of modelling conductance (Split global: PD+ND vs. Split)\n",
    "\n",
    "pos = [0,1]\n",
    "\n",
    "fig = plt.figure(figsize = (fw*len(pos), 2.25))\n",
    "\n",
    "ax = fig.add_subplot(111)\n",
    "w = 0.6\n",
    "wb = 0.6\n",
    "\n",
    "data = [delta_g_feedback_block[0] + delta_g_feedback_block[8], delta_g_feedback_block[4]]\n",
    "\n",
    "colors = ['0.7', '0.4']\n",
    "\n",
    "ax.axhline(y=0,xmin=0.0001,xmax=0.9999, color='0.05', linestyle=':', linewidth = 1)\n",
    "\n",
    "for j in range (len(data)):\n",
    "    ax.bar(pos[j], height = np.mean(data[j]), color=colors[j])\n",
    "    ax.errorbar(pos[j],np.mean(data[j]),yerr=[stats.sem(data[j])], color='k',zorder = 0)    \n",
    "    for i in range(len(data[j])):\n",
    "        ax.scatter(pos[j] + np.random.random(1) * w/2 - w/4, data[j][i], s=25, color='0.3', alpha=0.05, zorder = 2)\n",
    "   \n",
    "ax.spines[\"top\"].set_visible(False)\n",
    "ax.spines[\"right\"].set_visible(False)\n",
    "ax.spines['left'].set_position(('outward', 7))\n",
    "ax.spines['bottom'].set_position(('outward', 7))\n",
    "ax.set_xticks(pos)\n",
    "ax.set_xticklabels(('PD+ND','local TM'), rotation=45, size=10)\n",
    "ax.set_ylabel(r'$\\Delta$'+ ' conductance [a.u.]', size=10)\n",
    "yticks = np.array([0, 0.5, 1, 1.5, 2])\n",
    "ax.set_yticklabels([0.0, 0.5, 1.0, 1.5, 2.0], size=10)\n",
    "ax.set_yticks(yticks)\n",
    "plt.ylim([-0.1, 1.2])\n",
    "#plt.title('Feedback block')\n",
    "\n",
    "bbox_inches = 'tight'\n",
    "plt.savefig('C:\\\\Users\\\\gammer\\\\Desktop\\\\DATA Surface\\\\LPi Opponency\\\\plots_LPi_ms\\\\\\\n",
    "Fig7_Conductance_model_TM_PDND_model_block_barplot.pdf',bbox_inches='tight', dpi=600, transparent=True)\n",
    "plt.show()"
   ]
  },
  {
   "cell_type": "code",
   "execution_count": 24,
   "metadata": {},
   "outputs": [
    {
     "data": {
      "text/plain": [
       "Ttest_relResult(statistic=63.1312819035642, pvalue=6.640823013510619e-175)"
      ]
     },
     "execution_count": 24,
     "metadata": {},
     "output_type": "execute_result"
    }
   ],
   "source": [
    "stats.ttest_rel(delta_g_feedback_block[0] + delta_g_feedback_block[8], delta_g_feedback_block[4])"
   ]
  },
  {
   "cell_type": "code",
   "execution_count": null,
   "metadata": {},
   "outputs": [],
   "source": []
  }
 ],
 "metadata": {
  "kernelspec": {
   "display_name": "Python 2",
   "language": "python",
   "name": "python2"
  },
  "language_info": {
   "codemirror_mode": {
    "name": "ipython",
    "version": 2
   },
   "file_extension": ".py",
   "mimetype": "text/x-python",
   "name": "python",
   "nbconvert_exporter": "python",
   "pygments_lexer": "ipython2",
   "version": "2.7.15"
  }
 },
 "nbformat": 4,
 "nbformat_minor": 5
}
