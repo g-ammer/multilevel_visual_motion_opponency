{
 "cells": [
  {
   "cell_type": "markdown",
   "metadata": {},
   "source": [
    "#### Analysis of w+; UAS-ArcLight/ UAS-GluRIA-RNAi; R38G02-Gal4/ R38G02-Gal4 Flies (Control flies)"
   ]
  },
  {
   "cell_type": "code",
   "execution_count": 4,
   "metadata": {},
   "outputs": [],
   "source": [
    "# Python_version 2.7.15\n",
    "\n",
    "%matplotlib inline\n",
    "import numpy as np\n",
    "import matplotlib.pyplot as plt\n",
    "import pandas as pd\n",
    "import seaborn as sb\n",
    "import os\n",
    "import scipy.io\n",
    "from scipy import stats\n",
    "\n",
    "import octopus as oct"
   ]
  },
  {
   "cell_type": "code",
   "execution_count": 5,
   "metadata": {},
   "outputs": [],
   "source": [
    "filenames =['R38G02_ArcLight_GluRIA-RNAi_SING_001_2020-10-26_14.41_Ftrace_mean',\n",
    "            'R38G02_ArcLight_GluRIA-RNAi_SING_004_2020-10-26_16.15_Ftrace_mean',\n",
    "            'R38G02_ArcLight_GluRIA-RNAi_SING_006_2020-10-26_18.51_Ftrace_mean',\n",
    "            'R38G02_ArcLight_GluRIA-RNAi_SING_004_2020-10-27_12.56_Ftrace_mean',\n",
    "            'R38G02_GluRIA-RNAi_ArcLight_005_2020-10-29_14.54_Ftrace_mean',\n",
    "            'R38G02_GluRIA-RNAi_ArcLight_009_2020-10-29_17.44_Ftrace_mean',\n",
    "            'R38G02_GluRIA-RNAi_ArcLight_003_2020-10-30_12.57_Ftrace_mean']"
   ]
  },
  {
   "cell_type": "code",
   "execution_count": 6,
   "metadata": {},
   "outputs": [],
   "source": [
    "# Import Data\n",
    "time = np.load('time.npy')\n",
    "\n",
    "for i in range(len(filenames)):\n",
    "    a = np.load(filenames[i] + '.npy')\n",
    "    if(i==0):\n",
    "        Ftrace_all = a\n",
    "    if(i==1):\n",
    "        Ftrace_all = np.stack((Ftrace_all,a), axis=2)   \n",
    "    if(i>1):\n",
    "        a = a[:,:,np.newaxis]\n",
    "        Ftrace_all = np.concatenate((Ftrace_all,a), axis=2)   "
   ]
  },
  {
   "cell_type": "code",
   "execution_count": 8,
   "metadata": {},
   "outputs": [
    {
     "data": {
      "image/png": "[encoded data removed]",
      "text/plain": [
       "<Figure size 360x216 with 2 Axes>"
      ]
     },
     "metadata": {},
     "output_type": "display_data"
    }
   ],
   "source": [
    "fig = plt.figure(figsize = (5,3))\n",
    "\n",
    "ax = fig.add_subplot(121)\n",
    "plt.plot(time,Ftrace_all[:,6,:], color = '0.3', alpha = 0.4, linewidth = 1)\n",
    "plt.plot(time,np.mean(Ftrace_all[:,6,:], axis=1), color = '0.3', linewidth = 2)\n",
    "plt.axvspan(0, 1, facecolor='0.5', alpha=0.2)\n",
    "plt.xlim([-1.5,2.5])\n",
    "plt.ylim([-0.12,0.12])\n",
    "plt.axis('off') \n",
    "\n",
    "ax = fig.add_subplot(122)\n",
    "plt.plot(time,Ftrace_all[:,2,:], color = '0.3', alpha = 0.4, linewidth = 1)\n",
    "plt.plot(time,np.mean(Ftrace_all[:,2,:], axis=1), color = '0.3', linewidth = 2)\n",
    "plt.axvspan(0, 1, facecolor='0.5', alpha=0.2)\n",
    "plt.xlim([-1.5,2.5])\n",
    "plt.ylim([-0.12,0.12])\n",
    "plt.axis('off')\n",
    "\n",
    "bbox_inches = 'tight'\n",
    "#plt.savefig('Fig4_R38G02_GluClRNAi_Ctrl_Ftraces.pdf',bbox_inches='tight', dpi=600, transparent=True)\n",
    "plt.show()"
   ]
  },
  {
   "cell_type": "code",
   "execution_count": 10,
   "metadata": {},
   "outputs": [],
   "source": [
    "rotations = [0,45,90,135,180,225,270,315,360]\n",
    "Ftrace_mean = np.zeros([len(rotations),len(filenames)])\n",
    "Ftrace_sem = np.zeros([len(rotations)])\n",
    "for i in range(len(rotations)):\n",
    "    Ftrace_sem[i] = stats.sem(np.mean(Ftrace_all[38:51,i,:],0))\n",
    "    for j in range(len(filenames)):\n",
    "        Ftrace_mean[i,j] = np.mean(Ftrace_all[np.int(np.where(time == 0)[0]):51,i,j])"
   ]
  },
  {
   "cell_type": "code",
   "execution_count": 13,
   "metadata": {},
   "outputs": [],
   "source": [
    "# Input to MOI function\n",
    "rot_rad = np.radians(rotations[0:8])\n",
    "radius = np.mean(Ftrace_mean[0:8,:],1)"
   ]
  },
  {
   "cell_type": "code",
   "execution_count": 14,
   "metadata": {
    "scrolled": false
   },
   "outputs": [
    {
     "name": "stdout",
     "output_type": "stream",
     "text": [
      "D_magn =0.1380794108204351   D_deg = 231.0295341824461\n",
      "H_magn =0.14641021626272277   H_deg = 246.03582524152066\n",
      "MOI = 0.910937416904325\n",
      "D_magn =0.06583635919656598   D_deg = 229.6712220336405\n",
      "H_magn =0.07916133180687233   H_deg = 218.01460120232062\n",
      "MOI = 0.8145208366458646\n",
      "D_magn =0.07388424813565256   D_deg = 235.30197817309318\n",
      "H_magn =0.18729217823789907   H_deg = 243.71295013596918\n",
      "MOI = 0.3902436022641774\n",
      "D_magn =0.10330787731209143   D_deg = 246.53247313783552\n",
      "H_magn =0.0806647055811544   H_deg = 241.75727029341306\n",
      "MOI = 0.7781083006340191\n",
      "D_magn =0.17178781304478874   D_deg = 243.49442273377502\n",
      "H_magn =0.11032049438590177   H_deg = 252.0331058841629\n",
      "MOI = 0.6350723194951391\n",
      "D_magn =0.11030238021522804   D_deg = 241.62265222608136\n",
      "H_magn =0.18098992402931546   H_deg = 246.593115328047\n",
      "MOI = 0.6071475428942122\n",
      "D_magn =0.14234596354570464   D_deg = 228.0877193856929\n",
      "H_magn =0.13547012765922342   H_deg = 228.27752345071593\n",
      "MOI = 0.9516910838883732\n"
     ]
    }
   ],
   "source": [
    "MOI_flies = np.empty(len(Ftrace_mean[0,:]))\n",
    "for i in range(len(Ftrace_mean[0,:])):\n",
    "    MOI_flies[i] = oct.MOI(rot_rad, Ftrace_mean[0:8,i])"
   ]
  },
  {
   "cell_type": "code",
   "execution_count": 16,
   "metadata": {},
   "outputs": [
    {
     "name": "stdout",
     "output_type": "stream",
     "text": [
      "R_magn =0.28205583766440107   R_deg = 238.75366041054156\n",
      "R_indiv_magn = 0.3769430758055151\n",
      "LDir = 0.7482717040541385\n",
      "R_magn =0.14425449419243533   R_deg = 223.30546322055633\n",
      "R_indiv_magn = 0.19620835127237118\n",
      "LDir = 0.7352107759785673\n",
      "R_magn =0.2606059349098111   R_deg = 241.33623388365666\n",
      "R_indiv_magn = 0.3668906847941332\n",
      "LDir = 0.7103094892039579\n",
      "R_magn =0.18381529091719054   R_deg = 244.43890308004183\n",
      "R_indiv_magn = 0.2556582533970832\n",
      "LDir = 0.7189882918885954\n",
      "R_magn =0.2813627011238884   R_deg = 246.83189324358088\n",
      "R_indiv_magn = 0.38327743733044495\n",
      "LDir = 0.7340966979000901\n",
      "R_magn =0.29103446525638094   R_deg = 244.7113280435758\n",
      "R_indiv_magn = 0.3853930279459036\n",
      "LDir = 0.7551627667152104\n",
      "R_magn =0.27781571034352853   R_deg = 228.180272629139\n",
      "R_indiv_magn = 0.35597262222897735\n",
      "LDir = 0.7804412277661769\n"
     ]
    }
   ],
   "source": [
    "LDir_flies = np.empty(len(Ftrace_mean[0,:]))\n",
    "for i in range(len(Ftrace_mean[0,:])):\n",
    "    LDir_flies[i] = oct.LDir(rot_rad, Ftrace_mean[0:8,i])"
   ]
  },
  {
   "cell_type": "code",
   "execution_count": 19,
   "metadata": {},
   "outputs": [],
   "source": [
    "# Save Ftrace as numpy array\n",
    "\n",
    "np.save('R38G02_GluRIA-RNAi_Ftrace_all.npy', Ftrace_all)\n",
    "np.save('R38G02_GluRIA-RNAi_Ftrace_mean.npy', Ftrace_mean)\n",
    "np.save('R38G02_GluRIA-RNAi_MOI.npy', MOI_flies)\n",
    "np.save('R38G02_GluRIA-RNAi_LDir.npy', LDir_flies)"
   ]
  },
  {
   "cell_type": "code",
   "execution_count": null,
   "metadata": {},
   "outputs": [],
   "source": []
  }
 ],
 "metadata": {
  "kernelspec": {
   "display_name": "Python 2",
   "language": "python",
   "name": "python2"
  },
  "language_info": {
   "codemirror_mode": {
    "name": "ipython",
    "version": 2
   },
   "file_extension": ".py",
   "mimetype": "text/x-python",
   "name": "python",
   "nbconvert_exporter": "python",
   "pygments_lexer": "ipython2",
   "version": "2.7.15"
  }
 },
 "nbformat": 4,
 "nbformat_minor": 2
}
