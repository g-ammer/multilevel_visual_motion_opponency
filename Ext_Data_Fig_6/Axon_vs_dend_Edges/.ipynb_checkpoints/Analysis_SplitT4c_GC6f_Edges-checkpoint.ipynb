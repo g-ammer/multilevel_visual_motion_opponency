{
 "cells": [
  {
   "cell_type": "code",
   "execution_count": 1,
   "metadata": {},
   "outputs": [],
   "source": [
    "%matplotlib inline\n",
    "import numpy as np\n",
    "import matplotlib.pyplot as plt\n",
    "import pandas as pd\n",
    "import seaborn as sb\n",
    "import os\n",
    "import scipy.io\n",
    "from scipy import stats\n",
    "\n",
    "import octopus as oct"
   ]
  },
  {
   "cell_type": "code",
   "execution_count": 2,
   "metadata": {},
   "outputs": [],
   "source": [
    "# T4 Axon Terminals\n",
    "\n",
    "filenames_axons =['SplitT4c_GC6f_Edges_001_2020-11-09_12.15_Ftrace_Edges_mean_axons',\n",
    "                  'SplitT4c_GC6f_Edges_006_2021-01-28_17.17_Ftrace_Edges_mean_axons',\n",
    "                  'SplitT4c_GC6f_Edges_009_2021-04-21_15.42_Ftrace_Edges_mean_axons',\n",
    "                  '2022_07_13_SplitT4c_GC6f_Edges_004_2022-07-13_14.43_Ftrace_Edges_mean_T4axons',\n",
    "                  '2022_07_15_SplitT4c_GC6f_Edges_008_2022-07-15_14.07_Ftrace_Edges_mean_T4axons',\n",
    "                  '2022_07_15_SplitT4c_GC6f_Edges_014_2022-07-15_16.58_Ftrace_Edges_mean_T4axons']"
   ]
  },
  {
   "cell_type": "code",
   "execution_count": 3,
   "metadata": {},
   "outputs": [],
   "source": [
    "# T4 Dendrites\n",
    "\n",
    "filenames_dend =['SplitT4c_GC6f_Edges_006_2021-01-28_17.17_Ftrace_Edges_mean_T4dend',\n",
    "                 'SplitT4c_GC6f_Edges_009_2021-04-21_15.42_Ftrace_Edges_mean_T4dend',\n",
    "                 '2022_07_13_SplitT4c_GC6f_Edges_004_2022-07-13_14.43_Ftrace_Edges_mean_T4dend',\n",
    "                 '2022_07_15_SplitT4c_GC6f_Edges_008_2022-07-15_14.07_Ftrace_Edges_mean_T4dend',\n",
    "                 '2022_07_15_SplitT4c_GC6f_Edges_014_2022-07-15_16.58_Ftrace_Edges_mean_T4dend']"
   ]
  },
  {
   "cell_type": "code",
   "execution_count": 4,
   "metadata": {
    "scrolled": true
   },
   "outputs": [],
   "source": [
    "# Import Data\n",
    "time = np.load('time_Edges.npy')\n",
    "\n",
    "for i in range(len(filenames_axons)):\n",
    "    a = np.load(filenames_axons[i] + '.npy')\n",
    "    if(i==0):\n",
    "        Ftrace_all_axons = a\n",
    "    if(i==1):\n",
    "        Ftrace_all_axons = np.stack((Ftrace_all_axons,a), axis=3)   \n",
    "    if(i>1):\n",
    "        a = a[:,:,:,np.newaxis]\n",
    "        Ftrace_all_axons = np.concatenate((Ftrace_all_axons,a), axis=3)\n",
    "        \n",
    "for i in range(len(filenames_dend)):\n",
    "    b = np.load(filenames_dend[i] + '.npy')\n",
    "    if(i==0):\n",
    "        Ftrace_all_dend = b\n",
    "    if(i==1):\n",
    "        Ftrace_all_dend = np.stack((Ftrace_all_dend,b), axis=3)   \n",
    "    if(i>1):\n",
    "        b = b[:,:,:,np.newaxis]\n",
    "        Ftrace_all_dend = np.concatenate((Ftrace_all_dend,b), axis=3)  "
   ]
  },
  {
   "cell_type": "code",
   "execution_count": 5,
   "metadata": {
    "scrolled": true
   },
   "outputs": [
    {
     "data": {
      "image/png": "[encoded data removed]",
      "text/plain": [
       "<Figure size 288x187.2 with 2 Axes>"
      ]
     },
     "metadata": {},
     "output_type": "display_data"
    }
   ],
   "source": [
    "fig = plt.figure(figsize = (4, 2.6))\n",
    "\n",
    "plt.subplots_adjust(wspace=0.1)\n",
    "\n",
    "ax = fig.add_subplot(121)\n",
    "ax.axhline(y=0,xmin=0.0001,xmax=0.9999, color='0.05', linestyle=':', linewidth = 1.5)\n",
    "plt.plot(time,np.mean(Ftrace_all_dend[:,6,0,:], axis=1), color = 'C5', linewidth = 2)\n",
    "plt.plot(time,np.mean(Ftrace_all_axons[:,6,0,:], axis=1), color = 'C4', linewidth = 2)\n",
    "plt.axvspan(0, 9, facecolor='0.5', alpha=0.2)\n",
    "plt.xlim([-1.5,7])\n",
    "plt.ylim([-2.5,6.5])\n",
    "plt.axis('off') \n",
    "\n",
    "ax = fig.add_subplot(122)\n",
    "ax.axhline(y=0,xmin=0.0001,xmax=0.9999, color='0.05', linestyle=':', linewidth = 1.5)\n",
    "plt.plot(time,np.mean(Ftrace_all_dend[:,2,0,:], axis=1), color = 'C5', linewidth = 2)\n",
    "plt.plot(time,np.mean(Ftrace_all_axons[:,2,0,:], axis=1), color = 'C4', linewidth = 2)\n",
    "plt.axvspan(0, 9, facecolor='0.5', alpha=0.2)\n",
    "plt.xlim([-1.5,7])\n",
    "plt.ylim([-2.5,6.5])\n",
    "plt.axis('off')\n",
    "\n",
    "bbox_inches = 'tight'\n",
    "#plt.savefig('C:\\\\Users\\\\gammer\\\\Desktop\\\\DATA Surface\\\\LPi Opponency\\\\plots_LPi_ms\\\\\\\n",
    "#FigS6_SplitT4c_Traces_dend_vs_axons_Edges.pdf',bbox_inches='tight', dpi=600, transparent=True)\n",
    "\n",
    "plt.show()"
   ]
  },
  {
   "cell_type": "code",
   "execution_count": 6,
   "metadata": {},
   "outputs": [
    {
     "data": {
      "image/png": "[encoded data removed]",
      "text/plain": [
       "<Figure size 360x216 with 1 Axes>"
      ]
     },
     "metadata": {},
     "output_type": "display_data"
    }
   ],
   "source": [
    "fig = plt.figure(figsize = (5,3))\n",
    "\n",
    "ax = fig.add_subplot(121)\n",
    "ax.axhline(y=0,xmin=0.0001,xmax=0.9999, color='0.05', linestyle=':', linewidth = 1.5)\n",
    "plt.plot(time,np.mean(Ftrace_all_dend[:,6,0,:], axis=1), color = 'C5', linewidth = 2.5)\n",
    "plt.plot(time,np.mean(Ftrace_all_axons[:,6,0,:], axis=1), color = 'C4', linewidth = 2.5)\n",
    "plt.axvspan(0, 9, facecolor='0.5', alpha=0.2)\n",
    "plt.xlim([-1.5,7])\n",
    "plt.ylim([-2,7])\n",
    "plt.axis('off') \n",
    "\n",
    "bbox_inches = 'tight'\n",
    "#plt.savefig('C:\\\\Users\\\\gammer\\\\Desktop\\\\DATA Surface\\\\LPi Opponency\\\\2021_05_03 Motion Opponency Presentation\\\\\n",
    "#SplitT4c_GC6f_Edges_Ftraces_dend_vs_axon_ND.pdf',bbox_inches='tight', dpi=600, transparent=True)\n",
    "plt.show()"
   ]
  },
  {
   "cell_type": "code",
   "execution_count": 7,
   "metadata": {},
   "outputs": [
    {
     "data": {
      "image/png": "[encoded data removed]",
      "text/plain": [
       "<Figure size 360x216 with 1 Axes>"
      ]
     },
     "metadata": {},
     "output_type": "display_data"
    }
   ],
   "source": [
    "fig = plt.figure(figsize = (5,3))\n",
    "\n",
    "ax = fig.add_subplot(121)\n",
    "ax.axhline(y=0,xmin=0.0001,xmax=0.9999, color='0.05', linestyle=':', linewidth = 1.5)\n",
    "plt.plot(time,np.mean(Ftrace_all_dend[:,2,0,:], axis=1), color = 'C5', linewidth = 2.5)\n",
    "plt.plot(time,np.mean(Ftrace_all_axons[:,2,0,:], axis=1), color = 'C4', linewidth = 2.5)\n",
    "plt.axvspan(0, 9, facecolor='0.5', alpha=0.2)\n",
    "plt.xlim([-1.5,7])\n",
    "plt.ylim([-2,7])\n",
    "plt.axis('off') \n",
    "\n",
    "bbox_inches = 'tight'\n",
    "#plt.savefig('C:\\\\Users\\\\gammer\\\\Desktop\\\\DATA Surface\\\\LPi Opponency\\\\2021_05_03 Motion Opponency Presentation\\\\\n",
    "#SplitT4c_GC6f_Edges_Ftraces_dend_vs_axon_PD.pdf',bbox_inches='tight', dpi=600, transparent=True)\n",
    "plt.show()"
   ]
  },
  {
   "cell_type": "code",
   "execution_count": 8,
   "metadata": {},
   "outputs": [
    {
     "data": {
      "image/png": "[encoded data removed]",
      "text/plain": [
       "<Figure size 86.4x216 with 1 Axes>"
      ]
     },
     "metadata": {},
     "output_type": "display_data"
    }
   ],
   "source": [
    "# Make Bar plot\n",
    "\n",
    "pos = [0,1]\n",
    "\n",
    "fig = plt.figure(figsize = (0.6*len(pos),3))\n",
    "plt.subplots_adjust(wspace = 0.5)\n",
    "ax = fig.add_subplot(111)\n",
    "w = 0.6\n",
    "wb = 0.6\n",
    "data = [np.max(Ftrace_all_dend[:,6,0,:],axis=0), np.max(Ftrace_all_axons[:,6,0,:],axis=0)]\n",
    "colors = ['C5', 'C4']\n",
    "\n",
    "ax.axhline(y=0,xmin=0.0001,xmax=0.9999, color='0.05', linestyle=':', linewidth = 1)\n",
    "\n",
    "for j in range (len(data)):\n",
    "    ax.bar(pos[j], height = np.mean(data[j]), yerr=[stats.sem(data[j])], color=colors[j])\n",
    "    ax.errorbar(pos[j],np.mean(data[j]),yerr=[stats.sem(data[j])], color='k',zorder = 0)    \n",
    "    for i in range(len(data[j])):\n",
    "        ax.scatter(pos[j] + np.random.random(1) * w/2 - w/4, data[j][i], s=25, color='0.3', alpha=0.4, zorder = 2) \n",
    "   \n",
    "ax.spines[\"top\"].set_visible(False)\n",
    "ax.spines[\"right\"].set_visible(False)\n",
    "ax.spines['left'].set_position(('outward', 10))\n",
    "ax.spines['bottom'].set_position(('outward', 10))\n",
    "ax.set_xticks(pos)\n",
    "ax.set_xticklabels(('ND\\nDend','ND\\nAxons', 'PD\\nDend','PD\\nAxons'), size=11)\n",
    "ax.set_ylabel('$\\Delta F/F$', size=11)\n",
    "plt.ylim([0,2])\n",
    "\n",
    "bbox_inches = 'tight'\n",
    "#plt.savefig('C:\\\\Users\\\\gammer\\\\Desktop\\\\DATA Surface\\\\LPi Opponency\\\\2021_05_03 Motion Opponency Presentation\\\\\n",
    "#SplitT4c_GC6f_Edges_ND_boxplot_dend_vs_axon.pdf',bbox_inches='tight', dpi=600, transparent=True)\n",
    "plt.show()"
   ]
  },
  {
   "cell_type": "code",
   "execution_count": 9,
   "metadata": {},
   "outputs": [
    {
     "data": {
      "image/png": "[encoded data removed]",
      "text/plain": [
       "<Figure size 86.4x216 with 1 Axes>"
      ]
     },
     "metadata": {},
     "output_type": "display_data"
    }
   ],
   "source": [
    "# Make Bar plot\n",
    "\n",
    "pos = [0,1]\n",
    "\n",
    "fig = plt.figure(figsize = (0.6*len(pos),3))\n",
    "plt.subplots_adjust(wspace = 0.5)\n",
    "ax = fig.add_subplot(111)\n",
    "w = 0.6\n",
    "wb = 0.6\n",
    "data = [np.max(Ftrace_all_dend[:,2,0,:],axis=0), np.max(Ftrace_all_axons[:,2,0,:],axis=0)]\n",
    "colors = ['C5', 'C4']\n",
    "\n",
    "ax.axhline(y=0,xmin=0.0001,xmax=0.9999, color='0.05', linestyle=':', linewidth = 1)\n",
    "\n",
    "for j in range (len(data)):\n",
    "    ax.bar(pos[j], height = np.mean(data[j]), yerr=[stats.sem(data[j])], color=colors[j])\n",
    "    ax.errorbar(pos[j],np.mean(data[j]),yerr=[stats.sem(data[j])], color='k',zorder = 0)    \n",
    "    for i in range(len(data[j])):\n",
    "        ax.scatter(pos[j] + np.random.random(1) * w/2 - w/4, data[j][i], s=25, color='0.3', alpha=0.4, zorder = 2) \n",
    "   \n",
    "ax.spines[\"top\"].set_visible(False)\n",
    "ax.spines[\"right\"].set_visible(False)\n",
    "ax.spines['left'].set_position(('outward', 10))\n",
    "ax.spines['bottom'].set_position(('outward', 10))\n",
    "ax.set_xticks(pos)\n",
    "ax.set_xticklabels(('PD\\nDend','PD\\nAxons', 'PD\\nDend','PD\\nAxons'), size=11)\n",
    "ax.set_ylabel('$\\Delta F/F$', size=11)\n",
    "plt.ylim([0,12])\n",
    "\n",
    "bbox_inches = 'tight'\n",
    "#plt.savefig('C:\\\\Users\\\\gammer\\\\Desktop\\\\DATA Surface\\\\LPi Opponency\\\\2021_05_03 Motion Opponency Presentation\\\\\n",
    "#SplitT4c_GC6f_Edges_PD_boxplot_dend_vs_axon.pdf',bbox_inches='tight', dpi=600, transparent=True)\n",
    "plt.show()"
   ]
  }
 ],
 "metadata": {
  "kernelspec": {
   "display_name": "Python 2",
   "language": "python",
   "name": "python2"
  },
  "language_info": {
   "codemirror_mode": {
    "name": "ipython",
    "version": 2
   },
   "file_extension": ".py",
   "mimetype": "text/x-python",
   "name": "python",
   "nbconvert_exporter": "python",
   "pygments_lexer": "ipython2",
   "version": "2.7.15"
  }
 },
 "nbformat": 4,
 "nbformat_minor": 2
}
