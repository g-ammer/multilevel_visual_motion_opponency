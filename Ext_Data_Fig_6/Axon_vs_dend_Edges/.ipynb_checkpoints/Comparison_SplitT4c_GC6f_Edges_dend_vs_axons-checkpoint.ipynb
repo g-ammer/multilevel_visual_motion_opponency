{
 "cells": [
  {
   "cell_type": "code",
   "execution_count": 1,
   "metadata": {},
   "outputs": [],
   "source": [
    "%matplotlib inline\n",
    "import numpy as np\n",
    "import matplotlib.pyplot as plt\n",
    "import pandas as pd\n",
    "import seaborn as sb\n",
    "import os\n",
    "import scipy.io\n",
    "from scipy import stats\n",
    "\n",
    "import octopus as oct"
   ]
  },
  {
   "cell_type": "code",
   "execution_count": 2,
   "metadata": {},
   "outputs": [],
   "source": [
    "# T4 Axon Terminals Max Data\n",
    "\n",
    "filenames_Edges_axons =['SplitT4c_GC6f_Edges_001_2020-11-09_12.15_Edges_max_axons',\n",
    "                  'SplitT4c_GC6f_Edges_006_2021-01-28_17.17_Edges_max_axons',\n",
    "                  'SplitT4c_GC6f_Edges_009_2021-04-21_15.42_Edges_max_axons',\n",
    "                  '2022_07_13_SplitT4c_GC6f_Edges_004_2022-07-13_14.43_Edges_max_T4axons',\n",
    "                  '2022_07_15_SplitT4c_GC6f_Edges_008_2022-07-15_14.07_Edges_max_T4axons',\n",
    "                  '2022_07_15_SplitT4c_GC6f_Edges_014_2022-07-15_16.58_Edges_max_T4axons']\n",
    "\n",
    "# T4 Dendrites Max Data\n",
    "\n",
    "filenames_Edges_dend =['SplitT4c_GC6f_Edges_006_2021-01-28_17.17_Edges_max_T4dend',\n",
    "                 'SplitT4c_GC6f_Edges_009_2021-04-21_15.42_Edges_max_T4dend',\n",
    "                 '2022_07_13_SplitT4c_GC6f_Edges_004_2022-07-13_14.43_Edges_max_T4dend',\n",
    "                 '2022_07_15_SplitT4c_GC6f_Edges_008_2022-07-15_14.07_Edges_max_T4dend',\n",
    "                 '2022_07_15_SplitT4c_GC6f_Edges_014_2022-07-15_16.58_Edges_max_T4dend']"
   ]
  },
  {
   "cell_type": "code",
   "execution_count": 3,
   "metadata": {},
   "outputs": [],
   "source": [
    "# Import Data Edges\n",
    "\n",
    "for i in range(len(filenames_Edges_axons)):\n",
    "    a = np.load(filenames_Edges_axons[i] + '.npy')\n",
    "    if(i==0):\n",
    "        Edges_all_axons = a\n",
    "    if(i==1):\n",
    "        Edges_all_axons = np.stack((Edges_all_axons,a), axis=2)   \n",
    "    if(i>1):\n",
    "        a = a[:,:,np.newaxis]\n",
    "        Edges_all_axons = np.concatenate((Edges_all_axons,a), axis=2)"
   ]
  },
  {
   "cell_type": "code",
   "execution_count": 4,
   "metadata": {},
   "outputs": [],
   "source": [
    "# Import Data Edges\n",
    "\n",
    "for i in range(len(filenames_Edges_dend)):\n",
    "    a = np.load(filenames_Edges_dend[i] + '.npy')\n",
    "    if(i==0):\n",
    "        Edges_all_dend = a\n",
    "    if(i==1):\n",
    "        Edges_all_dend = np.stack((Edges_all_dend,a), axis=2)   \n",
    "    if(i>1):\n",
    "        a = a[:,:,np.newaxis]\n",
    "        Edges_all_dend = np.concatenate((Edges_all_dend,a), axis=2) "
   ]
  },
  {
   "cell_type": "code",
   "execution_count": 5,
   "metadata": {},
   "outputs": [],
   "source": [
    "rotations = [0,45,90,135,180,225,270,315,360]"
   ]
  },
  {
   "cell_type": "code",
   "execution_count": 6,
   "metadata": {
    "scrolled": true
   },
   "outputs": [
    {
     "data": {
      "image/png": "[encoded data removed]",
      "text/plain": [
       "<Figure size 165.6x165.6 with 1 Axes>"
      ]
     },
     "metadata": {},
     "output_type": "display_data"
    }
   ],
   "source": [
    "# Plot tuning curves ON Edges\n",
    "\n",
    "fig = plt.figure(figsize = (2.3, 2.3))\n",
    "\n",
    "ax = fig.add_subplot(111) #PLOT directional tuning\n",
    "\n",
    "ax.axhline(y=0,xmin=0.0001,xmax=0.9999, color='0.05', linestyle=':', linewidth = 1)\n",
    "#plt.plot(rotations, Edges_all_axons[:,0,:], linewidth = 1.5, color='C4', alpha=0.3)\n",
    "plt.plot(rotations, np.mean(Edges_all_axons[:,0,:],axis=1), linewidth =2.5, color='C4')\n",
    "plt.errorbar(rotations, np.mean(Edges_all_axons[:,0,:],axis=1),\n",
    "             yerr = stats.sem(Edges_all_axons[:,0,:],axis=1), linewidth = 2.5, color = 'C4')\n",
    "#plt.plot(rotations, Edges_all_dend[:,0,:], linewidth = 1.5, color='C5', alpha=0.3)\n",
    "plt.plot(rotations, np.mean(Edges_all_dend[:,0,:],axis=1), linewidth =2.5, color='C5')\n",
    "plt.errorbar(rotations, np.mean(Edges_all_dend[:,0,:],axis=1),\n",
    "             yerr = stats.sem(Edges_all_dend[:,0,:],axis=1), linewidth = 2.5, color = 'C5')\n",
    "\n",
    "plt.xticks(rotations)\n",
    "ax.set_xticklabels(rotations)\n",
    "ax.spines[\"top\"].set_visible(False)\n",
    "ax.spines[\"right\"].set_visible(False)\n",
    "ax.spines['left'].set_position(('outward', 7))\n",
    "ax.spines['bottom'].set_position(('outward', 7))\n",
    "#for axis in ['top','bottom','left','right']:\n",
    "#  ax.spines[axis].set_linewidth(0.5)\n",
    "ax.set_xlabel(u'Direction [°]', fontsize = 10)\n",
    "ax.set_ylabel('$\\Delta F/F$ (ON Edges)', fontsize = 10)\n",
    "xticks = np.array([0,90,180,270,360])\n",
    "ax.set_xticklabels(xticks, size=10)\n",
    "ax.set_xticks(xticks)\n",
    "plt.ylim([-1,11])\n",
    "\n",
    "bbox_inches = 'tight'\n",
    "#plt.savefig('C:\\\\Users\\\\gammer\\\\Desktop\\\\DATA Surface\\\\LPi Opponency\\\\plots_LPi_ms\\\\\\\n",
    "#FigS6_SplitT4c_Tuning_dend_vs_axons_Edges.pdf',bbox_inches='tight', dpi=600, transparent=True)\n",
    "\n",
    "plt.show()"
   ]
  },
  {
   "cell_type": "code",
   "execution_count": 7,
   "metadata": {
    "scrolled": false
   },
   "outputs": [
    {
     "name": "stdout",
     "output_type": "stream",
     "text": [
      "(0.915881335735321, 0.47620269656181335)\n",
      "LeveneResult(statistic=0.40922221205172166, pvalue=0.5383054668191688)\n",
      "Ttest_indResult(statistic=-0.9288313070391451, pvalue=0.37721534863110673)\n",
      "LeveneResult(statistic=1.6304945414583025, pvalue=0.23359360179488484)\n",
      "Ttest_indResult(statistic=0.5538122073591555, pvalue=0.5931978868385748)\n"
     ]
    }
   ],
   "source": [
    "print(stats.shapiro(Edges_all_axons[2,0,:]))\n",
    "print(stats.levene(Edges_all_dend[2,0,:], Edges_all_axons[2,0,:]))\n",
    "print(stats.ttest_ind(Edges_all_dend[2,0,:], Edges_all_axons[2,0,:]))\n",
    "print(stats.levene(Edges_all_dend[6,0,:], Edges_all_axons[6,0,:]))\n",
    "print(stats.ttest_ind(Edges_all_dend[6,0,:], Edges_all_axons[6,0,:]))"
   ]
  },
  {
   "cell_type": "code",
   "execution_count": 8,
   "metadata": {},
   "outputs": [
    {
     "data": {
      "image/png": "[encoded data removed]",
      "text/plain": [
       "<Figure size 165.6x165.6 with 1 Axes>"
      ]
     },
     "metadata": {},
     "output_type": "display_data"
    }
   ],
   "source": [
    "# Plot tuning curves OFF Edges\n",
    "\n",
    "fig = plt.figure(figsize = (2.3, 2.3))\n",
    "\n",
    "plt.subplots_adjust(wspace=0.3)\n",
    "colors = sb.color_palette('husl', len(rotations))\n",
    "\n",
    "ax = fig.add_subplot(111) #PLOT directional tuning\n",
    "\n",
    "ax.axhline(y=0,xmin=0.0001,xmax=0.9999, color='0.05', linestyle=':', linewidth = 1)\n",
    "#plt.plot(rotations, Edges_all_axons[:,1,:], linewidth = 1.5, color='C4', alpha=0.3)\n",
    "plt.plot(rotations, np.mean(Edges_all_axons[:,1,:],axis=1), linewidth =2.5, color='C4')\n",
    "plt.errorbar(rotations, np.mean(Edges_all_axons[:,1,:],axis=1),\n",
    "             yerr = stats.sem(Edges_all_axons[:,1,:],axis=1), linewidth = 2.5, color = 'C4')\n",
    "\n",
    "#plt.plot(rotations, Edges_all_dend[:,1,:], linewidth = 1.5, color='C5', alpha=0.3)\n",
    "plt.plot(rotations, np.mean(Edges_all_dend[:,1,:],axis=1), linewidth =2.5, color='C5')\n",
    "plt.errorbar(rotations, np.mean(Edges_all_dend[:,1,:],axis=1),\n",
    "             yerr = stats.sem(Edges_all_dend[:,1,:],axis=1), linewidth = 2.5, color = 'C5')\n",
    "\n",
    "plt.xticks(rotations)\n",
    "ax.set_xticklabels(rotations)\n",
    "ax.spines[\"top\"].set_visible(False)\n",
    "ax.spines[\"right\"].set_visible(False)\n",
    "ax.spines['left'].set_position(('outward', 7))\n",
    "ax.spines['bottom'].set_position(('outward', 7))\n",
    "for axis in ['top','bottom','left','right']:\n",
    "  ax.spines[axis].set_linewidth(0.5)\n",
    "ax.set_xlabel('Direction [deg]', fontsize = 10)\n",
    "ax.set_ylabel('$\\Delta F/F$ (OFF Edges)', fontsize = 10)\n",
    "xticks = np.array([0,90,180,270,360])\n",
    "ax.set_xticklabels(xticks, size=10)\n",
    "ax.set_xticks(xticks)\n",
    "plt.ylim([-1,11])\n",
    "\n",
    "bbox_inches = 'tight'\n",
    "#plt.savefig('C:\\\\Users\\\\gammer\\\\Desktop\\\\DATA Surface\\\\LPi Opponency\\\\plots_LPi_ms\\\\\n",
    "#FigS5_SplitT4c_Tuning_dend_vs_axons_Grat.pdf',bbox_inches='tight', dpi=600, transparent=True)\n",
    "\n",
    "plt.show()"
   ]
  },
  {
   "cell_type": "code",
   "execution_count": 9,
   "metadata": {},
   "outputs": [
    {
     "data": {
      "image/png": "[encoded data removed]",
      "text/plain": [
       "<Figure size 122.4x165.6 with 1 Axes>"
      ]
     },
     "metadata": {},
     "output_type": "display_data"
    }
   ],
   "source": [
    "# Make Scatter Plot of LDir\n",
    "\n",
    "pos = [0, 1, 2.5, 3.5]\n",
    "\n",
    "fig = plt.figure(figsize = (0.5*len(pos)-0.3, 2.3))\n",
    "\n",
    "ax = fig.add_subplot(111)\n",
    "w = 0.6\n",
    "wb = 0.6\n",
    "data = [Edges_all_dend[2,0,:], Edges_all_axons[2,0,:], Edges_all_dend[6,0,:], Edges_all_axons[6,0,:]]\n",
    "\n",
    "colors = ['C5', 'C4', 'C5', 'C4']\n",
    "\n",
    "ax.axhline(y=0,xmin=0.0001,xmax=0.9999, color='0.05', linestyle=':', linewidth = 1)\n",
    "\n",
    "for j in range (len(data)):\n",
    "    ax.bar(pos[j], height = np.mean(data[j]), yerr=[stats.sem(data[j])], color=colors[j])\n",
    "    ax.errorbar(pos[j],np.mean(data[j]),yerr=[stats.sem(data[j])], color='k',zorder = 0)    \n",
    "    for i in range(len(data[j])):\n",
    "        ax.scatter(pos[j] + np.random.random(1) * w/2 - w/4, data[j][i], s=25, color='0.3', alpha=0.4, zorder = 2) \n",
    "   \n",
    "ax.spines[\"top\"].set_visible(False)\n",
    "ax.spines[\"right\"].set_visible(False)\n",
    "ax.spines['left'].set_position(('outward', 7))\n",
    "ax.spines['bottom'].set_position(('outward', 7))\n",
    "#ax.set_yticks([-1, 0, 1, 2, 3, 4, 5])\n",
    "#ax.set_yticklabels(('-1', '0', '1', '2', '3', '4', '5'), size=10)\n",
    "ax.set_xticks(pos)\n",
    "ax.set_xticklabels(('PD\\nden','PD\\naxo', 'ND\\nden','ND\\naxo'), size=10)\n",
    "ax.set_yticks([0, 5, 10])\n",
    "ax.set_yticklabels(('0', '5', '10'), size=10)\n",
    "ax.set_ylabel('$\\Delta F/F$ (ON Edges)', size=10)\n",
    "\n",
    "plt.ylim([-1.5, 13.5])\n",
    "\n",
    "bbox_inches = 'tight'\n",
    "#plt.savefig('C:\\\\Users\\\\gammer\\\\Desktop\\\\DATA Surface\\\\LPi Opponency\\\\plots_LPi_ms\\\\\\\n",
    "#FigS6_SplitT4c_PD_ND_dend_vs_axons_Edges.pdf',bbox_inches='tight', dpi=600, transparent=True)\n",
    "plt.show()"
   ]
  },
  {
   "cell_type": "code",
   "execution_count": 10,
   "metadata": {},
   "outputs": [],
   "source": [
    "# Input to MOI function\n",
    "rot_rad = np.radians(rotations[0:8])"
   ]
  },
  {
   "cell_type": "code",
   "execution_count": 11,
   "metadata": {},
   "outputs": [
    {
     "name": "stdout",
     "output_type": "stream",
     "text": [
      "D_magn =12.317759082332934   D_deg = 48.24334234513504\n",
      "H_magn =0.2356836245217925   H_deg = 44.99999999999999\n",
      "MOI = 0.019102997309387908\n",
      "D_magn =3.470663297785166   D_deg = 53.43116512938116\n",
      "H_magn =0.43605066925866465   H_deg = 44.99999999999999\n",
      "MOI = 0.12428118594607368\n",
      "D_magn =22.043181847426723   D_deg = 49.596445440337135\n",
      "H_magn =0.0   H_deg = 0.0\n",
      "MOI = 0.0\n",
      "D_magn =17.731257759475287   D_deg = 54.91252164948543\n",
      "H_magn =0.6007277605206145   H_deg = 360.0\n",
      "MOI = 0.019474884558455093\n",
      "D_magn =19.13478161529266   D_deg = 57.525829180807655\n",
      "H_magn =0.6510307929408531   H_deg = 89.99999999999999\n",
      "MOI = 0.028703303108544603\n"
     ]
    }
   ],
   "source": [
    "MOI_flies_dend = np.empty(len(Edges_all_dend[0,0,:]))\n",
    "for i in range(len(Edges_all_dend[0,0,:])):\n",
    "    MOI_flies_dend[i] = oct.MOI(rot_rad, Edges_all_dend[0:8,0,i])"
   ]
  },
  {
   "cell_type": "code",
   "execution_count": 12,
   "metadata": {},
   "outputs": [
    {
     "name": "stdout",
     "output_type": "stream",
     "text": [
      "D_magn =12.042570425362172   D_deg = 81.54834585841651\n",
      "H_magn =0.0   H_deg = 0.0\n",
      "MOI = 0.0\n",
      "D_magn =12.594590573836062   D_deg = 67.74173627087767\n",
      "H_magn =0.7668914686762749   H_deg = 79.64372202962193\n",
      "MOI = 0.059581508994495505\n",
      "D_magn =6.609490185689953   D_deg = 76.03364295123356\n",
      "H_magn =0.32534589145807   H_deg = 44.99999999999999\n",
      "MOI = 0.04217835453349885\n",
      "D_magn =22.289998459125858   D_deg = 57.6909814376574\n",
      "H_magn =0.3880630766330317   H_deg = 83.72276166790583\n",
      "MOI = 0.01564353500806625\n",
      "D_magn =22.328865290944538   D_deg = 67.834689289496\n",
      "H_magn =0.395051199916235   H_deg = 135.0\n",
      "MOI = 0.006865953967278007\n",
      "D_magn =19.83519367347538   D_deg = 54.82293976742376\n",
      "H_magn =0.0   H_deg = 0.0\n",
      "MOI = 0.0\n"
     ]
    }
   ],
   "source": [
    "MOI_flies_axons = np.empty(len(Edges_all_axons[0,0,:]))\n",
    "for i in range(len(Edges_all_axons[0,0,:])):\n",
    "    MOI_flies_axons[i] = oct.MOI(rot_rad, Edges_all_axons[0:8,0,i])"
   ]
  },
  {
   "cell_type": "code",
   "execution_count": 13,
   "metadata": {},
   "outputs": [
    {
     "name": "stdout",
     "output_type": "stream",
     "text": [
      "R_magn =12.042570425362172   R_deg = 81.54834585841651\n",
      "R_indiv_magn = 17.12003696986963\n",
      "LDir = 0.7034196507026512\n",
      "R_magn =13.345932506226927   R_deg = 68.42076269770716\n",
      "R_indiv_magn = 16.304291065108046\n",
      "LDir = 0.81855337671123\n",
      "R_magn =6.8903094060607035   R_deg = 74.63876696863069\n",
      "R_indiv_magn = 10.073503985376421\n",
      "LDir = 0.6840032441604509\n",
      "R_magn =22.63933343219064   R_deg = 58.1220049158592\n",
      "R_indiv_magn = 29.62291824606513\n",
      "LDir = 0.7642506131278226\n",
      "R_magn =22.485122212655746   R_deg = 68.76249187362164\n",
      "R_indiv_magn = 29.8714375310961\n",
      "LDir = 0.7527298339508698\n",
      "R_magn =19.83519367347538   R_deg = 54.82293976742376\n",
      "R_indiv_magn = 28.030241619652106\n",
      "LDir = 0.7076354867939795\n"
     ]
    }
   ],
   "source": [
    "LDir_flies_axons = np.empty(len(Edges_all_axons[0,0,:]))\n",
    "for i in range(len(Edges_all_axons[0,0,:])):\n",
    "    LDir_flies_axons[i] = oct.LDir(rot_rad, Edges_all_axons[0:8,0,i])"
   ]
  },
  {
   "cell_type": "code",
   "execution_count": 14,
   "metadata": {},
   "outputs": [
    {
     "name": "stdout",
     "output_type": "stream",
     "text": [
      "R_magn =12.553072282930389   R_deg = 48.1824811762236\n",
      "R_indiv_magn = 17.895101579457112\n",
      "LDir = 0.7014809179591823\n",
      "R_magn =3.902525193982941   R_deg = 52.49245869609571\n",
      "R_indiv_magn = 7.96377548039378\n",
      "LDir = 0.4900345575525913\n",
      "R_magn =22.043181847426723   R_deg = 49.596445440337135\n",
      "R_indiv_magn = 39.30192359443714\n",
      "LDir = 0.560867759931902\n",
      "R_magn =18.08325428894491   R_deg = 53.35484711703422\n",
      "R_indiv_magn = 25.70129863033191\n",
      "LDir = 0.7035930187435584\n",
      "R_magn =19.687116491508757   R_deg = 58.54318747115993\n",
      "R_indiv_magn = 27.65638448946508\n",
      "LDir = 0.7118470781677196\n"
     ]
    }
   ],
   "source": [
    "LDir_flies_dend = np.empty(len(Edges_all_dend[0,0,:]))\n",
    "for i in range(len(Edges_all_dend[0,0,:])):\n",
    "    LDir_flies_dend[i] = oct.LDir(rot_rad, Edges_all_dend[0:8,0,i])"
   ]
  },
  {
   "cell_type": "code",
   "execution_count": 15,
   "metadata": {},
   "outputs": [],
   "source": [
    "R_deg_flies_dend = np.empty(len(Edges_all_dend[0,0,:]))\n",
    "for i in range(len(Edges_all_dend[0,0,:])):\n",
    "    R_deg_flies_dend[i] = oct.R_deg(rot_rad, Edges_all_dend[0:8,0,i])"
   ]
  },
  {
   "cell_type": "code",
   "execution_count": 16,
   "metadata": {},
   "outputs": [],
   "source": [
    "R_deg_flies_axons = np.empty(len(Edges_all_axons[0,0,:]))\n",
    "for i in range(len(Edges_all_axons[0,0,:])):\n",
    "    R_deg_flies_axons[i] = oct.R_deg(rot_rad, Edges_all_axons[0:8,0,i])"
   ]
  },
  {
   "cell_type": "code",
   "execution_count": 17,
   "metadata": {},
   "outputs": [
    {
     "data": {
      "image/png": "[encoded data removed]",
      "text/plain": [
       "<Figure size 57.6x162 with 1 Axes>"
      ]
     },
     "metadata": {},
     "output_type": "display_data"
    }
   ],
   "source": [
    "# Make Scatter Plot of MOI for Edges\n",
    "\n",
    "pos = [0, 1]\n",
    "fig = plt.figure(figsize = (0.4*len(pos), 2.25))\n",
    "\n",
    "ax = fig.add_subplot(111)\n",
    "w = 0.6\n",
    "wb = 0.6\n",
    "data = [MOI_flies_dend, MOI_flies_axons]\n",
    "\n",
    "colors = ['C5', 'C4']\n",
    "\n",
    "ax.axhline(y=0,xmin=0.0001,xmax=0.9999, color='0.05', linestyle=':', linewidth = 1)\n",
    "\n",
    "for j in range (len(data)):\n",
    "    ax.plot([pos[j]-w/2, pos[j]+w/2],[np.mean(data[j]),np.mean(data[j])],\n",
    "            color=colors[j], linestyle='-', linewidth = 4)\n",
    "    ax.errorbar(pos[j],np.mean(data[j]),yerr=[stats.sem(data[j])], color='k',zorder = 0)    \n",
    "    for i in range(len(data[j])):\n",
    "        ax.scatter(pos[j] + np.random.random(1) * w/2 - w/4, data[j][i], s=25, color=colors[j], alpha=0.5, zorder = 2) \n",
    "   \n",
    "ax.spines[\"top\"].set_visible(False)\n",
    "ax.spines[\"right\"].set_visible(False)\n",
    "ax.spines['left'].set_position(('outward', 7))\n",
    "ax.spines['bottom'].set_position(('outward', 7))\n",
    "ax.set_xticks(pos)\n",
    "ax.set_xticklabels(('dend.','axon'), rotation=45, size=10)\n",
    "ax.set_ylabel('Motion opponency index', size=10)\n",
    "plt.ylim([0,1])\n",
    "\n",
    "bbox_inches = 'tight'\n",
    "#plt.savefig('C:\\\\Users\\\\gammer\\\\Desktop\\\\DATA Surface\\\\LPi Opponency\\\\plots_LPi_ms\\\\\n",
    "#FigS6_SplitT4c_MOI_dend_vs_axons_Edges.pdf',bbox_inches='tight', dpi=600, transparent=True)\n",
    "\n",
    "plt.show()"
   ]
  },
  {
   "cell_type": "code",
   "execution_count": 18,
   "metadata": {},
   "outputs": [
    {
     "data": {
      "image/png": "[encoded data removed]",
      "text/plain": [
       "<Figure size 57.6x162 with 1 Axes>"
      ]
     },
     "metadata": {},
     "output_type": "display_data"
    }
   ],
   "source": [
    "# Make Scatter Plot of LDir\n",
    "\n",
    "pos = [0, 1]\n",
    "\n",
    "fig = plt.figure(figsize = (0.4*len(pos), 2.25))\n",
    "\n",
    "ax = fig.add_subplot(111)\n",
    "w = 0.6\n",
    "wb = 0.6\n",
    "data = [LDir_flies_dend, LDir_flies_axons]\n",
    "\n",
    "colors = ['C5', 'C4']\n",
    "\n",
    "ax.axhline(y=0,xmin=0.0001,xmax=0.9999, color='0.05', linestyle=':', linewidth = 1)\n",
    "\n",
    "for j in range (len(data)):\n",
    "    ax.plot([pos[j]-w/2, pos[j]+w/2],[np.mean(data[j]),np.mean(data[j])],\n",
    "            color=colors[j], linestyle='-', linewidth = 4)\n",
    "    ax.errorbar(pos[j],np.mean(data[j]),yerr=[stats.sem(data[j])], color='k',zorder = 0)    \n",
    "    for i in range(len(data[j])):\n",
    "        ax.scatter(pos[j] + np.random.random(1) * w/2 - w/4, data[j][i], s=25, color=colors[j], alpha=0.5, zorder = 2) \n",
    "   \n",
    "ax.spines[\"top\"].set_visible(False)\n",
    "ax.spines[\"right\"].set_visible(False)\n",
    "ax.spines['left'].set_position(('outward', 7))\n",
    "ax.spines['bottom'].set_position(('outward', 7))\n",
    "ax.set_xticks(pos)\n",
    "ax.set_xticklabels(('dend.','axon'), rotation=45, size=10)\n",
    "ax.set_ylabel('Direction selectivity index', size=10)\n",
    "plt.ylim([0,1])\n",
    "\n",
    "bbox_inches = 'tight'\n",
    "#plt.savefig('C:\\\\Users\\\\gammer\\\\Desktop\\\\DATA Surface\\\\LPi Opponency\\\\plots_LPi_ms\\\\\n",
    "#FigS6_SplitT4c_LDir_dend_vs_axons_Edges.pdf',bbox_inches='tight', dpi=600, transparent=True)\n",
    "\n",
    "plt.show()"
   ]
  },
  {
   "cell_type": "code",
   "execution_count": 19,
   "metadata": {},
   "outputs": [
    {
     "data": {
      "image/png": "[encoded data removed]",
      "text/plain": [
       "<Figure size 57.6x162 with 1 Axes>"
      ]
     },
     "metadata": {},
     "output_type": "display_data"
    }
   ],
   "source": [
    "# Make Scatter Plot of R_deg\n",
    "\n",
    "pos = [0, 1]\n",
    "\n",
    "fig = plt.figure(figsize = (0.4*len(pos), 2.25))\n",
    "\n",
    "ax = fig.add_subplot(111)\n",
    "w = 0.6\n",
    "wb = 0.6\n",
    "\n",
    "data = [np.radians(R_deg_flies_dend), np.radians(R_deg_flies_axons)]\n",
    "\n",
    "colors = ['C5', 'C4']\n",
    "\n",
    "ax.axhline(y=0,xmin=0.0001,xmax=0.9999, color='0.05', linestyle=':', linewidth = 1)\n",
    "\n",
    "for j in range (len(data)):\n",
    "    ax.plot([pos[j]-w/2, pos[j]+w/2],[stats.circmean(data[j]),stats.circmean(data[j])],\n",
    "            color=colors[j], linestyle='-', linewidth = 4)\n",
    "    ax.errorbar(pos[j],stats.circmean(data[j]),yerr=[stats.circstd(data[j])], color='k',zorder = 0)    \n",
    "    for i in range(len(data[j])):\n",
    "        ax.scatter(pos[j] + np.random.random(1) * w/2 - w/4, data[j][i], s=25, color=colors[j], alpha=0.5, zorder = 2) \n",
    "   \n",
    "ax.spines[\"top\"].set_visible(False)\n",
    "ax.spines[\"right\"].set_visible(False)\n",
    "ax.spines['left'].set_position(('outward', 7))\n",
    "ax.spines['bottom'].set_position(('outward', 7))\n",
    "ax.set_xticks(pos)\n",
    "ax.set_xticklabels(('dend.','axon'), rotation=45, size=10)\n",
    "ax.set_yticks(np.radians(rotations[::2]))\n",
    "ax.set_yticklabels(rotations[::2])\n",
    "ax.set_ylabel(u'Preferred direction [°]', size=10)\n",
    "plt.ylim([0,np.pi*2])\n",
    "\n",
    "bbox_inches = 'tight'\n",
    "#plt.savefig('C:\\\\Users\\\\gammer\\\\Desktop\\\\DATA Surface\\\\LPi Opponency\\\\plots_LPi_ms\\\\\n",
    "#FigS6_SplitT4c_R_deg_dend_vs_axons_Edges.pdf',bbox_inches='tight', dpi=600, transparent=True)\n",
    "\n",
    "plt.show()"
   ]
  },
  {
   "cell_type": "code",
   "execution_count": 20,
   "metadata": {},
   "outputs": [
    {
     "name": "stdout",
     "output_type": "stream",
     "text": [
      "Ttest_indResult(statistic=0.7731229639380058, pvalue=0.4592724084235399)\n",
      "Ttest_indResult(statistic=-2.2366560122986314, pvalue=0.05212716188379553)\n",
      "Ttest_indResult(statistic=-3.19037537811701, pvalue=0.010999939471974123)\n"
     ]
    }
   ],
   "source": [
    "print(stats.ttest_ind(MOI_flies_dend, MOI_flies_axons))\n",
    "print(stats.ttest_ind(LDir_flies_dend, LDir_flies_axons))\n",
    "print(stats.ttest_ind(R_deg_flies_dend, R_deg_flies_axons))"
   ]
  },
  {
   "cell_type": "code",
   "execution_count": null,
   "metadata": {},
   "outputs": [],
   "source": []
  }
 ],
 "metadata": {
  "kernelspec": {
   "display_name": "Python 2",
   "language": "python",
   "name": "python2"
  },
  "language_info": {
   "codemirror_mode": {
    "name": "ipython",
    "version": 2
   },
   "file_extension": ".py",
   "mimetype": "text/x-python",
   "name": "python",
   "nbconvert_exporter": "python",
   "pygments_lexer": "ipython2",
   "version": "2.7.15"
  }
 },
 "nbformat": 4,
 "nbformat_minor": 2
}
