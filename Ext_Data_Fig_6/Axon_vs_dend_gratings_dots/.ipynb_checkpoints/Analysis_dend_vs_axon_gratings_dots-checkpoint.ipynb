{
 "cells": [
  {
   "cell_type": "code",
   "execution_count": 1,
   "metadata": {},
   "outputs": [],
   "source": [
    "import numpy as np\n",
    "import matplotlib.pyplot as plt\n",
    "import pandas as pd\n",
    "import seaborn as sb\n",
    "import os\n",
    "import scipy.io\n",
    "from scipy import stats\n",
    "%matplotlib inline\n",
    "\n",
    "import octopus as oct"
   ]
  },
  {
   "cell_type": "code",
   "execution_count": 2,
   "metadata": {
    "scrolled": false
   },
   "outputs": [],
   "source": [
    "time = np.load('time.npy')\n",
    "\n",
    "SplitT4c_GC6f_Ftrace_all_axons = np.load('SplitT4c_GC6f_Ftrace_all_axons.npy')\n",
    "SplitT4c_GC6f_MOI_axons = np.load('SplitT4c_GC6f_MOI_axons.npy')\n",
    "SplitT4c_GC6f_LDir_axons = np.load('SplitT4c_GC6f_LDir_axons.npy')\n",
    "SplitT4c_GC6f_R_deg_axons = np.load('SplitT4c_GC6f_R_deg_axons.npy')\n",
    "\n",
    "SplitT4c_GC6f_Ftrace_all_dend = np.load('SplitT4c_GC6f_Ftrace_all_dend.npy')\n",
    "SplitT4c_GC6f_MOI_dend = np.load('SplitT4c_GC6f_MOI_dend.npy')\n",
    "SplitT4c_GC6f_LDir_dend = np.load('SplitT4c_GC6f_LDir_dend.npy')\n",
    "SplitT4c_GC6f_R_deg_dend = np.load('SplitT4c_GC6f_R_deg_dend.npy')"
   ]
  },
  {
   "cell_type": "code",
   "execution_count": 3,
   "metadata": {},
   "outputs": [],
   "source": [
    "time_SING = np.load('time_1s3p.npy')\n",
    "\n",
    "SplitT4c_GC6f_SING_Ftrace_all_axons = np.load('SplitT4c_GC6f_SING_Ftrace_all_axons.npy')\n",
    "SplitT4c_GC6f_SING_MOI_axons = np.load('SplitT4c_GC6f_SING_MOI_axons.npy')\n",
    "SplitT4c_GC6f_SING_LDir_axons = np.load('SplitT4c_GC6f_SING_LDir_axons.npy')\n",
    "SplitT4c_GC6f_SING_R_deg_axons = np.load('SplitT4c_GC6f_SING_R_deg_axons.npy')\n",
    "\n",
    "SplitT4c_GC6f_SING_Ftrace_all_dend = np.load('SplitT4c_GC6f_SING_Ftrace_all_dend.npy')\n",
    "SplitT4c_GC6f_SING_MOI_dend = np.load('SplitT4c_GC6f_SING_MOI_dend.npy')\n",
    "SplitT4c_GC6f_SING_LDir_dend = np.load('SplitT4c_GC6f_SING_LDir_dend.npy')\n",
    "SplitT4c_GC6f_SING_R_deg_dend = np.load('SplitT4c_GC6f_SING_R_deg_dend.npy')"
   ]
  },
  {
   "cell_type": "code",
   "execution_count": 4,
   "metadata": {},
   "outputs": [],
   "source": [
    "rotations = [0,45,90,135,180,225,270,315,360]"
   ]
  },
  {
   "cell_type": "code",
   "execution_count": 5,
   "metadata": {},
   "outputs": [],
   "source": [
    "Ftrace_mean_SING_axons = np.zeros([len(rotations),len(SplitT4c_GC6f_SING_Ftrace_all_axons[0,0,:])])\n",
    "Ftrace_sem_SING_axons = np.zeros([len(rotations)])\n",
    "for i in range(len(rotations)):\n",
    "    Ftrace_sem_SING_axons[i] = stats.sem(np.mean(SplitT4c_GC6f_SING_Ftrace_all_axons[38:52,i,:],0))\n",
    "    for j in range(len(SplitT4c_GC6f_SING_Ftrace_all_axons[0,0,:])):\n",
    "        Ftrace_mean_SING_axons[i,j] = np.mean(SplitT4c_GC6f_SING_Ftrace_all_axons[38:55,i,j])\n",
    "\n",
    "Ftrace_mean_SING_dend = np.zeros([len(rotations),len(SplitT4c_GC6f_SING_Ftrace_all_dend[0,0,:])])\n",
    "Ftrace_sem_SING_dend = np.zeros([len(rotations)])\n",
    "for i in range(len(rotations)):\n",
    "    Ftrace_sem_SING_dend[i] = stats.sem(np.mean(SplitT4c_GC6f_SING_Ftrace_all_dend[38:52,i,:],0))\n",
    "    for j in range(len(SplitT4c_GC6f_SING_Ftrace_all_dend[0,0,:])):\n",
    "        Ftrace_mean_SING_dend[i,j] = np.mean(SplitT4c_GC6f_SING_Ftrace_all_dend[38:55,i,j])"
   ]
  },
  {
   "cell_type": "code",
   "execution_count": 6,
   "metadata": {},
   "outputs": [],
   "source": [
    "Ftrace_mean_axons = np.zeros([len(rotations),len(SplitT4c_GC6f_Ftrace_all_axons[0,0,:])])\n",
    "Ftrace_sem_axons = np.zeros([len(rotations)])\n",
    "for i in range(len(rotations)):\n",
    "    Ftrace_sem_axons[i] = stats.sem(np.mean(SplitT4c_GC6f_Ftrace_all_axons[63:139,i,:],0))\n",
    "    for j in range(len(SplitT4c_GC6f_Ftrace_all_axons[0,0,:])):\n",
    "        Ftrace_mean_axons[i,j] = np.mean(SplitT4c_GC6f_Ftrace_all_axons[63:139,i,j])\n",
    "\n",
    "Ftrace_mean_dend = np.zeros([len(rotations),len(SplitT4c_GC6f_Ftrace_all_dend[0,0,:])])\n",
    "Ftrace_sem_dend = np.zeros([len(rotations)])\n",
    "for i in range(len(rotations)):\n",
    "    Ftrace_sem_dend[i] = stats.sem(np.mean(SplitT4c_GC6f_Ftrace_all_dend[63:139,i,:],0))\n",
    "    for j in range(len(SplitT4c_GC6f_Ftrace_all_dend[0,0,:])):\n",
    "        Ftrace_mean_dend[i,j] = np.mean(SplitT4c_GC6f_Ftrace_all_dend[63:139,i,j])"
   ]
  },
  {
   "cell_type": "code",
   "execution_count": 7,
   "metadata": {},
   "outputs": [
    {
     "data": {
      "image/png": "[encoded data removed]",
      "text/plain": [
       "<Figure size 288x187.2 with 2 Axes>"
      ]
     },
     "metadata": {},
     "output_type": "display_data"
    }
   ],
   "source": [
    "fig = plt.figure(figsize = (4, 2.6))\n",
    "\n",
    "plt.subplots_adjust(wspace=0.1)\n",
    "\n",
    "ax = fig.add_subplot(121)\n",
    "ax.axhline(y=0,xmin=0.0001,xmax=0.9999, color='0.05', linestyle=':', linewidth = 1.5)\n",
    "#plt.plot(time, SplitT4c_GC6f_Ftrace_all_axons[:,6,:], color = 'C3', alpha = 0.4, linewidth = 1)\n",
    "plt.plot(time, np.mean(SplitT4c_GC6f_Ftrace_all_dend[:,6,:], axis=1), color = 'C5', linewidth = 2)\n",
    "plt.plot(time, np.mean(SplitT4c_GC6f_Ftrace_all_axons[:,6,:], axis=1), color = 'C4', linewidth = 2)\n",
    "plt.axvspan(0, 5, facecolor='0.2', alpha=0.2)\n",
    "plt.xlim([-3,8])\n",
    "plt.ylim([-0.75,2.05])\n",
    "plt.axis('off') \n",
    "\n",
    "ax = fig.add_subplot(122)\n",
    "ax.axhline(y=0,xmin=0.0001,xmax=0.9999, color='0.05', linestyle=':', linewidth = 1.5)\n",
    "#plt.plot(time, SplitT4c_GC6f_Ftrace_all_axons[:,2,:], color = 'C3', alpha = 0.4, linewidth = 1)\n",
    "plt.plot(time, np.mean(SplitT4c_GC6f_Ftrace_all_dend[:,2,:], axis=1), color = 'C5', linewidth = 2)\n",
    "plt.plot(time, np.mean(SplitT4c_GC6f_Ftrace_all_axons[:,2,:], axis=1), color = 'C4', linewidth = 2)\n",
    "plt.axvspan(0, 5, facecolor='0.2', alpha=0.2)\n",
    "plt.xlim([-3,8])\n",
    "plt.ylim([-0.75,2.05])\n",
    "plt.axis('off')\n",
    "\n",
    "bbox_inches = 'tight'\n",
    "#plt.savefig('C:\\\\Users\\\\gammer\\\\Desktop\\\\DATA Surface\\\\LPi Opponency\\\\plots_LPi_ms\\\\\n",
    "#FigS6_SplitT4c_Traces_dend_vs_axons_Dots.pdf',bbox_inches='tight', dpi=600, transparent=True)\n",
    "plt.show()"
   ]
  },
  {
   "cell_type": "code",
   "execution_count": 8,
   "metadata": {},
   "outputs": [
    {
     "data": {
      "image/png": "[encoded data removed]",
      "text/plain": [
       "<Figure size 288x187.2 with 2 Axes>"
      ]
     },
     "metadata": {},
     "output_type": "display_data"
    }
   ],
   "source": [
    "fig = plt.figure(figsize = (4, 2.6))\n",
    "\n",
    "plt.subplots_adjust(wspace=0.1)\n",
    "\n",
    "ax = fig.add_subplot(121)\n",
    "ax.axhline(y=0,xmin=0.0001,xmax=0.9999, color='0.05', linestyle=':', linewidth = 1.5)\n",
    "plt.plot(time_SING, np.mean(SplitT4c_GC6f_SING_Ftrace_all_dend[:,6,:], axis=1), color = 'C5', linewidth = 3)\n",
    "plt.plot(time_SING, np.mean(SplitT4c_GC6f_SING_Ftrace_all_axons[:,6,:], axis=1), color = 'C4', linewidth = 3)\n",
    "plt.axvspan(0, 1, facecolor='0.2', alpha=0.2)\n",
    "plt.xlim([-1.5,2.5])\n",
    "plt.ylim([-1.5, 3.5])\n",
    "plt.axis('off') \n",
    "\n",
    "ax = fig.add_subplot(122)\n",
    "ax.axhline(y=0,xmin=0.0001,xmax=0.9999, color='0.05', linestyle=':', linewidth = 1.5)\n",
    "#plt.plot(time_SING, SplitT4c_GC6f_SING_Ftrace_all_axons[:,2,:], color = 'C3', alpha = 0.4, linewidth = 1)\n",
    "plt.plot(time_SING, np.mean(SplitT4c_GC6f_SING_Ftrace_all_dend[:,2,:], axis=1), color = 'C5', linewidth = 3)\n",
    "plt.plot(time_SING, np.mean(SplitT4c_GC6f_SING_Ftrace_all_axons[:,2,:], axis=1), color = 'C4', linewidth = 3)\n",
    "plt.axvspan(0, 1, facecolor='0.2', alpha=0.2)\n",
    "plt.xlim([-1.5,2.5])\n",
    "plt.ylim([-1.5, 3.5])\n",
    "plt.axis('off')\n",
    "\n",
    "bbox_inches = 'tight'\n",
    "#plt.savefig('C:\\\\Users\\\\gammer\\\\Desktop\\\\DATA Surface\\\\LPi Opponency\\\\plots_LPi_ms\\\\\n",
    "#FigS6_SplitT4c_Traces_dend_vs_axons_SING.pdf',bbox_inches='tight', dpi=600, transparent=True)\n",
    "plt.show()"
   ]
  },
  {
   "cell_type": "code",
   "execution_count": 9,
   "metadata": {},
   "outputs": [
    {
     "data": {
      "image/png": "[encoded data removed]",
      "text/plain": [
       "<Figure size 165.6x165.6 with 1 Axes>"
      ]
     },
     "metadata": {},
     "output_type": "display_data"
    }
   ],
   "source": [
    "# Plot tuning curves DOTS\n",
    "\n",
    "fig = plt.figure(figsize = (2.3, 2.3))\n",
    "\n",
    "\n",
    "colors = sb.color_palette('husl', len(rotations))\n",
    "\n",
    "ax = fig.add_subplot(111) #PLOT directional tuning\n",
    "\n",
    "ax.axhline(y=0,xmin=0.0001,xmax=0.9999, color='0.05', linestyle=':', linewidth = 1)\n",
    "#plt.plot(rotations, Ftrace_mean_dend, color='C5', linewidth = 1, zorder = 0, alpha=0.4)\n",
    "plt.plot(rotations, np.mean(Ftrace_mean_dend,1), linewidth = 2.5, color = 'C5')\n",
    "plt.errorbar(rotations, np.mean(Ftrace_mean_dend,1), yerr = Ftrace_sem_dend, linewidth = 2.5, color = 'C5')\n",
    "#plt.plot(rotations, Ftrace_mean_axons, color='C3', linewidth = 1, zorder = 0, alpha=0.4)\n",
    "plt.plot(rotations, np.mean(Ftrace_mean_axons,1), linewidth = 2.5, color = 'C4')\n",
    "plt.errorbar(rotations, np.mean(Ftrace_mean_axons,1), yerr = Ftrace_sem_axons, linewidth = 2.5, color = 'C4')\n",
    "\n",
    "plt.xticks(rotations)\n",
    "ax.set_xticklabels(rotations)\n",
    "ax.spines[\"top\"].set_visible(False)\n",
    "ax.spines[\"right\"].set_visible(False)\n",
    "ax.spines['left'].set_position(('outward', 7))\n",
    "ax.spines['bottom'].set_position(('outward', 7))\n",
    "#for axis in ['top','bottom','left','right']:\n",
    "#  ax.spines[axis].set_linewidth(0.5)\n",
    "ax.set_xlabel(u'Direction [°]', fontsize = 10)\n",
    "ax.set_ylabel('$\\Delta F/F$ (Dots)', fontsize = 10)\n",
    "xticks = np.array([0,90,180,270,360])\n",
    "ax.set_xticklabels(xticks, size=11)\n",
    "ax.set_xticks(xticks)\n",
    "ax.set_yticks([-0.5, 0, 0.5, 1, 1.5])\n",
    "ax.set_yticklabels([-0.5, 0.0, 0.5, 1.0, 1.5], size=1)\n",
    "plt.ylim([-0.5, 1.75])\n",
    "ax.tick_params(axis='both', which='major', labelsize=10)\n",
    "\n",
    "bbox_inches = 'tight'\n",
    "#plt.savefig('C:\\\\Users\\\\gammer\\\\Desktop\\\\DATA Surface\\\\LPi Opponency\\\\plots_LPi_ms\\\\\\\n",
    "#FigS6_SplitT4c_Tuning_dend_vs_axons_Dots.pdf',bbox_inches='tight', dpi=600, transparent=True)\n",
    "\n",
    "plt.show()"
   ]
  },
  {
   "cell_type": "code",
   "execution_count": 10,
   "metadata": {
    "scrolled": true
   },
   "outputs": [
    {
     "name": "stdout",
     "output_type": "stream",
     "text": [
      "(0.9012773036956787, 0.19160066545009613)\n",
      "LeveneResult(statistic=0.16925609279939935, pvalue=0.6851490178322885)\n",
      "Ttest_relResult(statistic=-0.22422926950760003, pvalue=0.8270938848709672)\n",
      "LeveneResult(statistic=2.3152473955308412, pvalue=0.14376505832974415)\n",
      "Ttest_relResult(statistic=3.9378566057608837, pvalue=0.0027845316130116248)\n"
     ]
    }
   ],
   "source": [
    "print(stats.shapiro(Ftrace_mean_axons[2]))\n",
    "print(stats.levene(Ftrace_mean_dend[2], Ftrace_mean_axons[2]))\n",
    "print(stats.ttest_rel(Ftrace_mean_dend[2], Ftrace_mean_axons[2]))\n",
    "print(stats.levene(Ftrace_mean_dend[6], Ftrace_mean_axons[6]))\n",
    "print(stats.ttest_rel(Ftrace_mean_dend[6], Ftrace_mean_axons[6]))"
   ]
  },
  {
   "cell_type": "code",
   "execution_count": 11,
   "metadata": {},
   "outputs": [
    {
     "data": {
      "image/png": "[encoded data removed]",
      "text/plain": [
       "<Figure size 122.4x165.6 with 1 Axes>"
      ]
     },
     "metadata": {},
     "output_type": "display_data"
    }
   ],
   "source": [
    "# Make Scatter Plot of LDir\n",
    "\n",
    "pos = [0, 1, 2.5, 3.5]\n",
    "\n",
    "fig = plt.figure(figsize = (0.5*len(pos)-0.3, 2.3))\n",
    "\n",
    "ax = fig.add_subplot(111)\n",
    "w = 0.6\n",
    "wb = 0.6\n",
    "data = [Ftrace_mean_dend[2], Ftrace_mean_axons[2], Ftrace_mean_dend[6], Ftrace_mean_axons[6]]\n",
    "\n",
    "colors = ['C5', 'C4', 'C5', 'C4']\n",
    "\n",
    "ax.axhline(y=0,xmin=0.0001,xmax=0.9999, color='0.05', linestyle=':', linewidth = 1)\n",
    "\n",
    "for j in range (len(data)):\n",
    "    ax.bar(pos[j], height = np.mean(data[j]), yerr=[stats.sem(data[j])], color=colors[j])\n",
    "    ax.errorbar(pos[j],np.mean(data[j]),yerr=[stats.sem(data[j])], color='k',zorder = 0)    \n",
    "    for i in range(len(data[j])):\n",
    "        ax.scatter(pos[j] + np.random.random(1) * w/2 - w/4, data[j][i], s=25, color='0.3', alpha=0.4, zorder = 2) \n",
    "   \n",
    "ax.spines[\"top\"].set_visible(False)\n",
    "ax.spines[\"right\"].set_visible(False)\n",
    "ax.spines['left'].set_position(('outward', 7))\n",
    "ax.spines['bottom'].set_position(('outward', 7))\n",
    "#ax.set_yticks([-1, 0, 1, 2, 3, 4, 5])\n",
    "#ax.set_yticklabels(('-1', '0', '1', '2', '3', '4', '5'), size=10)\n",
    "ax.set_xticks(pos)\n",
    "ax.set_xticklabels(('PD\\nden','PD\\naxo', 'ND\\nden','ND\\naxo'), size=10)\n",
    "ax.set_yticks([-1, 0, 1, 2])\n",
    "ax.set_yticklabels(('-1', '0', '1', '2'), size=10)\n",
    "ax.set_ylabel('$\\Delta F/F$ (Dots)', size=10)\n",
    "\n",
    "plt.ylim([-1.1, 2.7])\n",
    "\n",
    "bbox_inches = 'tight'\n",
    "#plt.savefig('C:\\\\Users\\\\gammer\\\\Desktop\\\\DATA Surface\\\\LPi Opponency\\\\plots_LPi_ms\\\\\\\n",
    "#FigS6_SplitT4c_PD_ND_dend_vs_axons_Dots.pdf',bbox_inches='tight', dpi=600, transparent=True)\n",
    "plt.show()"
   ]
  },
  {
   "cell_type": "code",
   "execution_count": 12,
   "metadata": {
    "scrolled": true
   },
   "outputs": [
    {
     "data": {
      "image/png": "[encoded data removed]",
      "text/plain": [
       "<Figure size 165.6x165.6 with 1 Axes>"
      ]
     },
     "metadata": {},
     "output_type": "display_data"
    }
   ],
   "source": [
    "# Plot tuning curves SING\n",
    "\n",
    "fig = plt.figure(figsize = (2.3, 2.3))\n",
    "\n",
    "colors = sb.color_palette('husl', len(rotations))\n",
    "\n",
    "ax = fig.add_subplot(111) #PLOT directional tuning\n",
    "\n",
    "ax.axhline(y=0,xmin=0.0001,xmax=0.9999, color='0.05', linestyle=':', linewidth = 1)\n",
    "#plt.plot(rotations, Ftrace_mean_SING_dend, color='C5', linewidth = 1, zorder = 0, alpha=0.4)\n",
    "plt.plot(rotations, np.mean(Ftrace_mean_SING_dend,1), linewidth = 2.5, color = 'C5')\n",
    "plt.errorbar(rotations, np.mean(Ftrace_mean_SING_dend,1), yerr = Ftrace_sem_SING_dend, linewidth = 2.5, color = 'C5')\n",
    "#plt.plot(rotations, Ftrace_mean_SING_axons, color='C3', linewidth = 1, zorder = 0, alpha=0.4)\n",
    "plt.plot(rotations, np.mean(Ftrace_mean_SING_axons,1), linewidth = 2.5, color = 'C4')\n",
    "plt.errorbar(rotations, np.mean(Ftrace_mean_SING_axons,1), yerr = Ftrace_sem_SING_axons, linewidth = 2.5, color = 'C4')\n",
    "\n",
    "plt.xticks(rotations)\n",
    "ax.set_xticklabels(rotations)\n",
    "ax.spines[\"top\"].set_visible(False)\n",
    "ax.spines[\"right\"].set_visible(False)\n",
    "ax.spines['left'].set_position(('outward', 7))\n",
    "ax.spines['bottom'].set_position(('outward', 7))\n",
    "#for axis in ['top','bottom','left','right']:\n",
    "#  ax.spines[axis].set_linewidth(0.5)\n",
    "ax.set_xlabel(u'Direction [°]', fontsize = 10)\n",
    "ax.set_ylabel('$\\Delta F/F$ (Grating)', fontsize = 10)\n",
    "xticks = np.array([0,90,180,270,360])\n",
    "ax.set_xticklabels(xticks, size=10)\n",
    "ax.set_xticks(xticks)\n",
    "plt.ylim([-0.95,2.3])\n",
    "ax.tick_params(axis='both', which='major', labelsize=10)\n",
    "\n",
    "bbox_inches = 'tight'\n",
    "#plt.savefig('C:\\\\Users\\\\gammer\\\\Desktop\\\\DATA Surface\\\\LPi Opponency\\\\plots_LPi_ms\\\\\\\n",
    "#FigS6_SplitT4c_Tuning_dend_vs_axons_Grat.pdf',bbox_inches='tight', dpi=600, transparent=True)\n",
    "\n",
    "plt.show()"
   ]
  },
  {
   "cell_type": "code",
   "execution_count": 13,
   "metadata": {
    "scrolled": true
   },
   "outputs": [
    {
     "name": "stdout",
     "output_type": "stream",
     "text": [
      "(0.8836771845817566, 0.17158998548984528)\n",
      "LeveneResult(statistic=0.23045204719449197, pvalue=0.6376858506423422)\n",
      "Ttest_relResult(statistic=-2.1730600173611863, pvalue=0.061524403585430036)\n",
      "LeveneResult(statistic=4.053004514480587, pvalue=0.06123249108514315)\n",
      "Ttest_relResult(statistic=4.14883322293104, pvalue=0.003214120988325902)\n"
     ]
    }
   ],
   "source": [
    "print(stats.shapiro(Ftrace_mean_SING_axons[2]))\n",
    "print(stats.levene(Ftrace_mean_SING_dend[2], Ftrace_mean_SING_axons[2]))\n",
    "print(stats.ttest_rel(Ftrace_mean_SING_dend[2], Ftrace_mean_SING_axons[2]))\n",
    "print(stats.levene(Ftrace_mean_SING_dend[6], Ftrace_mean_SING_axons[6]))\n",
    "print(stats.ttest_rel(Ftrace_mean_SING_dend[6], Ftrace_mean_SING_axons[6]))"
   ]
  },
  {
   "cell_type": "code",
   "execution_count": 14,
   "metadata": {},
   "outputs": [
    {
     "data": {
      "image/png": "[encoded data removed]",
      "text/plain": [
       "<Figure size 122.4x165.6 with 1 Axes>"
      ]
     },
     "metadata": {},
     "output_type": "display_data"
    }
   ],
   "source": [
    "# Make Scatter Plot of LDir\n",
    "\n",
    "pos = [0, 1, 2.5, 3.5]\n",
    "\n",
    "fig = plt.figure(figsize = (0.5*len(pos)-0.3, 2.3))\n",
    "\n",
    "ax = fig.add_subplot(111)\n",
    "w = 0.6\n",
    "wb = 0.6\n",
    "data = [Ftrace_mean_SING_dend[2], Ftrace_mean_SING_axons[2], Ftrace_mean_SING_dend[6], Ftrace_mean_SING_axons[6]]\n",
    "\n",
    "colors = ['C5', 'C4', 'C5', 'C4']\n",
    "\n",
    "ax.axhline(y=0,xmin=0.0001,xmax=0.9999, color='0.05', linestyle=':', linewidth = 1)\n",
    "\n",
    "for j in range (len(data)):\n",
    "    ax.bar(pos[j], height = np.mean(data[j]), yerr=[stats.sem(data[j])], color=colors[j])\n",
    "    ax.errorbar(pos[j],np.mean(data[j]),yerr=[stats.sem(data[j])], color='k',zorder = 0)    \n",
    "    for i in range(len(data[j])):\n",
    "        ax.scatter(pos[j] + np.random.random(1) * w/2 - w/4, data[j][i], s=25, color='0.3', alpha=0.4, zorder = 2) \n",
    "   \n",
    "ax.spines[\"top\"].set_visible(False)\n",
    "ax.spines[\"right\"].set_visible(False)\n",
    "ax.spines['left'].set_position(('outward', 7))\n",
    "ax.spines['bottom'].set_position(('outward', 7))\n",
    "#ax.set_yticks([-1, 0, 1, 2, 3, 4, 5])\n",
    "#ax.set_yticklabels(('-1', '0', '1', '2', '3', '4', '5'), size=10)\n",
    "ax.set_xticks(pos)\n",
    "ax.set_xticklabels(('PD\\nden','PD\\naxo', 'ND\\nden','ND\\naxo'), size=10)\n",
    "ax.set_yticks([-1, 0, 1, 2, 3])\n",
    "ax.set_yticklabels(('-1', '0', '1', '2', '3'), size=10)\n",
    "ax.set_ylabel('$\\Delta F/F$ (Grating)', size=10)\n",
    "\n",
    "plt.ylim([-1.65, 3.6])\n",
    "\n",
    "bbox_inches = 'tight'\n",
    "#plt.savefig('C:\\\\Users\\\\gammer\\\\Desktop\\\\DATA Surface\\\\LPi Opponency\\\\plots_LPi_ms\\\\\\\n",
    "#FigS6_SplitT4c_PD_ND_dend_vs_axons_SING.pdf',bbox_inches='tight', dpi=600, transparent=True)\n",
    "plt.show()"
   ]
  },
  {
   "cell_type": "code",
   "execution_count": 15,
   "metadata": {
    "scrolled": false
   },
   "outputs": [
    {
     "data": {
      "image/png": "[encoded data removed]",
      "text/plain": [
       "<Figure size 57.6x162 with 1 Axes>"
      ]
     },
     "metadata": {},
     "output_type": "display_data"
    }
   ],
   "source": [
    "# Make Scatter Plot of MOI for Dots\n",
    "\n",
    "pos = [0,1]\n",
    "\n",
    "fig = plt.figure(figsize = (0.4*len(pos), 2.25))\n",
    "\n",
    "ax = fig.add_subplot(111)\n",
    "w = 0.6\n",
    "wb = 0.6\n",
    "data = [SplitT4c_GC6f_MOI_dend, SplitT4c_GC6f_MOI_axons]\n",
    "\n",
    "colors = ['C5', 'C4']\n",
    "\n",
    "ax.axhline(y=0,xmin=0.0001,xmax=0.9999, color='0.05', linestyle=':', linewidth = 1)\n",
    "\n",
    "for j in range (len(data)):\n",
    "    ax.plot([pos[j]-w/2, pos[j]+w/2],[np.mean(data[j]),np.mean(data[j])],\n",
    "            color=colors[j], linestyle='-', linewidth = 4)\n",
    "    ax.errorbar(pos[j],np.mean(data[j]),yerr=[stats.sem(data[j])], color='k',zorder = 0)    \n",
    "    for i in range(len(data[j])):\n",
    "        ax.scatter(pos[j] + np.random.random(1) * w/2 - w/4, data[j][i], s=25, color=colors[j], alpha=0.5, zorder = 2) \n",
    "   \n",
    "ax.spines[\"top\"].set_visible(False)\n",
    "ax.spines[\"right\"].set_visible(False)\n",
    "ax.spines['left'].set_position(('outward', 7))\n",
    "ax.spines['bottom'].set_position(('outward', 7))\n",
    "ax.set_xticks(pos)\n",
    "ax.set_xticklabels(('dend.','axon'), rotation=45, size=10)\n",
    "ax.set_ylabel('Motion opponency index', size=10)\n",
    "plt.ylim([0,1])\n",
    "\n",
    "bbox_inches = 'tight'\n",
    "#plt.savefig('C:\\\\Users\\\\gammer\\\\Desktop\\\\DATA Surface\\\\LPi Opponency\\\\plots_LPi_ms\\\\\\\n",
    "#FigS6_SplitT4c_MOI_dend_vs_axons_Dots.pdf',bbox_inches='tight', dpi=600, transparent=True)\n",
    "\n",
    "plt.show()"
   ]
  },
  {
   "cell_type": "code",
   "execution_count": 16,
   "metadata": {},
   "outputs": [
    {
     "data": {
      "image/png": "[encoded data removed]",
      "text/plain": [
       "<Figure size 57.6x162 with 1 Axes>"
      ]
     },
     "metadata": {},
     "output_type": "display_data"
    }
   ],
   "source": [
    "# Make Scatter Plot of MOI for SING\n",
    "\n",
    "pos = [0,1]\n",
    "\n",
    "fig = plt.figure(figsize = (0.4*len(pos), 2.25))\n",
    "\n",
    "ax = fig.add_subplot(111)\n",
    "w = 0.6\n",
    "wb = 0.6\n",
    "data = [SplitT4c_GC6f_SING_MOI_dend, SplitT4c_GC6f_SING_MOI_axons]\n",
    "\n",
    "colors = ['C5', 'C4']\n",
    "\n",
    "ax.axhline(y=0,xmin=0.0001,xmax=0.9999, color='0.05', linestyle=':', linewidth = 1)\n",
    "\n",
    "for j in range (len(data)):\n",
    "    ax.plot([pos[j]-w/2, pos[j]+w/2],[np.mean(data[j]),np.mean(data[j])],\n",
    "            color=colors[j], linestyle='-', linewidth = 4)\n",
    "    ax.errorbar(pos[j],np.mean(data[j]),yerr=[stats.sem(data[j])], color='k',zorder = 0)    \n",
    "    for i in range(len(data[j])):\n",
    "        ax.scatter(pos[j] + np.random.random(1) * w/2 - w/4, data[j][i], s=25, color=colors[j], alpha=0.5, zorder = 2) \n",
    "   \n",
    "ax.spines[\"top\"].set_visible(False)\n",
    "ax.spines[\"right\"].set_visible(False)\n",
    "ax.spines['left'].set_position(('outward', 7))\n",
    "ax.spines['bottom'].set_position(('outward', 7))\n",
    "ax.set_xticks(pos)\n",
    "ax.set_xticklabels(('dend.','axon'), rotation=45, size=10)\n",
    "ax.set_ylabel('Motion opponency index', size=10)\n",
    "plt.ylim([0,1])\n",
    "\n",
    "bbox_inches = 'tight'\n",
    "#plt.savefig('C:\\\\Users\\\\gammer\\\\Desktop\\\\DATA Surface\\\\LPi Opponency\\\\plots_LPi_ms\\\\\\\n",
    "#FigS6_SplitT4c_MOI_dend_vs_axons_SING.pdf',bbox_inches='tight', dpi=600, transparent=True)\n",
    "\n",
    "plt.show()"
   ]
  },
  {
   "cell_type": "code",
   "execution_count": 17,
   "metadata": {
    "scrolled": true
   },
   "outputs": [
    {
     "data": {
      "image/png": "[encoded data removed]",
      "text/plain": [
       "<Figure size 57.6x162 with 1 Axes>"
      ]
     },
     "metadata": {},
     "output_type": "display_data"
    }
   ],
   "source": [
    "# Make Scatter Plot of LDir\n",
    "\n",
    "pos = [0,1]\n",
    "\n",
    "fig = plt.figure(figsize = (0.4*len(pos), 2.25))\n",
    "\n",
    "ax = fig.add_subplot(111)\n",
    "w = 0.6\n",
    "wb = 0.6\n",
    "data = [SplitT4c_GC6f_LDir_dend, SplitT4c_GC6f_LDir_axons]\n",
    "\n",
    "colors = ['C5', 'C4']\n",
    "\n",
    "ax.axhline(y=0,xmin=0.0001,xmax=0.9999, color='0.05', linestyle=':', linewidth = 1)\n",
    "\n",
    "for j in range (len(data)):\n",
    "    ax.plot([pos[j]-w/2, pos[j]+w/2],[np.mean(data[j]),np.mean(data[j])],\n",
    "            color=colors[j], linestyle='-', linewidth = 4)\n",
    "    ax.errorbar(pos[j],np.mean(data[j]),yerr=[stats.sem(data[j])], color='k',zorder = 0)    \n",
    "    for i in range(len(data[j])):\n",
    "        ax.scatter(pos[j] + np.random.random(1) * w/2 - w/4, data[j][i], s=25, color=colors[j], alpha=0.5, zorder = 2) \n",
    "   \n",
    "ax.spines[\"top\"].set_visible(False)\n",
    "ax.spines[\"right\"].set_visible(False)\n",
    "ax.spines['left'].set_position(('outward', 7))\n",
    "ax.spines['bottom'].set_position(('outward', 7))\n",
    "ax.set_xticks(pos)\n",
    "ax.set_xticklabels(('dend.','axon'), rotation=45, size=10)\n",
    "ax.set_ylabel('Direction selectivity index', size=10)\n",
    "plt.ylim([0,1])\n",
    "\n",
    "bbox_inches = 'tight'\n",
    "#plt.savefig('C:\\\\Users\\\\gammer\\\\Desktop\\\\DATA Surface\\\\LPi Opponency\\\\plots_LPi_ms\\\\\\\n",
    "#FigS6_SplitT4c_LDir_dend_vs_axons_Dots.pdf',bbox_inches='tight', dpi=600, transparent=True)\n",
    "\n",
    "plt.show()"
   ]
  },
  {
   "cell_type": "code",
   "execution_count": 18,
   "metadata": {},
   "outputs": [
    {
     "data": {
      "image/png": "[encoded data removed]",
      "text/plain": [
       "<Figure size 57.6x162 with 1 Axes>"
      ]
     },
     "metadata": {},
     "output_type": "display_data"
    }
   ],
   "source": [
    "# Make Scatter Plot of LDir\n",
    "\n",
    "pos = [0,1]\n",
    "\n",
    "fig = plt.figure(figsize = (0.4*len(pos), 2.25))\n",
    "\n",
    "ax = fig.add_subplot(111)\n",
    "w = 0.6\n",
    "wb = 0.6\n",
    "data = [SplitT4c_GC6f_SING_LDir_dend, SplitT4c_GC6f_SING_LDir_axons]\n",
    "\n",
    "colors = ['C5', 'C4']\n",
    "\n",
    "ax.axhline(y=0,xmin=0.0001,xmax=0.9999, color='0.05', linestyle=':', linewidth = 1)\n",
    "\n",
    "for j in range (len(data)):\n",
    "    ax.plot([pos[j]-w/2, pos[j]+w/2],[np.mean(data[j]),np.mean(data[j])],\n",
    "            color=colors[j], linestyle='-', linewidth = 4)\n",
    "    ax.errorbar(pos[j],np.mean(data[j]),yerr=[stats.sem(data[j])], color='k',zorder = 0)    \n",
    "    for i in range(len(data[j])):\n",
    "        ax.scatter(pos[j] + np.random.random(1) * w/2 - w/4, data[j][i], s=25, color=colors[j], alpha=0.5, zorder = 2) \n",
    "   \n",
    "ax.spines[\"top\"].set_visible(False)\n",
    "ax.spines[\"right\"].set_visible(False)\n",
    "ax.spines['left'].set_position(('outward', 7))\n",
    "ax.spines['bottom'].set_position(('outward', 7))\n",
    "ax.set_xticks(pos)\n",
    "ax.set_xticklabels(('dend.','axon'), rotation=45, size=10)\n",
    "ax.set_ylabel('Direction selectivity index', size=10)\n",
    "plt.ylim([0,1])\n",
    "\n",
    "bbox_inches = 'tight'\n",
    "#plt.savefig('C:\\\\Users\\\\gammer\\\\Desktop\\\\DATA Surface\\\\LPi Opponency\\\\plots_LPi_ms\\\\\\\n",
    "#FigS6_SplitT4c_LDir_dend_vs_axons_SING.pdf',bbox_inches='tight', dpi=600, transparent=True)\n",
    "\n",
    "plt.show()"
   ]
  },
  {
   "cell_type": "code",
   "execution_count": 19,
   "metadata": {},
   "outputs": [
    {
     "data": {
      "image/png": "[encoded data removed]",
      "text/plain": [
       "<Figure size 57.6x162 with 1 Axes>"
      ]
     },
     "metadata": {},
     "output_type": "display_data"
    }
   ],
   "source": [
    "# Make Scatter Plot of R_deg\n",
    "\n",
    "pos = [0,1]\n",
    "\n",
    "fig = plt.figure(figsize = (0.4*len(pos), 2.25))\n",
    "\n",
    "ax = fig.add_subplot(111)\n",
    "w = 0.6\n",
    "wb = 0.6\n",
    "\n",
    "data = [np.radians(SplitT4c_GC6f_R_deg_dend), np.radians(SplitT4c_GC6f_R_deg_axons)]\n",
    "\n",
    "colors = ['C5', 'C4']\n",
    "\n",
    "ax.axhline(y=0,xmin=0.0001,xmax=0.9999, color='0.05', linestyle=':', linewidth = 1)\n",
    "\n",
    "for j in range (len(data)):\n",
    "    ax.plot([pos[j]-w/2, pos[j]+w/2],[stats.circmean(data[j]),stats.circmean(data[j])],\n",
    "            color=colors[j], linestyle='-', linewidth = 4)\n",
    "    ax.errorbar(pos[j],stats.circmean(data[j]),yerr=[stats.circstd(data[j])], color='k',zorder = 0)    \n",
    "    for i in range(len(data[j])):\n",
    "        ax.scatter(pos[j] + np.random.random(1) * w/2 - w/4, data[j][i], s=25, color=colors[j], alpha=0.5, zorder = 2) \n",
    "   \n",
    "ax.spines[\"top\"].set_visible(False)\n",
    "ax.spines[\"right\"].set_visible(False)\n",
    "ax.spines['left'].set_position(('outward', 7))\n",
    "ax.spines['bottom'].set_position(('outward', 7))\n",
    "ax.set_xticks(pos)\n",
    "ax.set_xticklabels(('dend.','axon'), rotation=45, size=10)\n",
    "ax.set_yticks(np.radians(rotations[::2]))\n",
    "ax.set_yticklabels(rotations[::2])\n",
    "ax.set_ylabel(u'Preferred direction [°]', size=10)\n",
    "plt.ylim([0,np.pi*2])\n",
    "\n",
    "bbox_inches = 'tight'\n",
    "#plt.savefig('C:\\\\Users\\\\gammer\\\\Desktop\\\\DATA Surface\\\\LPi Opponency\\\\plots_LPi_ms\\\\\\\n",
    "#FigS6_SplitT4c_R_deg_dend_vs_axons_Dots.pdf',bbox_inches='tight', dpi=600, transparent=True)\n",
    "\n",
    "plt.show()"
   ]
  },
  {
   "cell_type": "code",
   "execution_count": 20,
   "metadata": {},
   "outputs": [
    {
     "data": {
      "image/png": "[encoded data removed]",
      "text/plain": [
       "<Figure size 57.6x162 with 1 Axes>"
      ]
     },
     "metadata": {},
     "output_type": "display_data"
    }
   ],
   "source": [
    "# Make Scatter Plot of R_deg\n",
    "\n",
    "pos = [0,1]\n",
    "\n",
    "fig = plt.figure(figsize = (0.4*len(pos), 2.25))\n",
    "\n",
    "ax = fig.add_subplot(111)\n",
    "w = 0.6\n",
    "wb = 0.6\n",
    "\n",
    "data = [np.radians(SplitT4c_GC6f_SING_R_deg_dend), np.radians(SplitT4c_GC6f_SING_R_deg_axons)]\n",
    "\n",
    "colors = ['C5', 'C4']\n",
    "\n",
    "ax.axhline(y=0,xmin=0.0001,xmax=0.9999, color='0.05', linestyle=':', linewidth = 1)\n",
    "\n",
    "for j in range (len(data)):\n",
    "    ax.plot([pos[j]-w/2, pos[j]+w/2],[stats.circmean(data[j]),stats.circmean(data[j])],\n",
    "            color=colors[j], linestyle='-', linewidth = 4)\n",
    "    ax.errorbar(pos[j],stats.circmean(data[j]),yerr=[stats.circstd(data[j])], color='k',zorder = 0)    \n",
    "    for i in range(len(data[j])):\n",
    "        ax.scatter(pos[j] + np.random.random(1) * w/2 - w/4, data[j][i], s=25, color=colors[j], alpha=0.5, zorder = 2) \n",
    "   \n",
    "ax.spines[\"top\"].set_visible(False)\n",
    "ax.spines[\"right\"].set_visible(False)\n",
    "ax.spines['left'].set_position(('outward', 7))\n",
    "ax.spines['bottom'].set_position(('outward', 7))\n",
    "ax.set_xticks(pos)\n",
    "ax.set_xticklabels(('dend.','axon'), rotation=45, size=10)\n",
    "ax.set_yticks(np.radians(rotations[::2]))\n",
    "ax.set_yticklabels(rotations[::2])\n",
    "ax.set_ylabel(u'Preferred direction [°]', size=10)\n",
    "plt.ylim([0,np.pi*2])\n",
    "\n",
    "bbox_inches = 'tight'\n",
    "#plt.savefig('C:\\\\Users\\\\gammer\\\\Desktop\\\\DATA Surface\\\\LPi Opponency\\\\plots_LPi_ms\\\\\n",
    "#FigS6_SplitT4c_R_deg_dend_vs_axons_SING.pdf',bbox_inches='tight', dpi=600, transparent=True)\n",
    "\n",
    "plt.show()"
   ]
  },
  {
   "cell_type": "code",
   "execution_count": 21,
   "metadata": {},
   "outputs": [
    {
     "name": "stdout",
     "output_type": "stream",
     "text": [
      "LeveneResult(statistic=0.10530544976773289, pvalue=0.7489230649308931)\n",
      "Ttest_relResult(statistic=-0.7767528857926398, pvalue=0.45528525911295337)\n",
      "LeveneResult(statistic=1.3281207701160749, pvalue=0.26272907498482384)\n",
      "Ttest_relResult(statistic=-1.5854914413292363, pvalue=0.1439378446263366)\n",
      "LeveneResult(statistic=0.054319733903795735, pvalue=0.8180789048547643)\n",
      "Ttest_relResult(statistic=-1.216377462966167, pvalue=0.2517721860820935)\n"
     ]
    }
   ],
   "source": [
    "print(stats.levene(SplitT4c_GC6f_MOI_dend, SplitT4c_GC6f_MOI_axons))\n",
    "print(stats.ttest_rel(SplitT4c_GC6f_MOI_dend, SplitT4c_GC6f_MOI_axons))\n",
    "print(stats.levene(SplitT4c_GC6f_LDir_dend, SplitT4c_GC6f_LDir_axons))\n",
    "print(stats.ttest_rel(SplitT4c_GC6f_LDir_dend, SplitT4c_GC6f_LDir_axons))\n",
    "print(stats.levene(SplitT4c_GC6f_R_deg_dend, SplitT4c_GC6f_R_deg_axons))\n",
    "print(stats.ttest_rel(SplitT4c_GC6f_R_deg_dend, SplitT4c_GC6f_R_deg_axons))"
   ]
  },
  {
   "cell_type": "code",
   "execution_count": 22,
   "metadata": {},
   "outputs": [
    {
     "name": "stdout",
     "output_type": "stream",
     "text": [
      "LeveneResult(statistic=1.3228980330145241, pvalue=0.26697396132623613)\n",
      "Ttest_relResult(statistic=-3.9744707899935734, pvalue=0.004093236715772401)\n",
      "LeveneResult(statistic=0.21234404977601026, pvalue=0.6511378958348297)\n",
      "Ttest_relResult(statistic=-3.205997121201996, pvalue=0.012499217651930046)\n",
      "LeveneResult(statistic=2.7756694754176072, pvalue=0.11516055462330368)\n",
      "Ttest_relResult(statistic=-2.2174490677865673, pvalue=0.057410094142573795)\n"
     ]
    }
   ],
   "source": [
    "print(stats.levene(SplitT4c_GC6f_SING_MOI_dend, SplitT4c_GC6f_SING_MOI_axons))\n",
    "print(stats.ttest_rel(SplitT4c_GC6f_SING_MOI_dend, SplitT4c_GC6f_SING_MOI_axons))\n",
    "print(stats.levene(SplitT4c_GC6f_SING_LDir_dend, SplitT4c_GC6f_SING_LDir_axons))\n",
    "print(stats.ttest_rel(SplitT4c_GC6f_SING_LDir_dend, SplitT4c_GC6f_SING_LDir_axons))\n",
    "print(stats.levene(SplitT4c_GC6f_SING_R_deg_dend, SplitT4c_GC6f_SING_R_deg_axons))\n",
    "print(stats.ttest_rel(SplitT4c_GC6f_SING_R_deg_dend, SplitT4c_GC6f_SING_R_deg_axons))"
   ]
  }
 ],
 "metadata": {
  "kernelspec": {
   "display_name": "Python 2",
   "language": "python",
   "name": "python2"
  },
  "language_info": {
   "codemirror_mode": {
    "name": "ipython",
    "version": 2
   },
   "file_extension": ".py",
   "mimetype": "text/x-python",
   "name": "python",
   "nbconvert_exporter": "python",
   "pygments_lexer": "ipython2",
   "version": "2.7.15"
  }
 },
 "nbformat": 4,
 "nbformat_minor": 2
}
