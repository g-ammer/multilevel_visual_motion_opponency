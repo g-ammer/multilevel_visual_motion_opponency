{
 "cells": [
  {
   "cell_type": "code",
   "execution_count": 1,
   "metadata": {
    "scrolled": true
   },
   "outputs": [],
   "source": [
    "#!/usr/bin/env python3\n",
    "# -*- coding: utf-8 -*-\n",
    "\"\"\"\n",
    "Created on Wed Apr 22 14:56:44 2020\n",
    "@author: aborst\n",
    "\"\"\"\n",
    "\n",
    "import numpy as np\n",
    "import matplotlib.pyplot as plt\n",
    "import blindschleiche_py3 as bs\n",
    "from scipy import ndimage\n",
    "\n",
    "from scipy import stats\n",
    "from scipy.signal import savgol_filter\n",
    "import octopus as oct"
   ]
  },
  {
   "cell_type": "code",
   "execution_count": 2,
   "metadata": {},
   "outputs": [],
   "source": [
    "mylabelsize = 10\n",
    "mylegendsize = 10\n",
    "\n",
    "maxtime = 1000\n",
    "deltat = 10.0\n",
    "myt = np.arange(maxtime) * deltat / maxtime\n",
    "\n",
    "tf = np.zeros(1000)\n",
    "tf[100:400] = 1.0\n",
    "tf[600:900] = -1.0\n",
    " \n",
    "noisefac = 0.0\n",
    "\n",
    "T4d = np.zeros((30, 28, maxtime))\n",
    "T4c = np.zeros((30, 28, maxtime))\n",
    "T5d = np.zeros((30, 28, maxtime))\n",
    "T5c = np.zeros((30, 28, maxtime))\n",
    "\n",
    "T4T5d = np.zeros((6, 6, maxtime))\n",
    "T4T5c = np.zeros((6, 6, maxtime))\n",
    "\n",
    "LPi43 = np.zeros((6, 6, maxtime))\n",
    "LPi34 = np.zeros((6, 6, maxtime))\n",
    "\n",
    "T4T5d_mean = np.zeros(maxtime)\n",
    "T4T5c_mean = np.zeros(maxtime)\n",
    "LPi43_mean = np.zeros(maxtime)\n",
    "LPi34_mean = np.zeros(maxtime)\n",
    "\n",
    "VS = np.zeros(maxtime)\n",
    "Vx = np.zeros(maxtime)\n",
    "\n",
    "VSg_total = np.zeros(maxtime)\n",
    "VSx_total = np.zeros(maxtime)\n",
    "\n",
    "Vm = np.zeros((6, maxtime))\n",
    "Vinp = np.zeros((6, maxtime))"
   ]
  },
  {
   "cell_type": "code",
   "execution_count": 3,
   "metadata": {},
   "outputs": [],
   "source": [
    "# L = LPi, T = T4T5, V = Vertical Cell\n",
    "\n",
    "defaultLTgain = 0.5 # a\n",
    "defaultTLgain = 1.0 # b\n",
    "defaultLLgain = 1.0 # c\n",
    "defaultTVgain = 1.0 # d\n",
    "defaultLVgain = 1.0 # e\n",
    "\n",
    "LVgain = defaultLVgain\n",
    "LLgain = defaultLLgain\n",
    "LTgain = defaultLTgain\n",
    "TVgain = defaultTVgain\n",
    "TLgain = defaultTLgain\n",
    "\n",
    "connM = np.zeros((6, 6))\n",
    "\n",
    "thrld = 0.0\n",
    "\n",
    "tauT = 20.0\n",
    "tauLPi = 20.0\n",
    "tauVS = 20.0\n",
    "\n",
    "tau = np.array([tauT, tauT, tauLPi, tauLPi, tauVS, tauVS])"
   ]
  },
  {
   "cell_type": "code",
   "execution_count": 4,
   "metadata": {},
   "outputs": [],
   "source": [
    "# ------ network calculations ------------------------\n",
    "\n",
    "def set_connM():\n",
    "    \n",
    "    global connM\n",
    "    \n",
    "    connM[0,:] = [0, 0, 0, -LTgain, 0, 0]\n",
    "    connM[1,:] = [0, 0, -LTgain, 0, 0, 0]\n",
    "    connM[2,:] = [TLgain, 0, 0, -LLgain, 0, 0]\n",
    "    connM[3,:] = [0, TLgain, -LLgain, 0, 0, 0]\n",
    "    connM[4,:] = [TVgain, 0, 0, -LVgain, 0, 0]\n",
    "    connM[5,:] = [0, TVgain, -LVgain, 0, 0, 0]\n",
    "    \n",
    "    #print('Circuit reset')\n",
    "    #print(connM)\n",
    "    \n",
    "    \n",
    "def block_feedb():\n",
    "    \n",
    "    global connM\n",
    "    \n",
    "    connM[0, :] = [0, 0, 0, 0, 0, 0]\n",
    "    connM[1, :] = [0, 0, 0, 0, 0, 0]\n",
    "    connM[2, :] = [TLgain, 0, 0, 0, 0, 0]\n",
    "    connM[3, :] = [0, TLgain, 0, 0, 0, 0]\n",
    "    connM[4, :] = [TVgain, 0, 0, -LVgain, 0, 0]\n",
    "    connM[5, :] = [0, TVgain, -LVgain, 0, 0, 0]\n",
    "    \n",
    "    #print('Feedback blocked')\n",
    "    #print(connM)\n",
    "\n",
    "    \n",
    "# Block feedback connections from LPi's to T4/T5    \n",
    "def block_LTgain():\n",
    "    \n",
    "    global connM\n",
    "    \n",
    "    connM[0,:] = [0, 0, 0, 0, 0, 0]\n",
    "    connM[1,:] = [0, 0, 0, 0, 0, 0]\n",
    "    connM[2,:] = [TLgain, 0, 0, -LLgain, 0, 0]\n",
    "    connM[3,:] = [0, TLgain, -LLgain, 0, 0, 0]\n",
    "    connM[4,:] = [TVgain, 0, 0, -LVgain, 0, 0]\n",
    "    connM[5,:] = [0, TVgain, -LVgain, 0, 0, 0]        \n",
    "    \n",
    "    #print('LTgain blocked')\n",
    "    \n",
    "    \n",
    "# Block reciprocal connections between LPi's    \n",
    "def block_LLgain():\n",
    "    \n",
    "    global connM\n",
    "    \n",
    "    connM[0,:] = [0, 0, 0, -LTgain, 0, 0]\n",
    "    connM[1,:] = [0, 0, -LTgain, 0, 0, 0]\n",
    "    connM[2,:] = [TLgain, 0, 0, 0, 0, 0]\n",
    "    connM[3,:] = [0, TLgain, 0, 0, 0, 0]\n",
    "    connM[4,:] = [TVgain, 0, 0, -LVgain, 0, 0]\n",
    "    connM[5,:] = [0, TVgain, -LVgain, 0, 0, 0]   \n",
    "    \n",
    "    #print('LLgain blocked')\n",
    "    \n",
    "\n",
    "    # block connections from LPi's onto VS cells    \n",
    "def block_LVgain():\n",
    "    \n",
    "    global connM\n",
    "    \n",
    "    connM[0,:] = [0, 0, 0, -LTgain, 0, 0]\n",
    "    connM[1,:] = [0, 0, -LTgain, 0, 0, 0]\n",
    "    connM[2,:] = [TLgain, 0, 0, -LLgain, 0, 0]\n",
    "    connM[3,:] = [0, TLgain, -LLgain, 0, 0, 0]\n",
    "    connM[4,:] = [TVgain, 0, 0, 0, 0, 0]\n",
    "    connM[5,:] = [0, TVgain, 0, 0, 0, 0]    \n",
    "    \n",
    "    #print('LVgain blocked')\n",
    "    \n",
    "def block_LPi34_LPi43():\n",
    "    \n",
    "    global connM\n",
    "    \n",
    "    connM[0,:] = [0, 0, 0, -LTgain, 0, 0]\n",
    "    connM[1,:] = [0, 0, -LTgain, 0, 0, 0]\n",
    "    connM[2,:] = [TLgain, 0, 0, 0, 0, 0]\n",
    "    connM[3,:] = [0, TLgain, -LLgain, 0, 0, 0]\n",
    "    connM[4,:] = [TVgain, 0, 0, -LVgain, 0, 0]\n",
    "    connM[5,:] = [0, TVgain, -LVgain, 0, 0, 0]\n",
    "\n",
    "def block_LPi43_LPi34():\n",
    "    \n",
    "    global connM\n",
    "    \n",
    "    connM[0,:] = [0, 0, 0, -LTgain, 0, 0]\n",
    "    connM[1,:] = [0, 0, -LTgain, 0, 0, 0]\n",
    "    connM[2,:] = [TLgain, 0, 0, -LLgain, 0, 0]\n",
    "    connM[3,:] = [0, TLgain, 0, 0, 0, 0]\n",
    "    connM[4,:] = [TVgain, 0, 0, -LVgain, 0, 0]\n",
    "    connM[5,:] = [0, TVgain, -LVgain, 0, 0, 0]    \n",
    "\n",
    "def block_LPi43_T4T5c():\n",
    "    \n",
    "    global connM\n",
    "    \n",
    "    connM[0,:] = [0, 0, 0, -LTgain, 0, 0]\n",
    "    connM[1,:] = [0, 0, 0, 0, 0, 0]\n",
    "    connM[2,:] = [TLgain, 0, 0, -LLgain, 0, 0]\n",
    "    connM[3,:] = [0, TLgain, -LLgain, 0, 0, 0]\n",
    "    connM[4,:] = [TVgain, 0, 0, -LVgain, 0, 0]\n",
    "    connM[5,:] = [0, TVgain, -LVgain, 0, 0, 0]\n",
    "\n",
    "def block_LPi34_T4T5d():\n",
    "    \n",
    "    global connM\n",
    "    \n",
    "    connM[0,:] = [0, 0, 0, 0, 0, 0]\n",
    "    connM[1,:] = [0, 0, -LTgain, 0, 0, 0]\n",
    "    connM[2,:] = [TLgain, 0, 0, -LLgain, 0, 0]\n",
    "    connM[3,:] = [0, TLgain, -LLgain, 0, 0, 0]\n",
    "    connM[4,:] = [TVgain, 0, 0, -LVgain, 0, 0]\n",
    "    connM[5,:] = [0, TVgain, -LVgain, 0, 0, 0] \n",
    "\n",
    "def block_LPi43():\n",
    "    \n",
    "    global connM\n",
    "    \n",
    "    connM[:,2] = 0\n",
    "    \n",
    "    #print('LPi4-3 blocked')\n",
    "    #print(connM)\n",
    "    \n",
    "def block_LPi34():\n",
    "    \n",
    "    global connM\n",
    "    \n",
    "    connM[:, 3] = 0\n",
    "    \n",
    "    #print('LPi3-4 blocked')\n",
    "    #print(connM ) \n",
    "    \n",
    "def block_T4T5c():\n",
    "    \n",
    "    global connM\n",
    "    \n",
    "    connM[:, 1] = 0\n",
    "    \n",
    "    #print('T4T5c blocked')\n",
    "    #print(connM)\n",
    "    \n",
    "def reset_gains():\n",
    "    \n",
    "    global LVgain, LLgain, LTgain, TVgain, TLgain\n",
    "    \n",
    "    LVgain = defaultLVgain\n",
    "    LLgain = defaultLLgain\n",
    "    LTgain = defaultLTgain\n",
    "    TVgain = defaultTVgain\n",
    "    TLgain = defaultTLgain\n",
    "    \n",
    "    set_connM()\n",
    "    \n",
    "set_connM()\n",
    "\n",
    "def small_network():\n",
    "    \n",
    "    for t in range(1,maxtime):\n",
    "\n",
    "        total_input = connM.dot(bs.rect(Vm[:, t - 1], thrld)) + Vinp[:, t-1]\n",
    "        Vm[:,t] = deltat / tau * (total_input - Vm[:, t-1]) + Vm[:, t-1]\n",
    "        \n",
    "    return Vm\n",
    "\n",
    "def test_small_network():\n",
    "    \n",
    "    set_connM()\n",
    "    \n",
    "    Vinp[0] = np.zeros(maxtime)\n",
    "    Vinp[0, 200:800] = 1.0\n",
    "    Vinp[1] = np.zeros(maxtime)\n",
    "    Vinp[1, 200:800] = 1.0\n",
    "    \n",
    "    Vm=small_network()\n",
    "    \n",
    "    plt.plot(Vm[0], label = 'T4T5d')\n",
    "    plt.plot(Vm[3], label = 'LPi34')\n",
    "    plt.legend(loc = 1, frameon = False)\n",
    "    \n",
    "def calc_HRBL(lp, hp):\n",
    "    \n",
    "    noff = 30\n",
    "    DC = 0.02\n",
    "    \n",
    "    A = bs.rect(lp[:, 0:noff-2, :], 0)\n",
    "    B = bs.rect(hp[:, 1:noff-1, :], 0)\n",
    "    C = bs.rect(lp[:, 2:noff-0, :], 0)\n",
    "    \n",
    "    Txa = bs.rect(A * B / (DC + C), DC)\n",
    "    \n",
    "    A = bs.rect(lp[:, 2:noff-0, :], 0)\n",
    "    B = bs.rect(hp[:, 1:noff-1, :], 0)\n",
    "    C = bs.rect(lp[:, 0:noff-2, :], 0)\n",
    "    \n",
    "    Txb = bs.rect(A * B / (DC + C), DC)\n",
    "    \n",
    "    return Txa, Txb\n"
   ]
  },
  {
   "cell_type": "code",
   "execution_count": 5,
   "metadata": {},
   "outputs": [],
   "source": [
    "#  ---------------------------- Large Network ---------------------------------\n",
    "\n",
    "def large_network():\n",
    "    \n",
    "    global T4d,T4c,T5d,T5c,T4T5d_mean,T4T5c_mean,LPi43_mean,LPi34_mean,stimulus,VS,Vx,VSg_total,Vxg_total,gexcVS,ginhVS\n",
    "    \n",
    "    syn_gain = 1\n",
    "    \n",
    "    n = stimulus.shape\n",
    "    maxtime = n[2]\n",
    "    noff = 30\n",
    "        \n",
    "    lptau = 50.0 / deltat\n",
    "    hptau = 250.0 / deltat\n",
    "        \n",
    "    R16 = bs.rebin(stimulus, noff, noff, maxtime)\n",
    "     \n",
    "    interim = bs.highpass(R16, hptau)\n",
    "    interim = interim + 0.1 * R16\n",
    "    L1 = bs.rect(interim, 0)\n",
    "    L2 = bs.rect(-(interim - 0.05), 0)\n",
    "    \n",
    "    ONlp = bs.lowpass(R16, lptau)\n",
    "    ONhp = L1\n",
    "    OFFlp = bs.lowpass(1.0 - R16, lptau)\n",
    "    OFFhp = L2\n",
    "\n",
    "    T4d, T4c = calc_HRBL(ONlp, ONhp)\n",
    "    T5d, T5c = calc_HRBL(OFFlp, OFFhp)\n",
    "    \n",
    "    for i in range(6):\n",
    "        \n",
    "        for j in range(6):\n",
    "            \n",
    "            Vinp[0]  = np.mean(bs.rect(T4d[i*5:i*5+5,j*5:j*5+5,:],0), axis=(0,1))\n",
    "            Vinp[0] += np.mean(bs.rect(T5d[i*5:i*5+5,j*5:j*5+5,:],0), axis=(0,1))\n",
    "            \n",
    "            Vinp[1]  = np.mean(bs.rect(T4c[i*5:i*5+5,j*5:j*5+5,:],0), axis=(0,1))\n",
    "            Vinp[1] += np.mean(bs.rect(T5c[i*5:i*5+5,j*5:j*5+5,:],0), axis=(0,1))\n",
    "            \n",
    "            Vm = small_network()\n",
    "            \n",
    "            T4T5d[i,j] = Vm[0]\n",
    "            T4T5c[i,j] = Vm[1]\n",
    "            LPi43[i,j] = Vm[2]\n",
    "            LPi34[i,j] = Vm[3]\n",
    "            \n",
    "    T4T5d_mean = np.mean(T4T5d,axis = (0,1))\n",
    "    T4T5c_mean = np.mean(T4T5c,axis = (0,1))\n",
    "    LPi43_mean = np.mean(LPi43,axis = (0,1))\n",
    "    LPi34_mean = np.mean(LPi34,axis = (0,1))\n",
    "    \n",
    "    T4T5d_mean = T4T5d_mean - np.mean(T4T5d_mean[0:250])\n",
    "    T4T5c_mean = T4T5c_mean - np.mean(T4T5c_mean[0:250])\n",
    "    LPi43_mean = LPi43_mean - np.mean(LPi43_mean[0:250])\n",
    "    LPi34_mean = LPi34_mean - np.mean(LPi34_mean[0:250]) \n",
    "    \n",
    "    # Calculate conductances of VS inputs\n",
    "    \n",
    "    gexcVS = np.mean(bs.rect(T4T5d, thrld), axis = (0,1)) * connM[4,0] * syn_gain\n",
    "    ginhVS = np.mean(bs.rect(LPi34, thrld), axis = (0,1)) * (-connM[4,3]) * syn_gain\n",
    "    \n",
    "    gexcVx = np.mean(bs.rect(T4T5c, thrld), axis = (0,1)) * connM[5,1] * syn_gain\n",
    "    ginhVx = np.mean(bs.rect(LPi43, thrld), axis = (0,1)) * (-connM[5,2]) * syn_gain\n",
    "        \n",
    "    VSg_total = gexcVS + ginhVS + 1.0\n",
    "    Vxg_total = gexcVx + ginhVx + 1.0\n",
    "    \n",
    "    \n",
    "    ## change ginh factor back to 20\n",
    "    VS = (40.0 * gexcVS - 20.0 * ginhVS) / VSg_total  \n",
    "    Vx = (40.0 * gexcVx - 20.0 * ginhVx) / Vxg_total\n",
    "    \n",
    "    VS = VS - np.mean(VS[0:250])\n",
    "    Vx = Vx - np.mean(Vx[0:250])\n",
    "    \n",
    "    #T4T5d_mean[0:250] = 0\n",
    "    #T4T5c_mean[0:250] = 0\n",
    "    #LPi43_mean[0:250] = 0\n",
    "    #LPi34_mean[0:250] = 0\n",
    "    #VS[0:250] = 0\n",
    "    #Vx[0:250] = 0"
   ]
  },
  {
   "cell_type": "code",
   "execution_count": 6,
   "metadata": {},
   "outputs": [],
   "source": [
    "# -----------------------------------------------------------------------------    \n",
    "# -------------- create visual stimuli, calculate responses -------------------\n",
    "# -----------------------------------------------------------------------------\n",
    "# -------------------sine grating directional tuning --------------------------\n",
    "\n",
    "def calc_singlewave(img_size, new_spat_freq, x, y):\n",
    "    \n",
    "    sinewave = np.sin((np.linspace(0,img_size-1,img_size)-x+y)/img_size*2.0*np.pi*new_spat_freq)\n",
    "    return sinewave\n",
    "    \n",
    "def calc_sine(tf, img_rot, spat_freq, contrast):\n",
    "    \n",
    "    print()\n",
    "    print('rot angle =', img_rot)\n",
    "    \n",
    "    n = tf.shape\n",
    "    maxtime = n[0]\n",
    "    img_size = 180\n",
    "    movie = np.zeros((img_size,img_size,maxtime))\n",
    "    img_rot_rad = img_rot / 360.0 * 2 * np.pi\n",
    "    new_spat_freq = spat_freq * np.cos(img_rot_rad)\n",
    "    spat_wlength = img_size / spat_freq\n",
    "    velo = tf * spat_wlength / 100.0\n",
    "    \n",
    "    #print('Spatial Wavelength =', spat_wlength)\n",
    "    #print('Velocity  (dt=10 msec) =', np.max(np.abs(velo)) * 100, 'deg/s')\n",
    "    #print('Temp Freq (dt=10 msec) =', np.max(np.abs(tf)), 'Hz')\n",
    "    \n",
    "    yshift = np.tan(img_rot_rad)\n",
    "    \n",
    "    new_velo = velo / np.cos(img_rot_rad)\n",
    "    \n",
    "    if img_rot == 0:\n",
    "        image = np.zeros((img_size, img_size))\n",
    "        interim = calc_singlewave(img_size, spat_freq, 0, 0)\n",
    "        for i in range(img_size):\n",
    "            image[i,0::] = interim \n",
    "        for i in range(maxtime):\n",
    "            movie[:,:,i] = np.roll(image, int(sum(velo[0:i])), axis=1)      \n",
    "    else:        \n",
    "        for i in range(maxtime):\n",
    "                for y in range(img_size):\n",
    "                    movie[y,:,i] = calc_singlewave(180,new_spat_freq,int(sum(new_velo[0:i])),int(yshift*y))  \n",
    "                    \n",
    "    movie = movie * contrast * 0.5 + 0.5\n",
    "    \n",
    "    return movie\n",
    "    \n",
    "def store_grating_dir_stimuli_on_disc():\n",
    "    \n",
    "    tf = np.zeros(maxtime)\n",
    "    tf[100:maxtime] = 1.0\n",
    "    \n",
    "    dirname = 'C:/Users/gammer/Desktop/DATA Surface/LPi Opponency/Modelling Axel/'\n",
    "    \n",
    "    for i in range(12):\n",
    "    \n",
    "        angle = i * 30\n",
    "        print(angle,' deg')\n",
    "        \n",
    "        stimulus = calc_sine(tf, angle, 6, 1)\n",
    "        \n",
    "        fname = 'Grating' + np.str(angle) + 'deg.npy'\n",
    "        print(fname)\n",
    "        \n",
    "        np.save(dirname + fname, stimulus)\n",
    "    \n",
    "def calc_dirtuning():\n",
    "    \n",
    "    global stimulus\n",
    "    \n",
    "    nofconditions = 4\n",
    "    nofcells = 6\n",
    "    nofdirs = 12\n",
    "    \n",
    "    dirtuning = np.zeros((nofcells, nofconditions, nofdirs))\n",
    "    \n",
    "    dirname='C:/Users/gammer/Desktop/DATA Surface/LPi Opponency/Modelling Axel/'\n",
    "    \n",
    "    for direction in range(12):\n",
    "        \n",
    "        angle = direction * 30\n",
    "        print(angle,' deg')\n",
    "        fname = 'Grating' + np.str(angle) + 'deg.npy'\n",
    "        stimulus = np.load(dirname + fname)\n",
    "        \n",
    "        for condition in range(nofconditions):\n",
    "            \n",
    "            reset_gains()\n",
    "            \n",
    "            # set condition\n",
    "            \n",
    "            if condition == 0: reset_gains()  \n",
    "            if condition == 1: block_LPi43()\n",
    "            if condition == 2: block_T4T5c()\n",
    "            if condition == 3: block_feedb()\n",
    "        \n",
    "            large_network()\n",
    "        \n",
    "            # assign cells to output array\n",
    "            \n",
    "            dirtuning[0,condition,direction] = np.mean(T4T5d_mean[500:maxtime])-np.mean(T4T5d_mean[50:100])\n",
    "            dirtuning[1,condition,direction] = np.mean(T4T5c_mean[500:maxtime])-np.mean(T4T5c_mean[50:100])\n",
    "            dirtuning[2,condition,direction] = np.mean(LPi43_mean[500:maxtime])-np.mean(LPi43_mean[50:100])\n",
    "            dirtuning[3,condition,direction] = np.mean(LPi34_mean[500:maxtime])-np.mean(LPi34_mean[50:100])\n",
    "            dirtuning[4,condition,direction] = np.mean(VS[500:maxtime])-np.mean(VS[50:100])\n",
    "            dirtuning[5,condition,direction] = np.mean(Vx[500:maxtime])-np.mean(Vx[50:100])\n",
    "        \n",
    "    return dirtuning"
   ]
  },
  {
   "cell_type": "code",
   "execution_count": 7,
   "metadata": {},
   "outputs": [],
   "source": [
    "#  -------------- transparent motion ------------------------------------------\n",
    "    \n",
    "def calc_TM_stimulus(maxtime, velo, index):\n",
    "\n",
    "    nofdots = 200 # total number of dots in whole movie\n",
    "    \n",
    "    PD = [0.0, 12.5, 25.0, 37.5, 50.0, 50.0, 50.0, 50.0, 50.0, 100.0, 0.0]\n",
    "    ND = [50.0, 50.0, 50.0, 50.0, 50.0, 37.5, 25.0, 12.5, 0.0, 0.0, 100.0]\n",
    "    ST = [50.0, 37.5, 25.0, 12.5, 0.0, 12.5, 25.0, 37.5, 50.0, 0.00, 0.00]\n",
    "        \n",
    "    nofPD_dots = int(PD[index] * 0.01 * nofdots)\n",
    "    nofND_dots = int(ND[index] * 0.01 * nofdots)\n",
    "    nofST_dots = int(ST[index] * 0.01 * nofdots)\n",
    "    \n",
    "    #print( 'nof dots: ', nofdots)\n",
    "    #print( 'nof PD d: ', nofPD_dots)\n",
    "    #print( 'nof ND d: ', nofND_dots)\n",
    "    #print( 'nof ST d: ', nofST_dots)\n",
    "    \n",
    "    movie = np.zeros((200,200,maxtime))\n",
    "    \n",
    "    # avoid placing dots on edges by limiting xpos and ypos to bewteen 10 and 190    \n",
    "    \n",
    "    PDxpos = np.random.randint(10,190, size=nofPD_dots)\n",
    "    PDypos = np.random.randint(10,190, size=nofPD_dots)\n",
    "    \n",
    "    NDxpos = np.random.randint(10,190, size=nofND_dots)\n",
    "    NDypos = np.random.randint(10,190, size=nofND_dots)\n",
    "     \n",
    "    STxpos = np.random.randint(10,190, size=nofST_dots)\n",
    "    STypos = np.random.randint(10,190, size=nofST_dots)\n",
    "    \n",
    "    # calc individual patch\n",
    "    \n",
    "    patch = bs.Gauss2D(5,20)\n",
    "    patch = patch / np.max(patch)\n",
    "    \n",
    "    # set up frames\n",
    "    \n",
    "    PDframe = np.zeros((200,200))\n",
    "    NDframe = np.zeros((200,200))\n",
    "    STframe = np.zeros((200,200))\n",
    "    \n",
    "    # put patches on frames\n",
    "    \n",
    "    if nofPD_dots > 0:\n",
    "    \n",
    "        interim = np.zeros((200, 200, nofPD_dots))\n",
    "        for i in range(nofPD_dots):\n",
    "            interim[PDxpos[i]-10:PDxpos[i]+11,PDypos[i]-10:PDypos[i]+11,i] = patch\n",
    "        PDframe = interim.max(2)\n",
    "        \n",
    "    if nofND_dots>0:\n",
    "    \n",
    "        interim = np.zeros((200,200,nofND_dots))\n",
    "        for i in range(nofND_dots):\n",
    "            interim[NDxpos[i]-10:NDxpos[i]+11,NDypos[i]-10:NDypos[i]+11,i] = patch\n",
    "        if nofND_dots>0:\n",
    "            NDframe = interim.max(2)\n",
    "            \n",
    "    if nofST_dots>0:\n",
    "\n",
    "        interim = np.zeros((200,200,nofST_dots))\n",
    "        for i in range(nofST_dots):\n",
    "            interim[STxpos[i]-10:STxpos[i]+11,STypos[i]-10:STypos[i]+11,i] = patch\n",
    "        if nofST_dots>0:\n",
    "            STframe = interim.max(2)\n",
    "    \n",
    "    # calculate movie\n",
    "    \n",
    "    for i in range(maxtime):\n",
    "        \n",
    "        f1 = np.roll(PDframe, int(velo*i))\n",
    "        f2 = np.roll(NDframe, -int(velo*i))\n",
    "        f3 = STframe\n",
    "        z = np.stack((f1,f2,f3))\n",
    "        movie[:,:,i] = z.max(0)\n",
    "        \n",
    "    for i in range(250):   \n",
    "        movie[:,:,i] = movie[:,:,250]\n",
    "        \n",
    "    for i in range(250):   \n",
    "        movie[:,:,i+750] = movie[:,:,750]\n",
    "        \n",
    "    return movie\n",
    "    \n",
    "def store_TM_stimuli_on_disk():\n",
    "    \n",
    "    dirname='C:/Users/gammer/Desktop/DATA Surface/LPi Opponency/Modelling Axel/'\n",
    "\n",
    "    for i in range(9):\n",
    "        \n",
    "        fname = 'TPnoise' + np.str(i) + '.npy'\n",
    "        stim = calc_TM_stimulus(1000, 1, i)\n",
    "        np.save(dirname + fname, stim)\n",
    "\n",
    "def calc_TM_response(nofreps = 1, switch = 2):\n",
    "    \n",
    "    # if switch=1: stimulus is read from file on disk\n",
    "    # if switch=2: stimulus is calculated each time\n",
    "    \n",
    "    global LVgain, LLgain, LTgain, TVgain, TLgain, VS, stimulus\n",
    "    \n",
    "    nofcells = 6\n",
    "    nofconditions = 4\n",
    "    nofstim = 9 # PD, ND, TM\n",
    "    \n",
    "    dirname = 'C:/Users/gammer/Desktop/DATA Surface/LPi Opponency/Modelling Axel/'\n",
    "    fname = ['TPnoise0.npy', 'TPnoise1.npy', 'TPnoise2.npy', 'TPnoise3.npy', 'TPnoise4.npy',\n",
    "             'TPnoise5.npy', 'TPnoise6.npy', 'TPnoise7.npy', 'TPnoise8.npy',]\n",
    "    stim_seq = [0, 1, 2, 3, 4, 5, 6, 7, 8]\n",
    "\n",
    "    TM_response = np.zeros((nofcells, nofconditions, nofstim, maxtime))\n",
    "    \n",
    "    for n in range(nofreps):\n",
    "\n",
    "        for stim in range(9):\n",
    "\n",
    "            if switch == 1:\n",
    "                stimulus = np.load(dirname + fname[stim])\n",
    "                #print('filename=', fname[stim])\n",
    "            if switch == 2:\n",
    "                stimulus = calc_TM_stimulus(maxtime, 1, stim_seq[stim])\n",
    "                #print('calculated new TM stimulus')\n",
    "                \n",
    "            stimulus = stimulus[0:180,0:180]\n",
    "            \n",
    "            for condition in range(nofconditions):\n",
    "            \n",
    "                reset_gains()\n",
    "                \n",
    "                # set condition\n",
    "                \n",
    "                if condition == 0: reset_gains()  \n",
    "                if condition == 1: block_LPi43()\n",
    "                if condition == 2: block_T4T5c()\n",
    "                if condition == 3: block_feedb()\n",
    "                if condition == 4: block_LTgain()\n",
    "                if condition == 5: block_LLgain()\n",
    "                if condition == 6: block_LVgain()\n",
    "                    \n",
    "                    \n",
    "                large_network()\n",
    "\n",
    "                TM_response[0,condition,stim] += T4T5d_mean - np.mean(T4T5d_mean[0:100])\n",
    "                TM_response[1,condition,stim] += T4T5c_mean - np.mean(T4T5c_mean[0:100])\n",
    "                TM_response[2,condition,stim] += LPi43_mean - np.mean(LPi43_mean[0:100])\n",
    "                TM_response[3,condition,stim] += LPi34_mean - np.mean(LPi34_mean[0:100])\n",
    "                TM_response[4,condition,stim] += VS - np.mean(VS[0:100])\n",
    "                TM_response[5,condition,stim] += Vx - np.mean(Vx[0:100])\n",
    "            \n",
    "    TM_response = TM_response / (1.0 * nofreps)\n",
    "    \n",
    "    return TM_response"
   ]
  },
  {
   "cell_type": "code",
   "execution_count": 8,
   "metadata": {},
   "outputs": [],
   "source": [
    "#  -------------- VS conductance change ---------------------------------------\n",
    "\n",
    "def calc_split_motion_stimulus():\n",
    "    \n",
    "    PD_motion = calc_TM_stimulus(1000, 1, 9)\n",
    "    ND_motion = calc_TM_stimulus(1000, 1, 10)\n",
    "    split_motion = 1.0 * PD_motion\n",
    "    split_motion[100:200] = ND_motion[100:200]\n",
    "    \n",
    "    return split_motion\n",
    "\n",
    "def store_split_motion_to_disk():\n",
    "    \n",
    "    dirname = 'C:/Users/gammer/Desktop/DATA Surface/LPi Opponency/Modelling Axel/'\n",
    "    \n",
    "    stim = calc_split_motion_stimulus()\n",
    "    np.save(dirname + 'split_motion.npy', stim)\n"
   ]
  },
  {
   "cell_type": "code",
   "execution_count": 9,
   "metadata": {},
   "outputs": [],
   "source": [
    "def calc_VS_conductance(condition = 6, switch = 2):\n",
    "    \n",
    "    global stimulus\n",
    "    \n",
    "    # if switch=1: stimulus is read from file on disk\n",
    "    # if switch=2: stimulus is calculated each time\n",
    "    \n",
    "    VS_cntrl = np.zeros((10, maxtime))\n",
    "    VS_block = np.zeros((10, maxtime))\n",
    "    g_cntrl = np.zeros((10, maxtime))\n",
    "    g_block = np.zeros((10, maxtime))\n",
    "    ge_cntrl = np.zeros((10, maxtime))\n",
    "    ge_block = np.zeros((10, maxtime))\n",
    "    gi_cntrl = np.zeros((10, maxtime))\n",
    "    gi_block = np.zeros((10, maxtime))\n",
    "    \n",
    "    dirname = 'C:/Users/gammer/Desktop/DATA Surface/LPi Opponency/Modelling Axel'\n",
    "    \n",
    "    fname = ['TPnoise0.npy', 'TPnoise1.npy', 'TPnoise2.npy', 'TPnoise3.npy', 'TPnoise4.npy',\n",
    "             'TPnoise5.npy', 'TPnoise6.npy', 'TPnoise7.npy', 'TPnoise8.npy',]\n",
    "    stim_seq = [0, 1, 2, 3, 4, 5, 6, 7, 8]\n",
    "    \n",
    "    for i in range(10):\n",
    "        \n",
    "        if switch == 1:\n",
    "            stimulus = np.load(dirname + fname[i])\n",
    "            #print(fname[i])\n",
    "        if switch == 2:\n",
    "            if i < 9: stimulus = calc_TM_stimulus(maxtime, 1, stim_seq[i])\n",
    "            if i > 8: stimulus = calc_split_motion_stimulus()\n",
    "            #print('calculated new TM stimulus') \n",
    "            \n",
    "        stimulus = stimulus[10:190, 10:190]\n",
    "        \n",
    "        reset_gains()\n",
    "        \n",
    "        large_network()\n",
    "    \n",
    "        VS_cntrl[i] = 1.0 * VS\n",
    "        g_cntrl[i] = 1.0 * VSg_total #/np.mean(VSg_total[1:100])\n",
    "        ge_cntrl[i] = 1.0 * gexcVS\n",
    "        gi_cntrl[i] = 1.0 * ginhVS\n",
    "                \n",
    "        # set condition\n",
    "        \n",
    "        if condition == 0: reset_gains()  \n",
    "        if condition == 1: block_LPi43()\n",
    "        if condition == 2: block_T4T5c()\n",
    "        if condition == 3: block_feedb()\n",
    "        if condition == 4: block_LTgain()\n",
    "        if condition == 5: block_LLgain()\n",
    "        if condition == 6: block_LVgain()\n",
    "        if condition == 7: block_LPi34()\n",
    "        if condition == 8: block_LPi34_LPi43()\n",
    "        if condition == 9: block_LPi43_LPi34()\n",
    "        if condition == 10: block_LPi43_T4T5c()\n",
    "        if condition == 11: block_LPi34_T4T5d()\n",
    "        \n",
    "        \n",
    "        large_network()\n",
    "        \n",
    "        VS_block[i] = 1.0 * VS\n",
    "        g_block[i] = 1.0 * VSg_total\n",
    "        ge_block[i] = 1.0 * gexcVS\n",
    "        gi_block[i] = 1.0 * ginhVS\n",
    "        \n",
    "    return VS_cntrl, VS_block, g_cntrl, g_block, ge_cntrl, gi_cntrl, ge_block, gi_block\n",
    "        "
   ]
  },
  {
   "cell_type": "code",
   "execution_count": 10,
   "metadata": {},
   "outputs": [],
   "source": [
    "# ----------------------------------------------------------------------------\n",
    "                \n",
    "def calc_all():\n",
    "    \n",
    "    dirtuning = calc_dirtuning()\n",
    "    TM_response = calc_TM_response()\n",
    "    VS_cntrl, VS_block, g_cntrl, g_block = calc_VS_conductance()\n",
    "    \n",
    "    return dirtuning, TM_response, VS_cntrl, VS_block, g_cntrl, g_block, ge_cntrl, gi_cntrl, ge_block, gi_block"
   ]
  },
  {
   "cell_type": "code",
   "execution_count": 11,
   "metadata": {
    "scrolled": false
   },
   "outputs": [],
   "source": [
    "#dirtuning = calc_dirtuning()"
   ]
  },
  {
   "cell_type": "code",
   "execution_count": 12,
   "metadata": {
    "scrolled": false
   },
   "outputs": [],
   "source": [
    "#TM_response = calc_TM_response()"
   ]
  },
  {
   "cell_type": "code",
   "execution_count": 13,
   "metadata": {
    "scrolled": false
   },
   "outputs": [],
   "source": [
    "#VS_cntrl, VS_block, g_cntrl, g_block = calc_VS_conductance()"
   ]
  },
  {
   "cell_type": "code",
   "execution_count": 14,
   "metadata": {
    "scrolled": false
   },
   "outputs": [
    {
     "name": "stdout",
     "output_type": "stream",
     "text": [
      "8641.690561294556\n"
     ]
    }
   ],
   "source": [
    "import time\n",
    "start = time.time()\n",
    "\n",
    "rep = 300 # number of stimulus repetitions\n",
    "\n",
    "VS_cntrl_loop = np.empty([10, 1000, rep])\n",
    "VS_block_loop = np.empty([10, 1000, rep])\n",
    "g_cntrl_loop = np.empty([10, 1000, rep])\n",
    "g_block_loop = np.empty([10, 1000, rep])\n",
    "ge_cntrl_loop = np.empty([10, 1000, rep])\n",
    "ge_block_loop = np.empty([10, 1000, rep])\n",
    "gi_cntrl_loop = np.empty([10, 1000, rep])\n",
    "gi_block_loop = np.empty([10, 1000, rep])\n",
    "\n",
    "for i in range (rep):\n",
    "    VS_cntrl, VS_block, g_cntrl, g_block, ge_cntrl, gi_cntrl, ge_block, gi_block = calc_VS_conductance()\n",
    "    \n",
    "    VS_cntrl_loop[:, :, i] = VS_cntrl\n",
    "    VS_block_loop[:, :, i] = VS_block\n",
    "    g_cntrl_loop[:, :, i] = g_cntrl\n",
    "    g_block_loop[:, :, i] = g_block\n",
    "    ge_cntrl_loop[:, :, i] = ge_cntrl\n",
    "    ge_block_loop[:, :, i] = ge_block\n",
    "    gi_cntrl_loop[:, :, i] = gi_cntrl\n",
    "    gi_block_loop[:, :, i] = gi_block    \n",
    "    \n",
    "end = time.time()\n",
    "print(end - start)"
   ]
  },
  {
   "cell_type": "code",
   "execution_count": 15,
   "metadata": {
    "scrolled": false
   },
   "outputs": [
    {
     "data": {
      "image/png": "[encoded data removed]",
      "text/plain": [
       "<Figure size 432x288 with 1 Axes>"
      ]
     },
     "metadata": {
      "needs_background": "light"
     },
     "output_type": "display_data"
    }
   ],
   "source": [
    "time = np.linspace(0, 10, 1000)\n",
    "for i in range(rep):\n",
    "    plt.plot(time, gi_block_loop[0, :, i])"
   ]
  },
  {
   "cell_type": "code",
   "execution_count": 16,
   "metadata": {},
   "outputs": [],
   "source": [
    "#------------------------------------------------------------------------------    \n",
    "# ----------------------- Plotting --------------------------------------------\n",
    "#------------------------------------------------------------------------------\n",
    "\n",
    "plt.rc('xtick', labelsize = 10)\n",
    "plt.rc('ytick', labelsize = 10)\n",
    "mylabel = ['T4d', 'T4c', 'LPi4-3', 'LPi3-4', 'VS', 'Vx']\n",
    "block_condition = np.array(['Control', 'LPi4-3 block', 'T4T5c block', 'No Feedback'])\n"
   ]
  },
  {
   "cell_type": "code",
   "execution_count": 17,
   "metadata": {},
   "outputs": [],
   "source": [
    "# ----------------- Just for me, no figure in paper --------------------------------\n",
    "\n",
    "def plot_network(condition):\n",
    "    \n",
    "    myt = np.arange(maxtime) * 0.01\n",
    "    cell_color = ['red','purple','orange','blue','magenta','green']\n",
    "    cell_type = ['T4T5c','T4T5d','LPi34','LPi43','Vx','VS']\n",
    "    frame_pos = [1,2,5,6]\n",
    "    mylw = 2\n",
    "    \n",
    "    for j in range(2):\n",
    "    \n",
    "        for i in range(4):\n",
    "            \n",
    "            if i==0: data = np.mean(T4T5c[j*3:j*3+3],axis=(0,1))\n",
    "            if i==1: data = np.mean(T4T5d[j*3:j*3+3],axis=(0,1))\n",
    "            if i==2: data = np.mean(LPi34[j*3:j*3+3],axis=(0,1))\n",
    "            if i==3: data = np.mean(LPi43[j*3:j*3+3],axis=(0,1))\n",
    "\n",
    "            if condition==1: \n",
    "                mycolor='black'\n",
    "                mylabel='fb block'\n",
    "            if condition==2: \n",
    "                mycolor=cell_color[i]\n",
    "                mylabel='control'\n",
    "            \n",
    "            ylow = -1.0\n",
    "            yhigh = 1.5\n",
    "        \n",
    "            plt.subplot(3,4,j*2+frame_pos[i])\n",
    "            \n",
    "            plt.plot(myt,data,color=mycolor,linewidth=mylw,label=mylabel)\n",
    "            plt.yticks(np.arange(3)-1,np.arange(3)-1)\n",
    "            plt.xticks(np.arange(3)*5,'')\n",
    "            plt.title(cell_type[i])\n",
    "            plt.ylim(ylow,yhigh)\n",
    "            plt.xlim(0,10)\n",
    "            \n",
    "    for j in range(2):\n",
    "        \n",
    "        if j==0: data=Vx\n",
    "        if j==1: data=VS\n",
    "        \n",
    "        if condition==1: \n",
    "            mycolor='black'\n",
    "            mylabel='fb block'\n",
    "        if condition==2: \n",
    "            mycolor=cell_color[4+j]\n",
    "            mylabel='control'\n",
    "            \n",
    "        ylow = -4\n",
    "        yhigh = 8\n",
    "    \n",
    "        plt.subplot(3,4,10+j)\n",
    "        \n",
    "        plt.plot(myt,data,color=mycolor,linewidth=mylw,label=mylabel)\n",
    "        plt.title(cell_type[4+j])\n",
    "        plt.ylim(ylow,yhigh)\n",
    "        plt.xticks(np.arange(3)*5,np.arange(3)*5)\n",
    "        plt.xlim(0,10)\n",
    "        plt.legend(loc=1,frameon=False)\n",
    "        plt.xlabel('time [s]')\n",
    "        \n",
    "\n",
    "def compare_network():\n",
    "    \n",
    "    global stimulus\n",
    "    \n",
    "    stimulus = stimulus[10:190,10:190]\n",
    "    \n",
    "    plt.figure(figsize = (10,6))\n",
    "    \n",
    "    block_feedb()\n",
    "    large_network()\n",
    "    plot_network(1)\n",
    "    \n",
    "    reset_gains()\n",
    "    large_network()\n",
    "    plot_network(2)\n",
    "    "
   ]
  },
  {
   "cell_type": "code",
   "execution_count": 18,
   "metadata": {},
   "outputs": [],
   "source": [
    "# Perform baseline subtraction and calculate averages for VS conductances and voltages\n",
    "\n",
    "delta_g_ctrl_loop = np.empty([10, 1000, rep])\n",
    "delta_g_block_loop = np.empty([10, 1000, rep])\n",
    "delta_ge_ctrl_loop = np.empty([10, 1000, rep])\n",
    "delta_ge_block_loop = np.empty([10, 1000, rep])\n",
    "delta_gi_ctrl_loop = np.empty([10, 1000, rep])\n",
    "delta_gi_block_loop = np.empty([10, 1000, rep])\n",
    "\n",
    "delta_VS_ctrl_loop = np.empty([10, 1000, rep])\n",
    "delta_VS_block_loop = np.empty([10, 1000, rep])\n",
    "\n",
    "\n",
    "for i in range(rep):\n",
    "    for j in range(10):\n",
    "        delta_g_ctrl_loop[j, :, i] = g_cntrl_loop[j, :, i] - np.mean(g_cntrl_loop[j, 100:200, i])\n",
    "        delta_g_block_loop[j, :, i] = g_block_loop[j, :, i] - np.mean(g_block_loop[j, 100:200, i])\n",
    "        delta_ge_ctrl_loop[j, :, i] = ge_cntrl_loop[j, :, i] - np.mean(ge_cntrl_loop[j, 100:200, i])\n",
    "        delta_ge_block_loop[j, :, i] = ge_block_loop[j, :, i] - np.mean(ge_block_loop[j, 100:200, i])\n",
    "        delta_gi_ctrl_loop[j, :, i] = gi_cntrl_loop[j, :, i] - np.mean(gi_cntrl_loop[j, 100:200, i])\n",
    "        delta_gi_block_loop[j, :, i] = gi_block_loop[j, :, i] - np.mean(gi_block_loop[j, 100:200, i])\n",
    "        \n",
    "        delta_VS_ctrl_loop[j, :, i] = VS_cntrl_loop[j, :, i] - np.mean(VS_cntrl_loop[j, 100:200, i])\n",
    "        delta_VS_block_loop[j, :, i] = VS_block_loop[j, :, i] - np.mean(VS_block_loop[j, 100:200, i])\n",
    "        \n",
    "delta_g_ctrl_mean = np.mean(delta_g_ctrl_loop[:, 250:750, :], 1)\n",
    "delta_g_block_mean = np.mean(delta_g_block_loop[:, 250:750, :], 1)\n",
    "delta_ge_ctrl_mean = np.mean(delta_ge_ctrl_loop[:, 250:750, :], 1)\n",
    "delta_ge_block_mean = np.mean(delta_ge_block_loop[:, 250:750, :], 1)\n",
    "delta_gi_ctrl_mean = np.mean(delta_gi_ctrl_loop[:, 250:750, :], 1)\n",
    "delta_gi_block_mean = np.mean(delta_gi_block_loop[:, 250:750, :], 1)\n",
    "\n",
    "delta_VS_ctrl_mean = np.mean(delta_VS_ctrl_loop[:, 250:750, :], 1)\n",
    "delta_VS_block_mean = np.mean(delta_VS_block_loop[:, 250:750, :], 1)"
   ]
  },
  {
   "cell_type": "code",
   "execution_count": 19,
   "metadata": {},
   "outputs": [
    {
     "data": {
      "image/png": "[encoded data removed]",
      "text/plain": [
       "<Figure size 1152x360 with 20 Axes>"
      ]
     },
     "metadata": {
      "needs_background": "light"
     },
     "output_type": "display_data"
    }
   ],
   "source": [
    "    ymax_Vm = 20\n",
    "    ymin_DC = -0.15\n",
    "    ymax_DC = 1.15\n",
    "    \n",
    "    fig = plt.figure(figsize = (16, 5))\n",
    "    plt.subplots_adjust(wspace = 0.25)\n",
    "    plt.subplots_adjust(hspace = 0.4)\n",
    "    \n",
    "    for i in range(10):\n",
    "            \n",
    "        ax = fig.add_subplot(2, 10, i+1)\n",
    "        \n",
    "        plt.plot(delta_VS_ctrl_loop[i,:,:], color = 'C2', alpha = 0.01, label = 'Ctrl', linewidth = 0.1)\n",
    "        plt.plot(np.mean(delta_VS_ctrl_loop[i,:,:],1), color = 'C2', label = 'Ctrl', linewidth = 2)\n",
    "        \n",
    "        ax.axhline(y=0,xmin=0.0001,xmax=0.9999, color='0.05', linestyle=':', linewidth = 1)\n",
    "        plt.axvspan(250, 750, facecolor='0.2', alpha=0.2)\n",
    "        \n",
    "        if i == 0: plt.ylabel('VS response [mV]')\n",
    "        if i == 0: plt.yticks([-20, -10, 0, 10, 20], [-20, -10, 0, 10, 20])\n",
    "        else: plt.yticks([-20, -10, 0, 10, 20], [])\n",
    "        \n",
    "        plt.xticks([250, 750], [0, 5])\n",
    "        plt.xlim(50, 900)\n",
    "        plt.ylim(-ymax_Vm, ymax_Vm)\n",
    "        #plt.title(titel[i], fontsize=11)\n",
    "        ax.spines[\"top\"].set_visible(False)\n",
    "        ax.spines[\"right\"].set_visible(False)\n",
    "        ax.spines['left'].set_position(('outward', 7))\n",
    "        ax.spines['bottom'].set_position(('outward', 7))\n",
    "        \n",
    "        \n",
    "        ax = fig.add_subplot(2, 10, i+11)\n",
    "        \n",
    "        #plt.plot(delta_g_ctrl_loop[i,:,:], color = 'C2', alpha = 0.05, label = 'Ctrl', linewidth = 0.5)\n",
    "        plt.plot(np.mean(delta_ge_ctrl_loop[i,:,:],1), color = 'C3', label = 'Ctrl', linewidth = 1.5)\n",
    "        plt.plot(np.mean(delta_gi_ctrl_loop[i,:,:],1), color = 'C0', label = 'Ctrl', linewidth = 1.5)\n",
    "        plt.plot(np.mean(delta_g_ctrl_loop[i,:,:],1), color = 'C2', label = 'Ctrl', linewidth = 1.5)\n",
    "      \n",
    "        ax.axhline(y=0,xmin=0.0001,xmax=0.9999, color='0.05', linestyle=':', linewidth = 1)\n",
    "        plt.axvspan(250, 750, facecolor='0.2', alpha=0.2)\n",
    "        \n",
    "        if i == 0: plt.ylabel(r'$\\Delta$' + ' VS conductance [a.u.]')\n",
    "        if i == 0: plt.yticks([0, 0.5, 1, 1.5], [0, 0.5, 1, 1.5])\n",
    "        else: plt.yticks([0, 0.5, 1, 1.5], [])\n",
    "        \n",
    "        plt.xticks([250, 750], [0, 5])\n",
    "        plt.xlabel('Time [s]')\n",
    "        plt.xlim(50, 900)\n",
    "        plt.ylim(ymin_DC,ymax_DC)\n",
    "        ax.spines[\"top\"].set_visible(False)\n",
    "        ax.spines[\"right\"].set_visible(False)\n",
    "        ax.spines['left'].set_position(('outward', 7))\n",
    "        ax.spines['bottom'].set_position(('outward', 7))\n",
    "        \n",
    "bbox_inches = 'tight'\n",
    "#plt.savefig('C:\\\\Users\\\\gammer\\\\Desktop\\\\DATA Surface\\\\LPi Opponency\\\\plots_LPi_ms\\\\Modelling\\\\\\\n",
    "#FigS7_Coherences_traces_VS_ctrl_300rep.pdf',bbox_inches='tight', dpi=600, transparent=True)\n",
    "plt.show()"
   ]
  },
  {
   "cell_type": "code",
   "execution_count": 20,
   "metadata": {},
   "outputs": [
    {
     "data": {
      "image/png": "[encoded data removed]",
      "text/plain": [
       "<Figure size 1152x360 with 20 Axes>"
      ]
     },
     "metadata": {
      "needs_background": "light"
     },
     "output_type": "display_data"
    }
   ],
   "source": [
    "    ymax_Vm = 20\n",
    "    ymin_DC = -0.15\n",
    "    ymax_DC = 1.15\n",
    "    \n",
    "    fig = plt.figure(figsize = (16, 5))\n",
    "    plt.subplots_adjust(wspace = 0.25)\n",
    "    plt.subplots_adjust(hspace = 0.4)\n",
    "    \n",
    "    for i in range(10):\n",
    "            \n",
    "        ax = fig.add_subplot(2, 10, i+1)\n",
    "        \n",
    "        plt.plot(delta_VS_block_loop[i,:,:], color = 'C3', alpha = 0.01, label = 'block', linewidth = 0.1)\n",
    "        plt.plot(np.mean(delta_VS_block_loop[i,:,:],1), color = 'C3', label = 'block', linewidth = 2)\n",
    "        \n",
    "        ax.axhline(y=0,xmin=0.0001,xmax=0.9999, color='0.05', linestyle=':', linewidth = 1)\n",
    "        plt.axvspan(250, 750, facecolor='0.2', alpha=0.2)\n",
    "        \n",
    "        if i == 0: plt.ylabel('VS response [mV]')\n",
    "        if i == 0: plt.yticks([-20, -10, 0, 10, 20], [-20, -10, 0, 10, 20])\n",
    "        else: plt.yticks([-20, -10, 0, 10, 20], [])\n",
    "        \n",
    "        plt.xticks([250, 750], [0, 5])\n",
    "        plt.xlim(50, 900)\n",
    "        plt.ylim(-ymax_Vm, ymax_Vm)\n",
    "        #plt.title(titel[i], fontsize=11)\n",
    "        ax.spines[\"top\"].set_visible(False)\n",
    "        ax.spines[\"right\"].set_visible(False)\n",
    "        ax.spines['left'].set_position(('outward', 7))\n",
    "        ax.spines['bottom'].set_position(('outward', 7))\n",
    "        \n",
    "        \n",
    "        ax = fig.add_subplot(2, 10, i+11)\n",
    "        \n",
    "        #plt.plot(delta_g_block_loop[i,:,:], color = 'C2', alpha = 0.05, label = 'block', linewidth = 0.5)\n",
    "        plt.plot(np.mean(delta_ge_block_loop[i,:,:],1), color = 'C3', label = 'block', linewidth = 1.5)\n",
    "        plt.plot(np.mean(delta_gi_block_loop[i,:,:],1), color = 'C0', label = 'block', linewidth = 1.5)\n",
    "        plt.plot(np.mean(delta_g_block_loop[i,:,:],1), color = 'C2', label = 'block', linewidth = 1.5)\n",
    "      \n",
    "        ax.axhline(y=0,xmin=0.0001,xmax=0.9999, color='0.05', linestyle=':', linewidth = 1)\n",
    "        plt.axvspan(250, 750, facecolor='0.2', alpha=0.2)\n",
    "        \n",
    "        if i == 0: plt.ylabel(r'$\\Delta$' + ' VS conductance [a.u.]')\n",
    "        if i == 0: plt.yticks([0, 0.5, 1, 1.5], [0, 0.5, 1, 1.5])\n",
    "        else: plt.yticks([0, 0.5, 1, 1.5], [])\n",
    "        \n",
    "        plt.xticks([250, 750], [0, 5])\n",
    "        plt.xlabel('Time [s]')\n",
    "        plt.xlim(50, 900)\n",
    "        plt.ylim(ymin_DC,ymax_DC)\n",
    "        ax.spines[\"top\"].set_visible(False)\n",
    "        ax.spines[\"right\"].set_visible(False)\n",
    "        ax.spines['left'].set_position(('outward', 7))\n",
    "        ax.spines['bottom'].set_position(('outward', 7))\n",
    "        \n",
    "bbox_inches = 'tight'\n",
    "plt.savefig('C:\\\\Users\\\\gammer\\\\Desktop\\\\DATA Surface\\\\LPi Opponency\\\\plots_LPi_ms\\\\Modelling\\\\\\\n",
    "FigS7_Coherence_traces_VS_LV_block_300rep.pdf',bbox_inches='tight', dpi=600, transparent=True)\n",
    "plt.show()"
   ]
  },
  {
   "cell_type": "code",
   "execution_count": 21,
   "metadata": {},
   "outputs": [
    {
     "data": {
      "image/png": "[encoded data removed]",
      "text/plain": [
       "<Figure size 720x165.6 with 3 Axes>"
      ]
     },
     "metadata": {
      "needs_background": "light"
     },
     "output_type": "display_data"
    }
   ],
   "source": [
    "coh = np.array([-0.5, -0.375, -0.25, -0.125, 0, 0.125, 0.25, 0.375, 0.5])*2\n",
    "\n",
    "title = ['g (exc)', 'g (inh)', 'g (total)']\n",
    "data_ctrl = [delta_ge_ctrl_mean, delta_gi_ctrl_mean, delta_g_ctrl_mean]\n",
    "data_block = [delta_ge_block_mean, delta_gi_block_mean, delta_g_block_mean]\n",
    "\n",
    "fig = plt.figure(figsize = (10, 2.3))\n",
    "plt.subplots_adjust(wspace = 0.5)\n",
    "\n",
    "for i in range (len(data_ctrl)):\n",
    "    \n",
    "    ax = fig.add_subplot(1, 3, i+1) #PLOT coherence tuning\n",
    "\n",
    "    ax.axhline(y=0,xmin=0.0001,xmax=0.9999, color='0.05', linestyle=':', linewidth = 1)\n",
    "    plt.plot(coh, np.mean(data_ctrl[i],1)[0:9], linewidth = 2.5, color = '0.35')\n",
    "    plt.errorbar(coh, np.mean(data_ctrl[i],1)[0:9], yerr = stats.sem(data_ctrl[i],1)[0:9],\n",
    "                 linewidth = 2.5, color = '0.35')\n",
    "\n",
    "    ax.axhline(y=0,xmin=0.0001,xmax=0.9999, color='0.05', linestyle=':', linewidth = 1)\n",
    "    plt.plot(coh, np.mean(data_block[i],1)[0:9], linewidth = 2.5, color = 'C3')\n",
    "    plt.errorbar(coh, np.mean(data_block[i],1)[0:9], yerr = stats.sem(data_block[i],1)[0:9],\n",
    "                 linewidth = 2.5, color = 'C3')\n",
    "\n",
    "    ax.spines[\"top\"].set_visible(False)\n",
    "    ax.spines[\"right\"].set_visible(False)\n",
    "    ax.spines['left'].set_position(('outward', 7))\n",
    "    ax.spines['bottom'].set_position(('outward', 7))\n",
    "    #for axis in ['top','bottom','left','right']:\n",
    "    #  ax.spines[axis].set_linewidth(0.5)\n",
    "    ax.set_xlabel('Coherence', fontsize = 10)\n",
    "    ax.set_ylabel(r'$\\Delta$' + ' VS conductance [a.u.]', fontsize = 10)\n",
    "    plt.ylim([-0.1,0.8])\n",
    "    plt.title(title[i], fontsize = 10)\n",
    "    \n",
    "plt.savefig('C:\\\\Users\\\\gammer\\\\Desktop\\\\DATA Surface\\\\LPi Opponency\\\\plots_LPi_ms\\\\Modelling\\\\\\\n",
    "FigS7_Coherence_tuning_VS_LV_block_ge_gi_300rep.pdf',bbox_inches='tight', dpi=600, transparent=True)\n",
    "\n",
    "bbox_inches = 'tight'\n",
    "plt.show()"
   ]
  },
  {
   "cell_type": "code",
   "execution_count": 22,
   "metadata": {},
   "outputs": [
    {
     "data": {
      "image/png": "[encoded data removed]",
      "text/plain": [
       "<Figure size 165.6x165.6 with 1 Axes>"
      ]
     },
     "metadata": {
      "needs_background": "light"
     },
     "output_type": "display_data"
    }
   ],
   "source": [
    "coh = np.array([-0.5, -0.375, -0.25, -0.125, 0, 0.125, 0.25, 0.375, 0.5])*2\n",
    "\n",
    "fig = plt.figure(figsize = (2.3, 2.3))\n",
    "\n",
    "ax = fig.add_subplot(111) #PLOT coherence tuning\n",
    "\n",
    "ax.axhline(y=0,xmin=0.0001,xmax=0.9999, color='0.05', linestyle=':', linewidth = 1)\n",
    "plt.plot(coh, np.mean(delta_g_ctrl_mean,1)[0:9], linewidth = 2.5, color = '0.35')\n",
    "plt.errorbar(coh, np.mean(delta_g_ctrl_mean,1)[0:9], yerr = stats.sem(delta_g_ctrl_mean,1)[0:9],\n",
    "            linewidth = 2.5, color = '0.35')\n",
    "\n",
    "ax.axhline(y=0,xmin=0.0001,xmax=0.9999, color='0.05', linestyle=':', linewidth = 1)\n",
    "plt.plot(coh, np.mean(delta_g_block_mean,1)[0:9], linewidth = 2.5, color = 'C3')\n",
    "plt.errorbar(coh, np.mean(delta_g_block_mean,1)[0:9], yerr = stats.sem(delta_g_block_mean,1)[0:9],\n",
    "            linewidth = 2.5, color = 'C3')\n",
    "\n",
    "ax.spines[\"top\"].set_visible(False)\n",
    "ax.spines[\"right\"].set_visible(False)\n",
    "ax.spines['left'].set_position(('outward', 7))\n",
    "ax.spines['bottom'].set_position(('outward', 7))\n",
    "ax.set_xlabel('Coherence', fontsize = 10)\n",
    "ax.set_ylabel(r'$\\Delta$' + ' conductance [a.u.]', fontsize = 10)\n",
    "plt.ylim([0,0.8])\n",
    "\n",
    "plt.savefig('C:\\\\Users\\\\gammer\\\\Desktop\\\\DATA Surface\\\\LPi Opponency\\\\plots_LPi_ms\\\\Modelling\\\\\\\n",
    "FigS7_Coherence_tuning_VS_LV_block_mV_only_total_300rep.pdf',bbox_inches='tight', dpi=600, transparent=True)\n",
    "\n",
    "bbox_inches = 'tight'\n",
    "plt.show()"
   ]
  },
  {
   "cell_type": "code",
   "execution_count": 23,
   "metadata": {},
   "outputs": [],
   "source": [
    "delta_ge_ctrl_min_block = delta_ge_ctrl_mean - delta_ge_block_mean\n",
    "delta_gi_ctrl_min_block = delta_gi_ctrl_mean - delta_gi_block_mean\n",
    "delta_g_ctrl_min_block = delta_g_ctrl_mean - delta_g_block_mean"
   ]
  },
  {
   "cell_type": "code",
   "execution_count": 28,
   "metadata": {
    "scrolled": false
   },
   "outputs": [
    {
     "data": {
      "image/png": "[encoded data removed]",
      "text/plain": [
       "<Figure size 720x165.6 with 3 Axes>"
      ]
     },
     "metadata": {
      "needs_background": "light"
     },
     "output_type": "display_data"
    }
   ],
   "source": [
    "coh = np.array([-0.5, -0.375, -0.25, -0.125, 0, 0.125, 0.25, 0.375, 0.5])*2\n",
    "\n",
    "title = ['g (exc)', 'g (inh)', 'g (total)']\n",
    "data = [delta_ge_ctrl_min_block, delta_gi_ctrl_min_block, delta_g_ctrl_min_block]\n",
    "color = ['C3', 'C0', 'C2']\n",
    "\n",
    "fig = plt.figure(figsize = (10, 2.3))\n",
    "plt.subplots_adjust(wspace = 0.5)\n",
    "\n",
    "for i in range (len(data)):\n",
    "    \n",
    "    ax = fig.add_subplot(1, 3, i+1) #PLOT coherence tuning\n",
    "\n",
    "    ax.axhline(y=0,xmin=0.0001,xmax=0.9999, color='0.05', linestyle=':', linewidth = 1)\n",
    "    plt.plot(coh, np.mean(data[i],1)[0:9], linewidth = 2.5, color = color[i])\n",
    "    plt.errorbar(coh, np.mean(data[i],1)[0:9], yerr = stats.sem(data[i],1)[0:9],\n",
    "             linewidth = 2.5, color = color[i])\n",
    "    \n",
    "    ax.spines[\"top\"].set_visible(False)\n",
    "    ax.spines[\"right\"].set_visible(False)\n",
    "    ax.spines['left'].set_position(('outward', 7))\n",
    "    ax.spines['bottom'].set_position(('outward', 7))\n",
    "    #for axis in ['top','bottom','left','right']:\n",
    "    #  ax.spines[axis].set_linewidth(0.5)\n",
    "    ax.set_xlabel('Coherence', fontsize = 10)\n",
    "    ax.set_ylabel(r'$\\Delta$' + ' VS conductance [a.u.]', fontsize = 10)\n",
    "    plt.ylim([-0.2,0.6])\n",
    "    plt.title(title[i], size=10)\n",
    "    \n",
    "plt.savefig('C:\\\\Users\\\\gammer\\\\Desktop\\\\DATA Surface\\\\LPi Opponency\\\\plots_LPi_ms\\\\Modelling\\\\\\\n",
    "FigS7_Coherence_tuning_VS_LV_block_minus_ctrl_300rep.pdf',bbox_inches='tight', dpi=600, transparent=True)\n",
    "\n",
    "bbox_inches = 'tight'\n",
    "plt.show()"
   ]
  },
  {
   "cell_type": "code",
   "execution_count": 30,
   "metadata": {},
   "outputs": [
    {
     "data": {
      "image/png": "[encoded data removed]",
      "text/plain": [
       "<Figure size 165.6x165.6 with 1 Axes>"
      ]
     },
     "metadata": {
      "needs_background": "light"
     },
     "output_type": "display_data"
    }
   ],
   "source": [
    "coh = np.array([-0.5, -0.375, -0.25, -0.125, 0, 0.125, 0.25, 0.375, 0.5])*2\n",
    "\n",
    "fig = plt.figure(figsize = (2.3, 2.3))\n",
    "\n",
    "ax = fig.add_subplot(111) #PLOT coherence tuning\n",
    "\n",
    "ax.axhline(y=0,xmin=0.0001,xmax=0.9999, color='0.05', linestyle=':', linewidth = 1)\n",
    "plt.plot(coh, np.mean(delta_g_ctrl_min_block,1)[0:9], linewidth = 2.5, color = 'C2')\n",
    "plt.errorbar(coh, np.mean(delta_g_ctrl_min_block,1)[0:9], yerr = stats.sem(delta_g_ctrl_min_block,1)[0:9],\n",
    "        linewidth = 2.5, color = color[i])\n",
    "\n",
    "ax.spines[\"top\"].set_visible(False)\n",
    "ax.spines[\"right\"].set_visible(False)\n",
    "ax.spines['left'].set_position(('outward', 7))\n",
    "ax.spines['bottom'].set_position(('outward', 7))\n",
    "#for axis in ['top','bottom','left','right']:\n",
    "#  ax.spines[axis].set_linewidth(0.5)\n",
    "ax.set_xlabel('Coherence', fontsize = 10)\n",
    "ax.set_ylabel(r'$\\Delta$' + ' conductance [a.u.]', fontsize = 10)\n",
    "plt.ylim([-0.2,0.6])\n",
    "\n",
    "plt.savefig('C:\\\\Users\\\\gammer\\\\Desktop\\\\DATA Surface\\\\LPi Opponency\\\\plots_LPi_ms\\\\Modelling\\\\\\\n",
    "FigS7_Coherence_tuning_VS_LV_block_minus_ctrl_only_total_300rep.pdf',bbox_inches='tight', dpi=600, transparent=True)\n",
    "\n",
    "bbox_inches = 'tight'\n",
    "plt.show()"
   ]
  },
  {
   "cell_type": "code",
   "execution_count": 31,
   "metadata": {},
   "outputs": [
    {
     "data": {
      "image/png": "[encoded data removed]",
      "text/plain": [
       "<Figure size 165.6x165.6 with 1 Axes>"
      ]
     },
     "metadata": {
      "needs_background": "light"
     },
     "output_type": "display_data"
    }
   ],
   "source": [
    "coh = np.array([-0.5, -0.375, -0.25, -0.125, 0, 0.125, 0.25, 0.375, 0.5])*2\n",
    "\n",
    "fig = plt.figure(figsize = (2.3, 2.3))\n",
    "\n",
    "ax = fig.add_subplot(111) #PLOT coherence tuning\n",
    "\n",
    "ax.axhline(y=0,xmin=0.0001,xmax=0.9999, color='0.05', linestyle=':', linewidth = 1)\n",
    "plt.plot(coh, np.mean(delta_ge_ctrl_mean,1)[0:9], linewidth = 2.5, color = 'C3')\n",
    "plt.errorbar(coh, np.mean(delta_ge_ctrl_mean,1)[0:9], yerr = stats.sem(delta_ge_ctrl_mean,1)[0:9],\n",
    "             linewidth = 2.5, color = 'C3')\n",
    "\n",
    "ax.axhline(y=0,xmin=0.0001,xmax=0.9999, color='0.05', linestyle=':', linewidth = 1)\n",
    "plt.plot(coh, np.mean(delta_gi_ctrl_mean,1)[0:9], linewidth = 2.5, color = 'C0')\n",
    "plt.errorbar(coh, np.mean(delta_gi_ctrl_mean,1)[0:9], yerr = stats.sem(delta_gi_ctrl_mean,1)[0:9],\n",
    "             linewidth = 2.5, color = 'C0')\n",
    "\n",
    "ax.axhline(y=0,xmin=0.0001,xmax=0.9999, color='0.05', linestyle=':', linewidth = 1)\n",
    "plt.plot(coh, np.mean(delta_g_ctrl_mean,1)[0:9], linewidth = 2.5, color = '0.35')\n",
    "plt.errorbar(coh, np.mean(delta_g_ctrl_mean,1)[0:9], yerr = stats.sem(delta_g_ctrl_mean,1)[0:9],\n",
    "             linewidth = 2.5, color = '0.5')\n",
    "\n",
    "ax.spines[\"top\"].set_visible(False)\n",
    "ax.spines[\"right\"].set_visible(False)\n",
    "ax.spines['left'].set_position(('outward', 7))\n",
    "ax.spines['bottom'].set_position(('outward', 7))\n",
    "#for axis in ['top','bottom','left','right']:\n",
    "#  ax.spines[axis].set_linewidth(0.5)\n",
    "ax.set_xlabel('Coherence', fontsize = 10)\n",
    "ax.set_ylabel(r'$\\Delta$' + ' VS conductance [a.u.]', fontsize = 10)\n",
    "plt.ylim([-0.1,0.8])\n",
    "\n",
    "#plt.savefig('C:\\\\Users\\\\gammer\\\\Desktop\\\\DATA Surface\\\\LPi Opponency\\\\plots_LPi_ms\\\\\\\n",
    "#FigS7_Coherence_tuning_VS_LPi34_block_g.pdf',bbox_inches='tight', dpi=600, transparent=True)\n",
    "\n",
    "bbox_inches = 'tight'\n",
    "plt.show()"
   ]
  },
  {
   "cell_type": "code",
   "execution_count": 32,
   "metadata": {},
   "outputs": [
    {
     "data": {
      "image/png": "[encoded data removed]",
      "text/plain": [
       "<Figure size 165.6x165.6 with 1 Axes>"
      ]
     },
     "metadata": {
      "needs_background": "light"
     },
     "output_type": "display_data"
    }
   ],
   "source": [
    "coh = np.array([-0.5, -0.375, -0.25, -0.125, 0, 0.125, 0.25, 0.375, 0.5])*2\n",
    "\n",
    "fig = plt.figure(figsize = (2.3, 2.3))\n",
    "\n",
    "ax = fig.add_subplot(111) #PLOT coherence tuning\n",
    "\n",
    "ax.axhline(y=0,xmin=0.0001,xmax=0.9999, color='0.05', linestyle=':', linewidth = 1)\n",
    "plt.plot(coh, np.mean(delta_ge_block_mean,1)[0:9], linewidth = 2.5, color = 'C3')\n",
    "plt.errorbar(coh, np.mean(delta_ge_block_mean,1)[0:9], yerr = stats.sem(delta_ge_block_mean,1)[0:9],\n",
    "             linewidth = 2.5, color = 'C3')\n",
    "\n",
    "ax.axhline(y=0,xmin=0.0001,xmax=0.9999, color='0.05', linestyle=':', linewidth = 1)\n",
    "plt.plot(coh, np.mean(delta_gi_block_mean,1)[0:9], linewidth = 2.5, color = 'C0')\n",
    "plt.errorbar(coh, np.mean(delta_gi_block_mean,1)[0:9], yerr = stats.sem(delta_gi_block_mean,1)[0:9],\n",
    "             linewidth = 2.5, color = 'C0')\n",
    "\n",
    "ax.axhline(y=0,xmin=0.0001,xmax=0.9999, color='0.05', linestyle=':', linewidth = 1)\n",
    "plt.plot(coh, np.mean(delta_g_block_mean,1)[0:9], linewidth = 2.5, color = '0.35')\n",
    "plt.errorbar(coh, np.mean(delta_g_block_mean,1)[0:9], yerr = stats.sem(delta_g_block_mean,1)[0:9],\n",
    "             linewidth = 2.5, color = '0.5')\n",
    "\n",
    "ax.spines[\"top\"].set_visible(False)\n",
    "ax.spines[\"right\"].set_visible(False)\n",
    "ax.spines['left'].set_position(('outward', 7))\n",
    "ax.spines['bottom'].set_position(('outward', 7))\n",
    "#for axis in ['top','bottom','left','right']:\n",
    "#  ax.spines[axis].set_linewidth(0.5)\n",
    "ax.set_xlabel('Coherence', fontsize = 10)\n",
    "ax.set_ylabel(r'$\\Delta$' + ' VS conductance [a.u.]', fontsize = 10)\n",
    "plt.ylim([-0.1,0.8])\n",
    "\n",
    "#plt.savefig('C:\\\\Users\\\\gammer\\\\Desktop\\\\DATA Surface\\\\LPi Opponency\\\\plots_LPi_ms\\\\\\\n",
    "#FigS7_Coherence_tuning_VS_LPi34_block_g.pdf',bbox_inches='tight', dpi=600, transparent=True)\n",
    "\n",
    "bbox_inches = 'tight'\n",
    "plt.show()"
   ]
  },
  {
   "cell_type": "code",
   "execution_count": 33,
   "metadata": {},
   "outputs": [],
   "source": [
    "# Save conductance mean data\n",
    "\n",
    "np.save('delta_ge_LV_ctrl_300rep.npy', delta_ge_ctrl_mean)\n",
    "np.save('delta_gi_LV_ctrl_300rep.npy', delta_gi_ctrl_mean)\n",
    "np.save('delta_g_LV_ctrl_300rep.npy', delta_g_ctrl_mean) \n",
    "np.save('delta_ge_LV_block_300rep.npy', delta_ge_block_mean)\n",
    "np.save('delta_gi_LV_block_300rep.npy', delta_gi_block_mean)\n",
    "np.save('delta_g_LV_block_300rep.npy', delta_g_block_mean) "
   ]
  },
  {
   "cell_type": "code",
   "execution_count": 34,
   "metadata": {
    "scrolled": false
   },
   "outputs": [
    {
     "data": {
      "image/png": "[encoded data removed]",
      "text/plain": [
       "<Figure size 165.6x165.6 with 1 Axes>"
      ]
     },
     "metadata": {
      "needs_background": "light"
     },
     "output_type": "display_data"
    }
   ],
   "source": [
    "coh = np.array([-0.5, -0.375, -0.25, -0.125, 0, 0.125, 0.25, 0.375, 0.5])*2\n",
    "\n",
    "fig = plt.figure(figsize = (2.3, 2.3))\n",
    "\n",
    "ax = fig.add_subplot(111) #PLOT coherence tuning\n",
    "\n",
    "ax.axhline(y=0,xmin=0.0001,xmax=0.9999, color='0.05', linestyle=':', linewidth = 1)\n",
    "plt.plot(coh, np.mean(delta_VS_ctrl_mean,1)[0:9], linewidth = 2.5, color = '0.35')\n",
    "plt.errorbar(coh, np.mean(delta_VS_ctrl_mean,1)[0:9], yerr = stats.sem(delta_VS_ctrl_mean,1)[0:9],\n",
    "             linewidth = 2.5, color = '0.35')\n",
    "\n",
    "plt.plot(coh, np.mean(delta_VS_block_mean,1)[0:9], linewidth = 2.5, color = 'C3')\n",
    "plt.errorbar(coh, np.mean(delta_VS_block_mean,1)[0:9], yerr = stats.sem(delta_VS_block_mean,1)[0:9],\n",
    "             linewidth = 2.5, color = 'C3')\n",
    "\n",
    "\n",
    "ax.spines[\"top\"].set_visible(False)\n",
    "ax.spines[\"right\"].set_visible(False)\n",
    "ax.spines['left'].set_position(('outward', 7))\n",
    "ax.spines['bottom'].set_position(('outward', 7))\n",
    "#for axis in ['top','bottom','left','right']:\n",
    "#  ax.spines[axis].set_linewidth(0.5)\n",
    "ax.set_xlabel('Coherence', fontsize = 10)\n",
    "ax.set_ylabel('Response [mV]', fontsize = 10)\n",
    "#xticks = np.array([-0.5, -0.25, 0, 0.25, 0.5])\n",
    "#ax.set_xticklabels([-0.5, -0.25, 0, 0.25, 0.5], size=10)\n",
    "plt.ylim([-10,12.5])\n",
    "#ax.set_xticks(xticks)\n",
    "#ax.set_yticks([-5, 0, 5])\n",
    "#ax.set_yticklabels([-5, 0, 5], size=10)\n",
    "\n",
    "plt.savefig('C:\\\\Users\\\\gammer\\\\Desktop\\\\DATA Surface\\\\LPi Opponency\\\\plots_LPi_ms\\\\Modelling\\\\\\\n",
    "FigS7_Coherence_tuning_VS_LV_block_mV_300rep.pdf',bbox_inches='tight', dpi=600, transparent=True)\n",
    "\n",
    "bbox_inches = 'tight'\n",
    "plt.show()"
   ]
  },
  {
   "cell_type": "code",
   "execution_count": 35,
   "metadata": {},
   "outputs": [],
   "source": [
    "delta_VS_ctrl_min_block = delta_VS_ctrl_mean - delta_VS_block_mean"
   ]
  },
  {
   "cell_type": "code",
   "execution_count": 40,
   "metadata": {},
   "outputs": [
    {
     "data": {
      "image/png": "[encoded data removed]",
      "text/plain": [
       "<Figure size 165.6x165.6 with 1 Axes>"
      ]
     },
     "metadata": {
      "needs_background": "light"
     },
     "output_type": "display_data"
    }
   ],
   "source": [
    "coh = np.array([-0.5, -0.375, -0.25, -0.125, 0, 0.125, 0.25, 0.375, 0.5])*2\n",
    "\n",
    "fig = plt.figure(figsize = (2.3, 2.3))\n",
    "\n",
    "ax = fig.add_subplot(111) #PLOT coherence tuning\n",
    "\n",
    "ax.axhline(y=0,xmin=0.0001,xmax=0.9999, color='0.05', linestyle=':', linewidth = 1)\n",
    "plt.plot(coh, np.mean(delta_VS_ctrl_min_block,1)[0:9], linewidth = 2.5, color = '0.35')\n",
    "plt.errorbar(coh, np.mean(delta_VS_ctrl_min_block,1)[0:9], yerr = stats.sem(delta_VS_ctrl_min_block,1)[0:9],\n",
    "             linewidth = 2.5, color = '0.35')\n",
    "\n",
    "ax.spines[\"top\"].set_visible(False)\n",
    "ax.spines[\"right\"].set_visible(False)\n",
    "ax.spines['left'].set_position(('outward', 7))\n",
    "ax.spines['bottom'].set_position(('outward', 7))\n",
    "#for axis in ['top','bottom','left','right']:\n",
    "#  ax.spines[axis].set_linewidth(0.5)\n",
    "ax.set_xlabel('Coherence', fontsize = 10)\n",
    "ax.set_ylabel('Diff. response [mV]', fontsize = 10)\n",
    "plt.ylim([-8,2])\n",
    "\n",
    "plt.savefig('C:\\\\Users\\\\gammer\\\\Desktop\\\\DATA Surface\\\\LPi Opponency\\\\plots_LPi_ms\\\\Modelling\\\\\\\n",
    "FigS7_Coherence_tuning_VS_ctrl_minus_LV_block_mV_300rep.pdf',bbox_inches='tight', dpi=600, transparent=True)\n",
    "\n",
    "bbox_inches = 'tight'\n",
    "plt.show()"
   ]
  },
  {
   "cell_type": "code",
   "execution_count": 41,
   "metadata": {},
   "outputs": [],
   "source": [
    "# linear fit\n",
    "slope_int_ctrl = np.empty([2,rep])\n",
    "for i in range(len(delta_VS_ctrl_mean[0,:])):\n",
    "    slope, intercept, r_value, p_value, std_err = stats.linregress(coh[0:9], delta_VS_ctrl_mean[0:9,i])\n",
    "    slope_int_ctrl[0,i] = slope\n",
    "    slope_int_ctrl[1,i] = -intercept/slope\n",
    "\n",
    "slope_int_block = np.empty([2,rep])\n",
    "for i in range(len(delta_VS_block_mean[0,:])):\n",
    "    slope, intercept, r_value, p_value, std_err = stats.linregress(coh[0:9], delta_VS_block_mean[0:9,i])\n",
    "    slope_int_block[0,i] = slope\n",
    "    slope_int_block[1,i] = -intercept/slope\n",
    "    \n",
    "#np.save('slope_int_ctrl_300rep.npy', slope_int_ctrl)\n",
    "np.save('VS_mV_LV_ctrl_300rep.npy', delta_VS_ctrl_mean)\n",
    "\n",
    "#np.save('slope_int_LT_block_300rep.npy', slope_int_block) \n",
    "np.save('VS_mV_LV_block_300rep.npy', delta_VS_block_mean)"
   ]
  },
  {
   "cell_type": "code",
   "execution_count": 42,
   "metadata": {},
   "outputs": [],
   "source": [
    "slope_coh_ctrl = np.zeros([9,rep])\n",
    "for i in range(len(delta_VS_ctrl_mean[0,:])):\n",
    "    slope, intercept, r_value, p_value, std_err = stats.linregress(coh[0:2], delta_VS_ctrl_mean[0:2,i])\n",
    "    slope_coh_ctrl[0,i] = slope\n",
    "    slope, intercept, r_value, p_value, std_err = stats.linregress(coh[7:9], delta_VS_ctrl_mean[7:9,i])\n",
    "    slope_coh_ctrl[8,i] = slope   \n",
    "    for j in [1,2,3,4,5,6,7]:   \n",
    "        slope, intercept, r_value, p_value, std_err = stats.linregress(coh[j-1:j+2], delta_VS_ctrl_mean[j-1:j+2,i])\n",
    "        slope_coh_ctrl[j,i] = slope "
   ]
  },
  {
   "cell_type": "code",
   "execution_count": 43,
   "metadata": {},
   "outputs": [],
   "source": [
    "slope_coh_block = np.zeros([9,rep])\n",
    "for i in range(len(delta_VS_block_mean[0,:])):\n",
    "    slope, intercept, r_value, p_value, std_err = stats.linregress(coh[0:2], delta_VS_block_mean[0:2,i])\n",
    "    slope_coh_block[0,i] = slope\n",
    "    slope, intercept, r_value, p_value, std_err = stats.linregress(coh[7:9], delta_VS_block_mean[7:9,i])\n",
    "    slope_coh_block[8,i] = slope   \n",
    "    for j in [1,2,3,4,5,6,7]:   \n",
    "        slope, intercept, r_value, p_value, std_err = stats.linregress(coh[j-1:j+2], delta_VS_block_mean[j-1:j+2,i])\n",
    "        slope_coh_block[j,i] = slope "
   ]
  },
  {
   "cell_type": "code",
   "execution_count": 44,
   "metadata": {},
   "outputs": [],
   "source": [
    "np.save('slope_coh_LV_ctrl_300rep.npy', slope_coh_ctrl)\n",
    "np.save('slope_coh_LV_block_300rep.npy', slope_coh_block)"
   ]
  },
  {
   "cell_type": "code",
   "execution_count": 45,
   "metadata": {},
   "outputs": [
    {
     "data": {
      "image/png": "[encoded data removed]",
      "text/plain": [
       "<Figure size 165.6x165.6 with 1 Axes>"
      ]
     },
     "metadata": {
      "needs_background": "light"
     },
     "output_type": "display_data"
    }
   ],
   "source": [
    "fig = plt.figure(figsize = (2.3, 2.3))\n",
    "\n",
    "ax = fig.add_subplot(111) #PLOT slopes of coherence tuning\n",
    "\n",
    "ax.axhline(y=0,xmin=0.0001,xmax=0.9999, color='0.05', linestyle=':', linewidth = 1)\n",
    "plt.plot(coh, np.mean(slope_coh_ctrl,1), linewidth = 2.5, color = '0.35')\n",
    "plt.errorbar(coh, np.mean(slope_coh_ctrl,1), yerr = stats.sem(slope_coh_ctrl,1),\n",
    "             linewidth = 2.5, color = '0.35')\n",
    "\n",
    "plt.plot(coh, np.mean(slope_coh_block,1), linewidth = 2.5, color = 'C3')\n",
    "plt.errorbar(coh, np.mean(slope_coh_block,1), yerr = stats.sem(slope_coh_block,1),\n",
    "             linewidth = 2.5, color = 'C3')\n",
    "\n",
    "ax.spines[\"top\"].set_visible(False)\n",
    "ax.spines[\"right\"].set_visible(False)\n",
    "ax.spines['left'].set_position(('outward', 7))\n",
    "ax.spines['bottom'].set_position(('outward', 7))\n",
    "#for axis in ['top','bottom','left','right']:\n",
    "#  ax.spines[axis].set_linewidth(0.5)\n",
    "ax.set_xlabel('Coherence', fontsize = 10)\n",
    "ax.set_ylabel('Gain [mV/coh]', fontsize = 10)\n",
    "#xticks = np.array([-0.5, -0.25, 0, 0.25, 0.5])\n",
    "#ax.set_xticklabels([-0.5, -0.25, 0, 0.25, 0.5], size=10)\n",
    "plt.ylim([0,13.5])\n",
    "#ax.set_xticks(xticks)\n",
    "#ax.set_yticks([-5, 0, 5])\n",
    "#ax.set_yticklabels([-5, 0, 5], size=10)\n",
    "\n",
    "plt.savefig('C:\\\\Users\\\\gammer\\\\Desktop\\\\DATA Surface\\\\LPi Opponency\\\\plots_LPi_ms\\\\Modelling\\\\\\\n",
    "FigS7_Gain_tuning_VS_LV_block_300rep.pdf',bbox_inches='tight', dpi=600, transparent=True)\n",
    "\n",
    "bbox_inches = 'tight'\n",
    "plt.show()"
   ]
  },
  {
   "cell_type": "code",
   "execution_count": 46,
   "metadata": {},
   "outputs": [],
   "source": [
    "slope_coh_ctrl_min_block = slope_coh_ctrl - slope_coh_block"
   ]
  },
  {
   "cell_type": "code",
   "execution_count": 48,
   "metadata": {},
   "outputs": [
    {
     "data": {
      "image/png": "[encoded data removed]",
      "text/plain": [
       "<Figure size 165.6x165.6 with 1 Axes>"
      ]
     },
     "metadata": {
      "needs_background": "light"
     },
     "output_type": "display_data"
    }
   ],
   "source": [
    "fig = plt.figure(figsize = (2.3, 2.3))\n",
    "\n",
    "ax = fig.add_subplot(111) #PLOT slopes of coherence tuning\n",
    "\n",
    "ax.axhline(y=0,xmin=0.0001,xmax=0.9999, color='0.05', linestyle=':', linewidth = 1)\n",
    "plt.plot(coh, np.mean(slope_coh_ctrl_min_block,1), linewidth = 2.5, color = '0.35')\n",
    "plt.errorbar(coh, np.mean(slope_coh_ctrl_min_block,1), yerr = stats.sem(slope_coh_ctrl_min_block,1),\n",
    "             linewidth = 2.5, color = '0.35')\n",
    "\n",
    "ax.spines[\"top\"].set_visible(False)\n",
    "ax.spines[\"right\"].set_visible(False)\n",
    "ax.spines['left'].set_position(('outward', 7))\n",
    "ax.spines['bottom'].set_position(('outward', 7))\n",
    "#for axis in ['top','bottom','left','right']:\n",
    "#  ax.spines[axis].set_linewidth(0.5)\n",
    "ax.set_xlabel('Coherence', fontsize = 10)\n",
    "ax.set_ylabel('Diff. gain [mV/coh]', fontsize = 10)\n",
    "plt.ylim([-1,7])\n",
    "#ax.set_xticks(xticks)\n",
    "#ax.set_yticks([-5, 0, 5])\n",
    "#ax.set_yticklabels([-5, 0, 5], size=10)\n",
    "\n",
    "#plt.savefig('C:\\\\Users\\\\gammer\\\\Desktop\\\\DATA Surface\\\\LPi Opponency\\\\plots_LPi_ms\\\\Modelling\\\\\\\n",
    "#FigS7_Diff_Gain_tuning_VS_LV_block_300rep.pdf',bbox_inches='tight', dpi=600, transparent=True)\n",
    "\n",
    "bbox_inches = 'tight'\n",
    "plt.show()"
   ]
  },
  {
   "cell_type": "code",
   "execution_count": 49,
   "metadata": {},
   "outputs": [
    {
     "data": {
      "image/png": "[encoded data removed]",
      "text/plain": [
       "<Figure size 165.6x165.6 with 1 Axes>"
      ]
     },
     "metadata": {
      "needs_background": "light"
     },
     "output_type": "display_data"
    }
   ],
   "source": [
    "fig = plt.figure(figsize = (2.3, 2.3))\n",
    "\n",
    "ax = fig.add_subplot(111) #PLOT slopes of coherence tuning\n",
    "\n",
    "ax.axhline(y=0,xmin=0.0001,xmax=0.9999, color='0.05', linestyle=':', linewidth = 1)\n",
    "\n",
    "#plt.plot(coh, np.mean(slope_coh_ctrl_min_block,1), linewidth = 2.5, color = '0.35')\n",
    "#plt.errorbar(coh, np.mean(slope_coh_ctrl_min_block,1), yerr = stats.sem(slope_coh_ctrl_min_block,1),\n",
    "#             linewidth = 2.5, color = '0.35')\n",
    "\n",
    "#plt.errorbar(np.mean(R24E09_ArcLight_meandata_align, axis=0), np.mean(R24E09_scb_Ftrace_mean, axis=0),\\\n",
    " #            xerr = stats.sem(R24E09_ArcLight_meandata_align, axis=0),\n",
    "  #           yerr = stats.sem(R24E09_scb_Ftrace_mean, axis=0), fmt='none', color = 'C2')\n",
    "\n",
    "plt.plot(np.mean(delta_g_ctrl_min_block,1)[0:5], np.mean(slope_coh_ctrl_min_block[0:5],1), linewidth = 2.5, color = 'C0')\n",
    "plt.errorbar(np.mean(delta_g_ctrl_min_block,1)[0:5], np.mean(slope_coh_ctrl_min_block[0:5],1), \n",
    "             xerr = stats.sem(delta_g_ctrl_min_block,1)[0:5],\n",
    "             yerr = stats.sem(slope_coh_ctrl_min_block,1)[0:5], fmt='none', color = 'C0')\n",
    "\n",
    "plt.plot(np.mean(delta_g_ctrl_min_block,1)[4:9], np.mean(slope_coh_ctrl_min_block[4:9],1), linewidth = 2.5, color = 'C3')\n",
    "plt.errorbar(np.mean(delta_g_ctrl_min_block,1)[4:9], np.mean(slope_coh_ctrl_min_block[4:9],1), \n",
    "             xerr = stats.sem(delta_g_ctrl_min_block,1)[4:9],\n",
    "             yerr = stats.sem(slope_coh_ctrl_min_block,1)[4:9], fmt='none', color = 'C3')\n",
    "\n",
    "ax.spines[\"top\"].set_visible(False)\n",
    "ax.spines[\"right\"].set_visible(False)\n",
    "ax.spines['left'].set_position(('outward', 7))\n",
    "ax.spines['bottom'].set_position(('outward', 7))\n",
    "#for axis in ['top','bottom','left','right']:\n",
    "#  ax.spines[axis].set_linewidth(0.5)\n",
    "ax.set_xlabel('Diff. conductance [a.u.]', fontsize = 10)\n",
    "ax.set_ylabel('Diff. gain [mV/coh]', fontsize = 10)\n",
    "#xticks = np.array([-0.5, -0.25, 0, 0.25, 0.5])\n",
    "#ax.set_xticklabels([-0.5, -0.25, 0, 0.25, 0.5], size=10)\n",
    "#plt.ylim([-0.5,5])\n",
    "#ax.set_xticks(xticks)\n",
    "#ax.set_yticks([-5, 0, 5])\n",
    "#ax.set_yticklabels([-5, 0, 5], size=10)\n",
    "\n",
    "#plt.savefig('C:\\\\Users\\\\gammer\\\\Desktop\\\\DATA Surface\\\\LPi Opponency\\\\plots_LPi_ms\\\\Modelling\\\\\\\n",
    "#FigS7_Gain_vs_conductance_tuning_VS_LL_block_300rep.pdf',bbox_inches='tight', dpi=600, transparent=True)\n",
    "\n",
    "bbox_inches = 'tight'\n",
    "plt.show()"
   ]
  },
  {
   "cell_type": "code",
   "execution_count": 50,
   "metadata": {},
   "outputs": [
    {
     "data": {
      "text/plain": [
       "(-0.9943624479144985, 0.0005076940974062631)"
      ]
     },
     "execution_count": 50,
     "metadata": {},
     "output_type": "execute_result"
    }
   ],
   "source": [
    "stats.pearsonr(np.mean(delta_g_ctrl_min_block,1)[0:5], np.mean(slope_coh_ctrl_min_block[0:5],1))"
   ]
  },
  {
   "cell_type": "code",
   "execution_count": 51,
   "metadata": {},
   "outputs": [
    {
     "data": {
      "text/plain": [
       "(-0.7912793833846465, 0.11081400926851534)"
      ]
     },
     "execution_count": 51,
     "metadata": {},
     "output_type": "execute_result"
    }
   ],
   "source": [
    "stats.pearsonr(np.mean(delta_g_ctrl_min_block,1)[4:9], np.mean(slope_coh_ctrl_min_block[4:9],1))"
   ]
  },
  {
   "cell_type": "code",
   "execution_count": 52,
   "metadata": {},
   "outputs": [],
   "source": [
    "pearson_PD = np.empty([rep])\n",
    "pearson_ND = np.empty([rep])\n",
    "for i in range(rep):\n",
    "    statistic_PD, p_value_PD = stats.pearsonr(delta_g_ctrl_min_block[4:9,i], slope_coh_ctrl_min_block[4:9,i])\n",
    "    pearson_PD[i] = statistic_PD\n",
    "    \n",
    "    statistic_ND, p_value_ND = stats.pearsonr(delta_g_ctrl_min_block[0:5,i], slope_coh_ctrl_min_block[0:5,i])\n",
    "    pearson_ND[i] = statistic_ND"
   ]
  },
  {
   "cell_type": "code",
   "execution_count": 53,
   "metadata": {},
   "outputs": [
    {
     "data": {
      "text/plain": [
       "-0.4571089415134281"
      ]
     },
     "execution_count": 53,
     "metadata": {},
     "output_type": "execute_result"
    }
   ],
   "source": [
    "np.mean(pearson_PD)"
   ]
  },
  {
   "cell_type": "code",
   "execution_count": 54,
   "metadata": {},
   "outputs": [
    {
     "data": {
      "text/plain": [
       "-0.7377730470795442"
      ]
     },
     "execution_count": 54,
     "metadata": {},
     "output_type": "execute_result"
    }
   ],
   "source": [
    "np.mean(pearson_ND)"
   ]
  },
  {
   "cell_type": "code",
   "execution_count": 55,
   "metadata": {
    "scrolled": true
   },
   "outputs": [
    {
     "data": {
      "image/png": "[encoded data removed]",
      "text/plain": [
       "<Figure size 57.6x162 with 1 Axes>"
      ]
     },
     "metadata": {
      "needs_background": "light"
     },
     "output_type": "display_data"
    }
   ],
   "source": [
    "# Make Scatter Plot Gain (slope)\n",
    "\n",
    "pos = [0,1]\n",
    "fw = 0.4\n",
    "fig = plt.figure(figsize = (fw*len(pos), 2.25))\n",
    "ax = fig.add_subplot(111)\n",
    "w = 0.6\n",
    "wb = 0.6\n",
    "\n",
    "data = [slope_int_ctrl[0,:], slope_int_block[0,:]]\n",
    "colors = ['0.4', 'C3']\n",
    "\n",
    "ax.axhline(y=0,xmin=0.0001,xmax=0.9999, color='0.05', linestyle=':', linewidth = 1)\n",
    "\n",
    "for j in range (len(data)):\n",
    "    ax.plot([pos[j]-w/2, pos[j]+w/2],[np.mean(data[j]),np.mean(data[j])],\n",
    "            color=colors[j], linestyle='-', linewidth = 4)\n",
    "    ax.errorbar(pos[j],np.mean(data[j]),yerr=[stats.sem(data[j])], color='k',zorder = 0)    \n",
    "    for i in range(len(data[j])):\n",
    "        ax.scatter(pos[j] + np.random.random(1) * w/2 - w/4, data[j][i], s=25, color=colors[j], alpha=0.05, zorder = 2) \n",
    "   \n",
    "ax.spines[\"top\"].set_visible(False)\n",
    "ax.spines[\"right\"].set_visible(False)\n",
    "ax.spines['left'].set_position(('outward', 7))\n",
    "ax.spines['bottom'].set_position(('outward', 7))\n",
    "ax.set_xticks(pos)\n",
    "ax.set_xticklabels(('Ctrl','Block'), rotation=45, size=10)\n",
    "ax.set_ylabel('Response gain [mV]', size=10)\n",
    "yticks = np.array([0, 5, 10, 15])\n",
    "ax.set_yticklabels([0, 5, 10, 15], size=10)\n",
    "ax.set_yticks(yticks)\n",
    "plt.ylim([0, 15])\n",
    "#plt.title('Gain', size=10)\n",
    "    \n",
    "bbox_inches = 'tight'\n",
    "#plt.savefig('C:\\\\Users\\\\gammer\\\\Desktop\\\\DATA Surface\\\\LPi Opponency\\\\plots_LPi_ms\\\\\\\n",
    "#Fig7_Conductance_global_model_ctrl_block_barplot.pdf',bbox_inches='tight', dpi=600, transparent=True)\n",
    "plt.show()"
   ]
  },
  {
   "cell_type": "code",
   "execution_count": 56,
   "metadata": {},
   "outputs": [
    {
     "data": {
      "image/png": "[encoded data removed]",
      "text/plain": [
       "<Figure size 57.6x162 with 1 Axes>"
      ]
     },
     "metadata": {
      "needs_background": "light"
     },
     "output_type": "display_data"
    }
   ],
   "source": [
    "# Make Scatter Plot Gain (slope)\n",
    "\n",
    "pos = [0,1]\n",
    "fw = 0.4\n",
    "fig = plt.figure(figsize = (fw*len(pos), 2.25))\n",
    "ax = fig.add_subplot(111)\n",
    "w = 0.6\n",
    "wb = 0.6\n",
    "\n",
    "data = [slope_int_ctrl[1,:], slope_int_block[1,:]]\n",
    "colors = ['0.4', 'C3']\n",
    "\n",
    "ax.axhline(y=0,xmin=0.0001,xmax=0.9999, color='0.05', linestyle=':', linewidth = 1)\n",
    "\n",
    "for j in range (len(data)):\n",
    "    ax.plot([pos[j]-w/2, pos[j]+w/2],[np.mean(data[j]),np.mean(data[j])],\n",
    "            color=colors[j], linestyle='-', linewidth = 4)\n",
    "    ax.errorbar(pos[j],np.mean(data[j]),yerr=[stats.sem(data[j])], color='k',zorder = 0)    \n",
    "    for i in range(len(data[j])):\n",
    "        ax.scatter(pos[j] + np.random.random(1) * w/2 - w/4, data[j][i], s=25, color=colors[j], alpha=0.05, zorder = 2) \n",
    "   \n",
    "ax.spines[\"top\"].set_visible(False)\n",
    "ax.spines[\"right\"].set_visible(False)\n",
    "ax.spines['left'].set_position(('outward', 7))\n",
    "ax.spines['bottom'].set_position(('outward', 7))\n",
    "ax.set_xticks(pos)\n",
    "ax.set_xticklabels(('Ctrl','Block'), rotation=45, size=10)\n",
    "ax.set_ylabel('Intercept [coh]', size=10)\n",
    "#yticks = np.array([0, 5, 10])\n",
    "#ax.set_yticklabels([0, 5, 10], size=10)\n",
    "#ax.set_yticks(yticks)\n",
    "plt.ylim([-1, 0])\n",
    "#plt.title('Gain', size=10)\n",
    "    \n",
    "bbox_inches = 'tight'\n",
    "#plt.savefig('C:\\\\Users\\\\gammer\\\\Desktop\\\\DATA Surface\\\\LPi Opponency\\\\plots_LPi_ms\\\\\\\n",
    "#Fig7_Conductance_global_model_ctrl_block_barplot.pdf',bbox_inches='tight', dpi=600, transparent=True)\n",
    "plt.show()"
   ]
  },
  {
   "cell_type": "code",
   "execution_count": 57,
   "metadata": {},
   "outputs": [
    {
     "data": {
      "image/png": "[encoded data removed]",
      "text/plain": [
       "<Figure size 57.6x162 with 1 Axes>"
      ]
     },
     "metadata": {
      "needs_background": "light"
     },
     "output_type": "display_data"
    }
   ],
   "source": [
    "# Make Scatter Plot of Ephys conductance (Split ctrl vs. block)\n",
    "\n",
    "pos = [0,1]\n",
    "\n",
    "fig = plt.figure(figsize = (fw*len(pos), 2.25))\n",
    "\n",
    "ax = fig.add_subplot(111)\n",
    "w = 0.6\n",
    "wb = 0.6\n",
    "\n",
    "data = [delta_g_ctrl_mean[9], delta_g_block_mean[9]]\n",
    "colors = ['0.4', 'C3']\n",
    "\n",
    "ax.axhline(y=0,xmin=0.0001,xmax=0.9999, color='0.05', linestyle=':', linewidth = 1)\n",
    "\n",
    "for j in range (len(data)):\n",
    "    ax.bar(pos[j], height = np.mean(data[j]), color=colors[j])\n",
    "    ax.errorbar(pos[j],np.mean(data[j]),yerr=[stats.sem(data[j])], color='k',zorder = 0)    \n",
    "    for i in range(len(data[j])):\n",
    "        ax.scatter(pos[j] + np.random.random(1) * w/2 - w/4, data[j][i], s=25, color='0.3', alpha=0.05, zorder = 2)\n",
    "   \n",
    "ax.spines[\"top\"].set_visible(False)\n",
    "ax.spines[\"right\"].set_visible(False)\n",
    "ax.spines['left'].set_position(('outward', 7))\n",
    "ax.spines['bottom'].set_position(('outward', 7))\n",
    "ax.set_xticks(pos)\n",
    "ax.set_xticklabels(('ctrl','block'), rotation=45, size=10)\n",
    "ax.set_ylabel(r'$\\Delta$'+ ' conductance [a.u.]', size=10)\n",
    "yticks = np.array([0, 0.5, 1, 1.5, 2])\n",
    "ax.set_yticklabels([0.0, 0.5, 1.0, 1.5, 2], size=10)\n",
    "ax.set_yticks(yticks)\n",
    "plt.ylim([-0.1, 1.2])\n",
    "plt.title('Global TM', size=10)\n",
    "    \n",
    "bbox_inches = 'tight'\n",
    "#plt.savefig('C:\\\\Users\\\\gammer\\\\Desktop\\\\DATA Surface\\\\LPi Opponency\\\\plots_LPi_ms\\\\\\\n",
    "#Fig7_Conductance_global_model_ctrl_block_barplot.pdf',bbox_inches='tight', dpi=600, transparent=True)\n",
    "plt.show()"
   ]
  },
  {
   "cell_type": "code",
   "execution_count": 58,
   "metadata": {
    "scrolled": false
   },
   "outputs": [
    {
     "data": {
      "image/png": "[encoded data removed]",
      "text/plain": [
       "<Figure size 57.6x162 with 1 Axes>"
      ]
     },
     "metadata": {
      "needs_background": "light"
     },
     "output_type": "display_data"
    }
   ],
   "source": [
    "# Make Scatter Plot of Ephys conductance (TM vs. Split)\n",
    "\n",
    "pos = [0,1]\n",
    "\n",
    "fig = plt.figure(figsize = (fw*len(pos), 2.25))\n",
    "\n",
    "ax = fig.add_subplot(111)\n",
    "w = 0.6\n",
    "wb = 0.6\n",
    "\n",
    "data = [delta_g_ctrl_mean[4], delta_g_ctrl_mean[9]]\n",
    "colors = ['0.4', 'C4']\n",
    "\n",
    "ax.axhline(y=0,xmin=0.0001,xmax=0.9999, color='0.05', linestyle=':', linewidth = 1)\n",
    "\n",
    "for j in range (len(data)):\n",
    "    ax.bar(pos[j], height = np.mean(data[j]), color=colors[j])\n",
    "    ax.errorbar(pos[j],np.mean(data[j]),yerr=[stats.sem(data[j])], color='k',zorder = 0)    \n",
    "    for i in range(len(data[j])):\n",
    "        ax.scatter(pos[j] + np.random.random(1) * w/2 - w/4, data[j][i], s=25, color='0.3', alpha=0.05, zorder = 2)\n",
    "   \n",
    "ax.spines[\"top\"].set_visible(False)\n",
    "ax.spines[\"right\"].set_visible(False)\n",
    "ax.spines['left'].set_position(('outward', 7))\n",
    "ax.spines['bottom'].set_position(('outward', 7))\n",
    "ax.set_xticks(pos)\n",
    "ax.set_xticklabels(('local TM','global TM'), rotation=45, size=10)\n",
    "ax.set_ylabel(r'$\\Delta$'+ ' conductance [a.u.]', size=10)\n",
    "yticks = np.array([0, 0.5, 1, 1.5, 2])\n",
    "ax.set_yticklabels([0.0, 0.5, 1.0, 1.5, 2], size=10)\n",
    "ax.set_yticks(yticks)\n",
    "plt.ylim([-0.1, 1.2])\n",
    "\n",
    "bbox_inches = 'tight'\n",
    "#plt.savefig('C:\\\\Users\\\\gammer\\\\Desktop\\\\DATA Surface\\\\LPi Opponency\\\\plots_LPi_ms\\\\\\\n",
    "#Fig7_Conductance_local_global_model_barplot.pdf',bbox_inches='tight', dpi=600, transparent=True)\n",
    "plt.show()"
   ]
  },
  {
   "cell_type": "code",
   "execution_count": 59,
   "metadata": {},
   "outputs": [
    {
     "data": {
      "text/plain": [
       "1.285264100385605"
      ]
     },
     "execution_count": 59,
     "metadata": {},
     "output_type": "execute_result"
    }
   ],
   "source": [
    "np.mean(delta_g_ctrl_mean[9]) / np.mean(delta_g_ctrl_mean[4])"
   ]
  },
  {
   "cell_type": "code",
   "execution_count": 60,
   "metadata": {
    "scrolled": true
   },
   "outputs": [
    {
     "data": {
      "text/plain": [
       "Ttest_relResult(statistic=-59.676245097368664, pvalue=3.93451540989913e-168)"
      ]
     },
     "execution_count": 60,
     "metadata": {},
     "output_type": "execute_result"
    }
   ],
   "source": [
    "stats.ttest_rel(delta_g_ctrl_mean[4], delta_g_ctrl_mean[9])"
   ]
  },
  {
   "cell_type": "code",
   "execution_count": 101,
   "metadata": {
    "scrolled": true
   },
   "outputs": [
    {
     "data": {
      "image/png": "[encoded data removed]",
      "text/plain": [
       "<Figure size 57.6x162 with 1 Axes>"
      ]
     },
     "metadata": {
      "needs_background": "light"
     },
     "output_type": "display_data"
    }
   ],
   "source": [
    "# Make Scatter Plot of modelling conductance (TM local: PD+ND vs. TM)\n",
    "\n",
    "pos = [0,1]\n",
    "\n",
    "fig = plt.figure(figsize = (fw*len(pos), 2.25))\n",
    "\n",
    "ax = fig.add_subplot(111)\n",
    "w = 0.6\n",
    "wb = 0.6\n",
    "data = [delta_g_ctrl_mean[0] + delta_g_ctrl_mean[8], delta_g_ctrl_mean[4]]\n",
    "colors = ['0.7', '0.4']\n",
    "\n",
    "ax.axhline(y=0,xmin=0.0001,xmax=0.9999, color='0.05', linestyle=':', linewidth = 1)\n",
    "\n",
    "for j in range (len(data)):\n",
    "    ax.bar(pos[j], height = np.mean(data[j]), color=colors[j])\n",
    "    ax.errorbar(pos[j],np.mean(data[j]),yerr=[stats.sem(data[j])], color='k',zorder = 0)    \n",
    "    for i in range(len(data[j])):\n",
    "        ax.scatter(pos[j] + np.random.random(1) * w/2 - w/4, data[j][i], s=25, color='0.3', alpha=0.05, zorder = 2)\n",
    "   \n",
    "ax.spines[\"top\"].set_visible(False)\n",
    "ax.spines[\"right\"].set_visible(False)\n",
    "ax.spines['left'].set_position(('outward', 7))\n",
    "ax.spines['bottom'].set_position(('outward', 7))\n",
    "ax.set_xticks(pos)\n",
    "ax.set_xticklabels(('PD+ND','local TM'), rotation=45, size=10)\n",
    "ax.set_ylabel(r'$\\Delta$'+ ' conductance [a.u.]', size=10)\n",
    "yticks = np.array([0, 0.5, 1, 1.5, 2])\n",
    "ax.set_yticklabels([0.0, 0.5, 1.0, 1.5, 2.0], size=10)\n",
    "ax.set_yticks(yticks)\n",
    "plt.ylim([-0.1, 1.2])\n",
    "\n",
    "bbox_inches = 'tight'\n",
    "#plt.savefig('C:\\\\Users\\\\gammer\\\\Desktop\\\\DATA Surface\\\\LPi Opponency\\\\plots_LPi_ms\\\\\\\n",
    "#Fig7_Conductance_TM_PDND_model_barplot.pdf',bbox_inches='tight', dpi=600, transparent=True)\n",
    "plt.show()"
   ]
  },
  {
   "cell_type": "code",
   "execution_count": 102,
   "metadata": {},
   "outputs": [
    {
     "data": {
      "text/plain": [
       "Ttest_relResult(statistic=125.07735012742474, pvalue=3.1264150708401052e-260)"
      ]
     },
     "execution_count": 102,
     "metadata": {},
     "output_type": "execute_result"
    }
   ],
   "source": [
    "stats.ttest_rel((delta_g_ctrl_mean[0] + delta_g_ctrl_mean[8]), delta_g_ctrl_mean[4])"
   ]
  },
  {
   "cell_type": "code",
   "execution_count": 136,
   "metadata": {
    "scrolled": false
   },
   "outputs": [
    {
     "data": {
      "image/png": "[encoded data removed]",
      "text/plain": [
       "<Figure size 57.6x162 with 1 Axes>"
      ]
     },
     "metadata": {
      "needs_background": "light"
     },
     "output_type": "display_data"
    }
   ],
   "source": [
    "# Make Scatter Plot of modelling conductance (Split global: PD+ND vs. Split)\n",
    "\n",
    "pos = [0,1]\n",
    "\n",
    "fig = plt.figure(figsize = (fw*len(pos), 2.25))\n",
    "\n",
    "ax = fig.add_subplot(111)\n",
    "w = 0.6\n",
    "wb = 0.6\n",
    "data = [delta_g_ctrl_mean[9], delta_g_ctrl_mean[9]]\n",
    "colors = ['C4', 'C4']\n",
    "alphas = ([0.5, 1])\n",
    "\n",
    "ax.axhline(y=0,xmin=0.0001,xmax=0.9999, color='0.05', linestyle=':', linewidth = 1)\n",
    "\n",
    "for j in range (len(data)):\n",
    "    ax.bar(pos[j], height = np.mean(data[j]), color=colors[j], alpha=alphas[j])\n",
    "    ax.errorbar(pos[j],np.mean(data[j]),yerr=[stats.sem(data[j])], color='k',zorder = 0)    \n",
    "    for i in range(len(data[j])):\n",
    "        ax.scatter(pos[j] + np.random.random(1) * w/2 - w/4, data[j][i], s=25, color='0.3', alpha=0.05, zorder = 2)\n",
    "   \n",
    "ax.spines[\"top\"].set_visible(False)\n",
    "ax.spines[\"right\"].set_visible(False)\n",
    "ax.spines['left'].set_position(('outward', 7))\n",
    "ax.spines['bottom'].set_position(('outward', 7))\n",
    "ax.set_xticks(pos)\n",
    "ax.set_xticklabels(('PD+ND','global TM'), rotation=45, size=10)\n",
    "ax.set_ylabel(r'$\\Delta$'+ ' conductance [a.u.]', size=10)\n",
    "yticks = np.array([0, 0.5, 1, 1.5, 2])\n",
    "ax.set_yticklabels([0.0, 0.5, 1.0, 1.5, 2.0], size=10)\n",
    "ax.set_yticks(yticks)\n",
    "plt.ylim([-0.1,1.2])\n",
    "\n",
    "bbox_inches = 'tight'\n",
    "#plt.savefig('C:\\\\Users\\\\gammer\\\\Desktop\\\\DATA Surface\\\\LPi Opponency\\\\plots_LPi_ms\\\\\\\n",
    "#Fig7_Conductance_Split_PDND_model_barplot.pdf',bbox_inches='tight', dpi=600, transparent=True)\n",
    "plt.show()"
   ]
  },
  {
   "cell_type": "code",
   "execution_count": 115,
   "metadata": {},
   "outputs": [
    {
     "data": {
      "text/plain": [
       "Ttest_indResult(statistic=0.0, pvalue=1.0)"
      ]
     },
     "execution_count": 115,
     "metadata": {},
     "output_type": "execute_result"
    }
   ],
   "source": [
    "stats.ttest_ind(delta_g_ctrl_mean[9], delta_g_ctrl_mean[9])"
   ]
  },
  {
   "cell_type": "code",
   "execution_count": 135,
   "metadata": {},
   "outputs": [
    {
     "data": {
      "image/png": "[encoded data removed]",
      "text/plain": [
       "<Figure size 57.6x162 with 1 Axes>"
      ]
     },
     "metadata": {
      "needs_background": "light"
     },
     "output_type": "display_data"
    }
   ],
   "source": [
    "# Make Scatter Plot of Ephys voltage (TM vs. Split)\n",
    "\n",
    "pos = [0, 1]\n",
    "\n",
    "fig = plt.figure(figsize = (fw * len(pos), 2.25))\n",
    "\n",
    "ax = fig.add_subplot(111)\n",
    "w = 0.6\n",
    "wb = 0.6\n",
    "data = [delta_VS_ctrl_mean[4], delta_VS_ctrl_mean[9]]\n",
    "colors = ['0.4', 'C4']\n",
    "\n",
    "ax.axhline(y=0,xmin=0.0001,xmax=0.9999, color='0.05', linestyle=':', linewidth = 1)\n",
    "\n",
    "for j in range (len(data)):\n",
    "    ax.bar(pos[j], height = np.mean(data[j]), color = colors[j])\n",
    "    ax.errorbar(pos[j],np.mean(data[j]),yerr=[stats.sem(data[j])], color='k',zorder = 0)    \n",
    "    for i in range(len(data[j])):\n",
    "        ax.scatter(pos[j] + np.random.random(1) * w/2 - w/4, data[j][i], s=25, color='0.3', alpha=0.05, zorder = 2)\n",
    "   \n",
    "ax.spines[\"top\"].set_visible(False)\n",
    "ax.spines[\"right\"].set_visible(False)\n",
    "ax.spines['left'].set_position(('outward', 7))\n",
    "ax.spines['bottom'].set_position(('outward', 7))\n",
    "ax.set_xticks(pos)\n",
    "ax.set_xticklabels(('local TM','global TM'), rotation=45, size=10)\n",
    "ax.set_ylabel(r'$\\Delta$'+ ' Vm response [mV]', size=10)\n",
    "#yticks = np.array([0, 1, 2, 3, 4, 5])\n",
    "#ax.set_yticklabels([0, 1, 2, 3, 4, 5], size=11)\n",
    "#ax.set_yticks(yticks)\n",
    "plt.ylim([-0.5, 6])\n",
    "\n",
    "bbox_inches = 'tight'\n",
    "#plt.savefig('C:\\\\Users\\\\gammer\\\\Desktop\\\\DATA Surface\\\\LPi Opponency\\\\plots_LPi_ms\\\\\\\n",
    "#Fig7_Voltage_local_global_model_barplot.pdf',bbox_inches='tight', dpi=600, transparent=True)\n",
    "plt.show()"
   ]
  },
  {
   "cell_type": "code",
   "execution_count": 118,
   "metadata": {},
   "outputs": [
    {
     "data": {
      "text/plain": [
       "Ttest_relResult(statistic=6.587104305554231, pvalue=2.0175671632273294e-10)"
      ]
     },
     "execution_count": 118,
     "metadata": {},
     "output_type": "execute_result"
    }
   ],
   "source": [
    "stats.ttest_rel(delta_VS_ctrl_mean[4], delta_VS_ctrl_mean[9])"
   ]
  },
  {
   "cell_type": "code",
   "execution_count": 134,
   "metadata": {
    "scrolled": true
   },
   "outputs": [
    {
     "data": {
      "image/png": "[encoded data removed]",
      "text/plain": [
       "<Figure size 57.6x162 with 1 Axes>"
      ]
     },
     "metadata": {
      "needs_background": "light"
     },
     "output_type": "display_data"
    }
   ],
   "source": [
    "# Make Scatter Plot of Ephys voltage (TM vs. Split)\n",
    "\n",
    "pos = [0, 1]\n",
    "\n",
    "fig = plt.figure(figsize = (fw * len(pos), 2.25))\n",
    "\n",
    "ax = fig.add_subplot(111)\n",
    "w = 0.6\n",
    "wb = 0.6\n",
    "data = [delta_VS_ctrl_mean[0] + delta_VS_ctrl_mean[8], delta_VS_ctrl_mean[4]]\n",
    "colors = ['0.7', '0.4']\n",
    "\n",
    "ax.axhline(y=0,xmin=0.0001,xmax=0.9999, color='0.05', linestyle=':', linewidth = 1)\n",
    "\n",
    "for j in range (len(data)):\n",
    "    ax.bar(pos[j], height = np.mean(data[j]), color = colors[j])\n",
    "    ax.errorbar(pos[j],np.mean(data[j]),yerr=[stats.sem(data[j])], color='k',zorder = 0)    \n",
    "    for i in range(len(data[j])):\n",
    "        ax.scatter(pos[j] + np.random.random(1) * w/2 - w/4, data[j][i], s=25, color='0.3', alpha=0.05, zorder = 2)\n",
    "\n",
    "   \n",
    "ax.spines[\"top\"].set_visible(False)\n",
    "ax.spines[\"right\"].set_visible(False)\n",
    "ax.spines['left'].set_position(('outward', 7))\n",
    "ax.spines['bottom'].set_position(('outward', 7))\n",
    "ax.set_xticks(pos)\n",
    "ax.set_xticklabels(('PD+ND','local TM'), rotation=45, size=10)\n",
    "ax.set_ylabel(r'$\\Delta$'+ ' Vm response [mV]', size=10)\n",
    "#yticks = np.array([0, 1, 2, 3, 4, 5])\n",
    "#ax.set_yticklabels([0, 1, 2, 3, 4, 5], size=11)\n",
    "#ax.set_yticks(yticks)\n",
    "plt.ylim([-0.5, 6])\n",
    "\n",
    "bbox_inches = 'tight'\n",
    "#plt.savefig('C:\\\\Users\\\\gammer\\\\Desktop\\\\DATA Surface\\\\LPi Opponency\\\\plots_LPi_ms\\\\\\\n",
    "#Fig7_Voltage_TM_PDND_model_barplot.pdf',bbox_inches='tight', dpi=600, transparent=True)\n",
    "plt.show()"
   ]
  },
  {
   "cell_type": "code",
   "execution_count": 120,
   "metadata": {},
   "outputs": [
    {
     "data": {
      "text/plain": [
       "Ttest_relResult(statistic=12.050651318670917, pvalue=1.5878010083825835e-27)"
      ]
     },
     "execution_count": 120,
     "metadata": {},
     "output_type": "execute_result"
    }
   ],
   "source": [
    "stats.ttest_rel((delta_VS_ctrl_mean[0] + delta_VS_ctrl_mean[8]), delta_VS_ctrl_mean[4])"
   ]
  },
  {
   "cell_type": "code",
   "execution_count": 133,
   "metadata": {},
   "outputs": [
    {
     "data": {
      "image/png": "[encoded data removed]",
      "text/plain": [
       "<Figure size 57.6x162 with 1 Axes>"
      ]
     },
     "metadata": {
      "needs_background": "light"
     },
     "output_type": "display_data"
    }
   ],
   "source": [
    "# Make Scatter Plot of modelling conductance (Split global: PD+ND vs. Split)\n",
    "\n",
    "pos = [0,1]\n",
    "\n",
    "fig = plt.figure(figsize = (fw*len(pos), 2.25))\n",
    "\n",
    "ax = fig.add_subplot(111)\n",
    "w = 0.6\n",
    "wb = 0.6\n",
    "\n",
    "data = [delta_g_block_mean[4], delta_g_block_mean[9]]\n",
    "\n",
    "colors = ['0.4', 'C4']\n",
    "\n",
    "ax.axhline(y=0,xmin=0.0001,xmax=0.9999, color='0.05', linestyle=':', linewidth = 1)\n",
    "\n",
    "for j in range (len(data)):\n",
    "    ax.bar(pos[j], height = np.mean(data[j]), color=colors[j])\n",
    "    ax.errorbar(pos[j],np.mean(data[j]),yerr=[stats.sem(data[j])], color='k',zorder = 0)    \n",
    "    for i in range(len(data[j])):\n",
    "        ax.scatter(pos[j] + np.random.random(1) * w/2 - w/4, data[j][i], s=25, color='0.3', alpha=0.05, zorder = 2)\n",
    "   \n",
    "ax.spines[\"top\"].set_visible(False)\n",
    "ax.spines[\"right\"].set_visible(False)\n",
    "ax.spines['left'].set_position(('outward', 7))\n",
    "ax.spines['bottom'].set_position(('outward', 7))\n",
    "ax.set_xticks(pos)\n",
    "ax.set_xticklabels(('local TM','global TM'), rotation=45, size=10)\n",
    "ax.set_ylabel(r'$\\Delta$'+ ' conductance [a.u.]', size=10)\n",
    "yticks = np.array([0, 0.5, 1, 1.5, 2])\n",
    "ax.set_yticklabels([0.0, 0.5, 1.0, 1.5, 2.0], size=10)\n",
    "ax.set_yticks(yticks)\n",
    "plt.ylim([-0.1, 1.2])\n",
    "#plt.title('Feedback block')\n",
    "\n",
    "bbox_inches = 'tight'\n",
    "#plt.savefig('C:\\\\Users\\\\gammer\\\\Desktop\\\\DATA Surface\\\\LPi Opponency\\\\plots_LPi_ms\\\\\\\n",
    "#Fig7_Conductance_model_barplot_comp_ctrl_block.pdf',bbox_inches='tight', dpi=600, transparent=True)\n",
    "plt.show()"
   ]
  },
  {
   "cell_type": "code",
   "execution_count": 122,
   "metadata": {},
   "outputs": [
    {
     "data": {
      "text/plain": [
       "1.0022700671521865"
      ]
     },
     "execution_count": 122,
     "metadata": {},
     "output_type": "execute_result"
    }
   ],
   "source": [
    "np.mean(delta_g_block_mean[4])/np.mean(delta_g_block_mean[9])"
   ]
  },
  {
   "cell_type": "code",
   "execution_count": 123,
   "metadata": {},
   "outputs": [
    {
     "data": {
      "text/plain": [
       "Ttest_relResult(statistic=0.617147352187203, pvalue=0.5376072081657177)"
      ]
     },
     "execution_count": 123,
     "metadata": {},
     "output_type": "execute_result"
    }
   ],
   "source": [
    "stats.ttest_rel(delta_g_block_mean[4], delta_g_block_mean[9])"
   ]
  },
  {
   "cell_type": "code",
   "execution_count": 132,
   "metadata": {
    "scrolled": true
   },
   "outputs": [
    {
     "data": {
      "image/png": "[encoded data removed]",
      "text/plain": [
       "<Figure size 57.6x162 with 1 Axes>"
      ]
     },
     "metadata": {
      "needs_background": "light"
     },
     "output_type": "display_data"
    }
   ],
   "source": [
    "# Make Scatter Plot of modelling conductance (Split global: PD+ND vs. Split)\n",
    "\n",
    "pos = [0,1]\n",
    "\n",
    "fig = plt.figure(figsize = (fw*len(pos), 2.25))\n",
    "\n",
    "ax = fig.add_subplot(111)\n",
    "w = 0.6\n",
    "wb = 0.6\n",
    "\n",
    "data = [delta_g_block_mean[0] + delta_g_block_mean[8], delta_g_block_mean[4]]\n",
    "\n",
    "colors = ['0.7', '0.4']\n",
    "\n",
    "ax.axhline(y=0,xmin=0.0001,xmax=0.9999, color='0.05', linestyle=':', linewidth = 1)\n",
    "\n",
    "for j in range (len(data)):\n",
    "    ax.bar(pos[j], height = np.mean(data[j]), color=colors[j])\n",
    "    ax.errorbar(pos[j],np.mean(data[j]),yerr=[stats.sem(data[j])], color='k',zorder = 0)    \n",
    "    for i in range(len(data[j])):\n",
    "        ax.scatter(pos[j] + np.random.random(1) * w/2 - w/4, data[j][i], s=25, color='0.3', alpha=0.05, zorder = 2)\n",
    "   \n",
    "ax.spines[\"top\"].set_visible(False)\n",
    "ax.spines[\"right\"].set_visible(False)\n",
    "ax.spines['left'].set_position(('outward', 7))\n",
    "ax.spines['bottom'].set_position(('outward', 7))\n",
    "ax.set_xticks(pos)\n",
    "ax.set_xticklabels(('PD+ND','local TM'), rotation=45, size=10)\n",
    "ax.set_ylabel(r'$\\Delta$'+ ' conductance [a.u.]', size=10)\n",
    "yticks = np.array([0, 0.5, 1, 1.5, 2])\n",
    "ax.set_yticklabels([0.0, 0.5, 1.0, 1.5, 2.0], size=10)\n",
    "ax.set_yticks(yticks)\n",
    "plt.ylim([-0.1, 1.2])\n",
    "#plt.title('Feedback block')\n",
    "\n",
    "bbox_inches = 'tight'\n",
    "#plt.savefig('C:\\\\Users\\\\gammer\\\\Desktop\\\\DATA Surface\\\\LPi Opponency\\\\plots_LPi_ms\\\\\\\n",
    "#Fig7_Conductance_model_TM_PDND_model_block_barplot.pdf',bbox_inches='tight', dpi=600, transparent=True)\n",
    "plt.show()"
   ]
  },
  {
   "cell_type": "code",
   "execution_count": 125,
   "metadata": {},
   "outputs": [
    {
     "data": {
      "text/plain": [
       "Ttest_indResult(statistic=63.74772129049442, pvalue=7.585941355347158e-269)"
      ]
     },
     "execution_count": 125,
     "metadata": {},
     "output_type": "execute_result"
    }
   ],
   "source": [
    "stats.ttest_ind(delta_g_block_mean[0] + delta_g_block_mean[8], delta_g_block_mean[4])"
   ]
  },
  {
   "cell_type": "code",
   "execution_count": 130,
   "metadata": {
    "scrolled": true
   },
   "outputs": [
    {
     "data": {
      "image/png": "[encoded data removed]",
      "text/plain": [
       "<Figure size 57.6x162 with 1 Axes>"
      ]
     },
     "metadata": {
      "needs_background": "light"
     },
     "output_type": "display_data"
    }
   ],
   "source": [
    "# Make Scatter Plot of modelling conductance (Split global: PD+ND vs. Split)\n",
    "\n",
    "pos = [0,1]\n",
    "\n",
    "fig = plt.figure(figsize = (fw*len(pos), 2.25))\n",
    "\n",
    "ax = fig.add_subplot(111)\n",
    "w = 0.6\n",
    "wb = 0.6\n",
    "\n",
    "data = [delta_g_ctrl_mean[9], delta_g_ctrl_mean[9]]\n",
    "\n",
    "colors = ['C4', 'C4']\n",
    "alphas = ([0.5, 1])\n",
    "\n",
    "ax.axhline(y=0,xmin=0.0001,xmax=0.9999, color='0.05', linestyle=':', linewidth = 1)\n",
    "\n",
    "for j in range (len(data)):\n",
    "    ax.bar(pos[j], height = np.mean(data[j]), color=colors[j], alpha=alphas[j])\n",
    "    ax.errorbar(pos[j],np.mean(data[j]),yerr=[stats.sem(data[j])], color='k',zorder = 0)    \n",
    "    for i in range(len(data[j])):\n",
    "        ax.scatter(pos[j] + np.random.random(1) * w/2 - w/4, data[j][i], s=25, color='0.3', alpha=0.05, zorder = 2)\n",
    "   \n",
    "ax.spines[\"top\"].set_visible(False)\n",
    "ax.spines[\"right\"].set_visible(False)\n",
    "ax.spines['left'].set_position(('outward', 7))\n",
    "ax.spines['bottom'].set_position(('outward', 7))\n",
    "ax.set_xticks(pos)\n",
    "ax.set_xticklabels(('PD+ND','global TM'), rotation=45, size=10)\n",
    "ax.set_ylabel(r'$\\Delta$'+ ' conductance [a.u.]', size=10)\n",
    "yticks = np.array([0, 0.5, 1, 1.5, 2])\n",
    "ax.set_yticklabels([0.0, 0.5, 1.0, 1.5, 2.0], size=10)\n",
    "ax.set_yticks(yticks)\n",
    "plt.ylim([-0.1,1.2])\n",
    "#plt.title('Feedback block')\n",
    "\n",
    "bbox_inches = 'tight'\n",
    "#plt.savefig('C:\\\\Users\\\\gammer\\\\Desktop\\\\DATA Surface\\\\LPi Opponency\\\\plots_LPi_ms\\\\\\\n",
    "#Fig7_Conductance_model_Split_PDND_model_block_barplot.pdf',bbox_inches='tight', dpi=600, transparent=True)\n",
    "plt.show()"
   ]
  },
  {
   "cell_type": "code",
   "execution_count": 127,
   "metadata": {},
   "outputs": [
    {
     "data": {
      "text/plain": [
       "Ttest_indResult(statistic=0.0, pvalue=1.0)"
      ]
     },
     "execution_count": 127,
     "metadata": {},
     "output_type": "execute_result"
    }
   ],
   "source": [
    "stats.ttest_ind(delta_g_block_mean[9], delta_g_block_mean[9])"
   ]
  },
  {
   "cell_type": "code",
   "execution_count": 128,
   "metadata": {
    "scrolled": true
   },
   "outputs": [
    {
     "data": {
      "image/png": "[encoded data removed]",
      "text/plain": [
       "<Figure size 604.8x165.6 with 2 Axes>"
      ]
     },
     "metadata": {
      "needs_background": "light"
     },
     "output_type": "display_data"
    }
   ],
   "source": [
    "# Make Scatter Plot of modelling conductance (Split global: PD+ND vs. Split)\n",
    "\n",
    "pos = [0,1,3,4,6,7]\n",
    "\n",
    "fig = plt.figure(figsize = (1.4*len(pos),2.3))\n",
    "plt.subplots_adjust(wspace = 0.4)\n",
    "\n",
    "ax = fig.add_subplot(121)\n",
    "w = 0.6\n",
    "wb = 0.6\n",
    "data = [delta_g_ctrl_mean[4], delta_g_ctrl_mean[9],\n",
    "        delta_g_ctrl_mean[0] + delta_g_ctrl_mean[8], delta_g_ctrl_mean[4],\n",
    "        delta_g_ctrl_mean[9], delta_g_ctrl_mean[9]]\n",
    "\n",
    "colors = ['0.4', 'C4', '0.7', '0.4', '0.7', 'C4']\n",
    "\n",
    "ax.axhline(y=0,xmin=0.0001,xmax=0.9999, color='0.05', linestyle=':', linewidth = 1)\n",
    "\n",
    "for j in range (len(data)):\n",
    "    ax.bar(pos[j], height = np.mean(data[j]), color=colors[j])\n",
    "    ax.errorbar(pos[j],np.mean(data[j]),yerr=[stats.sem(data[j])], color='k',zorder = 0)    \n",
    "    for i in range(len(data[j])):\n",
    "        ax.scatter(pos[j] + np.random.random(1) * w/2 - w/4, data[j][i], s=25, color='0.3', alpha=0.03, zorder = 2)\n",
    "   \n",
    "ax.spines[\"top\"].set_visible(False)\n",
    "ax.spines[\"right\"].set_visible(False)\n",
    "ax.spines['left'].set_position(('outward', 7))\n",
    "ax.spines['bottom'].set_position(('outward', 7))\n",
    "ax.set_xticks(pos)\n",
    "ax.set_xticklabels(('loc \\nTM','glob \\nTM', 'PDND \\nsum', 'loc \\nTM', 'PDND \\nsum', 'glob \\nTM'), size=10)\n",
    "ax.set_ylabel(r'$\\Delta$'+ ' conductance [a.u.]', size=10)\n",
    "yticks = np.array([0, 0.5, 1, 1.5, 2])\n",
    "ax.set_yticklabels([0, 0.5, 1, 1.5, 2], size=10)\n",
    "ax.set_yticks(yticks)\n",
    "plt.ylim([-0.03,1])\n",
    "plt.title('Control')\n",
    "\n",
    "\n",
    "ax = fig.add_subplot(122)\n",
    "w = 0.6\n",
    "wb = 0.6\n",
    "data = [delta_g_block_mean[4], delta_g_block_mean[9],\n",
    "        delta_g_block_mean[0] + delta_g_block_mean[8], delta_g_block_mean[4],\n",
    "        delta_g_block_mean[9], delta_g_block_mean[9]]\n",
    "colors = ['0.4', 'C4', '0.7', '0.4', '0.7', 'C4']\n",
    "\n",
    "ax.axhline(y=0,xmin=0.0001,xmax=0.9999, color='0.05', linestyle=':', linewidth = 1)\n",
    "\n",
    "for j in range (len(data)):\n",
    "    ax.bar(pos[j], height = np.mean(data[j]), color=colors[j])\n",
    "    ax.errorbar(pos[j],np.mean(data[j]),yerr=[stats.sem(data[j])], color='k',zorder = 0)    \n",
    "    for i in range(len(data[j])):\n",
    "        ax.scatter(pos[j] + np.random.random(1) * w/2 - w/4, data[j][i], s=25, color='0.3', alpha=0.03, zorder = 2)\n",
    "   \n",
    "ax.spines[\"top\"].set_visible(False)\n",
    "ax.spines[\"right\"].set_visible(False)\n",
    "ax.spines['left'].set_position(('outward', 7))\n",
    "ax.spines['bottom'].set_position(('outward', 7))\n",
    "ax.set_xticks(pos)\n",
    "ax.set_xticklabels(('loc \\nTM','glob \\nTM', 'PDND \\nsum', 'loc \\nTM', 'PDND \\nsum', 'glob \\nTM'), size=11)\n",
    "ax.set_ylabel(r'$\\Delta$'+ ' conductance [a.u.]', size=10)\n",
    "yticks = np.array([0, 0.5, 1, 1.5, 2])\n",
    "ax.set_yticklabels([0, 0.5, 1, 1.5, 2], size=10)\n",
    "ax.set_yticks(yticks)\n",
    "plt.ylim([-0.03,1])\n",
    "plt.title('Feedback block')\n",
    "\n",
    "bbox_inches = 'tight'\n",
    "#plt.savefig('C:\\\\Users\\\\gammer\\\\Desktop\\\\DATA Surface\\\\LPi Opponency\\\\plots_LPi_ms\\\\\\\n",
    "#Fig7_Conductance_model_barplot_comp_ctrl_block_all.pdf',bbox_inches='tight', dpi=600, transparent=True)\n",
    "plt.show()"
   ]
  },
  {
   "cell_type": "code",
   "execution_count": 102,
   "metadata": {},
   "outputs": [],
   "source": [
    "# Calculate ratios of the different conductances\n",
    "g_ratios = np.empty([3,2])\n",
    "\n",
    "g_ratios[0,0] = np.mean(delta_g_ctrl_mean[4]) / np.mean(delta_g_ctrl_mean[9])\n",
    "g_ratios[0,1] = np.mean(delta_g_block_mean[4]) / np.mean(delta_g_block_mean[9])\n",
    "g_ratios[1,0] = np.mean(delta_g_ctrl_mean[0] + delta_g_ctrl_mean[8]) / np.mean(delta_g_ctrl_mean[4])\n",
    "g_ratios[1,1] = np.mean(delta_g_block_mean[0] + delta_g_block_mean[8]) / np.mean(delta_g_block_mean[4])\n",
    "g_ratios[2,0] = np.mean(delta_g_ctrl_mean[9]) / np.mean(delta_g_ctrl_mean[9])\n",
    "g_ratios[2,1] = np.mean(delta_g_block_mean[9]) / np.mean(delta_g_block_mean[9])\n",
    "\n",
    "g_ratios_ephys = np.load('g_ratios_ephys.npy')"
   ]
  },
  {
   "cell_type": "code",
   "execution_count": 103,
   "metadata": {
    "scrolled": false
   },
   "outputs": [
    {
     "data": {
      "image/png": "[encoded data removed]",
      "text/plain": [
       "<Figure size 165.6x165.6 with 1 Axes>"
      ]
     },
     "metadata": {
      "needs_background": "light"
     },
     "output_type": "display_data"
    }
   ],
   "source": [
    "fig = plt.figure(figsize = (2.3, 2.3))\n",
    "\n",
    "#plt.subplots_adjust(wspace = 0.1)\n",
    "\n",
    "ax = fig.add_subplot(111)\n",
    "#ax.axhline(y=0,xmin=0.0001,xmax=0.9999, color='0.05', linestyle=':', linewidth = 2)\n",
    "\n",
    "plt.plot([-0.5,1.8],[-0.5,1.8], color='0.7', linestyle='--')\n",
    "plt.scatter(g_ratios_ephys**-1, g_ratios[:,0]**-1, 170, color = '0.3', marker='.', alpha=0.8, label = 'Control')\n",
    "plt.scatter(g_ratios_ephys**-1, g_ratios[:,1]**-1, 60, color = 'C2', marker ='^', alpha=0.8, label = 'Feedback block')\n",
    "\n",
    "plt.legend(loc=4, frameon=True, fontsize=8)\n",
    "\n",
    "ax.spines[\"top\"].set_visible(False)\n",
    "ax.spines[\"right\"].set_visible(False)\n",
    "ax.spines['left'].set_position(('outward', 7))\n",
    "ax.spines['bottom'].set_position(('outward', 7))\n",
    "\n",
    "xticks = np.array([0, 0.5, 1, 1.5])\n",
    "ax.set_xticklabels([0, 0.5, 1, 1.5], size=10)\n",
    "ax.set_xticks(xticks)\n",
    "\n",
    "yticks = np.array([0, 0.5, 1, 1.5])\n",
    "ax.set_yticklabels([0, 0.5, 1, 1.5], size=10)\n",
    "ax.set_yticks(yticks)\n",
    "\n",
    "ax.set_xlabel(r'$\\Delta$'+ 'g ratio  [Model]', size=10)\n",
    "ax.set_ylabel(r'$\\Delta$'+ 'g ratio  [Experiment]', size=10)\n",
    "\n",
    "plt.xlim([0, 1.75])\n",
    "plt.ylim([0, 1.75])\n",
    "\n",
    "bbox_inches = 'tight'\n",
    "#plt.savefig('C:\\\\Users\\\\gammer\\\\Desktop\\\\DATA Surface\\\\LPi Opponency\\\\plots_LPi_ms\\\\\\\n",
    "#Fig7_voltage_local_global_model_traces.pdf',bbox_inches='tight', dpi=600, transparent=True)\n",
    "plt.show()"
   ]
  },
  {
   "cell_type": "code",
   "execution_count": 104,
   "metadata": {},
   "outputs": [
    {
     "data": {
      "image/png": "[encoded data removed]",
      "text/plain": [
       "<Figure size 151.2x216 with 1 Axes>"
      ]
     },
     "metadata": {
      "needs_background": "light"
     },
     "output_type": "display_data"
    }
   ],
   "source": [
    "fig = plt.figure(figsize = (2.1,3))\n",
    "\n",
    "#plt.subplots_adjust(wspace = 0.1)\n",
    "\n",
    "ax = fig.add_subplot(111)\n",
    "ax.axhline(y=0,xmin=0.0001,xmax=0.9999, color='0.05', linestyle=':', linewidth = 2)\n",
    "plt.plot(time, np.mean(delta_VS_ctrl_loop[4,:,:],1), color = '0.4', linewidth = 2)\n",
    "plt.plot(time, np.mean(delta_VS_ctrl_loop[9,:,:],1), color = 'C4', linewidth = 2)\n",
    "\n",
    "plt.axvspan(2.5, 7.5, facecolor='0.5', alpha=0.2)\n",
    "plt.xlim([0.5,9.5])\n",
    "plt.ylim([-2,8])\n",
    "plt.axis('off') \n",
    "\n",
    "bbox_inches = 'tight'\n",
    "#plt.savefig('C:\\\\Users\\\\gammer\\\\Desktop\\\\DATA Surface\\\\LPi Opponency\\\\plots_LPi_ms\\\\\\\n",
    "#Fig7_voltage_local_global_model_traces.pdf',bbox_inches='tight', dpi=600, transparent=True)\n",
    "plt.show()"
   ]
  },
  {
   "cell_type": "code",
   "execution_count": 105,
   "metadata": {},
   "outputs": [
    {
     "data": {
      "image/png": "[encoded data removed]",
      "text/plain": [
       "<Figure size 151.2x216 with 1 Axes>"
      ]
     },
     "metadata": {
      "needs_background": "light"
     },
     "output_type": "display_data"
    }
   ],
   "source": [
    "fig = plt.figure(figsize = (2.1,3))\n",
    "\n",
    "#plt.subplots_adjust(wspace = 0.1)\n",
    "\n",
    "ax = fig.add_subplot(111)\n",
    "ax.axhline(y=0,xmin=0.0001,xmax=0.9999, color='0.05', linestyle=':', linewidth = 2)\n",
    "plt.plot(time, np.mean(delta_g_ctrl_loop[4,:,:],1), color = '0.4', linewidth = 2)\n",
    "plt.plot(time, np.mean(delta_g_ctrl_loop[9,:,:],1), color = 'C4', linewidth = 2)\n",
    "\n",
    "plt.axvspan(2.5, 7.5, facecolor='0.5', alpha=0.2)\n",
    "plt.xlim([0.5,9.5])\n",
    "plt.ylim([-0.3,1.2])\n",
    "plt.axis('off') \n",
    "\n",
    "bbox_inches = 'tight'\n",
    "#plt.savefig('C:\\\\Users\\\\gammer\\\\Desktop\\\\DATA Surface\\\\LPi Opponency\\\\plots_LPi_ms\\\\\\\n",
    "#Fig7_conductance_local_global_model_traces.pdf',bbox_inches='tight', dpi=600, transparent=True)\n",
    "plt.show()"
   ]
  },
  {
   "cell_type": "code",
   "execution_count": null,
   "metadata": {},
   "outputs": [],
   "source": []
  }
 ],
 "metadata": {
  "kernelspec": {
   "display_name": "Python 2",
   "language": "python",
   "name": "python2"
  },
  "language_info": {
   "codemirror_mode": {
    "name": "ipython",
    "version": 2
   },
   "file_extension": ".py",
   "mimetype": "text/x-python",
   "name": "python",
   "nbconvert_exporter": "python",
   "pygments_lexer": "ipython2",
   "version": "2.7.15"
  }
 },
 "nbformat": 4,
 "nbformat_minor": 5
}
