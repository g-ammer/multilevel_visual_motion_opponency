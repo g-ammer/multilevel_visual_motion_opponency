{
 "cells": [
  {
   "cell_type": "markdown",
   "metadata": {},
   "source": [
    "### Analysis of w+; UAS-ArcLight/ +; R38G02-Gal4/ lexAop-TNT (Control Flies)"
   ]
  },
  {
   "cell_type": "code",
   "execution_count": 2,
   "metadata": {},
   "outputs": [],
   "source": [
    "# Python_version 2.7.15\n",
    "\n",
    "import numpy as np\n",
    "import matplotlib.pyplot as plt\n",
    "import pandas as pd\n",
    "import seaborn as sb\n",
    "import os\n",
    "import scipy.io\n",
    "from scipy import stats\n",
    "%matplotlib inline\n",
    "\n",
    "import octopus as oct"
   ]
  },
  {
   "cell_type": "code",
   "execution_count": 27,
   "metadata": {},
   "outputs": [],
   "source": [
    "filenames =['R38G02-ArcLight_TNT-Ctrl_SING001_2020-05-29_11.17-TNT-Ctrl_Ftrace_mean',\n",
    "            'R38G02-ArcLight_TNT-Ctrl_SING008_2020-05-29_18.58-TNT-Ctrl_Ftrace_mean',\n",
    "            'R38G02-ArcLight_TNT-Ctrl_SING006_2020-05-30_14.45-TNT-Ctrl_Ftrace_mean',\n",
    "            'R38G02-ArcLight_TNT-Ctrl_SING002_2020-05-31_20.48-TNT-Ctrl_Ftrace_mean',\n",
    "            'R38G02-ArcLight_TNT-Ctrl002_2020-06-02_14.32-TNT-Ctrl_Ftrace_mean',\n",
    "            'R38G02-ArcLight-TNT-Ctrl005_2020-06-05_15.25-TNT-Ctrl_Ftrace_mean',\n",
    "            'R38G02-ArcLight-TNT-Ctrl003_2020-06-07_17.40-TNT-Ctrl_Ftrace_mean']"
   ]
  },
  {
   "cell_type": "code",
   "execution_count": 28,
   "metadata": {},
   "outputs": [],
   "source": [
    "# Import Data\n",
    "time = np.load('time.npy')\n",
    "\n",
    "for i in range(len(filenames)):\n",
    "    a = np.load(filenames[i] + '.npy')\n",
    "    if(i==0):\n",
    "        Ftrace_all = a\n",
    "    if(i==1):\n",
    "        Ftrace_all = np.stack((Ftrace_all,a), axis=2)   \n",
    "    if(i>1):\n",
    "        a = a[:,:,np.newaxis]\n",
    "        Ftrace_all = np.concatenate((Ftrace_all,a), axis=2)   "
   ]
  },
  {
   "cell_type": "code",
   "execution_count": 31,
   "metadata": {},
   "outputs": [
    {
     "data": {
      "image/png": "[encoded data removed]",
      "text/plain": [
       "<Figure size 360x216 with 2 Axes>"
      ]
     },
     "metadata": {},
     "output_type": "display_data"
    }
   ],
   "source": [
    "fig = plt.figure(figsize = (5,3))\n",
    "\n",
    "ax = fig.add_subplot(121)\n",
    "plt.plot(time,Ftrace_all[:,6,:], color = '0.3', alpha = 0.5, linewidth = 1)\n",
    "plt.plot(time,np.mean(Ftrace_all[:,6,:], axis=1), color = '0.3', linewidth = 2.5)\n",
    "plt.axvspan(0, 1, facecolor='0.5', alpha=0.2)\n",
    "plt.xlim([-1.5,2.5])\n",
    "plt.ylim([-0.14,0.14])\n",
    "plt.axis('off') \n",
    "\n",
    "ax = fig.add_subplot(122)\n",
    "plt.plot(time,Ftrace_all[:,2,:], color = '0.3', alpha = 0.5, linewidth = 1)\n",
    "plt.plot(time,np.mean(Ftrace_all[:,2,:], axis=1), color = '0.3', linewidth = 2.5)\n",
    "plt.axvspan(0, 1, facecolor='0.5', alpha=0.2)\n",
    "plt.xlim([-1.5,2.5])\n",
    "plt.ylim([-0.14,0.14])\n",
    "plt.axis('off')\n",
    "\n",
    "bbox_inches = 'tight'\n",
    "#plt.savefig('Fig2_R38G02_TNT_Ctrl_Ftraces.pdf',bbox_inches='tight', dpi=600, transparent=True)\n",
    "plt.show()"
   ]
  },
  {
   "cell_type": "code",
   "execution_count": 33,
   "metadata": {},
   "outputs": [],
   "source": [
    "rotations = [0,45,90,135,180,225,270,315,360]\n",
    "Ftrace_mean = np.zeros([len(rotations),len(filenames)])\n",
    "Ftrace_sem = np.zeros([len(rotations)])\n",
    "for i in range(len(rotations)):\n",
    "    Ftrace_sem[i] = stats.sem(np.mean(Ftrace_all[38:51,i,:],0))\n",
    "    for j in range(len(filenames)):\n",
    "        Ftrace_mean[i,j] = np.mean(Ftrace_all[np.int(np.where(time == 0)[0]):51,i,j])"
   ]
  },
  {
   "cell_type": "code",
   "execution_count": 34,
   "metadata": {},
   "outputs": [],
   "source": [
    "# Input to MOI function\n",
    "rot_rad = np.radians(rotations[0:8])\n",
    "radius = np.mean(Ftrace_mean[0:8,:],1)"
   ]
  },
  {
   "cell_type": "code",
   "execution_count": 35,
   "metadata": {},
   "outputs": [
    {
     "name": "stdout",
     "output_type": "stream",
     "text": [
      "D_magn =0.1679509127633958   D_deg = 221.21961303967788\n",
      "H_magn =0.12581119458091466   H_deg = 228.42129670638568\n",
      "MOI = 0.7431854359439941\n",
      "D_magn =0.10475705171567355   D_deg = 259.76864387408705\n",
      "H_magn =0.11352155846442998   H_deg = 255.36158822254876\n",
      "MOI = 0.9200659121964134\n",
      "D_magn =0.14260543878966014   D_deg = 273.1646614399937\n",
      "H_magn =0.06461303657213113   H_deg = 275.8341936967848\n",
      "MOI = 0.4525978669915969\n",
      "D_magn =0.11474321631825352   D_deg = 260.56469196196326\n",
      "H_magn =0.08582159219811916   H_deg = 269.16903688997985\n",
      "MOI = 0.7395267119062255\n",
      "D_magn =0.1802540334099572   D_deg = 247.64384034348595\n",
      "H_magn =0.0711684293604298   H_deg = 254.94392221902393\n",
      "MOI = 0.39162261899261225\n",
      "D_magn =0.17256288210209722   D_deg = 228.67588571771248\n",
      "H_magn =0.10048761765176209   H_deg = 232.95948857026713\n",
      "MOI = 0.5806979423237993\n",
      "D_magn =0.17127020381082528   D_deg = 234.3079487256125\n",
      "H_magn =0.12277954907728074   H_deg = 248.98762283466547\n",
      "MOI = 0.6934758131608302\n"
     ]
    }
   ],
   "source": [
    "MOI_flies = np.empty(len(Ftrace_mean[0,:]))\n",
    "for i in range(len(Ftrace_mean[0,:])):\n",
    "    MOI_flies[i] = oct.MOI(rot_rad, Ftrace_mean[0:8,i])"
   ]
  },
  {
   "cell_type": "code",
   "execution_count": 36,
   "metadata": {
    "scrolled": false
   },
   "outputs": [
    {
     "name": "stdout",
     "output_type": "stream",
     "text": [
      "R_magn =0.2931941092037885   R_deg = 224.3032526243332\n",
      "R_indiv_magn = 0.39769433217106165\n",
      "LDir = 0.7372348195238445\n",
      "R_magn =0.21811746458024087   R_deg = 257.4765945642735\n",
      "R_indiv_magn = 0.27986838354491517\n",
      "LDir = 0.7793572886564941\n",
      "R_magn =0.207170214523388   R_deg = 273.9969734133165\n",
      "R_indiv_magn = 0.2774158114159057\n",
      "LDir = 0.7467858932265237\n",
      "R_magn =0.20001144260709344   R_deg = 264.2453431571527\n",
      "R_indiv_magn = 0.27317781895811727\n",
      "LDir = 0.732165749656851\n",
      "R_magn =0.25100854072952083   R_deg = 249.70848328451544\n",
      "R_indiv_magn = 0.3625268652426782\n",
      "LDir = 0.6923860403048857\n",
      "R_magn =0.27287304037891447   R_deg = 230.25208542388367\n",
      "R_indiv_magn = 0.3700028653486125\n",
      "LDir = 0.7374889924752788\n",
      "R_magn =0.2917060539996603   R_deg = 240.43091860483358\n",
      "R_indiv_magn = 0.4138885184882163\n",
      "LDir = 0.704793781342754\n"
     ]
    }
   ],
   "source": [
    "LDir_flies = np.empty(len(Ftrace_mean[0,:]))\n",
    "for i in range(len(Ftrace_mean[0,:])):\n",
    "    LDir_flies[i] = oct.LDir(rot_rad, Ftrace_mean[0:8,i])"
   ]
  },
  {
   "cell_type": "code",
   "execution_count": 38,
   "metadata": {},
   "outputs": [],
   "source": [
    "# Save Ftrace as numpy array\n",
    "\n",
    "np.save('R38G02_TNT_Ctrl_Ftrace_all.npy', Ftrace_all)\n",
    "np.save('R38G02_TNT_Ctrl_Ftrace_mean.npy', Ftrace_mean)\n",
    "np.save('R38G02_TNT_Ctrl_MOI.npy', MOI_flies)\n",
    "np.save('R38G02_TNT_Ctrl_LDir.npy', LDir_flies)"
   ]
  },
  {
   "cell_type": "code",
   "execution_count": null,
   "metadata": {},
   "outputs": [],
   "source": []
  }
 ],
 "metadata": {
  "kernelspec": {
   "display_name": "Python 2",
   "language": "python",
   "name": "python2"
  },
  "language_info": {
   "codemirror_mode": {
    "name": "ipython",
    "version": 2
   },
   "file_extension": ".py",
   "mimetype": "text/x-python",
   "name": "python",
   "nbconvert_exporter": "python",
   "pygments_lexer": "ipython2",
   "version": "2.7.15"
  }
 },
 "nbformat": 4,
 "nbformat_minor": 2
}
