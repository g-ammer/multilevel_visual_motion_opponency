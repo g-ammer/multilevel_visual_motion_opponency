{
 "cells": [
  {
   "cell_type": "markdown",
   "metadata": {},
   "source": [
    "#### Analysis of w+; UAS-ArcLight/ +; R24E09-Gal4/ lexAop-TNT Flies (Control flies)"
   ]
  },
  {
   "cell_type": "code",
   "execution_count": 4,
   "metadata": {},
   "outputs": [],
   "source": [
    "# Python_version 2.7.15\n",
    "\n",
    "import numpy as np\n",
    "import matplotlib.pyplot as plt\n",
    "import pandas as pd\n",
    "import seaborn as sb\n",
    "import os\n",
    "import scipy.io\n",
    "from scipy import stats\n",
    "%matplotlib inline\n",
    "\n",
    "import octopus as oct"
   ]
  },
  {
   "cell_type": "code",
   "execution_count": 5,
   "metadata": {},
   "outputs": [],
   "source": [
    "filenames =['R24E09_ArcLight_TNT_Ctrl002_2020-06-11_12.01TNT_Ctrl_Ftrace_mean',\n",
    "            'R24E09_ArcLight_TNT_Ctrl004_2020-06-11_12.53TNT_Ctrl_Ftrace_mean',\n",
    "            'R24E09_ArcLight_TNT_Ctrl003_2020-06-12_12.12TNT_Ctrl_Ftrace_mean',\n",
    "            'R24E09_ArcLight_TNT_Ctrl002_2020-06-15_12.18TNT_Ctrl_Ftrace_mean',\n",
    "            'R24E09_ArcLight_TNT_Ctrl003_2020-06-16_11.52TNT_Ctrl_Ftrace_mean',\n",
    "            'R24E09_ArcLight_TNT_Ctrl007_2020-06-16_15.03TNT_Ctrl_Ftrace_mean']"
   ]
  },
  {
   "cell_type": "code",
   "execution_count": 6,
   "metadata": {},
   "outputs": [],
   "source": [
    "# Import Data\n",
    "time = np.load('time.npy')\n",
    "\n",
    "for i in range(len(filenames)):\n",
    "    a = np.load(filenames[i] + '.npy')\n",
    "    if(i==0):\n",
    "        Ftrace_all = a\n",
    "    if(i==1):\n",
    "        Ftrace_all = np.stack((Ftrace_all,a), axis=2)   \n",
    "    if(i>1):\n",
    "        a = a[:,:,np.newaxis]\n",
    "        Ftrace_all = np.concatenate((Ftrace_all,a), axis=2)   "
   ]
  },
  {
   "cell_type": "code",
   "execution_count": 7,
   "metadata": {},
   "outputs": [
    {
     "data": {
      "image/png": "[encoded data removed]",
      "text/plain": [
       "<Figure size 360x216 with 2 Axes>"
      ]
     },
     "metadata": {},
     "output_type": "display_data"
    }
   ],
   "source": [
    "fig = plt.figure(figsize = (5,3))\n",
    "\n",
    "ax = fig.add_subplot(121)\n",
    "plt.plot(time,Ftrace_all[:,6,:], color = '0.3', alpha = 0.5, linewidth = 1)\n",
    "plt.plot(time,np.mean(Ftrace_all[:,6,:], axis=1), color = '0.3', linewidth = 2.5)\n",
    "plt.axvspan(0, 1, facecolor='0.5', alpha=0.2)\n",
    "plt.xlim([-1.5,2.5])\n",
    "plt.ylim([-0.14,0.14])\n",
    "plt.axis('off') \n",
    "\n",
    "ax = fig.add_subplot(122)\n",
    "plt.plot(time,Ftrace_all[:,2,:], color = '0.3', alpha = 0.5, linewidth = 1)\n",
    "plt.plot(time,np.mean(Ftrace_all[:,2,:], axis=1), color = '0.3', linewidth = 2.5)\n",
    "plt.axvspan(0, 1, facecolor='0.5', alpha=0.2)\n",
    "plt.xlim([-1.5,2.5])\n",
    "plt.ylim([-0.14,0.14])\n",
    "plt.axis('off')\n",
    "\n",
    "bbox_inches = 'tight'\n",
    "#plt.savefig('Fig2_R24E09_TNT_Ctrl_Ftraces.pdf',bbox_inches='tight', dpi=600, transparent=True)\n",
    "plt.show()"
   ]
  },
  {
   "cell_type": "code",
   "execution_count": 8,
   "metadata": {},
   "outputs": [],
   "source": [
    "rotations = [0,45,90,135,180,225,270,315,360]\n",
    "Ftrace_mean = np.zeros([len(rotations),len(filenames)])\n",
    "Ftrace_sem = np.zeros([len(rotations)])\n",
    "for i in range(len(rotations)):\n",
    "    Ftrace_sem[i] = stats.sem(np.mean(Ftrace_all[38:51,i,:],0))\n",
    "    for j in range(len(filenames)):\n",
    "        Ftrace_mean[i,j] = np.mean(Ftrace_all[np.int(np.where(time == 0)[0]):51,i,j])"
   ]
  },
  {
   "cell_type": "code",
   "execution_count": 9,
   "metadata": {},
   "outputs": [],
   "source": [
    "# Input to MOI function\n",
    "rot_rad = np.radians(rotations[0:8])\n",
    "radius = np.mean(Ftrace_mean[0:8,:],1)"
   ]
  },
  {
   "cell_type": "code",
   "execution_count": 10,
   "metadata": {},
   "outputs": [
    {
     "name": "stdout",
     "output_type": "stream",
     "text": [
      "D_magn =0.20613195890456468   D_deg = 216.56907140066406\n",
      "H_magn =0.16645550438241963   H_deg = 211.54860699806488\n",
      "MOI = 0.8044211075175421\n",
      "D_magn =0.21988911354864313   D_deg = 227.93511407312917\n",
      "H_magn =0.12631591470440567   H_deg = 226.7396510815572\n",
      "MOI = 0.5743277535560934\n",
      "D_magn =0.14898126617081253   D_deg = 250.98388536977413\n",
      "H_magn =0.1171335119657906   H_deg = 251.6142297640926\n",
      "MOI = 0.7861822256432048\n",
      "D_magn =0.2050466706505534   D_deg = 229.89059237692788\n",
      "H_magn =0.11584247602537624   H_deg = 223.58026645859533\n",
      "MOI = 0.5615336496979048\n",
      "D_magn =0.25524708001214946   D_deg = 237.1715567083821\n",
      "H_magn =0.1834325251588333   H_deg = 231.6757806854793\n",
      "MOI = 0.7153434774801537\n",
      "D_magn =0.16384506934709128   D_deg = 225.5451340667225\n",
      "H_magn =0.04009218068537346   H_deg = 230.42126081456425\n",
      "MOI = 0.2438100775831411\n"
     ]
    }
   ],
   "source": [
    "MOI_flies = np.empty(len(Ftrace_mean[0,:]))\n",
    "for i in range(len(Ftrace_mean[0,:])):\n",
    "    MOI_flies[i] = oct.MOI(rot_rad, Ftrace_mean[0:8,i])"
   ]
  },
  {
   "cell_type": "code",
   "execution_count": 12,
   "metadata": {},
   "outputs": [
    {
     "name": "stdout",
     "output_type": "stream",
     "text": [
      "R_magn =0.3722339905334864   R_deg = 214.32632045754355\n",
      "R_indiv_magn = 0.48174038696573157\n",
      "LDir = 0.7726858710726388\n",
      "R_magn =0.3461875651813135   R_deg = 227.49894443949833\n",
      "R_indiv_magn = 0.4780866271842539\n",
      "LDir = 0.7241105387536667\n",
      "R_magn =0.26611080966551925   R_deg = 251.261338404812\n",
      "R_indiv_magn = 0.3458546544578448\n",
      "LDir = 0.7694296035502819\n",
      "R_magn =0.3204403407114808   R_deg = 227.6133543046449\n",
      "R_indiv_magn = 0.40740489889656706\n",
      "LDir = 0.7865402246742128\n",
      "R_magn =0.43818871704451323   R_deg = 234.87385085434863\n",
      "R_indiv_magn = 0.5810694305068036\n",
      "LDir = 0.7541073304481513\n",
      "R_magn =0.2038206407164208   R_deg = 226.50317124752172\n",
      "R_indiv_magn = 0.2889489368339623\n",
      "LDir = 0.7053863667044449\n"
     ]
    }
   ],
   "source": [
    "LDir_flies = np.empty(len(Ftrace_mean[0,:]))\n",
    "for i in range(len(Ftrace_mean[0,:])):\n",
    "    LDir_flies[i] = oct.LDir(rot_rad, Ftrace_mean[0:8,i])"
   ]
  },
  {
   "cell_type": "code",
   "execution_count": 19,
   "metadata": {},
   "outputs": [],
   "source": [
    "# Save Ftrace as numpy array\n",
    "\n",
    "np.save('R24E09_TNT_Ctrl_Ftrace_all.npy', Ftrace_all)\n",
    "np.save('R24E09_TNT_Ctrl_Ftrace_mean.npy', Ftrace_mean)\n",
    "np.save('R24E09_TNT_Ctrl_MOI.npy', MOI_flies)\n",
    "np.save('R24E09_TNT_Ctrl_LDir.npy', LDir_flies)"
   ]
  },
  {
   "cell_type": "code",
   "execution_count": null,
   "metadata": {},
   "outputs": [],
   "source": []
  }
 ],
 "metadata": {
  "kernelspec": {
   "display_name": "Python 2",
   "language": "python",
   "name": "python2"
  },
  "language_info": {
   "codemirror_mode": {
    "name": "ipython",
    "version": 2
   },
   "file_extension": ".py",
   "mimetype": "text/x-python",
   "name": "python",
   "nbconvert_exporter": "python",
   "pygments_lexer": "ipython2",
   "version": "2.7.15"
  }
 },
 "nbformat": 4,
 "nbformat_minor": 2
}
