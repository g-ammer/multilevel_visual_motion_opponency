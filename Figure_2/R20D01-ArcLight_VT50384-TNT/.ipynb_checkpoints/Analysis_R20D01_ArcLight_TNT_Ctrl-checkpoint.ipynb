{
 "cells": [
  {
   "cell_type": "markdown",
   "metadata": {},
   "source": [
    "#### Analysis of w+; UAS-ArcLight/ +; R20D01-Gal4/ lexAop-TNT Flies (Control flies)"
   ]
  },
  {
   "cell_type": "code",
   "execution_count": 2,
   "metadata": {},
   "outputs": [],
   "source": [
    "# Python_version 2.7.15\n",
    "\n",
    "import numpy as np\n",
    "import matplotlib.pyplot as plt\n",
    "import pandas as pd\n",
    "import seaborn as sb\n",
    "import os\n",
    "import scipy.io\n",
    "from scipy import stats\n",
    "%matplotlib inline\n",
    "\n",
    "import octopus as oct"
   ]
  },
  {
   "cell_type": "code",
   "execution_count": 3,
   "metadata": {},
   "outputs": [],
   "source": [
    "filenames =['R20D01-ArcLight-TNT-Ctrl009_2020-06-03_19.23-TNT-Ctrl_Ftrace_mean',\n",
    "            'R20D01-ArcLight-TNT-Ctrl004_2020-06-04_16.33-TNT-Ctrl_Ftrace_mean',\n",
    "            'R20D01-ArcLight-TNT-Ctrl001_2020-06-05_11.35-TNT-Ctrl_Ftrace_mean',\n",
    "            'R20D01-ArcLight-TNT-Ctrl007_2020-06-05_17.57-TNT-Ctrl_Ftrace_mean',\n",
    "            'R20D01-ArcLight-TNT-Ctrl009_2020-06-05_18.46-TNT-Ctrl_Ftrace_mean',\n",
    "            'R21D01_ArcLight_TNT_Ctrl006_2020-06-11_14.23-TNT-Ctrl_Ftrace_mean']"
   ]
  },
  {
   "cell_type": "code",
   "execution_count": 4,
   "metadata": {},
   "outputs": [],
   "source": [
    "# Import Data\n",
    "time = np.load('time.npy')\n",
    "\n",
    "for i in range(len(filenames)):\n",
    "    a = np.load(filenames[i] + '.npy')\n",
    "    if(i==0):\n",
    "        Ftrace_all = a\n",
    "    if(i==1):\n",
    "        Ftrace_all = np.stack((Ftrace_all,a), axis=2)   \n",
    "    if(i>1):\n",
    "        a = a[:,:,np.newaxis]\n",
    "        Ftrace_all = np.concatenate((Ftrace_all,a), axis=2)   "
   ]
  },
  {
   "cell_type": "code",
   "execution_count": 5,
   "metadata": {},
   "outputs": [
    {
     "data": {
      "image/png": "[encoded data removed]",
      "text/plain": [
       "<Figure size 360x216 with 2 Axes>"
      ]
     },
     "metadata": {},
     "output_type": "display_data"
    }
   ],
   "source": [
    "fig = plt.figure(figsize = (5,3))\n",
    "\n",
    "ax = fig.add_subplot(121)\n",
    "plt.plot(time,Ftrace_all[:,6,:], color = '0.3', alpha = 0.5, linewidth = 1)\n",
    "plt.plot(time,np.mean(Ftrace_all[:,6,:], axis=1), color = '0.3', linewidth = 2.5)\n",
    "plt.axvspan(0, 1, facecolor='0.5', alpha=0.2)\n",
    "plt.xlim([-1.5,2.5])\n",
    "plt.ylim([-0.14,0.14])\n",
    "plt.axis('off') \n",
    "\n",
    "ax = fig.add_subplot(122)\n",
    "plt.plot(time,Ftrace_all[:,2,:], color = '0.3', alpha = 0.5, linewidth = 1)\n",
    "plt.plot(time,np.mean(Ftrace_all[:,2,:], axis=1), color = '0.3', linewidth = 2.5)\n",
    "plt.axvspan(0, 1, facecolor='0.5', alpha=0.2)\n",
    "plt.xlim([-1.5,2.5])\n",
    "plt.ylim([-0.14,0.14])\n",
    "plt.axis('off')\n",
    "\n",
    "bbox_inches = 'tight'\n",
    "#plt.savefig('Fig2_R20D01_TNT-Ctrl_Ftraces.pdf',bbox_inches='tight', dpi=600, transparent=True)\n",
    "plt.show()"
   ]
  },
  {
   "cell_type": "code",
   "execution_count": 7,
   "metadata": {},
   "outputs": [],
   "source": [
    "rotations = [0,45,90,135,180,225,270,315,360]\n",
    "Ftrace_mean = np.zeros([len(rotations),len(filenames)])\n",
    "Ftrace_sem = np.zeros([len(rotations)])\n",
    "for i in range(len(rotations)):\n",
    "    Ftrace_sem[i] = stats.sem(np.mean(Ftrace_all[38:51,i,:],0))\n",
    "    for j in range(len(filenames)):\n",
    "        Ftrace_mean[i,j] = np.mean(Ftrace_all[np.int(np.where(time == 0)[0]):51,i,j])"
   ]
  },
  {
   "cell_type": "code",
   "execution_count": 8,
   "metadata": {},
   "outputs": [],
   "source": [
    "# Input to MOI function\n",
    "rot_rad = np.radians(rotations[0:8])\n",
    "radius = np.mean(Ftrace_mean[0:8,:],1)"
   ]
  },
  {
   "cell_type": "code",
   "execution_count": 9,
   "metadata": {},
   "outputs": [
    {
     "name": "stdout",
     "output_type": "stream",
     "text": [
      "D_magn =0.12918129809372497   D_deg = 63.92071284613544\n",
      "H_magn =0.09855000457354586   H_deg = 54.741279976140966\n",
      "MOI = 0.753111592383534\n",
      "D_magn =0.18424671543577623   D_deg = 58.739455939235945\n",
      "H_magn =0.05068640934731417   H_deg = 31.81558134334041\n",
      "MOI = 0.24528228330338367\n",
      "D_magn =0.12670626800206566   D_deg = 57.60614479235146\n",
      "H_magn =0.12290252366275849   H_deg = 51.79529901874816\n",
      "MOI = 0.9649956434248026\n",
      "D_magn =0.14308812041874677   D_deg = 69.16955415796836\n",
      "H_magn =0.09068590629584554   H_deg = 72.92812177075791\n",
      "MOI = 0.6324134570430736\n",
      "D_magn =0.11661597509824906   D_deg = 38.91837908565087\n",
      "H_magn =0.1409210018769076   H_deg = 44.863685283340125\n",
      "MOI = 0.8230762080494589\n",
      "D_magn =0.15579978010898743   D_deg = 55.71347091357287\n",
      "H_magn =0.14237602718741235   H_deg = 50.73682517820346\n",
      "MOI = 0.9103946713521969\n"
     ]
    }
   ],
   "source": [
    "MOI_flies = np.empty(len(Ftrace_mean[0,:]))\n",
    "for i in range(len(Ftrace_mean[0,:])):\n",
    "    MOI_flies[i] = oct.MOI(rot_rad, Ftrace_mean[0:8,i])"
   ]
  },
  {
   "cell_type": "code",
   "execution_count": 10,
   "metadata": {
    "scrolled": false
   },
   "outputs": [
    {
     "name": "stdout",
     "output_type": "stream",
     "text": [
      "R_magn =0.2270142598066258   R_deg = 59.94964199998215\n",
      "R_indiv_magn = 0.3250179012555081\n",
      "LDir = 0.698466942681295\n",
      "R_magn =0.23058422984556154   R_deg = 53.02708086741506\n",
      "R_indiv_magn = 0.3151868046204309\n",
      "LDir = 0.7315795790475637\n",
      "R_magn =0.2492880101530228   R_deg = 54.7450351126811\n",
      "R_indiv_magn = 0.3215349139861421\n",
      "LDir = 0.7753061932296625\n",
      "R_magn =0.23365460816678038   R_deg = 70.62743877055362\n",
      "R_indiv_magn = 0.3309143647533068\n",
      "LDir = 0.7060878373804275\n",
      "R_magn =0.2571935239532311   R_deg = 42.171825773437796\n",
      "R_indiv_magn = 0.34229092669605193\n",
      "LDir = 0.7513886693865368\n",
      "R_magn =0.29789522464029966   R_deg = 53.33724166368797\n",
      "R_indiv_magn = 0.40586699250112257\n",
      "LDir = 0.7339725332295302\n"
     ]
    }
   ],
   "source": [
    "LDir_flies = np.empty(len(Ftrace_mean[0,:]))\n",
    "for i in range(len(Ftrace_mean[0,:])):\n",
    "    LDir_flies[i] = oct.LDir(rot_rad, Ftrace_mean[0:8,i])"
   ]
  },
  {
   "cell_type": "code",
   "execution_count": 19,
   "metadata": {},
   "outputs": [],
   "source": [
    "# Save Ftrace as numpy array\n",
    "\n",
    "np.save('R20D01_TNT_Ctrl_Ftrace_all.npy', Ftrace_all)\n",
    "np.save('R20D01_TNT_Ctrl_Ftrace_mean.npy', Ftrace_mean)\n",
    "np.save('R20D01_TNT_Ctrl_MOI.npy', MOI_flies)\n",
    "np.save('R20D01_TNT_Ctrl_LDir.npy', LDir_flies)"
   ]
  },
  {
   "cell_type": "code",
   "execution_count": null,
   "metadata": {},
   "outputs": [],
   "source": []
  }
 ],
 "metadata": {
  "kernelspec": {
   "display_name": "Python 2",
   "language": "python",
   "name": "python2"
  },
  "language_info": {
   "codemirror_mode": {
    "name": "ipython",
    "version": 2
   },
   "file_extension": ".py",
   "mimetype": "text/x-python",
   "name": "python",
   "nbconvert_exporter": "python",
   "pygments_lexer": "ipython2",
   "version": "2.7.15"
  }
 },
 "nbformat": 4,
 "nbformat_minor": 2
}
