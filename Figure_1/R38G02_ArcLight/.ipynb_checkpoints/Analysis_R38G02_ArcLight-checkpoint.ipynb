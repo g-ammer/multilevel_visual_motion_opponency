{
 "cells": [
  {
   "cell_type": "code",
   "execution_count": 1,
   "metadata": {},
   "outputs": [],
   "source": [
    "# Python_version 2.7.15\n",
    "\n",
    "%matplotlib inline\n",
    "import numpy as np\n",
    "import matplotlib.pyplot as plt\n",
    "import pandas as pd\n",
    "import seaborn as sb\n",
    "import os\n",
    "import scipy.io\n",
    "from scipy import stats\n",
    "import octopus as oct"
   ]
  },
  {
   "cell_type": "code",
   "execution_count": 2,
   "metadata": {},
   "outputs": [],
   "source": [
    "filenames =['R38G02_ArcLight_SING_1s3p_006_2020-01-09_15.21_Ftrace_mean',\n",
    "            'R38G02_ArcLight_SING_1s3p_009_2020-01-09_16.42_Ftrace_mean',\n",
    "            'R38G02_ArcLight_SING_013_2020-01-09_18.17_Ftrace_mean',\n",
    "            'R38G02_ArcLight_SING_001_2020-01-10_10.56_Ftrace_mean',\n",
    "            'R38G02_ArcLight_SING_006_2020-01-10_15.20_Ftrace_mean',\n",
    "            'R38G02_ArcLight_SING_004_2020-01-13_17.03_Ftrace_mean',\n",
    "            'R38G02_ArcLight_SING_006_2020-01-24_18.04_Ftrace_mean',\n",
    "            'R38G02_ArcLight_SING_009_2020-08-11_18.56_Ftrace_mean',\n",
    "            'R38G02_ArcLight_SING_001_2020-08-13_14.44_Ftrace_mean',\n",
    "            'R38G02_ArcLight_SING_001_2020-08-28_15.35_Ftrace_mean',\n",
    "            'R38G02_ArcLight_SING_001_2020-09-04_14.55_Ftrace_mean',\n",
    "            'R38G02_ArcLight_SING_004_2020-09-07_14.06_Ftrace_mean',\n",
    "            'R38G02_ArcLight_SING_008_2020-09-07_16.34_Ftrace_mean',\n",
    "            'R38G02_ArcLight_SING_012_2020-09-07_18.14_Ftrace_mean',\n",
    "            'R38G02_ArcLight_SING_003_2020-09-09_12.32_Ftrace_mean']"
   ]
  },
  {
   "cell_type": "code",
   "execution_count": 3,
   "metadata": {},
   "outputs": [],
   "source": [
    "# Import Data\n",
    "time = np.load('time.npy')\n",
    "\n",
    "for i in range(len(filenames)):\n",
    "    a = np.load(filenames[i] + '.npy')\n",
    "    if(i==0):\n",
    "        Ftrace_all = a\n",
    "    if(i==1):\n",
    "        Ftrace_all = np.stack((Ftrace_all,a), axis=2)   \n",
    "    if(i>1):\n",
    "        a = a[:,:,np.newaxis]\n",
    "        Ftrace_all = np.concatenate((Ftrace_all,a), axis=2)   "
   ]
  },
  {
   "cell_type": "code",
   "execution_count": 4,
   "metadata": {},
   "outputs": [
    {
     "data": {
      "image/png": "[encoded data removed]",
      "text/plain": [
       "<Figure size 288x187.2 with 2 Axes>"
      ]
     },
     "metadata": {},
     "output_type": "display_data"
    }
   ],
   "source": [
    "fig = plt.figure(figsize = (4, 2.6))\n",
    "\n",
    "plt.subplots_adjust(wspace=0.1)\n",
    "\n",
    "ax = fig.add_subplot(121)\n",
    "plt.plot(time,Ftrace_all[:,6,:], color = 'C0', alpha = 0.35, linewidth = 1)\n",
    "plt.plot(time,np.mean(Ftrace_all[:,6,:], axis=1), color = 'C0', linewidth = 2.5)\n",
    "plt.axvspan(0, 1, facecolor='0.2', alpha=0.2)\n",
    "plt.xlim([-1.5,2.5])\n",
    "plt.ylim([-0.16,0.16])\n",
    "plt.axis('off') \n",
    "\n",
    "ax = fig.add_subplot(122)\n",
    "plt.plot(time,Ftrace_all[:,2,:], color = 'C0', alpha = 0.35, linewidth = 1)\n",
    "plt.plot(time,np.mean(Ftrace_all[:,2,:], axis=1), color = 'C0', linewidth = 2.5)\n",
    "plt.axvspan(0, 1, facecolor='0.2', alpha=0.2)\n",
    "plt.xlim([-1.5,2.5])\n",
    "plt.ylim([-0.135,0.135])\n",
    "plt.axis('off')\n",
    "\n",
    "bbox_inches = 'tight'\n",
    "#plt.savefig('Fig1_R38G02_Ftraces.pdf',bbox_inches='tight', dpi=600, transparent=True)\n",
    "plt.show()"
   ]
  },
  {
   "cell_type": "code",
   "execution_count": 5,
   "metadata": {},
   "outputs": [],
   "source": [
    "rotations = [0,45,90,135,180,225,270,315,360]\n",
    "Ftrace_mean = np.zeros([len(rotations),len(filenames)])\n",
    "Ftrace_sem = np.zeros([len(rotations)])\n",
    "for i in range(len(rotations)):\n",
    "    Ftrace_sem[i] = stats.sem(np.mean(Ftrace_all[38:51,i,:],0))\n",
    "    for j in range(len(filenames)):\n",
    "        Ftrace_mean[i,j] = np.mean(Ftrace_all[np.int(np.where(time == 0)[0]):51,i,j])"
   ]
  },
  {
   "cell_type": "code",
   "execution_count": 6,
   "metadata": {},
   "outputs": [],
   "source": [
    "# Input to MOI function\n",
    "rot_rad = np.radians(rotations[0:8])\n",
    "radius = np.mean(Ftrace_mean[0:8,:],1)"
   ]
  },
  {
   "cell_type": "code",
   "execution_count": 7,
   "metadata": {
    "scrolled": false
   },
   "outputs": [
    {
     "name": "stdout",
     "output_type": "stream",
     "text": [
      "D_magn =0.1201234090257115   D_deg = 234.1188998487069\n",
      "H_magn =0.18607850228295927   H_deg = 247.17137415252589\n",
      "MOI = 0.6288735954784855\n",
      "D_magn =0.2383859370178115   D_deg = 225.0877563442411\n",
      "H_magn =0.2818756267783029   H_deg = 234.99000656229242\n",
      "MOI = 0.8331142448579973\n",
      "D_magn =0.19402102120753228   D_deg = 246.31279276384674\n",
      "H_magn =0.19814996046658798   H_deg = 249.50749312437114\n",
      "MOI = 0.9776408593815311\n",
      "D_magn =0.18503379756447313   D_deg = 241.7779190687433\n",
      "H_magn =0.15693339662474876   H_deg = 244.48776567987818\n",
      "MOI = 0.8471852722231108\n",
      "D_magn =0.13797204447653508   D_deg = 234.77101351007036\n",
      "H_magn =0.17038308848657652   H_deg = 238.26392323666425\n",
      "MOI = 0.8082711805720193\n",
      "D_magn =0.12930094244556126   D_deg = 230.90191234244244\n",
      "H_magn =0.14477549688181376   H_deg = 231.86199804448106\n",
      "MOI = 0.8929880590107621\n",
      "D_magn =0.15968839901590695   D_deg = 241.3295569352785\n",
      "H_magn =0.10498808120826335   H_deg = 250.96266316672776\n",
      "MOI = 0.6481854574352042\n",
      "D_magn =0.13068131959728244   D_deg = 249.71675362168796\n",
      "H_magn =0.04685190057294022   H_deg = 238.5152625281817\n",
      "MOI = 0.3516904841615086\n",
      "D_magn =0.1456967462608236   D_deg = 234.6645309198902\n",
      "H_magn =0.10613135426460348   H_deg = 246.28735955644962\n",
      "MOI = 0.7135034885275715\n",
      "D_magn =0.17519019681981274   D_deg = 239.11900909172832\n",
      "H_magn =0.08186384447909033   H_deg = 255.5390842001007\n",
      "MOI = 0.44822728766049447\n",
      "D_magn =0.15655429625752748   D_deg = 238.84700657204894\n",
      "H_magn =0.16201489886669207   H_deg = 229.85483794107603\n",
      "MOI = 0.9544196253460214\n",
      "D_magn =0.12703348228090652   D_deg = 251.16956281829897\n",
      "H_magn =0.11821462022661158   H_deg = 248.957256583751\n",
      "MOI = 0.9298848353444703\n",
      "D_magn =0.14167543649924072   D_deg = 235.67388237928307\n",
      "H_magn =0.1752829531085473   H_deg = 228.92449008148094\n",
      "MOI = 0.8026655258212022\n",
      "D_magn =0.1466393141842915   D_deg = 213.2581184456033\n",
      "H_magn =0.16297598854151887   H_deg = 215.2871139245225\n",
      "MOI = 0.899196121809608\n",
      "D_magn =0.10325769617463061   D_deg = 245.25590237668465\n",
      "H_magn =0.13379707093667362   H_deg = 244.22727025636937\n",
      "MOI = 0.7716241870015996\n"
     ]
    }
   ],
   "source": [
    "MOI_flies = np.empty(len(Ftrace_mean[0,:]))\n",
    "for i in range(len(Ftrace_mean[0,:])):\n",
    "    MOI_flies[i] = oct.MOI(rot_rad, Ftrace_mean[0:8,i])"
   ]
  },
  {
   "cell_type": "code",
   "execution_count": 8,
   "metadata": {},
   "outputs": [
    {
     "name": "stdout",
     "output_type": "stream",
     "text": [
      "R_magn =0.30431004219184793   R_deg = 242.05669695524523\n",
      "R_indiv_magn = 0.42435320543661964\n",
      "LDir = 0.7171149841527448\n",
      "R_magn =0.518333892426749   R_deg = 230.45378176788293\n",
      "R_indiv_magn = 0.6977142593570821\n",
      "LDir = 0.7429028222877005\n",
      "R_magn =0.3920186030025494   R_deg = 247.926964869355\n",
      "R_indiv_magn = 0.5637981661100627\n",
      "LDir = 0.695317272326886\n",
      "R_magn =0.34187222658118366   R_deg = 243.02148391752127\n",
      "R_indiv_magn = 0.48423158876509936\n",
      "LDir = 0.7060097575481095\n",
      "R_magn =0.3082134782184869   R_deg = 236.7010935597719\n",
      "R_indiv_magn = 0.4261539824399392\n",
      "LDir = 0.7232443926812898\n",
      "R_magn =0.27406685046181106   R_deg = 231.40905939298932\n",
      "R_indiv_magn = 0.3630099049091424\n",
      "LDir = 0.7549844969943923\n",
      "R_magn =0.2637818021077156   R_deg = 245.14842909692385\n",
      "R_indiv_magn = 0.3514259748809948\n",
      "LDir = 0.7506041697601932\n",
      "R_magn =0.17687501754756327   R_deg = 246.76718634000244\n",
      "R_indiv_magn = 0.24671725862825605\n",
      "LDir = 0.7169138410948042\n",
      "R_magn =0.2505658727453994   R_deg = 239.55983234947487\n",
      "R_indiv_magn = 0.3396082235639199\n",
      "LDir = 0.7378086140432896\n",
      "R_magn =0.2547683729904975   R_deg = 244.3304712672312\n",
      "R_indiv_magn = 0.32921882201195596\n",
      "LDir = 0.7738572522480056\n",
      "R_magn =0.3175891485265352   R_deg = 234.27369623003048\n",
      "R_indiv_magn = 0.4227446092161086\n",
      "LDir = 0.751255348034923\n",
      "R_magn =0.24520245832607906   R_deg = 250.10319073188776\n",
      "R_indiv_magn = 0.3221611956530443\n",
      "LDir = 0.7611172966658376\n",
      "R_magn =0.3164149437605095   R_deg = 231.94095305225719\n",
      "R_indiv_magn = 0.41969608907571054\n",
      "LDir = 0.7539144442764398\n",
      "R_magn =0.3095669047627052   R_deg = 214.32615115721504\n",
      "R_indiv_magn = 0.3873415962931251\n",
      "LDir = 0.7992090385470426\n",
      "R_magn =0.23704537502261175   R_deg = 244.67532607639313\n",
      "R_indiv_magn = 0.35108159028668356\n",
      "LDir = 0.6751860011487558\n"
     ]
    }
   ],
   "source": [
    "LDir_flies = np.empty(len(Ftrace_mean[0,:]))\n",
    "for i in range(len(Ftrace_mean[0,:])):\n",
    "    LDir_flies[i] = oct.LDir(rot_rad, Ftrace_mean[0:8,i])"
   ]
  },
  {
   "cell_type": "code",
   "execution_count": 11,
   "metadata": {},
   "outputs": [],
   "source": [
    "R_deg_flies = np.empty(len(Ftrace_mean[0,:]))\n",
    "for i in range(len(Ftrace_mean[0,:])):\n",
    "    R_deg_flies[i] = oct.R_deg(rot_rad, Ftrace_mean[0:8,i])"
   ]
  },
  {
   "cell_type": "code",
   "execution_count": 12,
   "metadata": {},
   "outputs": [],
   "source": [
    "# Save Ftrace as numpy array\n",
    "\n",
    "np.save('R38G02_Ftrace_mean.npy', Ftrace_mean)\n",
    "np.save('R38G02_Ftrace_all.npy', Ftrace_all)\n",
    "np.save('R38G02_MOI.npy', MOI_flies)\n",
    "np.save('R38G02_LDir.npy', LDir_flies)\n",
    "np.save('R38G02_R_deg.npy', R_deg_flies)"
   ]
  },
  {
   "cell_type": "code",
   "execution_count": null,
   "metadata": {},
   "outputs": [],
   "source": []
  }
 ],
 "metadata": {
  "kernelspec": {
   "display_name": "Python 2",
   "language": "python",
   "name": "python2"
  },
  "language_info": {
   "codemirror_mode": {
    "name": "ipython",
    "version": 2
   },
   "file_extension": ".py",
   "mimetype": "text/x-python",
   "name": "python",
   "nbconvert_exporter": "python",
   "pygments_lexer": "ipython2",
   "version": "2.7.15"
  }
 },
 "nbformat": 4,
 "nbformat_minor": 2
}
