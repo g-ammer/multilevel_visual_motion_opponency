{
 "cells": [
  {
   "cell_type": "code",
   "execution_count": 2,
   "metadata": {},
   "outputs": [],
   "source": [
    "# Python_version 2.7.15\n",
    "\n",
    "import numpy as np\n",
    "import matplotlib.pyplot as plt\n",
    "import pandas as pd\n",
    "import seaborn as sb\n",
    "import os\n",
    "import scipy.io\n",
    "from scipy import stats\n",
    "%matplotlib inline\n",
    "import octopus as oct"
   ]
  },
  {
   "cell_type": "code",
   "execution_count": 23,
   "metadata": {},
   "outputs": [],
   "source": [
    "# Import Data\n",
    "\n",
    "R24E09_Ftrace_mean = np.load('R24E09_Ftrace_mean.npy')\n",
    "R24E09_ArcLight_MOI = np.load('R24E09_MOI.npy')\n",
    "R24E09_ArcLight_LDir = np.load('R24E09_LDir.npy')\n",
    "R24E09_R_deg = np.load('R24E09_R_deg.npy')\n",
    "\n",
    "R20D01_Ftrace_mean = np.load('R20D01_Ftrace_mean.npy')\n",
    "R20D01_ArcLight_MOI = np.load('R20D01_MOI.npy')\n",
    "R20D01_ArcLight_LDir = np.load('R20D01_LDir.npy')\n",
    "R20D01_R_deg = np.load('R20D01_R_deg.npy')\n",
    "\n",
    "R38G02_Ftrace_mean = np.load('R38G02_Ftrace_mean.npy')\n",
    "R38G02_ArcLight_MOI = np.load('R38G02_MOI.npy')\n",
    "R38G02_ArcLight_LDir = np.load('R38G02_LDir.npy')\n",
    "R38G02_R_deg = np.load('R38G02_R_deg.npy')\n",
    "\n",
    "SplitT4c_Ftrace_mean = np.load('SplitT4c_Ftrace_mean.npy')\n",
    "SplitT4c_ArcLight_MOI = np.load('SplitT4c_MOI.npy')\n",
    "SplitT4c_ArcLight_LDir = np.load('SplitT4c_LDir.npy')\n",
    "SplitT4c_R_deg = np.load('SplitT4c_R_deg.npy')\n",
    "\n",
    "rotations = [0,45,90,135,180,225,270,315,360]"
   ]
  },
  {
   "cell_type": "code",
   "execution_count": 21,
   "metadata": {},
   "outputs": [
    {
     "name": "stdout",
     "output_type": "stream",
     "text": [
      "slope: -0.974543 intercept: 0.000114 r_value : -0.995686\n"
     ]
    },
    {
     "data": {
      "image/png": "[encoded data removed]",
      "text/plain": [
       "<Figure size 165.6x165.6 with 1 Axes>"
      ]
     },
     "metadata": {},
     "output_type": "display_data"
    }
   ],
   "source": [
    "slope, intercept, r_value, p_value, std_err = \\\n",
    "    scipy.stats.linregress(np.mean(R38G02_Ftrace_mean,1), np.mean(R20D01_Ftrace_mean,1))\n",
    "print(\"slope: %f intercept: %f r_value : %f\" % (slope, intercept, r_value))\n",
    "\n",
    "fig = plt.figure(figsize = (2.3, 2.3))\n",
    "ax = fig.add_subplot(111)\n",
    "\n",
    "plt.errorbar(np.mean(R38G02_Ftrace_mean,1), np.mean(R20D01_Ftrace_mean,1),\n",
    "             xerr = stats.sem(R38G02_Ftrace_mean,1), yerr = stats.sem(R20D01_Ftrace_mean,1), fmt='none', color = '0.1')\n",
    "plt.plot(np.mean(R38G02_Ftrace_mean,1),\\\n",
    "         intercept + slope*(np.mean(R38G02_Ftrace_mean,1)), color = '0.5', LineWidth = '1.5', zorder=0)\n",
    "\n",
    "ax.axhline(y=0, color='0.2', linestyle=':')\n",
    "ax.axvline(x=0, color='0.2', linestyle=':')\n",
    "ax.set_ylabel('  LPi 3-4 \\n-$\\Delta F/F$ (%)', size=10)\n",
    "ax.set_xlabel('  LPi4-3 \\n-$\\Delta F/F$ (%)', size=10)\n",
    "ax.spines[\"top\"].set_visible(False)\n",
    "ax.spines[\"right\"].set_visible(False)\n",
    "ax.spines['left'].set_position(('outward', 7))\n",
    "ax.spines['bottom'].set_position(('outward', 7))\n",
    "yticks = np.array([-0.05,0,0.05,0.1])\n",
    "ax.set_yticks(yticks)\n",
    "ax.set_yticklabels(('-5','0','5','10'), size=10)\n",
    "xticks = np.array([-0.05,0,0.05,0.1])\n",
    "ax.set_xticks(xticks)\n",
    "ax.set_xticklabels(('-5','0','5','10'), size=10)\n",
    "for axis in ['top','bottom','left','right']:\n",
    "  ax.spines[axis].set_linewidth(0.5)\n",
    "ax.tick_params(axis='both', which='major', labelsize=10)\n",
    "plt.xlim([-0.08,0.08])\n",
    "plt.ylim([-0.08,0.08])\n",
    "\n",
    "#plt.tight_layout()\n",
    "#plt.savefig('Fig1_R20D01_R38G02_Regression.pdf',bbox_inches='tight', dpi=600, transparent=True)\n",
    "plt.show()"
   ]
  },
  {
   "cell_type": "code",
   "execution_count": 27,
   "metadata": {},
   "outputs": [
    {
     "data": {
      "text/plain": [
       "1.728869090460403e-08"
      ]
     },
     "execution_count": 27,
     "metadata": {},
     "output_type": "execute_result"
    }
   ],
   "source": [
    "p_value"
   ]
  },
  {
   "cell_type": "code",
   "execution_count": 24,
   "metadata": {},
   "outputs": [
    {
     "data": {
      "image/png": "[encoded data removed]",
      "text/plain": [
       "<Figure size 144x162 with 1 Axes>"
      ]
     },
     "metadata": {},
     "output_type": "display_data"
    }
   ],
   "source": [
    "# Make Scatter Plot of MOI\n",
    "\n",
    "pos = [0,1,2,3]\n",
    "\n",
    "fig = plt.figure(figsize = (0.5*len(pos), 2.25))\n",
    "\n",
    "#plt.subplots_adjust(wspace = 0.5)\n",
    "ax = fig.add_subplot(111)\n",
    "w = 0.6\n",
    "wb = 0.6\n",
    "data = [R24E09_ArcLight_MOI, R20D01_ArcLight_MOI, R38G02_ArcLight_MOI, SplitT4c_ArcLight_MOI]\n",
    "colors = ['C2', 'C1', 'C0', 'C3']\n",
    "\n",
    "ax.axhline(y=0,xmin=0.0001,xmax=0.9999, color='0.05', linestyle=':', linewidth = 1)\n",
    "\n",
    "for j in range (len(data)):\n",
    "    ax.plot([pos[j]-w/2, pos[j]+w/2],[np.mean(data[j]),np.mean(data[j])],\n",
    "            color=colors[j], linestyle='-', linewidth = 4)\n",
    "    ax.errorbar(pos[j],np.mean(data[j]),yerr=[stats.sem(data[j])], color='k',zorder = 0)    \n",
    "    for i in range(len(data[j])):\n",
    "        ax.scatter(pos[j] + np.random.random(1) * w/2 - w/4, data[j][i], s=25, color=colors[j], alpha=0.5, zorder = 2) \n",
    "   \n",
    "ax.spines[\"top\"].set_visible(False)\n",
    "ax.spines[\"right\"].set_visible(False)\n",
    "ax.spines['left'].set_position(('outward', 7))\n",
    "ax.spines['bottom'].set_position(('outward', 7))\n",
    "ax.set_xticks(pos)\n",
    "ax.set_xticklabels(('VS',' LPi3-4', ' LPi4-3', 'T4c'), rotation=45, size=10)\n",
    "ax.set_ylabel('Motion opponency index', size=10)\n",
    "plt.ylim([0,1])\n",
    "ax.tick_params(axis='both', which='major', labelsize=10)\n",
    "\n",
    "bbox_inches = 'tight'\n",
    "#plt.savefig('Fig1_R24E09_R20D01_R38G02_MOI.pdf',bbox_inches='tight', dpi=600, transparent=True)\n",
    "\n",
    "plt.show()"
   ]
  },
  {
   "cell_type": "code",
   "execution_count": 25,
   "metadata": {},
   "outputs": [
    {
     "data": {
      "image/png": "[encoded data removed]",
      "text/plain": [
       "<Figure size 144x162 with 1 Axes>"
      ]
     },
     "metadata": {},
     "output_type": "display_data"
    }
   ],
   "source": [
    "# Make Scatter Plot of LDir\n",
    "\n",
    "pos = [0,1,2,3]\n",
    "\n",
    "fig = plt.figure(figsize = (0.5*len(pos), 2.25))\n",
    "\n",
    "ax = fig.add_subplot(111)\n",
    "w = 0.6\n",
    "wb = 0.6\n",
    "data = [R24E09_ArcLight_LDir, R20D01_ArcLight_LDir, R38G02_ArcLight_LDir, SplitT4c_ArcLight_LDir]\n",
    "colors = ['C2', 'C1', 'C0', 'C3']\n",
    "\n",
    "ax.axhline(y=0,xmin=0.0001,xmax=0.9999, color='0.05', linestyle=':', linewidth = 1)\n",
    "\n",
    "for j in range (len(data)):\n",
    "    ax.plot([pos[j]-w/2, pos[j]+w/2],[np.mean(data[j]),np.mean(data[j])],\n",
    "            color=colors[j], linestyle='-', linewidth = 4)\n",
    "    ax.errorbar(pos[j],np.mean(data[j]),yerr=[stats.sem(data[j])], color='k',zorder = 0)    \n",
    "    for i in range(len(data[j])):\n",
    "        ax.scatter(pos[j] + np.random.random(1) * w/2 - w/4, data[j][i], s=25, color=colors[j], alpha=0.5, zorder = 2) \n",
    "   \n",
    "ax.spines[\"top\"].set_visible(False)\n",
    "ax.spines[\"right\"].set_visible(False)\n",
    "ax.spines['left'].set_position(('outward', 7))\n",
    "ax.spines['bottom'].set_position(('outward', 7))\n",
    "ax.set_xticks(pos)\n",
    "ax.set_xticklabels(('VS',' LPi3-4', ' LPi4-3', 'T4c'), rotation=45, size=10)\n",
    "ax.set_ylabel('Direction selectivity index', size=10)\n",
    "ax.tick_params(axis='both', which='major', labelsize=10)\n",
    "plt.ylim([0,1])\n",
    "\n",
    "bbox_inches = 'tight'\n",
    "#plt.savefig('Fig1_R24E09_R20D01_R38G02_LDir.pdf',bbox_inches='tight', dpi=600, transparent=True)\n",
    "\n",
    "plt.show()"
   ]
  },
  {
   "cell_type": "code",
   "execution_count": 26,
   "metadata": {},
   "outputs": [
    {
     "data": {
      "image/png": "[encoded data removed]",
      "text/plain": [
       "<Figure size 144x162 with 1 Axes>"
      ]
     },
     "metadata": {},
     "output_type": "display_data"
    }
   ],
   "source": [
    "# Make Scatter Plot of R_deg\n",
    "\n",
    "pos = [0,1,2,3]\n",
    "\n",
    "fig = plt.figure(figsize = (0.5*len(pos), 2.25))\n",
    "\n",
    "ax = fig.add_subplot(111)\n",
    "w = 0.6\n",
    "wb = 0.6\n",
    "data = [np.radians(R24E09_R_deg), np.radians(R20D01_R_deg), np.radians(R38G02_R_deg), np.radians(SplitT4c_R_deg)]\n",
    "colors = ['C2', 'C1', 'C0', 'C3']\n",
    "\n",
    "ax.axhline(y=0,xmin=0.0001,xmax=0.9999, color='0.05', linestyle=':', linewidth = 1)\n",
    "\n",
    "for j in range (len(data)):\n",
    "    ax.plot([pos[j]-w/2, pos[j]+w/2],[stats.circmean(data[j]),stats.circmean(data[j])],\n",
    "            color=colors[j], linestyle='-', linewidth = 4)\n",
    "    ax.errorbar(pos[j],stats.circmean(data[j]),yerr=[stats.circstd(data[j])], color='k',zorder = 0)    \n",
    "    for i in range(len(data[j])):\n",
    "        ax.scatter(pos[j] + np.random.random(1) * w/2 - w/4, data[j][i], s=25, color=colors[j], alpha=0.5, zorder = 2) \n",
    "   \n",
    "ax.spines[\"top\"].set_visible(False)\n",
    "ax.spines[\"right\"].set_visible(False)\n",
    "ax.spines['left'].set_position(('outward', 7))\n",
    "ax.spines['bottom'].set_position(('outward', 7))\n",
    "ax.set_xticks(pos)\n",
    "ax.set_xticklabels(('VS',' LPi3-4', ' LPi4-3', 'T4c'), rotation=45, size=10)\n",
    "ax.set_yticks(np.radians(rotations[::2]))\n",
    "ax.set_yticklabels(rotations[::2])\n",
    "ax.set_ylabel(u'Preferred direction [°]', size=10)\n",
    "ax.tick_params(axis='both', which='major', labelsize=10)\n",
    "plt.ylim([0,np.pi*2])\n",
    "\n",
    "bbox_inches = 'tight'\n",
    "#plt.savefig('Fig1_R24E09_R20D01_R38G02_SplitT4c_R_deg.pdf',bbox_inches='tight', dpi=600, transparent=True)\n",
    "\n",
    "plt.show()"
   ]
  },
  {
   "cell_type": "code",
   "execution_count": null,
   "metadata": {},
   "outputs": [],
   "source": []
  }
 ],
 "metadata": {
  "kernelspec": {
   "display_name": "Python 2",
   "language": "python",
   "name": "python2"
  },
  "language_info": {
   "codemirror_mode": {
    "name": "ipython",
    "version": 2
   },
   "file_extension": ".py",
   "mimetype": "text/x-python",
   "name": "python",
   "nbconvert_exporter": "python",
   "pygments_lexer": "ipython2",
   "version": "2.7.15"
  }
 },
 "nbformat": 4,
 "nbformat_minor": 2
}
