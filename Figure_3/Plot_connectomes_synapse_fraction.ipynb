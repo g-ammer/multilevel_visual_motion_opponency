{
 "cells": [
  {
   "cell_type": "code",
   "execution_count": 1,
   "metadata": {},
   "outputs": [],
   "source": [
    "%matplotlib inline\n",
    "import numpy as np\n",
    "import matplotlib.pyplot as plt\n",
    "import pandas as pd\n",
    "import seaborn as sb\n",
    "import os\n",
    "import scipy.io\n",
    "from scipy import stats\n",
    "\n",
    "import octopus as oct"
   ]
  },
  {
   "cell_type": "code",
   "execution_count": 2,
   "metadata": {},
   "outputs": [],
   "source": [
    "# Fractions of synapses\n",
    "\n",
    "#Mauss\n",
    "\n",
    "lpi43 = np.array([475, 27], dtype=np.float32)\n",
    "lpi43_frac = lpi43 / np.sum(lpi43)\n",
    "\n",
    "lpi34 = np.array([1475, 78], dtype=np.float32)\n",
    "lpi34_frac = lpi34 / np.sum(lpi34)\n",
    "\n",
    "vslp4 = np.array([2065, 239], dtype=np.float32)\n",
    "vslp4_frac = vslp4 / np.sum(vslp4)\n",
    "\n",
    "#Shinomiya\n",
    "\n",
    "lpi43_sh = np.array([435, 27], dtype=np.float32)\n",
    "lpi43_sh_frac = lpi43_sh / np.sum(lpi43_sh)\n",
    "\n",
    "lpi34_sh = np.array([551, 21], dtype=np.float32)\n",
    "lpi34_sh_frac = lpi34_sh / np.sum(lpi34_sh)\n",
    "\n",
    "vslp4_sh = np.array([155, 41], dtype=np.float32)\n",
    "vslp4_sh_frac = vslp4_sh / np.sum(vslp4_sh)\n",
    "\n",
    "vslp2_sh = np.array([169, 21], dtype=np.float32)\n",
    "vslp2_sh_frac = vslp2_sh / np.sum(vslp2_sh)\n",
    "\n",
    "hs_sh = np.array([314, 27], dtype=np.float32)\n",
    "hs_sh_frac = hs_sh / np.sum(hs_sh)"
   ]
  },
  {
   "cell_type": "code",
   "execution_count": 3,
   "metadata": {},
   "outputs": [
    {
     "data": {
      "image/png": "[encoded data removed]",
      "text/plain": [
       "<Figure size 93.6x169.2 with 1 Axes>"
      ]
     },
     "metadata": {},
     "output_type": "display_data"
    }
   ],
   "source": [
    "# Make Figure for Synapse fraction (MAUSS)\n",
    "\n",
    "fig = plt.figure(figsize = (1.3, 2.35))\n",
    "\n",
    "w = 0.6\n",
    "\n",
    "ax = fig.add_subplot(111)\n",
    "\n",
    "ax.axhline(y=0,xmin=0.0001,xmax=0.9999, color='0.05', linestyle=':', linewidth = 2)\n",
    "\n",
    "ax.bar(0, height = lpi43_frac[0], width = w, color = 'C3', alpha = 0.7)\n",
    "ax.bar(0, height = lpi43_frac[1], width = w, bottom = lpi43_frac[0], color = 'C0', alpha = 0.7)\n",
    "\n",
    "ax.bar(1, height = lpi34_frac[0], width = w, color = 'C3', alpha = 0.7)\n",
    "ax.bar(1, height = lpi34_frac[1], width = w, bottom = lpi34_frac[0], color = 'C0', alpha = 0.7)\n",
    "\n",
    "ax.bar(2, height = vslp4_frac[0], width = w, color = 'C3', alpha = 0.7)\n",
    "ax.bar(2, height = vslp4_frac[1], width = w, bottom = vslp4_frac[0], color = 'C0', alpha = 0.7)\n",
    "\n",
    "\n",
    "ax.spines[\"top\"].set_visible(False)\n",
    "ax.spines[\"right\"].set_visible(False)\n",
    "ax.set_xticks([0, 1, 2])\n",
    "ax.set_yticks([0, 0.25, 0.5, 0.75, 1])\n",
    "ax.set_yticklabels(('0', '25', '50', '75', '100'), size=10)\n",
    "ax.set_ylabel('LPi + T4/T5 synapses (%)', size=10)\n",
    "ax.spines['left'].set_position(('outward', 7))\n",
    "ax.spines['bottom'].set_position(('outward', 7))\n",
    "plt.ylim([0,1])\n",
    "ax.set_xticklabels(('LPi4-3', 'LPi3-4', 'VS'), rotation = 45, size=10)\n",
    "plt.xticks(size=10)\n",
    "plt.yticks(size=10)\n",
    "\n",
    "plt.savefig('C:\\\\Users\\\\gammer\\\\Desktop\\\\DATA Surface\\\\LPi Opponency\\\\LPi Manuscript\\\\FigureS3_Conductance_ratios\\\\\\\n",
    "FigS3_percent_synapses_mauss.pdf',bbox_inches='tight', dpi=600, transparent=True)\n",
    "plt.show()"
   ]
  },
  {
   "cell_type": "code",
   "execution_count": 11,
   "metadata": {},
   "outputs": [
    {
     "data": {
      "image/png": "[encoded data removed]",
      "text/plain": [
       "<Figure size 28.8x169.2 with 1 Axes>"
      ]
     },
     "metadata": {},
     "output_type": "display_data"
    }
   ],
   "source": [
    "# Make Figure for Synapse fraction (MAUSS)\n",
    "\n",
    "fig = plt.figure(figsize = (0.4, 2.35))\n",
    "\n",
    "w = 0.6\n",
    "\n",
    "ax = fig.add_subplot(111)\n",
    "\n",
    "ax.axhline(y=0,xmin=0.0001,xmax=0.9999, color='0.05', linestyle=':', linewidth = 2)\n",
    "\n",
    "ax.bar(0, height = vslp4_frac[0], width = w, color = 'C3', alpha = 0.7)\n",
    "ax.bar(0, height = vslp4_frac[1], width = w, bottom = vslp4_frac[0], color = 'C0', alpha = 0.7)\n",
    "\n",
    "\n",
    "ax.spines[\"top\"].set_visible(False)\n",
    "ax.spines[\"right\"].set_visible(False)\n",
    "ax.set_xticks([0])\n",
    "ax.set_yticks([0, 0.25, 0.5, 0.75, 1])\n",
    "ax.set_yticklabels(('0', '25', '50', '75', '100'), size=10)\n",
    "ax.set_ylabel('LPi + T4/T5 synapses (%)', size=10)\n",
    "ax.spines['left'].set_position(('outward', 7))\n",
    "ax.spines['bottom'].set_position(('outward', 7))\n",
    "plt.ylim([0,1])\n",
    "ax.set_xticklabels(('VS', ''), rotation = 45, size=10)\n",
    "plt.xticks(size=10)\n",
    "plt.yticks(size=10)\n",
    "\n",
    "plt.savefig('C:\\\\Users\\\\gammer\\\\Desktop\\\\DATA Surface\\\\LPi Opponency\\\\plots_LPi_ms\\\\\n",
    "FigSX_percent_synapses_mauss_onlyVS.pdf',bbox_inches='tight', dpi=600, transparent=True)\n",
    "plt.show()"
   ]
  },
  {
   "cell_type": "code",
   "execution_count": 4,
   "metadata": {},
   "outputs": [
    {
     "data": {
      "image/png": "[encoded data removed]",
      "text/plain": [
       "<Figure size 151.2x169.2 with 1 Axes>"
      ]
     },
     "metadata": {},
     "output_type": "display_data"
    }
   ],
   "source": [
    "# Make Figure for Synapse fraction (SHINOMIYA)\n",
    "\n",
    "fig = plt.figure(figsize = (2.1, 2.35))\n",
    "\n",
    "w = 0.6\n",
    "\n",
    "ax = fig.add_subplot(111)\n",
    "\n",
    "ax.axhline(y=0,xmin=0.0001,xmax=0.9999, color='0.05', linestyle=':', linewidth = 2)\n",
    "\n",
    "ax.bar(0, height = lpi43_sh_frac[0], width = w, color = 'C3', alpha = 0.7)\n",
    "ax.bar(0, height = lpi43_sh_frac[1], width = w, bottom = lpi43_sh_frac[0], color = 'C0', alpha = 0.7)\n",
    "\n",
    "ax.bar(1, height = lpi34_sh_frac[0], width = w, color = 'C3', alpha = 0.7)\n",
    "ax.bar(1, height = lpi34_sh_frac[1], width = w, bottom = lpi34_sh_frac[0], color = 'C0', alpha = 0.7)\n",
    "\n",
    "ax.bar(2, height = vslp4_sh_frac[0], width = w, color = 'C3', alpha = 0.7)\n",
    "ax.bar(2, height = vslp4_sh_frac[1], width = w, bottom = vslp4_sh_frac[0], color = 'C0', alpha = 0.7)\n",
    "\n",
    "ax.bar(3, height = vslp2_sh_frac[0], width = w, color = 'C3', alpha = 0.7)\n",
    "ax.bar(3, height = vslp2_sh_frac[1], width = w, bottom = vslp2_sh_frac[0], color = 'C0', alpha = 0.7)\n",
    "\n",
    "ax.bar(4, height = hs_sh_frac[0], width = w, color = 'C3', alpha = 0.7)\n",
    "ax.bar(4, height = hs_sh_frac[1], width = w, bottom = hs_sh_frac[0], color = 'C0', alpha = 0.7)\n",
    "\n",
    "ax.spines[\"top\"].set_visible(False)\n",
    "ax.spines[\"right\"].set_visible(False)\n",
    "ax.set_xticks([0, 1, 2, 3, 4])\n",
    "ax.set_yticks([0, 0.25, 0.5, 0.75, 1])\n",
    "ax.set_yticklabels(('0', '25', '50', '75', '100'), size=10)\n",
    "ax.set_ylabel('LPi + T4/T5 synapses (%)', size=10)\n",
    "ax.spines['left'].set_position(('outward', 7))\n",
    "ax.spines['bottom'].set_position(('outward', 7))\n",
    "plt.ylim([0,1])\n",
    "ax.set_xticklabels(('LPi4-3', 'LPi3-4', 'VS (4)', 'VS (2)', 'HS'), rotation = 45, size=10)\n",
    "plt.xticks(size=10)\n",
    "plt.yticks(size=10)\n",
    "\n",
    "bbox_inches = 'tight'\n",
    "plt.savefig('C:\\\\Users\\\\gammer\\\\Desktop\\\\DATA Surface\\\\LPi Opponency\\\\LPi Manuscript\\\\FigureS3_Conductance_ratios\\\\\n",
    "FigS3_percent_synapses_shinomiya.pdf',bbox_inches='tight', dpi=600, transparent=True)\n",
    "plt.show()"
   ]
  },
  {
   "cell_type": "code",
   "execution_count": null,
   "metadata": {},
   "outputs": [],
   "source": []
  },
  {
   "cell_type": "code",
   "execution_count": null,
   "metadata": {},
   "outputs": [],
   "source": []
  }
 ],
 "metadata": {
  "kernelspec": {
   "display_name": "Python 2",
   "language": "python",
   "name": "python2"
  },
  "language_info": {
   "codemirror_mode": {
    "name": "ipython",
    "version": 2
   },
   "file_extension": ".py",
   "mimetype": "text/x-python",
   "name": "python",
   "nbconvert_exporter": "python",
   "pygments_lexer": "ipython2",
   "version": "2.7.15"
  }
 },
 "nbformat": 4,
 "nbformat_minor": 2
}
