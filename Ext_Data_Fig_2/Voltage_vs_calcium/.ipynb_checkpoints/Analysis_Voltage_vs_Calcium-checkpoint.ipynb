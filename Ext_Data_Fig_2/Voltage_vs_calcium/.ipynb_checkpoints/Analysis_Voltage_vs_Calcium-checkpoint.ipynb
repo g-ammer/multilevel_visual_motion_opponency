{
 "cells": [
  {
   "cell_type": "code",
   "execution_count": 1,
   "metadata": {},
   "outputs": [],
   "source": [
    "import numpy as np\n",
    "import matplotlib.pyplot as plt\n",
    "import pandas as pd\n",
    "import seaborn as sb\n",
    "import os\n",
    "import scipy.io\n",
    "from scipy import stats\n",
    "%matplotlib inline\n",
    "\n",
    "import octopus as oct"
   ]
  },
  {
   "cell_type": "code",
   "execution_count": 2,
   "metadata": {
    "scrolled": false
   },
   "outputs": [],
   "source": [
    "# Import GCamP6f data\n",
    "\n",
    "R20D01_GC6f_Ftrace_mean = np.load('R20D01_GC6f_Ftrace_mean.npy')\n",
    "R20D01_GC6f_MOI = np.load('R20D01_GC6f_MOI.npy')\n",
    "R20D01_GC6f_LDir = np.load('R20D01_GC6f_LDir.npy')\n",
    "R20D01_GC6f_R_deg = np.load('R20D01_GC6f_R_deg.npy')\n",
    "\n",
    "R38G02_GC6f_Ftrace_mean = np.load('R38G02_GC6f_Ftrace_mean.npy')\n",
    "R38G02_GC6f_MOI = np.load('R38G02_GC6f_MOI.npy')\n",
    "R38G02_GC6f_LDir = np.load('R38G02_GC6f_LDir.npy')\n",
    "R38G02_GC6f_R_deg = np.load('R38G02_GC6f_R_deg.npy')\n",
    "\n",
    "R24E09_GC6f_Ftrace_mean = np.load('R24E09_GC6f_Ftrace_mean.npy')\n",
    "R24E09_GC6f_MOI = np.load('R24E09_GC6f_MOI.npy')\n",
    "R24E09_GC6f_LDir = np.load('R24E09_GC6f_LDir.npy')\n",
    "R24E09_GC6f_R_deg = np.load('R24E09_GC6f_R_deg.npy')\n",
    "\n",
    "SplitT4c_GC6f_Ftrace_mean = np.load('SplitT4c_GC6f_Ftrace_mean_axons.npy')\n",
    "SplitT4c_GC6f_MOI = np.load('SplitT4c_GC6f_MOI_axons.npy')\n",
    "SplitT4c_GC6f_LDir = np.load('SplitT4c_GC6f_LDir_axons.npy')\n",
    "SplitT4c_GC6f_R_deg = np.load('SplitT4c_GC6f_R_deg_axons.npy')"
   ]
  },
  {
   "cell_type": "code",
   "execution_count": 3,
   "metadata": {},
   "outputs": [],
   "source": [
    "# Import ArcLight data\n",
    "\n",
    "R20D01_ArcLight_Ftrace_mean = np.load('R20D01_Ftrace_mean_voltage.npy')\n",
    "R20D01_ArcLight_MOI = np.load('R20D01_MOI_voltage.npy')\n",
    "R20D01_ArcLight_LDir = np.load('R20D01_LDir_voltage.npy')\n",
    "R20D01_ArcLight_R_deg = np.load('R20D01_R_deg_voltage.npy')\n",
    "\n",
    "R38G02_ArcLight_Ftrace_mean = np.load('R38G02_Ftrace_mean_voltage.npy')\n",
    "R38G02_ArcLight_MOI = np.load('R38G02_MOI_voltage.npy')\n",
    "R38G02_ArcLight_LDir = np.load('R38G02_LDir_voltage.npy')\n",
    "R38G02_ArcLight_R_deg = np.load('R38G02_R_deg_voltage.npy')\n",
    "\n",
    "R24E09_ArcLight_Ftrace_mean = np.load('R24E09_Ftrace_mean_voltage.npy')\n",
    "R24E09_ArcLight_MOI = np.load('R24E09_MOI_voltage.npy')\n",
    "R24E09_ArcLight_LDir = np.load('R24E09_LDir_voltage.npy')\n",
    "R24E09_ArcLight_R_deg = np.load('R24E09_R_deg_voltage.npy')\n",
    "\n",
    "SplitT4c_ArcLight_Ftrace_mean = np.load('SplitT4c_Ftrace_mean_voltage.npy')\n",
    "SplitT4c_ArcLight_MOI = np.load('SplitT4c_MOI_voltage.npy')\n",
    "SplitT4c_ArcLight_LDir = np.load('SplitT4c_LDir_voltage.npy')\n",
    "SplitT4c_ArcLight_R_deg = np.load('SplitT4c_R_deg_voltage.npy')\n",
    "\n",
    "# Import Ephys Data\n",
    "R24E09_Ephys_mean = np.load('R24E09_ArcLight_meandata_align.npy')"
   ]
  },
  {
   "cell_type": "code",
   "execution_count": 4,
   "metadata": {},
   "outputs": [],
   "source": [
    "rotations = [0,45,90,135,180,225,270,315,360]"
   ]
  },
  {
   "cell_type": "code",
   "execution_count": 5,
   "metadata": {
    "scrolled": true
   },
   "outputs": [
    {
     "data": {
      "image/png": "[encoded data removed]",
      "text/plain": [
       "<Figure size 288x162 with 1 Axes>"
      ]
     },
     "metadata": {},
     "output_type": "display_data"
    }
   ],
   "source": [
    "# Make Scatter Plot of MOI\n",
    "\n",
    "#pos = [0, 1, 2.5, 3.5, 5, 6, 7.5, 8.5]\n",
    "\n",
    "pos = [0, 1, 3, 4, 6, 7, 9, 10]\n",
    "\n",
    "fig = plt.figure(figsize = (0.5*len(pos), 2.25))\n",
    "\n",
    "ax = fig.add_subplot(111)\n",
    "w = 0.6\n",
    "wb = 0.6\n",
    "data = [R24E09_ArcLight_MOI, R24E09_GC6f_MOI, R20D01_ArcLight_MOI, R20D01_GC6f_MOI,\n",
    "        R38G02_ArcLight_MOI, R38G02_GC6f_MOI, SplitT4c_ArcLight_MOI, SplitT4c_GC6f_MOI]\n",
    "\n",
    "colors = ['C2', 'C2', 'C1', 'C1', 'C0', 'C0', 'C3', 'C3']\n",
    "\n",
    "ax.axhline(y=0,xmin=0.0001,xmax=0.9999, color='0.05', linestyle=':', linewidth = 1)\n",
    "\n",
    "for j in range (len(data)):\n",
    "    ax.plot([pos[j]-w/2, pos[j]+w/2],[np.mean(data[j]),np.mean(data[j])],\n",
    "            color=colors[j], linestyle='-', linewidth = 4)\n",
    "    ax.errorbar(pos[j],np.mean(data[j]),yerr=[stats.sem(data[j])], color='k',zorder = 0)    \n",
    "    for i in range(len(data[j])):\n",
    "        ax.scatter(pos[j] + np.random.random(1) * w/2 - w/4, data[j][i], s=25, color=colors[j], alpha=0.5, zorder = 2) \n",
    "   \n",
    "ax.spines[\"top\"].set_visible(False)\n",
    "ax.spines[\"right\"].set_visible(False)\n",
    "ax.spines['left'].set_position(('outward', 7))\n",
    "ax.spines['bottom'].set_position(('outward', 7))\n",
    "ax.set_xticks(pos)\n",
    "ax.set_xticklabels(('ArcLight','GCaMP', 'ArcLight','GCaMP', 'ArcLight','GCaMP', 'ArcLight','GCaMP',), rotation=45, size=10)\n",
    "ax.set_ylabel('Motion opponency index', size=10)\n",
    "plt.ylim([0,1])\n",
    "\n",
    "\n",
    "bbox_inches = 'tight'\n",
    "#plt.savefig('C:\\\\Users\\\\gammer\\\\Desktop\\\\DATA Surface\\\\LPi Opponency\\\\plots_LPi_ms\\\\\\\n",
    "#FigS2_Voltage_vs_Ca_MOI.pdf',bbox_inches='tight', dpi=600, transparent=True)\n",
    "\n",
    "plt.show()"
   ]
  },
  {
   "cell_type": "code",
   "execution_count": 6,
   "metadata": {
    "scrolled": true
   },
   "outputs": [
    {
     "data": {
      "image/png": "[encoded data removed]",
      "text/plain": [
       "<Figure size 288x162 with 1 Axes>"
      ]
     },
     "metadata": {},
     "output_type": "display_data"
    }
   ],
   "source": [
    "# Make Scatter Plot of LDir\n",
    "\n",
    "#pos = [0, 1, 2.5, 3.5, 5, 6, 7.5, 8.5]\n",
    "\n",
    "pos = [0, 1, 3, 4, 6, 7, 9, 10]\n",
    "\n",
    "fig = plt.figure(figsize = (0.5*len(pos), 2.25))\n",
    "\n",
    "ax = fig.add_subplot(111)\n",
    "w = 0.6\n",
    "wb = 0.6\n",
    "data = [R24E09_ArcLight_LDir, R24E09_GC6f_LDir, R20D01_ArcLight_LDir, R20D01_GC6f_LDir,\n",
    "        R38G02_ArcLight_LDir, R38G02_GC6f_LDir, SplitT4c_ArcLight_LDir, SplitT4c_GC6f_LDir]\n",
    "\n",
    "colors = ['C2', 'C2', 'C1', 'C1', 'C0', 'C0', 'C3', 'C3']\n",
    "\n",
    "ax.axhline(y=0,xmin=0.0001,xmax=0.9999, color='0.05', linestyle=':', linewidth = 1)\n",
    "\n",
    "for j in range (len(data)):\n",
    "    ax.plot([pos[j]-w/2, pos[j]+w/2],[np.mean(data[j]),np.mean(data[j])],\n",
    "            color=colors[j], linestyle='-', linewidth = 4)\n",
    "    ax.errorbar(pos[j],np.mean(data[j]),yerr=[stats.sem(data[j])], color='k',zorder = 0)    \n",
    "    for i in range(len(data[j])):\n",
    "        ax.scatter(pos[j] + np.random.random(1) * w/2 - w/4, data[j][i], s=25, color=colors[j], alpha=0.5, zorder = 2) \n",
    "   \n",
    "ax.spines[\"top\"].set_visible(False)\n",
    "ax.spines[\"right\"].set_visible(False)\n",
    "ax.spines['left'].set_position(('outward', 7))\n",
    "ax.spines['bottom'].set_position(('outward', 7))\n",
    "ax.set_xticks(pos)\n",
    "ax.set_xticklabels(('ArcLight','GCaMP', 'ArcLight','GCaMP', 'ArcLight','GCaMP', 'ArcLight','GCaMP',), rotation=45, size=10)\n",
    "ax.set_ylabel('Direction selectivity index', size=10)\n",
    "plt.ylim([0,1])\n",
    "\n",
    "bbox_inches = 'tight'\n",
    "#plt.savefig('C:\\\\Users\\\\gammer\\\\Desktop\\\\DATA Surface\\\\LPi Opponency\\\\plots_LPi_ms\\\\\n",
    "#FigS2_Voltage_vs_Ca_LDir.pdf',bbox_inches='tight', dpi=600, transparent=True)\n",
    "\n",
    "plt.show()"
   ]
  },
  {
   "cell_type": "code",
   "execution_count": 7,
   "metadata": {},
   "outputs": [
    {
     "data": {
      "image/png": "[encoded data removed]",
      "text/plain": [
       "<Figure size 288x162 with 1 Axes>"
      ]
     },
     "metadata": {},
     "output_type": "display_data"
    }
   ],
   "source": [
    "# Make Scatter Plot of R_deg\n",
    "\n",
    "pos = [0, 1, 3, 4, 6, 7, 9, 10]\n",
    "\n",
    "\n",
    "fig = plt.figure(figsize = (0.5*len(pos), 2.25))\n",
    "\n",
    "ax = fig.add_subplot(111)\n",
    "w = 0.6\n",
    "wb = 0.6\n",
    "\n",
    "data = [np.radians(R24E09_ArcLight_R_deg), np.radians(R24E09_GC6f_R_deg), np.radians(R20D01_ArcLight_R_deg),\n",
    "        np.radians(R20D01_GC6f_R_deg), np.radians(R38G02_ArcLight_R_deg), np.radians(R38G02_GC6f_R_deg),\n",
    "        np.radians(SplitT4c_ArcLight_R_deg), np.radians(SplitT4c_GC6f_R_deg)]\n",
    "\n",
    "colors = ['C2', 'C2', 'C1', 'C1', 'C0', 'C0', 'C3', 'C3']\n",
    "\n",
    "ax.axhline(y=0,xmin=0.0001,xmax=0.9999, color='0.05', linestyle=':', linewidth = 1)\n",
    "\n",
    "for j in range (len(data)):\n",
    "    ax.plot([pos[j]-w/2, pos[j]+w/2],[stats.circmean(data[j]),stats.circmean(data[j])],\n",
    "            color=colors[j], linestyle='-', linewidth = 4)\n",
    "    ax.errorbar(pos[j],stats.circmean(data[j]),yerr=[stats.circstd(data[j])], color='k',zorder = 0)    \n",
    "    for i in range(len(data[j])):\n",
    "        ax.scatter(pos[j] + np.random.random(1) * w/2 - w/4, data[j][i], s=25, color=colors[j], alpha=0.5, zorder = 2) \n",
    "   \n",
    "ax.spines[\"top\"].set_visible(False)\n",
    "ax.spines[\"right\"].set_visible(False)\n",
    "ax.spines['left'].set_position(('outward', 7))\n",
    "ax.spines['bottom'].set_position(('outward', 7))\n",
    "ax.set_xticks(pos)\n",
    "ax.set_xticklabels(('ArcLight','GCaMP', 'ArcLight','GCaMP', 'ArcLight','GCaMP', 'ArcLight','GCaMP',), rotation=45, size=10)\n",
    "ax.set_yticks(np.radians(rotations[::2]))\n",
    "ax.set_yticklabels(rotations[::2])\n",
    "ax.set_ylabel(u'Preferred direction [°]', size=10)\n",
    "plt.ylim([0,np.pi*2])\n",
    "\n",
    "bbox_inches = 'tight'\n",
    "#plt.savefig('C:\\\\Users\\\\gammer\\\\Desktop\\\\DATA Surface\\\\LPi Opponency\\\\plots_LPi_ms\\\\\\\n",
    "#FigS2_Voltage_vs_Ca_R_deg.pdf',bbox_inches='tight', dpi=600, transparent=True)\n",
    "\n",
    "plt.show()"
   ]
  },
  {
   "cell_type": "code",
   "execution_count": 8,
   "metadata": {},
   "outputs": [
    {
     "name": "stdout",
     "output_type": "stream",
     "text": [
      "LeveneResult(statistic=4.162731027420552, pvalue=0.052472559150980674)\n",
      "LeveneResult(statistic=1.693656957415887, pvalue=0.20547456661606558)\n",
      "LeveneResult(statistic=0.2162522447743039, pvalue=0.645383507301053)\n",
      "LeveneResult(statistic=0.029016792736005537, pvalue=0.8662971016675098)\n",
      "Ttest_indResult(statistic=7.355100188071081, pvalue=1.3514215639699052e-07)\n",
      "Ttest_indResult(statistic=6.06085102793843, pvalue=2.9343293738807865e-06)\n",
      "Ttest_indResult(statistic=6.270568219987911, pvalue=7.602835392640357e-07)\n",
      "Ttest_indResult(statistic=-0.12078435559732134, pvalue=0.9049582019783982)\n"
     ]
    }
   ],
   "source": [
    "print(stats.levene(R24E09_ArcLight_MOI, R24E09_GC6f_MOI))\n",
    "print(stats.levene(R20D01_ArcLight_MOI, R20D01_GC6f_MOI))\n",
    "print(stats.levene(R38G02_ArcLight_MOI, R38G02_GC6f_MOI))\n",
    "print(stats.levene(SplitT4c_ArcLight_MOI, SplitT4c_GC6f_MOI))\n",
    "\n",
    "print(stats.ttest_ind(R24E09_ArcLight_MOI, R24E09_GC6f_MOI, equal_var=True))\n",
    "print(stats.ttest_ind(R20D01_ArcLight_MOI, R20D01_GC6f_MOI, equal_var=True))\n",
    "print(stats.ttest_ind(R38G02_ArcLight_MOI, R38G02_GC6f_MOI, equal_var=True))\n",
    "print(stats.ttest_ind(SplitT4c_ArcLight_MOI, SplitT4c_GC6f_MOI, equal_var=True))"
   ]
  },
  {
   "cell_type": "code",
   "execution_count": 9,
   "metadata": {},
   "outputs": [
    {
     "name": "stdout",
     "output_type": "stream",
     "text": [
      "LeveneResult(statistic=0.013746900511178344, pvalue=0.907639870166063)\n",
      "LeveneResult(statistic=1.1968574113863935, pvalue=0.284809686729236)\n",
      "LeveneResult(statistic=0.17118047227152922, pvalue=0.6821087125659094)\n",
      "LeveneResult(statistic=1.986712770624503, pvalue=0.17266505210915947)\n",
      "Ttest_indResult(statistic=-4.292410154246123, pvalue=0.000251096577822946)\n",
      "Ttest_indResult(statistic=-6.060627565951493, pvalue=2.9359381356145792e-06)\n",
      "Ttest_indResult(statistic=-8.619782441990381, pvalue=1.712037842315767e-09)\n",
      "Ttest_indResult(statistic=-1.4243402552878293, pvalue=0.1683790426348235)\n"
     ]
    }
   ],
   "source": [
    "print(stats.levene(R24E09_ArcLight_LDir, R24E09_GC6f_LDir))\n",
    "print(stats.levene(R20D01_ArcLight_LDir, R20D01_GC6f_LDir))\n",
    "print(stats.levene(R38G02_ArcLight_LDir, R38G02_GC6f_LDir))\n",
    "print(stats.levene(SplitT4c_ArcLight_LDir, SplitT4c_GC6f_LDir))\n",
    "\n",
    "print(stats.ttest_ind(R24E09_ArcLight_LDir, R24E09_GC6f_LDir, equal_var=True))\n",
    "print(stats.ttest_ind(R20D01_ArcLight_LDir, R20D01_GC6f_LDir, equal_var=True))\n",
    "print(stats.ttest_ind(R38G02_ArcLight_LDir, R38G02_GC6f_LDir, equal_var=True))\n",
    "print(stats.ttest_ind(SplitT4c_ArcLight_LDir, SplitT4c_GC6f_LDir, equal_var=True))"
   ]
  },
  {
   "cell_type": "code",
   "execution_count": 10,
   "metadata": {},
   "outputs": [
    {
     "name": "stdout",
     "output_type": "stream",
     "text": [
      "LeveneResult(statistic=0.9520018147961625, pvalue=0.3389430793790523)\n",
      "LeveneResult(statistic=0.3593213432381073, pvalue=0.5545006679878546)\n",
      "LeveneResult(statistic=0.10683317127357717, pvalue=0.7461262348584963)\n",
      "LeveneResult(statistic=2.873636673604265, pvalue=0.10415046692958675)\n",
      "Ttest_indResult(statistic=0.6764204937343355, pvalue=0.5052409526154259)\n",
      "Ttest_indResult(statistic=-0.2689050499302301, pvalue=0.7903009134031629)\n",
      "Ttest_indResult(statistic=-1.4762524083258488, pvalue=0.15065313669303212)\n",
      "Ttest_indResult(statistic=-1.0952473561022822, pvalue=0.2852542922656721)\n"
     ]
    }
   ],
   "source": [
    "print(stats.levene(R24E09_ArcLight_R_deg, R24E09_GC6f_R_deg))\n",
    "print(stats.levene(R20D01_ArcLight_R_deg, R20D01_GC6f_R_deg))\n",
    "print(stats.levene(R38G02_ArcLight_R_deg, R38G02_GC6f_R_deg))\n",
    "print(stats.levene(SplitT4c_ArcLight_R_deg, SplitT4c_GC6f_R_deg))\n",
    "\n",
    "print(stats.ttest_ind(R24E09_ArcLight_R_deg, R24E09_GC6f_R_deg, equal_var=True))\n",
    "print(stats.ttest_ind(R20D01_ArcLight_R_deg, R20D01_GC6f_R_deg, equal_var=True))\n",
    "print(stats.ttest_ind(R38G02_ArcLight_R_deg, R38G02_GC6f_R_deg, equal_var=True))\n",
    "print(stats.ttest_ind(SplitT4c_ArcLight_R_deg, SplitT4c_GC6f_R_deg, equal_var=True))"
   ]
  },
  {
   "cell_type": "code",
   "execution_count": 11,
   "metadata": {},
   "outputs": [
    {
     "data": {
      "image/png": "[encoded data removed]",
      "text/plain": [
       "<Figure size 165.6x165.6 with 1 Axes>"
      ]
     },
     "metadata": {},
     "output_type": "display_data"
    }
   ],
   "source": [
    "# Sort data\n",
    "R24E09_data = np.empty([9, 4])\n",
    "R24E09_data[:,0] = np.mean(R24E09_ArcLight_Ftrace_mean,1)\n",
    "R24E09_data[:,1] = np.mean(R24E09_GC6f_Ftrace_mean,1)\n",
    "R24E09_data[:,2] = stats.sem(R24E09_ArcLight_Ftrace_mean,1)\n",
    "R24E09_data[:,3] = stats.sem(R24E09_GC6f_Ftrace_mean,1)\n",
    "R24E09_data_sorted = R24E09_data[R24E09_data[:, 0].argsort()]\n",
    "\n",
    "fig = plt.figure(figsize = (2.3, 2.3))\n",
    "\n",
    "ax = fig.add_subplot(111) #PLOT GC6f vs. Arclight\n",
    "\n",
    "ax.axvline(x=0,ymin=0.0001,ymax=0.9999, color='0.05', linestyle=':', linewidth = 1)\n",
    "ax.axhline(y=0,xmin=0.0001,xmax=0.9999, color='0.05', linestyle=':', linewidth = 1)\n",
    "plt.plot(R24E09_data_sorted[:,0], R24E09_data_sorted[:,1], color='C2', linewidth = 2.5, zorder = 0)\n",
    "plt.errorbar(R24E09_data_sorted[:,0], R24E09_data_sorted[:,1],\n",
    "             xerr=R24E09_data_sorted[:,2], yerr=R24E09_data_sorted[:,3], fmt='none', color='C2', linewidth = 1.5, zorder = 1)\n",
    "\n",
    "ax.spines[\"top\"].set_visible(False)\n",
    "ax.spines[\"right\"].set_visible(False)\n",
    "ax.spines['left'].set_position(('outward', 7))\n",
    "ax.spines['bottom'].set_position(('outward', 7))\n",
    "#for axis in ['top','bottom','left','right']:\n",
    "#  ax.spines[axis].set_linewidth(0.5)\n",
    "ax.set_xlabel('ArcLight [-$\\Delta F/F$]', fontsize = 10)\n",
    "ax.set_ylabel('GCaMP [$\\Delta F/F$]', fontsize = 10)\n",
    "plt.xlim([-0.1, 0.1])\n",
    "plt.ylim([-1, 2.3])\n",
    "ax.tick_params(axis='both', which='major', labelsize=10)\n",
    "\n",
    "bbox_inches = 'tight'\n",
    "#plt.savefig('C:\\\\Users\\\\gammer\\\\Desktop\\\\DATA Surface\\\\LPi Opponency\\\\plots_LPi_ms\\\\\n",
    "#FigS2_R24E09_Rectification.pdf',bbox_inches='tight', dpi=600, transparent=True)\n",
    "\n",
    "plt.show()"
   ]
  },
  {
   "cell_type": "code",
   "execution_count": 13,
   "metadata": {},
   "outputs": [
    {
     "data": {
      "image/png": "[encoded data removed]",
      "text/plain": [
       "<Figure size 165.6x165.6 with 1 Axes>"
      ]
     },
     "metadata": {},
     "output_type": "display_data"
    }
   ],
   "source": [
    "# Sort data\n",
    "R20D01_data = np.empty([9, 4])\n",
    "R20D01_data[:,0] = np.mean(R20D01_ArcLight_Ftrace_mean,1)\n",
    "R20D01_data[:,1] = np.mean(R20D01_GC6f_Ftrace_mean,1)\n",
    "R20D01_data[:,2] = stats.sem(R20D01_ArcLight_Ftrace_mean,1)\n",
    "R20D01_data[:,3] = stats.sem(R20D01_GC6f_Ftrace_mean,1)\n",
    "R20D01_data_sorted = R20D01_data[R20D01_data[:, 0].argsort()]\n",
    "\n",
    "fig = plt.figure(figsize = (2.3, 2.3))\n",
    "\n",
    "ax = fig.add_subplot(111) #PLOT GC6f vs. Arclight\n",
    "\n",
    "ax.axvline(x=0,ymin=0.0001,ymax=0.9999, color='0.05', linestyle=':', linewidth = 1)\n",
    "ax.axhline(y=0,xmin=0.0001,xmax=0.9999, color='0.05', linestyle=':', linewidth = 1)\n",
    "plt.plot(R20D01_data_sorted[:,0], R20D01_data_sorted[:,1], color='C1', linewidth = 2.5, zorder = 0)\n",
    "plt.errorbar(R20D01_data_sorted[:,0], R20D01_data_sorted[:,1],\n",
    "             xerr=R20D01_data_sorted[:,2], yerr=R20D01_data_sorted[:,3], fmt='none', color='C1', linewidth = 1.5, zorder = 1)\n",
    "\n",
    "ax.spines[\"top\"].set_visible(False)\n",
    "ax.spines[\"right\"].set_visible(False)\n",
    "ax.spines['left'].set_position(('outward', 7))\n",
    "ax.spines['bottom'].set_position(('outward', 7))\n",
    "#for axis in ['top','bottom','left','right']:\n",
    "#  ax.spines[axis].set_linewidth(0.5)\n",
    "ax.set_xlabel('ArcLight [-$\\Delta F/F$]', fontsize = 10)\n",
    "ax.set_ylabel('GCaMP [$\\Delta F/F$]', fontsize = 10)\n",
    "plt.xlim([-0.08, 0.08])\n",
    "plt.ylim([-1.3, 2.8])\n",
    "ax.tick_params(axis='both', which='major', labelsize=10)\n",
    "\n",
    "bbox_inches = 'tight'\n",
    "#plt.savefig('C:\\\\Users\\\\gammer\\\\Desktop\\\\DATA Surface\\\\LPi Opponency\\\\plots_LPi_ms\\\\\n",
    "#FigS2_R20D01_Rectification.pdf',bbox_inches='tight', dpi=600, transparent=True)\n",
    "\n",
    "plt.show()"
   ]
  },
  {
   "cell_type": "code",
   "execution_count": 14,
   "metadata": {},
   "outputs": [
    {
     "data": {
      "image/png": "[encoded data removed]",
      "text/plain": [
       "<Figure size 165.6x165.6 with 1 Axes>"
      ]
     },
     "metadata": {},
     "output_type": "display_data"
    }
   ],
   "source": [
    "# Sort data\n",
    "R38G02_data = np.empty([9, 4])\n",
    "R38G02_data[:,0] = np.mean(R38G02_ArcLight_Ftrace_mean,1)\n",
    "R38G02_data[:,1] = np.mean(R38G02_GC6f_Ftrace_mean,1)\n",
    "R38G02_data[:,2] = stats.sem(R38G02_ArcLight_Ftrace_mean,1)\n",
    "R38G02_data[:,3] = stats.sem(R38G02_GC6f_Ftrace_mean,1)\n",
    "R38G02_data_sorted = R38G02_data[R38G02_data[:, 0].argsort()]\n",
    "\n",
    "fig = plt.figure(figsize = (2.3, 2.3))\n",
    "\n",
    "ax = fig.add_subplot(111) #PLOT GC6f vs. Arclight\n",
    "\n",
    "ax.axvline(x=0,ymin=0.0001,ymax=0.9999, color='0.05', linestyle=':', linewidth = 1)\n",
    "ax.axhline(y=0,xmin=0.0001,xmax=0.9999, color='0.05', linestyle=':', linewidth = 1)\n",
    "plt.plot(R38G02_data_sorted[:,0], R38G02_data_sorted[:,1], color='C0', linewidth = 2.5, zorder = 0)\n",
    "plt.errorbar(R38G02_data_sorted[:,0], R38G02_data_sorted[:,1],\n",
    "             xerr=R38G02_data_sorted[:,2], yerr=R38G02_data_sorted[:,3], fmt='none', color='C0', linewidth = 1.5, zorder = 1)\n",
    "\n",
    "ax.spines[\"top\"].set_visible(False)\n",
    "ax.spines[\"right\"].set_visible(False)\n",
    "ax.spines['left'].set_position(('outward', 7))\n",
    "ax.spines['bottom'].set_position(('outward', 7))\n",
    "#for axis in ['top','bottom','left','right']:\n",
    "#  ax.spines[axis].set_linewidth(0.5)\n",
    "ax.set_xlabel('ArcLight [-$\\Delta F/F$]', fontsize = 10)\n",
    "ax.set_ylabel('GCaMP [$\\Delta F/F$]', fontsize = 10)\n",
    "plt.xlim([-0.08, 0.08])\n",
    "plt.ylim([-1, 2.1])\n",
    "ax.tick_params(axis='both', which='major', labelsize=10)\n",
    "\n",
    "bbox_inches = 'tight'\n",
    "#plt.savefig('C:\\\\Users\\\\gammer\\\\Desktop\\\\DATA Surface\\\\LPi Opponency\\\\plots_LPi_ms\\\\\n",
    "#FigS2_R38G02_Rectification.pdf',bbox_inches='tight', dpi=600, transparent=True)\n",
    "\n",
    "plt.show()"
   ]
  },
  {
   "cell_type": "code",
   "execution_count": 15,
   "metadata": {},
   "outputs": [
    {
     "data": {
      "image/png": "[encoded data removed]",
      "text/plain": [
       "<Figure size 165.6x165.6 with 1 Axes>"
      ]
     },
     "metadata": {},
     "output_type": "display_data"
    }
   ],
   "source": [
    "# Sort data\n",
    "SplitT4c_data = np.empty([9, 4])\n",
    "SplitT4c_data[:,0] = np.mean(SplitT4c_ArcLight_Ftrace_mean,1)\n",
    "SplitT4c_data[:,1] = np.mean(SplitT4c_GC6f_Ftrace_mean,1)\n",
    "SplitT4c_data[:,2] = stats.sem(SplitT4c_ArcLight_Ftrace_mean,1)\n",
    "SplitT4c_data[:,3] = stats.sem(SplitT4c_GC6f_Ftrace_mean,1)\n",
    "SplitT4c_data_sorted = SplitT4c_data[SplitT4c_data[:, 0].argsort()]\n",
    "\n",
    "fig = plt.figure(figsize = (2.3, 2.3))\n",
    "\n",
    "ax = fig.add_subplot(111) #PLOT GC6f vs. Arclight\n",
    "\n",
    "ax.axvline(x=0,ymin=0.0001,ymax=0.9999, color='0.05', linestyle=':', linewidth = 1)\n",
    "ax.axhline(y=0,xmin=0.0001,xmax=0.9999, color='0.05', linestyle=':', linewidth = 1)\n",
    "plt.plot(SplitT4c_data_sorted[:,0], SplitT4c_data_sorted[:,1], color='C3', linewidth = 2.5, zorder = 0)\n",
    "plt.errorbar(SplitT4c_data_sorted[:,0], SplitT4c_data_sorted[:,1],\n",
    "             xerr=SplitT4c_data_sorted[:,2], yerr=SplitT4c_data_sorted[:,3], fmt='none', color='C3', linewidth = 1.5, zorder = 1)\n",
    "\n",
    "ax.spines[\"top\"].set_visible(False)\n",
    "ax.spines[\"right\"].set_visible(False)\n",
    "ax.spines['left'].set_position(('outward', 7))\n",
    "ax.spines['bottom'].set_position(('outward', 7))\n",
    "#for axis in ['top','bottom','left','right']:\n",
    "#  ax.spines[axis].set_linewidth(0.5)\n",
    "ax.set_xlabel('ArcLight [-$\\Delta F/F$]', fontsize = 10)\n",
    "ax.set_ylabel('GCaMP [$\\Delta F/F$]', fontsize = 10)\n",
    "plt.xlim([-0.02, 0.04])\n",
    "plt.ylim([-0.8, 1.8])\n",
    "ax.tick_params(axis='both', which='major', labelsize=10)\n",
    "\n",
    "bbox_inches = 'tight'\n",
    "#plt.savefig('C:\\\\Users\\\\gammer\\\\Desktop\\\\DATA Surface\\\\LPi Opponency\\\\plots_LPi_ms\\\\\n",
    "#FigS2_SplitT4c_Rectification.pdf',bbox_inches='tight', dpi=600, transparent=True)\n",
    "\n",
    "plt.show()"
   ]
  },
  {
   "cell_type": "code",
   "execution_count": 16,
   "metadata": {},
   "outputs": [
    {
     "data": {
      "image/png": "[encoded data removed]",
      "text/plain": [
       "<Figure size 165.6x165.6 with 1 Axes>"
      ]
     },
     "metadata": {},
     "output_type": "display_data"
    }
   ],
   "source": [
    "# Sort data\n",
    "R24E09_ephys_data = np.empty([9, 4])\n",
    "R24E09_ephys_data[:,0] = np.mean(R24E09_Ephys_mean,1)\n",
    "R24E09_ephys_data[:,1] = np.mean(R24E09_GC6f_Ftrace_mean,1)\n",
    "R24E09_ephys_data[:,2] = stats.sem(R24E09_Ephys_mean,1)\n",
    "R24E09_ephys_data[:,3] = stats.sem(R24E09_GC6f_Ftrace_mean,1)\n",
    "R24E09_ephys_data_sorted = R24E09_ephys_data[R24E09_ephys_data[:, 0].argsort()]\n",
    "\n",
    "#Fit polynomial to data\n",
    "x = R24E09_ephys_data_sorted[:,0]\n",
    "y = R24E09_ephys_data_sorted[:,1]\n",
    "polynom = np.poly1d(np.polyfit(x, y, 3))\n",
    "t = np.linspace(-6.5, 10, 100)\n",
    "\n",
    "fig = plt.figure(figsize = (2.3, 2.3))\n",
    "\n",
    "ax = fig.add_subplot(111) #PLOT GC6f vs. Arclight\n",
    "\n",
    "ax.axvline(x=0,ymin=0.0001,ymax=0.9999, color='0.05', linestyle=':', linewidth = 1)\n",
    "ax.axhline(y=0,xmin=0.0001,xmax=0.9999, color='0.05', linestyle=':', linewidth = 1)\n",
    "#plt.plot(R24E09_ephys_data_sorted[:,0], R24E09_ephys_data_sorted[:,1], color='C2', linewidth = 2.5, zorder = 0)\n",
    "plt.errorbar(R24E09_ephys_data_sorted[:,0], R24E09_ephys_data_sorted[:,1],\n",
    "             xerr=R24E09_ephys_data_sorted[:,2], yerr=R24E09_ephys_data_sorted[:,3], fmt='none', color='0.25', linewidth = 1.5, zorder = 1)\n",
    "\n",
    "plt.plot(t, polynom(t), '-', color='0.4')\n",
    "plt.plot([0.796], polynom(0.796), 'o', color='r')\n",
    "\n",
    "ax.spines[\"top\"].set_visible(False)\n",
    "ax.spines[\"right\"].set_visible(False)\n",
    "ax.spines['left'].set_position(('outward', 7))\n",
    "ax.spines['bottom'].set_position(('outward', 7))\n",
    "#for axis in ['top','bottom','left','right']:\n",
    "#  ax.spines[axis].set_linewidth(0.5)\n",
    "ax.set_xlabel('Voltage [mV]', fontsize = 10)\n",
    "ax.set_ylabel('GCaMP [$\\Delta F/F$]', fontsize = 10)\n",
    "plt.xlim([-6.5, 10.5])\n",
    "plt.ylim([-1, 2.5])\n",
    "ax.tick_params(axis='both', which='major', labelsize=10)\n",
    "plt.title('Voltage vs. calcium (VS cells)')\n",
    "bbox_inches = 'tight'\n",
    "#plt.savefig('C:\\\\Users\\\\gammer\\\\Desktop\\\\DATA Surface\\\\LPi Opponency\\\\LPi Manuscript\\\\REVISION_NN\\\\Images for Reviewer\\\\\n",
    "#R24E09_Ephys_GC6f_polynomial.png',bbox_inches='tight', dpi=600, transparent=True)\n",
    "\n",
    "plt.show()"
   ]
  },
  {
   "cell_type": "code",
   "execution_count": 17,
   "metadata": {},
   "outputs": [
    {
     "name": "stdout",
     "output_type": "stream",
     "text": [
      "-0.017130113565757846\n",
      "-0.8413186559397854\n"
     ]
    }
   ],
   "source": [
    "# Calculate calcium change for local TM\n",
    "print(polynom(0.7963742989155178))\n",
    "print(polynom(0.7963742989155178)/np.max(R24E09_ephys_data_sorted[:,1])*100)"
   ]
  },
  {
   "cell_type": "code",
   "execution_count": 19,
   "metadata": {},
   "outputs": [
    {
     "name": "stdout",
     "output_type": "stream",
     "text": [
      "-0.021931328861139326\n",
      "-1.0771228135527464\n"
     ]
    }
   ],
   "source": [
    "# Calculate calcium change for global TM\n",
    "print(polynom(0.7577443311060651))\n",
    "print(polynom(0.7577443311060651)/np.max(R24E09_ephys_data_sorted[:,1])*100)"
   ]
  },
  {
   "cell_type": "code",
   "execution_count": null,
   "metadata": {},
   "outputs": [],
   "source": []
  }
 ],
 "metadata": {
  "kernelspec": {
   "display_name": "Python 2",
   "language": "python",
   "name": "python2"
  },
  "language_info": {
   "codemirror_mode": {
    "name": "ipython",
    "version": 2
   },
   "file_extension": ".py",
   "mimetype": "text/x-python",
   "name": "python",
   "nbconvert_exporter": "python",
   "pygments_lexer": "ipython2",
   "version": "2.7.15"
  }
 },
 "nbformat": 4,
 "nbformat_minor": 2
}
