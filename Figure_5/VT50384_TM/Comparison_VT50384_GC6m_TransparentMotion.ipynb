{
 "cells": [
  {
   "cell_type": "code",
   "execution_count": 1,
   "metadata": {},
   "outputs": [],
   "source": [
    "# Python_version 2.7.15\n",
    "\n",
    "import numpy as np\n",
    "import matplotlib.pyplot as plt\n",
    "import pandas as pd\n",
    "import seaborn as sb\n",
    "import os\n",
    "import scipy.io\n",
    "from scipy import stats\n",
    "%matplotlib inline\n",
    "\n",
    "from scipy.signal import savgol_filter\n",
    "import octopus as oct"
   ]
  },
  {
   "cell_type": "code",
   "execution_count": 2,
   "metadata": {},
   "outputs": [],
   "source": [
    "# Import Data\n",
    "time = np.load('time.npy')\n",
    "Ftrace_all_Ctrl = np.load('VT50384_GC6m_TNT_Ctrl_axons_Ftrace_all.npy')\n",
    "Ftrace_all_LPi43TNT = np.load('VT50384_GC6m_LPi4-3_TNT_axons_Ftrace_all.npy')\n",
    "\n",
    "Ftrace_avg_Ctrl = np.mean(Ftrace_all_Ctrl[:,:,:], axis=2)\n",
    "Ftrace_avg_LPi43TNT = np.mean(Ftrace_all_LPi43TNT[:,:,:], axis=2)\n",
    "\n",
    "Ftrace_mean_Ctrl = np.mean(Ftrace_all_Ctrl[63:180,:,:], axis=0)\n",
    "Ftrace_mean_LPi43TNT  = np.mean(Ftrace_all_LPi43TNT [63:180,:,:], axis=0)"
   ]
  },
  {
   "cell_type": "code",
   "execution_count": 3,
   "metadata": {
    "scrolled": false
   },
   "outputs": [
    {
     "data": {
      "image/png": "[encoded data removed]",
      "text/plain": [
       "<Figure size 460.8x216 with 3 Axes>"
      ]
     },
     "metadata": {},
     "output_type": "display_data"
    }
   ],
   "source": [
    "fig = plt.figure(figsize = (6.4,3))\n",
    "\n",
    "plt.subplots_adjust(wspace = 0.1)\n",
    "\n",
    "ax = fig.add_subplot(132)\n",
    "ax.axhline(y=0,xmin=0.0001,xmax=0.9999, color='0.05', linestyle=':', linewidth = 1.5)\n",
    "plt.plot(time, Ftrace_avg_Ctrl[:,0], color = '0.35', linewidth = 2.5)\n",
    "plt.plot(time, Ftrace_avg_LPi43TNT[:,0], color = 'C3', linewidth = 2.5)\n",
    "plt.axvspan(0, 8, facecolor='0.2', alpha=0.2)\n",
    "plt.xlim([-4,12])\n",
    "plt.ylim([-0.5,2.6])\n",
    "plt.axis('off') \n",
    "\n",
    "ax = fig.add_subplot(131)\n",
    "ax.axhline(y=0,xmin=0.0001,xmax=0.9999, color='0.05', linestyle=':', linewidth = 1.5)\n",
    "plt.plot(time, Ftrace_avg_Ctrl[:,1], color = '0.35', linewidth = 2.5)\n",
    "plt.plot(time, Ftrace_avg_LPi43TNT[:,1], color = 'C3', linewidth = 2.5)\n",
    "plt.axvspan(0, 8, facecolor='0.2', alpha=0.2)\n",
    "plt.xlim([-4,12])\n",
    "plt.ylim([-0.5,2.6])\n",
    "plt.axis('off')\n",
    "\n",
    "ax = fig.add_subplot(133)\n",
    "ax.axhline(y=0,xmin=0.0001,xmax=0.9999, color='0.05', linestyle=':', linewidth = 1.5)\n",
    "plt.plot(time, Ftrace_avg_Ctrl[:,2], color = '0.35', linewidth = 2.5)\n",
    "plt.plot(time, Ftrace_avg_LPi43TNT[:,2], color = 'C3', linewidth = 2.5)\n",
    "plt.axvspan(0, 8, facecolor='0.2', alpha=0.2)\n",
    "plt.xlim([-4,12])\n",
    "plt.ylim([-0.5,2.6])\n",
    "\n",
    "plt.axis('off')\n",
    "\n",
    "bbox_inches = 'tight'\n",
    "#plt.savefig('Fig6_VT50384_TM_GC6m_LPiblock_traces.pdf',bbox_inches='tight', dpi=600, transparent=True)\n",
    "plt.show()"
   ]
  },
  {
   "cell_type": "code",
   "execution_count": 4,
   "metadata": {},
   "outputs": [
    {
     "data": {
      "image/png": "[encoded data removed]",
      "text/plain": [
       "<Figure size 194.4x165.6 with 1 Axes>"
      ]
     },
     "metadata": {},
     "output_type": "display_data"
    }
   ],
   "source": [
    "# Make Scatter Plot of LDir\n",
    "\n",
    "pos = [0,1,2.5,3.5,5,6]\n",
    "\n",
    "fig = plt.figure(figsize = (0.5*len(pos)-0.3, 2.3))\n",
    "\n",
    "ax = fig.add_subplot(111)\n",
    "w = 0.6\n",
    "wb = 0.6\n",
    "data = [Ftrace_mean_Ctrl[1,:], Ftrace_mean_LPi43TNT[1,:], Ftrace_mean_Ctrl[0,:],\n",
    "        Ftrace_mean_LPi43TNT[0,:], Ftrace_mean_Ctrl[2,:], Ftrace_mean_LPi43TNT[2,:]]\n",
    "colors = ['0.45', 'C3', '0.45', 'C3', '0.45', 'C3']\n",
    "\n",
    "ax.axhline(y=0,xmin=0.0001,xmax=0.9999, color='0.05', linestyle=':', linewidth = 1)\n",
    "\n",
    "for j in range (len(data)):\n",
    "    ax.bar(pos[j], height = np.mean(data[j]), yerr=[stats.sem(data[j])], color=colors[j])\n",
    "    ax.errorbar(pos[j],np.mean(data[j]),yerr=[stats.sem(data[j])], color='k',zorder = 0)    \n",
    "    for i in range(len(data[j])):\n",
    "        ax.scatter(pos[j] + np.random.random(1) * w/2 - w/4, data[j][i], s=25, color='0.3', alpha=0.4, zorder = 2) \n",
    "   \n",
    "ax.spines[\"top\"].set_visible(False)\n",
    "ax.spines[\"right\"].set_visible(False)\n",
    "ax.spines['left'].set_position(('outward', 7))\n",
    "ax.spines['bottom'].set_position(('outward', 7))\n",
    "ax.set_xticks(pos)\n",
    "ax.set_xticklabels(('ND\\nCtrl','ND\\nTNT', 'PD\\nCtrl','PD\\nTNT','TM\\nCtrl','TM\\nTNT'), size=10)\n",
    "ax.set_ylabel('$\\Delta F/F$', size=10)\n",
    "yticks = np.array([0, 1, 2, 3])\n",
    "ax.set_yticklabels([0, 1, 2, 3], size=10)\n",
    "ax.set_yticks(yticks)\n",
    "plt.ylim([-0.15,3.35])\n",
    "\n",
    "bbox_inches = 'tight'\n",
    "#plt.savefig('Fig6_VT50384_TM_GC6m_LPiblock_boxplot.pdf',bbox_inches='tight', dpi=600, transparent=True)\n",
    "plt.show()"
   ]
  },
  {
   "cell_type": "code",
   "execution_count": 5,
   "metadata": {
    "scrolled": true
   },
   "outputs": [
    {
     "name": "stdout",
     "output_type": "stream",
     "text": [
      "(0.8638408780097961, 0.06456869095563889)\n",
      "(0.8806401491165161, 0.10601130872964859)\n",
      "LeveneResult(statistic=1.9481849807000233, pvalue=0.17808633053449266)\n",
      "Ttest_indResult(statistic=-0.785928447392456, pvalue=0.44474163399881006)\n",
      "(0.9768427610397339, 0.9460693597793579)\n",
      "(0.9258676171302795, 0.37057429552078247)\n",
      "LeveneResult(statistic=0.17012073973363223, pvalue=0.684392236844078)\n",
      "Ttest_indResult(statistic=-0.22000177846411317, pvalue=0.8281065737801736)\n",
      "(0.9786949753761292, 0.9584697484970093)\n",
      "(0.8879269957542419, 0.13100402057170868)\n",
      "LeveneResult(statistic=4.905274236916744, pvalue=0.038547988236882394)\n",
      "Ttest_indResult(statistic=-4.168924082311898, pvalue=0.0011206443861740845)\n"
     ]
    }
   ],
   "source": [
    "print(stats.shapiro(Ftrace_mean_Ctrl[0,:]))\n",
    "print(stats.shapiro(Ftrace_mean_LPi43TNT[0,:]))\n",
    "print(stats.levene(Ftrace_mean_Ctrl[0,:], Ftrace_mean_LPi43TNT[0,:]))\n",
    "print(stats.ttest_ind(Ftrace_mean_Ctrl[0,:], Ftrace_mean_LPi43TNT[0,:], equal_var=False))\n",
    "\n",
    "print(stats.shapiro(Ftrace_mean_Ctrl[1,:]))\n",
    "print(stats.shapiro(Ftrace_mean_LPi43TNT[1,:]))\n",
    "print(stats.levene(Ftrace_mean_Ctrl[1,:], Ftrace_mean_LPi43TNT[1,:]))\n",
    "print(stats.ttest_ind(Ftrace_mean_Ctrl[1,:], Ftrace_mean_LPi43TNT[1,:], equal_var=False))\n",
    "\n",
    "print(stats.shapiro(Ftrace_mean_Ctrl[2,:]))\n",
    "print(stats.shapiro(Ftrace_mean_LPi43TNT[2,:]))\n",
    "print(stats.levene(Ftrace_mean_Ctrl[2,:], Ftrace_mean_LPi43TNT[2,:]))\n",
    "print(stats.ttest_ind(Ftrace_mean_Ctrl[2,:], Ftrace_mean_LPi43TNT[2,:], equal_var=False))"
   ]
  },
  {
   "cell_type": "code",
   "execution_count": 6,
   "metadata": {},
   "outputs": [],
   "source": [
    "# Calculate Motion Opponent Suppression Index\n",
    "MOSI_Ctrl = (Ftrace_mean_Ctrl[0,:] - Ftrace_mean_Ctrl[2,:]) / (Ftrace_mean_Ctrl[0,:])\n",
    "MOSI_LPi43TNT = (Ftrace_mean_LPi43TNT[0,:] - Ftrace_mean_LPi43TNT[2,:])/ (Ftrace_mean_LPi43TNT[0,:])"
   ]
  },
  {
   "cell_type": "code",
   "execution_count": 7,
   "metadata": {},
   "outputs": [
    {
     "data": {
      "image/png": "[encoded data removed]",
      "text/plain": [
       "<Figure size 57.6x162 with 1 Axes>"
      ]
     },
     "metadata": {},
     "output_type": "display_data"
    }
   ],
   "source": [
    "# Make Scatter Plot of MOSI\n",
    "\n",
    "pos = [0,1]\n",
    "\n",
    "fig = plt.figure(figsize = (0.4*len(pos), 2.25))\n",
    "\n",
    "ax = fig.add_subplot(111)\n",
    "w = 0.6\n",
    "wb = 0.6\n",
    "data = [MOSI_Ctrl, MOSI_LPi43TNT]\n",
    "colors = ['0.35', 'C3']\n",
    "\n",
    "ax.axhline(y=0,xmin=0.0001,xmax=0.9999, color='0.05', linestyle=':', linewidth = 1)\n",
    "\n",
    "for j in range (len(data)):\n",
    "    ax.plot([pos[j]-w/2, pos[j]+w/2],[np.mean(data[j]),np.mean(data[j])],\n",
    "            color=colors[j], linestyle='-', linewidth = 4)\n",
    "    ax.errorbar(pos[j],np.mean(data[j]),yerr=[stats.sem(data[j])], color='k',zorder = 0)    \n",
    "    for i in range(len(data[j])):\n",
    "        ax.scatter(pos[j] + np.random.random(1) * w/2 - w/4, data[j][i], s=25, color=colors[j], alpha=0.5, zorder = 2) \n",
    "   \n",
    "ax.spines[\"top\"].set_visible(False)\n",
    "ax.spines[\"right\"].set_visible(False)\n",
    "ax.spines['left'].set_position(('outward', 7))\n",
    "ax.spines['bottom'].set_position(('outward', 7))\n",
    "ax.set_xticks(pos)\n",
    "ax.set_xticklabels(('Ctrl','TNT'), size=10)\n",
    "ax.set_ylabel('Suppression index', size=10)\n",
    "ax.tick_params(axis='both', which='major', labelsize=10)\n",
    "plt.ylim([0,1.02])\n",
    "\n",
    "bbox_inches = 'tight'\n",
    "#plt.savefig('Fig5_50384-GC6m_LPi4-3-TNT_Transparent_Motion_MOSI.pdf',bbox_inches='tight', dpi=600, transparent=True)\n",
    "\n",
    "plt.show()"
   ]
  },
  {
   "cell_type": "code",
   "execution_count": 8,
   "metadata": {},
   "outputs": [
    {
     "name": "stdout",
     "output_type": "stream",
     "text": [
      "(0.9769107699394226, 0.9465544819831848)\n",
      "(0.9434102773666382, 0.5613805055618286)\n",
      "LeveneResult(statistic=1.085885950245256, pvalue=0.30981798545505246)\n",
      "Ttest_indResult(statistic=5.43951591550235, pvalue=2.524132919193912e-05)\n"
     ]
    }
   ],
   "source": [
    "print(stats.shapiro(MOSI_Ctrl))\n",
    "print(stats.shapiro(MOSI_LPi43TNT))\n",
    "print(stats.levene(MOSI_Ctrl, MOSI_LPi43TNT))\n",
    "print(stats.ttest_ind(MOSI_Ctrl, MOSI_LPi43TNT, equal_var=True))"
   ]
  },
  {
   "cell_type": "code",
   "execution_count": null,
   "metadata": {},
   "outputs": [],
   "source": []
  }
 ],
 "metadata": {
  "kernelspec": {
   "display_name": "Python 2",
   "language": "python",
   "name": "python2"
  },
  "language_info": {
   "codemirror_mode": {
    "name": "ipython",
    "version": 2
   },
   "file_extension": ".py",
   "mimetype": "text/x-python",
   "name": "python",
   "nbconvert_exporter": "python",
   "pygments_lexer": "ipython2",
   "version": "2.7.15"
  }
 },
 "nbformat": 4,
 "nbformat_minor": 2
}
