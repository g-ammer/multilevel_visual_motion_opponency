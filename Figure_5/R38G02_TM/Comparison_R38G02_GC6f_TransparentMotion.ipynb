{
 "cells": [
  {
   "cell_type": "code",
   "execution_count": 1,
   "metadata": {},
   "outputs": [],
   "source": [
    "# Python_version 2.7.15\n",
    "\n",
    "import numpy as np\n",
    "import matplotlib.pyplot as plt\n",
    "import pandas as pd\n",
    "import seaborn as sb\n",
    "import os\n",
    "import scipy.io\n",
    "from scipy import stats\n",
    "%matplotlib inline\n",
    "\n",
    "from scipy.signal import savgol_filter\n",
    "import octopus as oct"
   ]
  },
  {
   "cell_type": "code",
   "execution_count": 2,
   "metadata": {},
   "outputs": [],
   "source": [
    "# Import Data\n",
    "time = np.load('time.npy')\n",
    "Ftrace_all_Ctrl = np.load('R38G02-GC6f_50384-Ctrl_TM_Ftrace_all_axons.npy')\n",
    "Ftrace_all_LPi43TNT = np.load('R38G02-GC6f_50384-TNT_TM_Ftrace_all_axons.npy')\n",
    "\n",
    "Ftrace_avg_Ctrl = np.mean(Ftrace_all_Ctrl[:,:,:], axis=2)\n",
    "Ftrace_avg_LPi43TNT = np.mean(Ftrace_all_LPi43TNT[:,:,:], axis=2)\n",
    "\n",
    "Ftrace_mean_Ctrl = np.mean(Ftrace_all_Ctrl[63:180,:,:], axis=0)\n",
    "Ftrace_mean_LPi43TNT  = np.mean(Ftrace_all_LPi43TNT [63:180,:,:], axis=0)"
   ]
  },
  {
   "cell_type": "code",
   "execution_count": 3,
   "metadata": {
    "scrolled": false
   },
   "outputs": [
    {
     "data": {
      "image/png": "[encoded data removed]",
      "text/plain": [
       "<Figure size 460.8x216 with 3 Axes>"
      ]
     },
     "metadata": {},
     "output_type": "display_data"
    }
   ],
   "source": [
    "fig = plt.figure(figsize = (6.4,3))\n",
    "\n",
    "plt.subplots_adjust(wspace = 0.1)\n",
    "\n",
    "ax = fig.add_subplot(132)\n",
    "ax.axhline(y=0,xmin=0.0001,xmax=0.9999, color='0.05', linestyle=':', linewidth = 1.5)\n",
    "plt.plot(time, Ftrace_avg_Ctrl[:,0], color = '0.35', linewidth = 2.5)\n",
    "plt.plot(time, Ftrace_avg_LPi43TNT[:,0], color = 'C0', linewidth = 2.5)\n",
    "plt.axvspan(0, 8, facecolor='0.2', alpha=0.2)\n",
    "plt.xlim([-4,12])\n",
    "plt.ylim([-1.5,5.5])\n",
    "plt.axis('off') \n",
    "\n",
    "ax = fig.add_subplot(131)\n",
    "ax.axhline(y=0,xmin=0.0001,xmax=0.9999, color='0.05', linestyle=':', linewidth = 1.5)\n",
    "plt.plot(time, Ftrace_avg_Ctrl[:,1], color = '0.35', linewidth = 2.5)\n",
    "plt.plot(time, Ftrace_avg_LPi43TNT[:,1], color = 'C0', linewidth = 2.5)\n",
    "plt.axvspan(0, 8, facecolor='0.2', alpha=0.2)\n",
    "plt.xlim([-4,12])\n",
    "plt.ylim([-1.5,5.5])\n",
    "plt.axis('off')\n",
    "\n",
    "ax = fig.add_subplot(133)\n",
    "ax.axhline(y=0,xmin=0.0001,xmax=0.9999, color='0.05', linestyle=':', linewidth = 1.5)\n",
    "plt.plot(time, Ftrace_avg_Ctrl[:,2], color = '0.35', linewidth = 2.5)\n",
    "plt.plot(time, Ftrace_avg_LPi43TNT[:,2], color = 'C0', linewidth = 2.5)\n",
    "plt.axvspan(0, 8, facecolor='0.2', alpha=0.2)\n",
    "plt.xlim([-4,12])\n",
    "plt.ylim([-1.5,5.5])\n",
    "\n",
    "plt.axis('off')\n",
    "\n",
    "bbox_inches = 'tight'\n",
    "#plt.savefig('Fig5_R38G02-GC6f_50384-TNT_TM_traces.pdf',bbox_inches='tight', dpi=600, transparent=True)\n",
    "plt.show()"
   ]
  },
  {
   "cell_type": "code",
   "execution_count": 4,
   "metadata": {
    "scrolled": false
   },
   "outputs": [
    {
     "data": {
      "image/png": "[encoded data removed]",
      "text/plain": [
       "<Figure size 194.4x165.6 with 1 Axes>"
      ]
     },
     "metadata": {},
     "output_type": "display_data"
    }
   ],
   "source": [
    "# Make Scatter Plot of LDir\n",
    "\n",
    "pos = [0, 1, 2.5, 3.5, 5, 6]\n",
    "\n",
    "fig = plt.figure(figsize = (0.5*len(pos)-0.3, 2.3))\n",
    "\n",
    "ax = fig.add_subplot(111)\n",
    "w = 0.6\n",
    "wb = 0.6\n",
    "data = [Ftrace_mean_Ctrl[1,:], Ftrace_mean_LPi43TNT[1,:], Ftrace_mean_Ctrl[0,:],\n",
    "        Ftrace_mean_LPi43TNT[0,:], Ftrace_mean_Ctrl[2,:], Ftrace_mean_LPi43TNT[2,:]]\n",
    "colors = ['0.45', 'C0', '0.45', 'C0', '0.45', 'C0']\n",
    "\n",
    "ax.axhline(y=0,xmin=0.0001,xmax=0.9999, color='0.05', linestyle=':', linewidth = 1)\n",
    "\n",
    "for j in range (len(data)):\n",
    "    ax.bar(pos[j], height = np.mean(data[j]), yerr=[stats.sem(data[j])], color=colors[j])\n",
    "    ax.errorbar(pos[j],np.mean(data[j]),yerr=[stats.sem(data[j])], color='k',zorder = 0)    \n",
    "    for i in range(len(data[j])):\n",
    "        ax.scatter(pos[j] + np.random.random(1) * w/2 - w/4, data[j][i], s=25, color='0.3', alpha=0.4, zorder = 2) \n",
    "   \n",
    "ax.spines[\"top\"].set_visible(False)\n",
    "ax.spines[\"right\"].set_visible(False)\n",
    "ax.spines['left'].set_position(('outward', 7))\n",
    "ax.spines['bottom'].set_position(('outward', 7))\n",
    "ax.set_yticks([-1, 0, 1, 2, 3, 4, 5])\n",
    "ax.set_yticklabels(('-1', '0', '1', '2', '3', '4', '5'), size=10)\n",
    "ax.set_xticks(pos)\n",
    "ax.set_xticklabels(('PD\\nCtrl','PD\\nTNT', 'ND\\nCtrl','ND\\nTNT','TM\\nCtrl','TM\\nTNT'), size=10)\n",
    "ax.set_ylabel('$\\Delta F/F$', size=10)\n",
    "\n",
    "plt.ylim([-1, 5.75])\n",
    "\n",
    "bbox_inches = 'tight'\n",
    "#plt.savefig('Fig5_R38G02-GC6f_50384-TNT_TM_barplots.pdf',bbox_inches='tight', dpi=600, transparent=True)\n",
    "plt.show()"
   ]
  },
  {
   "cell_type": "code",
   "execution_count": 5,
   "metadata": {
    "scrolled": true
   },
   "outputs": [
    {
     "name": "stdout",
     "output_type": "stream",
     "text": [
      "(0.859184205532074, 0.11784622818231583)\n",
      "(0.9573127031326294, 0.744891881942749)\n",
      "LeveneResult(statistic=3.5858106548503823, pvalue=0.07446290423277813)\n",
      "Ttest_indResult(statistic=-3.3588544224386854, pvalue=0.009064949707008411)\n",
      "(0.9598944187164307, 0.8090931177139282)\n",
      "(0.9606829881668091, 0.7935353517532349)\n",
      "LeveneResult(statistic=1.001693102262914, pvalue=0.33016670806020854)\n",
      "Ttest_indResult(statistic=-0.8510045470970677, pvalue=0.4060568606418592)\n",
      "(0.8464283347129822, 0.08763473480939865)\n",
      "(0.9499667882919312, 0.6364989280700684)\n",
      "LeveneResult(statistic=2.306885462835937, pvalue=0.14617121785752174)\n",
      "Ttest_indResult(statistic=-4.257832079095986, pvalue=0.0004951199117070919)\n"
     ]
    }
   ],
   "source": [
    "print(stats.shapiro(Ftrace_mean_Ctrl[0,:]))\n",
    "print(stats.shapiro(Ftrace_mean_LPi43TNT[0,:]))\n",
    "print(stats.levene(Ftrace_mean_Ctrl[0,:], Ftrace_mean_LPi43TNT[0,:]))\n",
    "print(stats.ttest_ind(Ftrace_mean_Ctrl[0,:], Ftrace_mean_LPi43TNT[0,:], equal_var=False))\n",
    "\n",
    "print(stats.shapiro(Ftrace_mean_Ctrl[1,:]))\n",
    "print(stats.shapiro(Ftrace_mean_LPi43TNT[1,:]))\n",
    "print(stats.levene(Ftrace_mean_Ctrl[1,:], Ftrace_mean_LPi43TNT[1,:]))\n",
    "print(stats.ttest_ind(Ftrace_mean_Ctrl[1,:], Ftrace_mean_LPi43TNT[1,:], equal_var=False))\n",
    "\n",
    "print(stats.shapiro(Ftrace_mean_Ctrl[2,:]))\n",
    "print(stats.shapiro(Ftrace_mean_LPi43TNT[2,:]))\n",
    "print(stats.levene(Ftrace_mean_Ctrl[2,:], Ftrace_mean_LPi43TNT[2,:]))\n",
    "print(stats.ttest_ind(Ftrace_mean_Ctrl[2,:], Ftrace_mean_LPi43TNT[2,:], equal_var=False))"
   ]
  },
  {
   "cell_type": "code",
   "execution_count": 6,
   "metadata": {},
   "outputs": [],
   "source": [
    "# Calculate Motion Opponent Suppression Index\n",
    "MOSI_Ctrl = (Ftrace_mean_Ctrl[1,:] - Ftrace_mean_Ctrl[2,:]) / (Ftrace_mean_Ctrl[1,:])\n",
    "MOSI_LPi43TNT = (Ftrace_mean_LPi43TNT[1,:] - Ftrace_mean_LPi43TNT[2,:])/ (Ftrace_mean_LPi43TNT[1,:])"
   ]
  },
  {
   "cell_type": "code",
   "execution_count": 7,
   "metadata": {},
   "outputs": [
    {
     "data": {
      "image/png": "[encoded data removed]",
      "text/plain": [
       "<Figure size 57.6x162 with 1 Axes>"
      ]
     },
     "metadata": {},
     "output_type": "display_data"
    }
   ],
   "source": [
    "# Make Scatter Plot of MOSI\n",
    "\n",
    "pos = [0,1]\n",
    "\n",
    "fig = plt.figure(figsize = (0.4*len(pos), 2.25))\n",
    "\n",
    "ax = fig.add_subplot(111)\n",
    "w = 0.6\n",
    "wb = 0.6\n",
    "data = [MOSI_Ctrl, MOSI_LPi43TNT]\n",
    "colors = ['0.35', 'C0']\n",
    "\n",
    "ax.axhline(y=0,xmin=0.0001,xmax=0.9999, color='0.05', linestyle=':', linewidth = 1)\n",
    "\n",
    "for j in range (len(data)):\n",
    "    ax.plot([pos[j]-w/2, pos[j]+w/2],[np.mean(data[j]),np.mean(data[j])],\n",
    "            color=colors[j], linestyle='-', linewidth = 4)\n",
    "    ax.errorbar(pos[j],np.mean(data[j]),yerr=[stats.sem(data[j])], color='k',zorder = 0)    \n",
    "    for i in range(len(data[j])):\n",
    "        ax.scatter(pos[j] + np.random.random(1) * w/2 - w/4, data[j][i], s=25, color=colors[j], alpha=0.5, zorder = 2) \n",
    "   \n",
    "ax.spines[\"top\"].set_visible(False)\n",
    "ax.spines[\"right\"].set_visible(False)\n",
    "ax.spines['left'].set_position(('outward', 7))\n",
    "ax.spines['bottom'].set_position(('outward', 7))\n",
    "ax.set_xticks(pos)\n",
    "ax.set_xticklabels(('Ctrl','TNT'), size=10)\n",
    "ax.set_ylabel('Suppression index', size=10)\n",
    "ax.tick_params(axis='both', which='major', labelsize=10)\n",
    "plt.ylim([0,1.01])\n",
    "\n",
    "bbox_inches = 'tight'\n",
    "#plt.savefig('Fig5_R38G02-GC6f_50384-TNT_TM_MOSI.pdf',bbox_inches='tight', dpi=600, transparent=True)\n",
    "plt.show()"
   ]
  },
  {
   "cell_type": "code",
   "execution_count": 8,
   "metadata": {},
   "outputs": [
    {
     "name": "stdout",
     "output_type": "stream",
     "text": [
      "(0.8722001910209656, 0.1583666056394577)\n",
      "(0.8366210460662842, 0.0251946859061718)\n",
      "LeveneResult(statistic=0.14703875520847817, pvalue=0.705872802171827)\n",
      "Ttest_indResult(statistic=5.082098743582597, pvalue=7.775351085581117e-05)\n"
     ]
    }
   ],
   "source": [
    "print(stats.shapiro(MOSI_Ctrl))\n",
    "print(stats.shapiro(MOSI_LPi43TNT))\n",
    "print(stats.levene(MOSI_Ctrl, MOSI_LPi43TNT))\n",
    "print(stats.ttest_ind(MOSI_Ctrl, MOSI_LPi43TNT, equal_var=True))"
   ]
  },
  {
   "cell_type": "code",
   "execution_count": null,
   "metadata": {},
   "outputs": [],
   "source": []
  }
 ],
 "metadata": {
  "kernelspec": {
   "display_name": "Python 2",
   "language": "python",
   "name": "python2"
  },
  "language_info": {
   "codemirror_mode": {
    "name": "ipython",
    "version": 2
   },
   "file_extension": ".py",
   "mimetype": "text/x-python",
   "name": "python",
   "nbconvert_exporter": "python",
   "pygments_lexer": "ipython2",
   "version": "2.7.15"
  }
 },
 "nbformat": 4,
 "nbformat_minor": 2
}
